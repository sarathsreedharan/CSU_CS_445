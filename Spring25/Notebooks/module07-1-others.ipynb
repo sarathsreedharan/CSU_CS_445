{
  "cells": [
    {
      "cell_type": "markdown",
      "metadata": {
        "id": "view-in-github",
        "colab_type": "text"
      },
      "source": [
        "<a href=\"https://colab.research.google.com/github/sarathsreedharan/CSU_CS_445/blob/main/Spring25/Notebooks/module07-1-others.ipynb\" target=\"_parent\"><img src=\"https://colab.research.google.com/assets/colab-badge.svg\" alt=\"Open In Colab\"/></a>"
      ]
    },
    {
      "cell_type": "markdown",
      "metadata": {
        "id": "BmU1WLnQp0P8"
      },
      "source": [
        "# Non-Neural Methods: KNN, SVMs, and Decision Trees"
      ]
    },
    {
      "cell_type": "markdown",
      "metadata": {
        "id": "RVSX1_FFp0P8"
      },
      "source": [
        "*Adapted from https://www.kaggle.com/code/jchen2186/machine-learning-with-iris-dataset/data, https://towardsdatascience.com/support-vector-machine-introduction-to-machine-learning-algorithms-934a444fca47, https://medium.com/analytics-vidhya/iris-data-prediction-using-decision-tree-algorithm-7948fb68201b*"
      ]
    },
    {
      "cell_type": "markdown",
      "metadata": {
        "id": "875ICO0Qp0P9"
      },
      "source": [
        "Neural networks are not the only game in town!  Here are some other, non-neural machine learning methods you should have in your arsenal."
      ]
    },
    {
      "cell_type": "markdown",
      "metadata": {
        "id": "c1uQbJMDp0P9"
      },
      "source": [
        "**K-Nearest Neighbors Classifier**, **Support Vector Machine**, and **Decision Tree**\n",
        "\n",
        "Advantages:\n",
        "* Fast to train\n",
        "* Need less data\n",
        "* Explainable\n",
        "\n",
        "Disadvantages:\n",
        "* Require manual feature selection\n",
        "* Not easy to generalize"
      ]
    },
    {
      "cell_type": "code",
      "execution_count": null,
      "metadata": {
        "id": "jANtUBCUp0P9",
        "outputId": "db73d004-e592-4743-f279-ccd33f7a9f53"
      },
      "outputs": [
        {
          "name": "stdout",
          "output_type": "stream",
          "text": [
            "Requirement already satisfied: seaborn in /usr/local/Caskroom/miniforge/base/lib/python3.9/site-packages (0.11.2)\n",
            "Requirement already satisfied: matplotlib>=2.2 in /usr/local/Caskroom/miniforge/base/lib/python3.9/site-packages (from seaborn) (3.5.1)\n",
            "Requirement already satisfied: numpy>=1.15 in /usr/local/Caskroom/miniforge/base/lib/python3.9/site-packages (from seaborn) (1.22.1)\n",
            "Requirement already satisfied: pandas>=0.23 in /usr/local/Caskroom/miniforge/base/lib/python3.9/site-packages (from seaborn) (1.4.0)\n",
            "Requirement already satisfied: scipy>=1.0 in /usr/local/Caskroom/miniforge/base/lib/python3.9/site-packages (from seaborn) (1.8.0)\n",
            "Requirement already satisfied: packaging>=20.0 in /usr/local/Caskroom/miniforge/base/lib/python3.9/site-packages (from matplotlib>=2.2->seaborn) (21.3)\n",
            "Requirement already satisfied: fonttools>=4.22.0 in /usr/local/Caskroom/miniforge/base/lib/python3.9/site-packages (from matplotlib>=2.2->seaborn) (4.29.1)\n",
            "Requirement already satisfied: pillow>=6.2.0 in /usr/local/Caskroom/miniforge/base/lib/python3.9/site-packages (from matplotlib>=2.2->seaborn) (9.0.0)\n",
            "Requirement already satisfied: cycler>=0.10 in /usr/local/Caskroom/miniforge/base/lib/python3.9/site-packages (from matplotlib>=2.2->seaborn) (0.11.0)\n",
            "Requirement already satisfied: python-dateutil>=2.7 in /usr/local/Caskroom/miniforge/base/lib/python3.9/site-packages (from matplotlib>=2.2->seaborn) (2.8.2)\n",
            "Requirement already satisfied: pyparsing>=2.2.1 in /usr/local/Caskroom/miniforge/base/lib/python3.9/site-packages (from matplotlib>=2.2->seaborn) (3.0.7)\n",
            "Requirement already satisfied: kiwisolver>=1.0.1 in /usr/local/Caskroom/miniforge/base/lib/python3.9/site-packages (from matplotlib>=2.2->seaborn) (1.3.2)\n",
            "Requirement already satisfied: pytz>=2020.1 in /usr/local/Caskroom/miniforge/base/lib/python3.9/site-packages (from pandas>=0.23->seaborn) (2021.3)\n",
            "Requirement already satisfied: six>=1.5 in /usr/local/Caskroom/miniforge/base/lib/python3.9/site-packages (from python-dateutil>=2.7->matplotlib>=2.2->seaborn) (1.16.0)\n",
            "Requirement already satisfied: sklearn in /usr/local/Caskroom/miniforge/base/lib/python3.9/site-packages (0.0)\n",
            "Requirement already satisfied: scikit-learn in /usr/local/Caskroom/miniforge/base/lib/python3.9/site-packages (from sklearn) (1.0.2)\n",
            "Requirement already satisfied: numpy>=1.14.6 in /usr/local/Caskroom/miniforge/base/lib/python3.9/site-packages (from scikit-learn->sklearn) (1.22.1)\n",
            "Requirement already satisfied: threadpoolctl>=2.0.0 in /usr/local/Caskroom/miniforge/base/lib/python3.9/site-packages (from scikit-learn->sklearn) (3.1.0)\n",
            "Requirement already satisfied: joblib>=0.11 in /usr/local/Caskroom/miniforge/base/lib/python3.9/site-packages (from scikit-learn->sklearn) (1.1.0)\n",
            "Requirement already satisfied: scipy>=1.1.0 in /usr/local/Caskroom/miniforge/base/lib/python3.9/site-packages (from scikit-learn->sklearn) (1.8.0)\n",
            "Collecting graphviz\n",
            "  Downloading graphviz-0.20-py3-none-any.whl (46 kB)\n",
            "\u001b[2K     \u001b[90m━━━━━━━━━━━━━━━━━━━━━━━━━━━━━━━━━━━━━━━\u001b[0m \u001b[32m47.0/47.0 KB\u001b[0m \u001b[31m791.8 kB/s\u001b[0m eta \u001b[36m0:00:00\u001b[0m \u001b[36m0:00:01\u001b[0m\n",
            "\u001b[?25hInstalling collected packages: graphviz\n",
            "Successfully installed graphviz-0.20\n"
          ]
        }
      ],
      "source": [
        "!pip install seaborn\n",
        "!pip install sklearn\n",
        "!pip install graphviz"
      ]
    },
    {
      "cell_type": "code",
      "execution_count": null,
      "metadata": {
        "_cell_guid": "417ebd30-953c-492a-b185-9bb2742e9fee",
        "_uuid": "f118af7ce42b355fae7faa8db9d5d0157611517d",
        "jupyter": {
          "outputs_hidden": true
        },
        "id": "ZKUcYLRMp0P9"
      },
      "outputs": [],
      "source": [
        "import numpy as np\n",
        "import pandas as pd\n",
        "import seaborn as sns\n",
        "sns.set_palette('husl')\n",
        "import matplotlib.pyplot as plt\n",
        "%matplotlib inline\n",
        "\n",
        "from sklearn import metrics\n",
        "from sklearn.neighbors import KNeighborsClassifier\n",
        "from sklearn.linear_model import LogisticRegression\n",
        "from sklearn.model_selection import train_test_split\n",
        "from sklearn.metrics import classification_report\n",
        "\n",
        "data = pd.read_csv('Iris.csv')"
      ]
    },
    {
      "cell_type": "markdown",
      "metadata": {
        "id": "HcDnfbLgp0P9"
      },
      "source": [
        "## Meet the Iris Dataset\n",
        "\n",
        "Fisher's Iris data set is a multivariate data set introduced by the British statistician and biologist Ronald Fisher in his 1936 paper *The use of multiple measurements in taxonomic problems as an example of linear discriminant analysis*."
      ]
    },
    {
      "cell_type": "markdown",
      "metadata": {
        "id": "wvacL3eUp0P9"
      },
      "source": [
        "<img src=\"https://upload.wikimedia.org/wikipedia/commons/5/56/Kosaciec_szczecinkowaty_Iris_setosa.jpg\" width=200>\n",
        "$$Iris\\text{ }setosa$$\n",
        "\n",
        "<img src=\"https://upload.wikimedia.org/wikipedia/commons/4/41/Iris_versicolor_3.jpg\" width=200>\n",
        "$$Iris\\text{ }versicolor$$\n",
        "\n",
        "<img src=\"https://upload.wikimedia.org/wikipedia/commons/9/9f/Iris_virginica.jpg\" width=200>\n",
        "$$Iris\\text{ }virginica$$"
      ]
    },
    {
      "cell_type": "markdown",
      "metadata": {
        "id": "y9Xzgpkvp0P9"
      },
      "source": [
        "What we want to do is classify the species of iris given some measurements about the blossom."
      ]
    },
    {
      "cell_type": "markdown",
      "metadata": {
        "_cell_guid": "8c64d903-f69b-4983-8748-8522e8fe2bbf",
        "_uuid": "afeecf9d79fc1c4d87f459e7405d79a4f6cbef0a",
        "id": "VuPmgY8ap0P-"
      },
      "source": [
        "# Preview of Data\n",
        "- There are 150 observations with 4 features each (sepal length, sepal width, petal length, petal width).\n",
        "- There are no null values, so we don't have to worry about that.\n",
        "- There are 50 observations of each species (setosa, versicolor, virginica)."
      ]
    },
    {
      "cell_type": "code",
      "execution_count": null,
      "metadata": {
        "_cell_guid": "ae265ce5-40f4-447c-aea0-d5ddbe4abeb5",
        "_uuid": "07bf049c5cabf2ecb75818c4e103e94fcf1e49d4",
        "id": "IskcAOrgp0P-",
        "outputId": "0bc5f230-63f0-462a-98d5-d6993d5a5852"
      },
      "outputs": [
        {
          "data": {
            "text/html": [
              "<div>\n",
              "<style scoped>\n",
              "    .dataframe tbody tr th:only-of-type {\n",
              "        vertical-align: middle;\n",
              "    }\n",
              "\n",
              "    .dataframe tbody tr th {\n",
              "        vertical-align: top;\n",
              "    }\n",
              "\n",
              "    .dataframe thead th {\n",
              "        text-align: right;\n",
              "    }\n",
              "</style>\n",
              "<table border=\"1\" class=\"dataframe\">\n",
              "  <thead>\n",
              "    <tr style=\"text-align: right;\">\n",
              "      <th></th>\n",
              "      <th>Id</th>\n",
              "      <th>SepalLengthCm</th>\n",
              "      <th>SepalWidthCm</th>\n",
              "      <th>PetalLengthCm</th>\n",
              "      <th>PetalWidthCm</th>\n",
              "      <th>Species</th>\n",
              "    </tr>\n",
              "  </thead>\n",
              "  <tbody>\n",
              "    <tr>\n",
              "      <th>0</th>\n",
              "      <td>1</td>\n",
              "      <td>5.1</td>\n",
              "      <td>3.5</td>\n",
              "      <td>1.4</td>\n",
              "      <td>0.2</td>\n",
              "      <td>Iris-setosa</td>\n",
              "    </tr>\n",
              "    <tr>\n",
              "      <th>1</th>\n",
              "      <td>2</td>\n",
              "      <td>4.9</td>\n",
              "      <td>3.0</td>\n",
              "      <td>1.4</td>\n",
              "      <td>0.2</td>\n",
              "      <td>Iris-setosa</td>\n",
              "    </tr>\n",
              "    <tr>\n",
              "      <th>2</th>\n",
              "      <td>3</td>\n",
              "      <td>4.7</td>\n",
              "      <td>3.2</td>\n",
              "      <td>1.3</td>\n",
              "      <td>0.2</td>\n",
              "      <td>Iris-setosa</td>\n",
              "    </tr>\n",
              "    <tr>\n",
              "      <th>3</th>\n",
              "      <td>4</td>\n",
              "      <td>4.6</td>\n",
              "      <td>3.1</td>\n",
              "      <td>1.5</td>\n",
              "      <td>0.2</td>\n",
              "      <td>Iris-setosa</td>\n",
              "    </tr>\n",
              "    <tr>\n",
              "      <th>4</th>\n",
              "      <td>5</td>\n",
              "      <td>5.0</td>\n",
              "      <td>3.6</td>\n",
              "      <td>1.4</td>\n",
              "      <td>0.2</td>\n",
              "      <td>Iris-setosa</td>\n",
              "    </tr>\n",
              "  </tbody>\n",
              "</table>\n",
              "</div>"
            ],
            "text/plain": [
              "   Id  SepalLengthCm  SepalWidthCm  PetalLengthCm  PetalWidthCm      Species\n",
              "0   1            5.1           3.5            1.4           0.2  Iris-setosa\n",
              "1   2            4.9           3.0            1.4           0.2  Iris-setosa\n",
              "2   3            4.7           3.2            1.3           0.2  Iris-setosa\n",
              "3   4            4.6           3.1            1.5           0.2  Iris-setosa\n",
              "4   5            5.0           3.6            1.4           0.2  Iris-setosa"
            ]
          },
          "execution_count": 235,
          "metadata": {},
          "output_type": "execute_result"
        }
      ],
      "source": [
        "data.head()"
      ]
    },
    {
      "cell_type": "code",
      "execution_count": null,
      "metadata": {
        "_cell_guid": "9257acb0-2b8b-42f5-bc7d-6c08976469f5",
        "_uuid": "84a4b1dbfb7b5a89d3c73e1113482b4b50985b14",
        "id": "sp2Yv6Odp0P-",
        "outputId": "489cc690-1083-44d7-a27a-741e74d98f87"
      },
      "outputs": [
        {
          "name": "stdout",
          "output_type": "stream",
          "text": [
            "<class 'pandas.core.frame.DataFrame'>\n",
            "RangeIndex: 150 entries, 0 to 149\n",
            "Data columns (total 6 columns):\n",
            " #   Column         Non-Null Count  Dtype  \n",
            "---  ------         --------------  -----  \n",
            " 0   Id             150 non-null    int64  \n",
            " 1   SepalLengthCm  150 non-null    float64\n",
            " 2   SepalWidthCm   150 non-null    float64\n",
            " 3   PetalLengthCm  150 non-null    float64\n",
            " 4   PetalWidthCm   150 non-null    float64\n",
            " 5   Species        150 non-null    object \n",
            "dtypes: float64(4), int64(1), object(1)\n",
            "memory usage: 7.2+ KB\n"
          ]
        }
      ],
      "source": [
        "data.info()"
      ]
    },
    {
      "cell_type": "code",
      "execution_count": null,
      "metadata": {
        "_uuid": "2f51406bff802aae1c0efa7289434a9b60f13bee",
        "id": "zMRFC65Lp0P-",
        "outputId": "3f5438ea-3358-45bd-8fb0-2f04be75e8ee"
      },
      "outputs": [
        {
          "data": {
            "text/html": [
              "<div>\n",
              "<style scoped>\n",
              "    .dataframe tbody tr th:only-of-type {\n",
              "        vertical-align: middle;\n",
              "    }\n",
              "\n",
              "    .dataframe tbody tr th {\n",
              "        vertical-align: top;\n",
              "    }\n",
              "\n",
              "    .dataframe thead th {\n",
              "        text-align: right;\n",
              "    }\n",
              "</style>\n",
              "<table border=\"1\" class=\"dataframe\">\n",
              "  <thead>\n",
              "    <tr style=\"text-align: right;\">\n",
              "      <th></th>\n",
              "      <th>Id</th>\n",
              "      <th>SepalLengthCm</th>\n",
              "      <th>SepalWidthCm</th>\n",
              "      <th>PetalLengthCm</th>\n",
              "      <th>PetalWidthCm</th>\n",
              "    </tr>\n",
              "  </thead>\n",
              "  <tbody>\n",
              "    <tr>\n",
              "      <th>count</th>\n",
              "      <td>150.000000</td>\n",
              "      <td>150.000000</td>\n",
              "      <td>150.000000</td>\n",
              "      <td>150.000000</td>\n",
              "      <td>150.000000</td>\n",
              "    </tr>\n",
              "    <tr>\n",
              "      <th>mean</th>\n",
              "      <td>75.500000</td>\n",
              "      <td>5.843333</td>\n",
              "      <td>3.054000</td>\n",
              "      <td>3.758667</td>\n",
              "      <td>1.198667</td>\n",
              "    </tr>\n",
              "    <tr>\n",
              "      <th>std</th>\n",
              "      <td>43.445368</td>\n",
              "      <td>0.828066</td>\n",
              "      <td>0.433594</td>\n",
              "      <td>1.764420</td>\n",
              "      <td>0.763161</td>\n",
              "    </tr>\n",
              "    <tr>\n",
              "      <th>min</th>\n",
              "      <td>1.000000</td>\n",
              "      <td>4.300000</td>\n",
              "      <td>2.000000</td>\n",
              "      <td>1.000000</td>\n",
              "      <td>0.100000</td>\n",
              "    </tr>\n",
              "    <tr>\n",
              "      <th>25%</th>\n",
              "      <td>38.250000</td>\n",
              "      <td>5.100000</td>\n",
              "      <td>2.800000</td>\n",
              "      <td>1.600000</td>\n",
              "      <td>0.300000</td>\n",
              "    </tr>\n",
              "    <tr>\n",
              "      <th>50%</th>\n",
              "      <td>75.500000</td>\n",
              "      <td>5.800000</td>\n",
              "      <td>3.000000</td>\n",
              "      <td>4.350000</td>\n",
              "      <td>1.300000</td>\n",
              "    </tr>\n",
              "    <tr>\n",
              "      <th>75%</th>\n",
              "      <td>112.750000</td>\n",
              "      <td>6.400000</td>\n",
              "      <td>3.300000</td>\n",
              "      <td>5.100000</td>\n",
              "      <td>1.800000</td>\n",
              "    </tr>\n",
              "    <tr>\n",
              "      <th>max</th>\n",
              "      <td>150.000000</td>\n",
              "      <td>7.900000</td>\n",
              "      <td>4.400000</td>\n",
              "      <td>6.900000</td>\n",
              "      <td>2.500000</td>\n",
              "    </tr>\n",
              "  </tbody>\n",
              "</table>\n",
              "</div>"
            ],
            "text/plain": [
              "               Id  SepalLengthCm  SepalWidthCm  PetalLengthCm  PetalWidthCm\n",
              "count  150.000000     150.000000    150.000000     150.000000    150.000000\n",
              "mean    75.500000       5.843333      3.054000       3.758667      1.198667\n",
              "std     43.445368       0.828066      0.433594       1.764420      0.763161\n",
              "min      1.000000       4.300000      2.000000       1.000000      0.100000\n",
              "25%     38.250000       5.100000      2.800000       1.600000      0.300000\n",
              "50%     75.500000       5.800000      3.000000       4.350000      1.300000\n",
              "75%    112.750000       6.400000      3.300000       5.100000      1.800000\n",
              "max    150.000000       7.900000      4.400000       6.900000      2.500000"
            ]
          },
          "execution_count": 237,
          "metadata": {},
          "output_type": "execute_result"
        }
      ],
      "source": [
        "data.describe()"
      ]
    },
    {
      "cell_type": "code",
      "execution_count": null,
      "metadata": {
        "_cell_guid": "13958377-5c7c-420b-b06f-ad5998c59665",
        "_uuid": "876817fced0db3d4bbbd95a64359f124ee6707c4",
        "id": "6W_KhVpZp0P-",
        "outputId": "f6ac3fa5-7225-42e5-c41e-9fab8e7cedbb"
      },
      "outputs": [
        {
          "data": {
            "text/plain": [
              "Iris-setosa        50\n",
              "Iris-versicolor    50\n",
              "Iris-virginica     50\n",
              "Name: Species, dtype: int64"
            ]
          },
          "execution_count": 238,
          "metadata": {},
          "output_type": "execute_result"
        }
      ],
      "source": [
        "data['Species'].value_counts()"
      ]
    },
    {
      "cell_type": "markdown",
      "metadata": {
        "_cell_guid": "2a1077f5-b314-4040-a309-59fc1b8d6c15",
        "_uuid": "a67d48fef35b8e62a47774ced7f9a4ae4b562858",
        "id": "jZdGPagIp0P-"
      },
      "source": [
        "# Data Visualization\n",
        "- After graphing the features in a pair plot, it is clear that the relationship between pairs of features of a iris-setosa (in pink) is distinctly different from those of the other two species.\n",
        "- There is some overlap in the pairwise relationships of the other two species, iris-versicolor (brown) and iris-virginica (green).\n"
      ]
    },
    {
      "cell_type": "code",
      "execution_count": null,
      "metadata": {
        "_cell_guid": "13293bbc-e587-4085-916f-ac5bafbbfaf0",
        "_uuid": "fd15b6089651f32d213555b27b7ffbc0655b6447",
        "id": "woBqlt06p0P-",
        "outputId": "b0674165-928d-440a-d000-469f0e385f29"
      },
      "outputs": [
        {
          "data": {
            "image/png": "[encoded data removed]",
            "text/plain": [
              "<Figure size 823.25x720 with 20 Axes>"
            ]
          },
          "metadata": {
            "needs_background": "light"
          },
          "output_type": "display_data"
        }
      ],
      "source": [
        "tmp = data.drop('Id', axis=1)\n",
        "g = sns.pairplot(tmp, hue='Species', markers='+')\n",
        "plt.show()"
      ]
    },
    {
      "cell_type": "code",
      "execution_count": null,
      "metadata": {
        "_uuid": "cee3e44ff3c1a3a28ad1eb1df02ead6b331e083a",
        "scrolled": true,
        "id": "WDC9WEbfp0P-",
        "outputId": "bef66752-6d6c-4d63-83fc-6b9755e940e0"
      },
      "outputs": [
        {
          "data": {
            "image/png": "[encoded data removed]",
            "text/plain": [
              "<Figure size 432x288 with 1 Axes>"
            ]
          },
          "metadata": {
            "needs_background": "light"
          },
          "output_type": "display_data"
        },
        {
          "data": {
            "image/png": "[encoded data removed]",
            "text/plain": [
              "<Figure size 432x288 with 1 Axes>"
            ]
          },
          "metadata": {
            "needs_background": "light"
          },
          "output_type": "display_data"
        },
        {
          "data": {
            "image/png": "[encoded data removed]",
            "text/plain": [
              "<Figure size 432x288 with 1 Axes>"
            ]
          },
          "metadata": {
            "needs_background": "light"
          },
          "output_type": "display_data"
        },
        {
          "data": {
            "image/png": "[encoded data removed]",
            "text/plain": [
              "<Figure size 432x288 with 1 Axes>"
            ]
          },
          "metadata": {
            "needs_background": "light"
          },
          "output_type": "display_data"
        }
      ],
      "source": [
        "g = sns.violinplot(y='Species', x='SepalLengthCm', data=data, inner='quartile')\n",
        "plt.show()\n",
        "g = sns.violinplot(y='Species', x='SepalWidthCm', data=data, inner='quartile')\n",
        "plt.show()\n",
        "g = sns.violinplot(y='Species', x='PetalLengthCm', data=data, inner='quartile')\n",
        "plt.show()\n",
        "g = sns.violinplot(y='Species', x='PetalWidthCm', data=data, inner='quartile')\n",
        "plt.show()"
      ]
    },
    {
      "cell_type": "markdown",
      "metadata": {
        "id": "5YlZHxJRp0P-"
      },
      "source": [
        "We will evaluate the KNN, SVM, and Decision Tree algorithms on this dataset.  In each case, first we'll do it using the version from scikit-learn, and then we'll build our own.  We'll also compare with logistic regression, which we already have done, as a baseline."
      ]
    },
    {
      "cell_type": "markdown",
      "metadata": {
        "id": "Ki5i8cg_p0P-"
      },
      "source": [
        "## K-Nearest Neighbors Classifier\n",
        "\n",
        "K-nearest neighbors algorithm can be used for both classification and regression.  In both cases, the input consists of the $k$ closest training examples in a data set.  The output is a class membership. An object is classified by a plurality vote of its neighbors, with the object being assigned to the class most common among its $k$ nearest neighbors ($k$ is a positive integer, typically small).\n",
        "\n",
        "<img src=\"https://upload.wikimedia.org/wikipedia/commons/e/e7/KnnClassification.svg\" width=200>\n",
        "$$\\text{What class does the green circle belong to?}$$"
      ]
    },
    {
      "cell_type": "markdown",
      "metadata": {
        "_cell_guid": "5fe31716-3cd8-444a-a17f-bed7659afd0f",
        "_uuid": "edf8f09be66977b2258436e6a9128d6639469d01",
        "id": "Y0ktTMLap0P-"
      },
      "source": [
        "## Modeling with scikit-learn"
      ]
    },
    {
      "cell_type": "code",
      "execution_count": null,
      "metadata": {
        "_cell_guid": "20c0f613-e162-4473-8292-4eca12c7343f",
        "_uuid": "8a9c62f5fe8a7e0a78896d0edac6cf769a6b1751",
        "id": "9wUG0L2pp0P-",
        "outputId": "27be0b32-54fd-488a-e9d0-756976c5ac1e"
      },
      "outputs": [
        {
          "data": {
            "text/html": [
              "<div>\n",
              "<style scoped>\n",
              "    .dataframe tbody tr th:only-of-type {\n",
              "        vertical-align: middle;\n",
              "    }\n",
              "\n",
              "    .dataframe tbody tr th {\n",
              "        vertical-align: top;\n",
              "    }\n",
              "\n",
              "    .dataframe thead th {\n",
              "        text-align: right;\n",
              "    }\n",
              "</style>\n",
              "<table border=\"1\" class=\"dataframe\">\n",
              "  <thead>\n",
              "    <tr style=\"text-align: right;\">\n",
              "      <th></th>\n",
              "      <th>sepal length (cm)</th>\n",
              "      <th>sepal width (cm)</th>\n",
              "      <th>petal length (cm)</th>\n",
              "      <th>petal width (cm)</th>\n",
              "      <th>target</th>\n",
              "    </tr>\n",
              "  </thead>\n",
              "  <tbody>\n",
              "    <tr>\n",
              "      <th>0</th>\n",
              "      <td>5.1</td>\n",
              "      <td>3.5</td>\n",
              "      <td>1.4</td>\n",
              "      <td>0.2</td>\n",
              "      <td>0</td>\n",
              "    </tr>\n",
              "    <tr>\n",
              "      <th>1</th>\n",
              "      <td>4.9</td>\n",
              "      <td>3.0</td>\n",
              "      <td>1.4</td>\n",
              "      <td>0.2</td>\n",
              "      <td>0</td>\n",
              "    </tr>\n",
              "    <tr>\n",
              "      <th>2</th>\n",
              "      <td>4.7</td>\n",
              "      <td>3.2</td>\n",
              "      <td>1.3</td>\n",
              "      <td>0.2</td>\n",
              "      <td>0</td>\n",
              "    </tr>\n",
              "    <tr>\n",
              "      <th>3</th>\n",
              "      <td>4.6</td>\n",
              "      <td>3.1</td>\n",
              "      <td>1.5</td>\n",
              "      <td>0.2</td>\n",
              "      <td>0</td>\n",
              "    </tr>\n",
              "    <tr>\n",
              "      <th>4</th>\n",
              "      <td>5.0</td>\n",
              "      <td>3.6</td>\n",
              "      <td>1.4</td>\n",
              "      <td>0.2</td>\n",
              "      <td>0</td>\n",
              "    </tr>\n",
              "  </tbody>\n",
              "</table>\n",
              "</div>"
            ],
            "text/plain": [
              "   sepal length (cm)  sepal width (cm)  petal length (cm)  petal width (cm)  \\\n",
              "0                5.1               3.5                1.4               0.2   \n",
              "1                4.9               3.0                1.4               0.2   \n",
              "2                4.7               3.2                1.3               0.2   \n",
              "3                4.6               3.1                1.5               0.2   \n",
              "4                5.0               3.6                1.4               0.2   \n",
              "\n",
              "   target  \n",
              "0       0  \n",
              "1       0  \n",
              "2       0  \n",
              "3       0  \n",
              "4       0  "
            ]
          },
          "execution_count": 241,
          "metadata": {},
          "output_type": "execute_result"
        }
      ],
      "source": [
        "# Load iris data and store in dataframe\n",
        "\n",
        "from sklearn import datasets\n",
        "\n",
        "iris = datasets.load_iris()\n",
        "\n",
        "df = pd.DataFrame(data=iris.data, columns=iris.feature_names)\n",
        "df['target'] = iris.target\n",
        "df.head()"
      ]
    },
    {
      "cell_type": "code",
      "execution_count": null,
      "metadata": {
        "id": "Yus4nshfp0P-"
      },
      "outputs": [],
      "source": [
        "# Separate X and y data\n",
        "\n",
        "X = df.drop('target', axis=1)\n",
        "y = df.target"
      ]
    },
    {
      "cell_type": "code",
      "execution_count": null,
      "metadata": {
        "id": "uFANzedwp0P-"
      },
      "outputs": [],
      "source": [
        "from sklearn.model_selection import train_test_split\n",
        "from sklearn.preprocessing import StandardScaler\n",
        "\n",
        "# Split the data - 75% train, 25% test\n",
        "\n",
        "X_train, X_test, y_train, y_test = train_test_split(X, y, test_size=0.25,\n",
        "                                                   random_state=1)\n",
        "\n",
        "# Scale the X data\n",
        "\n",
        "scaler = StandardScaler()\n",
        "X_train = scaler.fit_transform(X_train)\n",
        "X_test = scaler.transform(X_test)"
      ]
    },
    {
      "cell_type": "code",
      "execution_count": null,
      "metadata": {
        "id": "3zFL6mm6p0P-",
        "outputId": "83c842bf-fc29-4a95-d79c-45dab6984dc9"
      },
      "outputs": [
        {
          "name": "stdout",
          "output_type": "stream",
          "text": [
            "Sklearn KNN Accuracy: 0.9736842105263158\n"
          ]
        }
      ],
      "source": [
        "from sklearn.neighbors import KNeighborsClassifier\n",
        "from sklearn.metrics import accuracy_score\n",
        "\n",
        "clf = KNeighborsClassifier(n_neighbors=5, p=1)\n",
        "clf.fit(X_train, y_train)\n",
        "y_pred_test = clf.predict(X_test)\n",
        "\n",
        "print(f\"Sklearn KNN Accuracy: {accuracy_score(y_test, y_pred_test)}\")"
      ]
    },
    {
      "cell_type": "markdown",
      "metadata": {
        "id": "NZCnFYCJp0P-"
      },
      "source": [
        "## KNN from scratch"
      ]
    },
    {
      "cell_type": "code",
      "execution_count": null,
      "metadata": {
        "id": "MnvQKy0np0P-"
      },
      "outputs": [],
      "source": [
        "# Load data\n",
        "\n",
        "iris = datasets.load_iris()\n",
        "\n",
        "df = pd.DataFrame(data=iris.data, columns=iris.feature_names)\n",
        "df['target'] = iris.target\n",
        "\n",
        "# Separate X and y data\n",
        "\n",
        "X = df.drop('target', axis=1)\n",
        "y = df.target"
      ]
    },
    {
      "cell_type": "markdown",
      "metadata": {
        "id": "tcqvZMM1p0P-"
      },
      "source": [
        "1. Define a function to calculate the distance between two points\n",
        "2. Use the distance function to get the distance between a test point and all known data points\n",
        "3. Sort distance measurements to find the points closest to the test point (i.e., find the nearest neighbors)\n",
        "4. Use majority class labels of those closest points to predict the label of the test point\n",
        "5. Repeat steps 1 through 4 until all test data points are classified"
      ]
    },
    {
      "cell_type": "markdown",
      "metadata": {
        "id": "tm3YBIgFp0P-"
      },
      "source": [
        "### 1. Define a function to calculate the distance between two points"
      ]
    },
    {
      "cell_type": "code",
      "execution_count": null,
      "metadata": {
        "id": "Bb6oHLVgp0P_",
        "outputId": "b9612384-c9b5-4e5f-a2c5-e9fe7ee5e143"
      },
      "outputs": [
        {
          "data": {
            "text/plain": [
              "0.6999999999999993"
            ]
          },
          "execution_count": 246,
          "metadata": {},
          "output_type": "execute_result"
        }
      ],
      "source": [
        "# Calculate distance between two points\n",
        "\n",
        "def minkowski_distance(a, b, p=1):\n",
        "\n",
        "    # Store the number of dimensions\n",
        "    dim = len(a)\n",
        "\n",
        "    # Set initial distance to 0\n",
        "    distance = 0\n",
        "\n",
        "    # Calculate minkowski distance using parameter p\n",
        "    for d in range(dim):\n",
        "        distance += abs(a[d] - b[d])**p\n",
        "\n",
        "    distance = distance**(1/p)\n",
        "\n",
        "    return distance\n",
        "\n",
        "\n",
        "# Test the function\n",
        "\n",
        "minkowski_distance(a=X.iloc[0], b=X.iloc[1], p=1)"
      ]
    },
    {
      "cell_type": "markdown",
      "metadata": {
        "id": "A57Rxk8vp0P_"
      },
      "source": [
        "### 2. Use the distance function to get the distance between a test point and all known data points"
      ]
    },
    {
      "cell_type": "code",
      "execution_count": null,
      "metadata": {
        "id": "8vhSmhwYp0P_",
        "outputId": "d9f8c213-9f2b-46b9-f424-b37c78c87793"
      },
      "outputs": [
        {
          "data": {
            "text/html": [
              "<div>\n",
              "<style scoped>\n",
              "    .dataframe tbody tr th:only-of-type {\n",
              "        vertical-align: middle;\n",
              "    }\n",
              "\n",
              "    .dataframe tbody tr th {\n",
              "        vertical-align: top;\n",
              "    }\n",
              "\n",
              "    .dataframe thead th {\n",
              "        text-align: right;\n",
              "    }\n",
              "</style>\n",
              "<table border=\"1\" class=\"dataframe\">\n",
              "  <thead>\n",
              "    <tr style=\"text-align: right;\">\n",
              "      <th></th>\n",
              "      <th>dist</th>\n",
              "    </tr>\n",
              "  </thead>\n",
              "  <tbody>\n",
              "    <tr>\n",
              "      <th>0</th>\n",
              "      <td>2.7</td>\n",
              "    </tr>\n",
              "    <tr>\n",
              "      <th>1</th>\n",
              "      <td>2.0</td>\n",
              "    </tr>\n",
              "    <tr>\n",
              "      <th>2</th>\n",
              "      <td>2.3</td>\n",
              "    </tr>\n",
              "    <tr>\n",
              "      <th>3</th>\n",
              "      <td>2.1</td>\n",
              "    </tr>\n",
              "    <tr>\n",
              "      <th>4</th>\n",
              "      <td>2.7</td>\n",
              "    </tr>\n",
              "  </tbody>\n",
              "</table>\n",
              "</div>"
            ],
            "text/plain": [
              "   dist\n",
              "0   2.7\n",
              "1   2.0\n",
              "2   2.3\n",
              "3   2.1\n",
              "4   2.7"
            ]
          },
          "execution_count": 247,
          "metadata": {},
          "output_type": "execute_result"
        }
      ],
      "source": [
        "# Define an arbitrary test point\n",
        "\n",
        "test_pt = [4.8, 2.7, 2.5, 0.7]\n",
        "\n",
        "# Calculate distance between test_pt and all points in X\n",
        "\n",
        "distances = []\n",
        "\n",
        "for i in X.index:\n",
        "\n",
        "    distances.append(minkowski_distance(test_pt, X.iloc[i]))\n",
        "\n",
        "df_dists = pd.DataFrame(data=distances, index=X.index, columns=['dist'])\n",
        "df_dists.head()"
      ]
    },
    {
      "cell_type": "markdown",
      "metadata": {
        "id": "unI_QsDTp0P_"
      },
      "source": [
        "### 3. Sort distance measurements to find the points closest to the test point"
      ]
    },
    {
      "cell_type": "code",
      "execution_count": null,
      "metadata": {
        "id": "MYr4wnD8p0P_",
        "outputId": "4b5fdcfe-d275-4ac2-8229-d481b6684dc9"
      },
      "outputs": [
        {
          "data": {
            "text/html": [
              "<div>\n",
              "<style scoped>\n",
              "    .dataframe tbody tr th:only-of-type {\n",
              "        vertical-align: middle;\n",
              "    }\n",
              "\n",
              "    .dataframe tbody tr th {\n",
              "        vertical-align: top;\n",
              "    }\n",
              "\n",
              "    .dataframe thead th {\n",
              "        text-align: right;\n",
              "    }\n",
              "</style>\n",
              "<table border=\"1\" class=\"dataframe\">\n",
              "  <thead>\n",
              "    <tr style=\"text-align: right;\">\n",
              "      <th></th>\n",
              "      <th>dist</th>\n",
              "    </tr>\n",
              "  </thead>\n",
              "  <tbody>\n",
              "    <tr>\n",
              "      <th>98</th>\n",
              "      <td>1.4</td>\n",
              "    </tr>\n",
              "    <tr>\n",
              "      <th>57</th>\n",
              "      <td>1.5</td>\n",
              "    </tr>\n",
              "    <tr>\n",
              "      <th>93</th>\n",
              "      <td>1.7</td>\n",
              "    </tr>\n",
              "    <tr>\n",
              "      <th>24</th>\n",
              "      <td>1.8</td>\n",
              "    </tr>\n",
              "    <tr>\n",
              "      <th>30</th>\n",
              "      <td>1.8</td>\n",
              "    </tr>\n",
              "  </tbody>\n",
              "</table>\n",
              "</div>"
            ],
            "text/plain": [
              "    dist\n",
              "98   1.4\n",
              "57   1.5\n",
              "93   1.7\n",
              "24   1.8\n",
              "30   1.8"
            ]
          },
          "execution_count": 248,
          "metadata": {},
          "output_type": "execute_result"
        }
      ],
      "source": [
        "# Find the 5 nearest neighbors\n",
        "\n",
        "df_nn = df_dists.sort_values(by=['dist'], axis=0)[:5]\n",
        "df_nn"
      ]
    },
    {
      "cell_type": "markdown",
      "metadata": {
        "id": "hk2b1jWAp0P_"
      },
      "source": [
        "### 4. Use majority class labels of those closest points to predict the label of the test point"
      ]
    },
    {
      "cell_type": "code",
      "execution_count": null,
      "metadata": {
        "id": "KFCedXDyp0P_",
        "outputId": "4e064dde-4701-42e3-cb07-7e9869e20ece"
      },
      "outputs": [
        {
          "data": {
            "text/plain": [
              "1"
            ]
          },
          "execution_count": 249,
          "metadata": {},
          "output_type": "execute_result"
        }
      ],
      "source": [
        "from collections import Counter\n",
        "\n",
        "# Create counter object to track the labels\n",
        "\n",
        "counter = Counter(y[df_nn.index])\n",
        "\n",
        "# Get most common label of all the nearest neighbors\n",
        "\n",
        "counter.most_common()[0][0]"
      ]
    },
    {
      "cell_type": "markdown",
      "metadata": {
        "id": "zPoVUJ21p0P_"
      },
      "source": [
        "### 5. Repeat steps 1 through 4 until all test data points are classified"
      ]
    },
    {
      "cell_type": "code",
      "execution_count": null,
      "metadata": {
        "id": "yRz13Qt4p0P_"
      },
      "outputs": [],
      "source": [
        "# Split the data - 75% train, 25% test\n",
        "\n",
        "X_train, X_test, y_train, y_test = train_test_split(X, y, test_size=0.25,\n",
        "                                                   random_state=1)\n",
        "\n",
        "# Scale the X data\n",
        "\n",
        "scaler = StandardScaler()\n",
        "X_train = scaler.fit_transform(X_train)\n",
        "X_test = scaler.transform(X_test)"
      ]
    },
    {
      "cell_type": "code",
      "execution_count": null,
      "metadata": {
        "id": "lOMvh8qPp0P_"
      },
      "outputs": [],
      "source": [
        "def knn_predict(X_train, X_test, y_train, y_test, k, p):\n",
        "\n",
        "    # Counter to help with label voting\n",
        "    from collections import Counter\n",
        "\n",
        "    # Make predictions on the test data\n",
        "    # Need output of 1 prediction per test data point\n",
        "    y_hat_test = []\n",
        "\n",
        "    for test_point in X_test:\n",
        "        distances = []\n",
        "\n",
        "        for train_point in X_train:\n",
        "            distance = minkowski_distance(test_point, train_point, p=p)\n",
        "            distances.append(distance)\n",
        "\n",
        "        # Store distances in a dataframe\n",
        "        df_dists = pd.DataFrame(data=distances, columns=['dist'],\n",
        "                                index=y_train.index)\n",
        "\n",
        "        # Sort distances, and only consider the k closest points\n",
        "        df_nn = df_dists.sort_values(by=['dist'], axis=0)[:k]\n",
        "\n",
        "        # Create counter object to track the labels of k closest neighbors\n",
        "        counter = Counter(y_train[df_nn.index])\n",
        "\n",
        "        # Get most common label of all the nearest neighbors\n",
        "        prediction = counter.most_common()[0][0]\n",
        "\n",
        "        # Append prediction to output list\n",
        "        y_hat_test.append(prediction)\n",
        "\n",
        "    return y_hat_test"
      ]
    },
    {
      "cell_type": "code",
      "execution_count": null,
      "metadata": {
        "id": "7wDPJm8Dp0P_",
        "outputId": "45308cdd-b4f1-4542-f7bb-9ac8e91c2d8c"
      },
      "outputs": [
        {
          "name": "stdout",
          "output_type": "stream",
          "text": [
            "[0, 1, 1, 0, 2, 1, 2, 0, 0, 2, 1, 0, 2, 1, 1, 0, 1, 1, 0, 0, 1, 1, 2, 0, 2, 1, 0, 0, 1, 2, 1, 2, 1, 2, 2, 0, 1, 0]\n",
            "My KNN Accuracy: 0.9736842105263158\n"
          ]
        }
      ],
      "source": [
        "# Make predictions on test dataset\n",
        "y_hat_test = knn_predict(X_train, X_test, y_train, y_test, k=5, p=1)\n",
        "\n",
        "print(y_hat_test)\n",
        "print(f\"My KNN Accuracy: {accuracy_score(y_test, y_pred_test)}\")"
      ]
    },
    {
      "cell_type": "code",
      "execution_count": null,
      "metadata": {
        "id": "46ypfuMxp0QG",
        "outputId": "f17bc91e-be7e-4475-a231-afd5b1b41ff6"
      },
      "outputs": [
        {
          "data": {
            "text/plain": [
              "array([[13,  0,  0],\n",
              "       [ 0, 15,  1],\n",
              "       [ 0,  0,  9]])"
            ]
          },
          "execution_count": 253,
          "metadata": {},
          "output_type": "execute_result"
        }
      ],
      "source": [
        "from sklearn.metrics import confusion_matrix\n",
        "\n",
        "confusion_matrix(y_test, y_hat_test)"
      ]
    },
    {
      "cell_type": "markdown",
      "metadata": {
        "id": "R_DUMvFep0QG"
      },
      "source": [
        "## Support Vector Machine Classifier"
      ]
    },
    {
      "cell_type": "markdown",
      "metadata": {
        "id": "TQu2hiAnp0QG"
      },
      "source": [
        "A support-vector machine constructs a hyperplane or set of hyperplanes in a high- or infinite-dimensional space that separates regions in the data by the maximum amount possible.  Intuitively, a good separation is achieved by the hyperplane that has the largest distance to the nearest training-data point of any class. In general the larger the margin, the lower the generalization error of the classifier."
      ]
    },
    {
      "cell_type": "markdown",
      "metadata": {
        "id": "28FZiH7yp0QG"
      },
      "source": [
        "<img src=\"https://upload.wikimedia.org/wikipedia/commons/7/72/SVM_margin.png\" width=200>\n",
        "$$\\text{Samples on the margins are called the \"support vectors\"}$$"
      ]
    },
    {
      "cell_type": "markdown",
      "metadata": {
        "id": "i70_9jhLp0QG"
      },
      "source": [
        "## Modeling with scikit-learn"
      ]
    },
    {
      "cell_type": "code",
      "execution_count": null,
      "metadata": {
        "id": "v_TM_xKkp0QG",
        "outputId": "9891ac35-4060-46e5-c1cf-a15334a39c9d"
      },
      "outputs": [
        {
          "name": "stdout",
          "output_type": "stream",
          "text": [
            "[1 1 0 1 1 0 0 1 1 1 1 0 1 1 1 0 0 0 1 0 0 1 1 1 0]\n",
            "Sklearn Multinomial SVM Accuracy: 1.0\n"
          ]
        }
      ],
      "source": [
        "from sklearn import svm\n",
        "\n",
        "iris = datasets.load_iris()\n",
        "\n",
        "df = pd.DataFrame(data=iris.data, columns=iris.feature_names)\n",
        "df['target'] = iris.target\n",
        "\n",
        "X = df.drop('target', axis=1)[:100]\n",
        "y = df.target[:100]\n",
        "\n",
        "X_train, X_test, y_train, y_test = train_test_split(X, y, test_size=0.25,\n",
        "                                                   random_state=1)\n",
        "\n",
        "clf = svm.LinearSVC(C=1.0, max_iter=10000)\n",
        "\n",
        "clf.fit(X, y)\n",
        "\n",
        "y_pred_test = clf.predict(X_test)\n",
        "\n",
        "print(y_pred_test)\n",
        "print(f\"Sklearn Multinomial SVM Accuracy: {accuracy_score(y_test, y_pred_test)}\")"
      ]
    },
    {
      "cell_type": "markdown",
      "metadata": {
        "id": "XSXUnHVWp0QG"
      },
      "source": [
        "## SVM from scratch"
      ]
    },
    {
      "cell_type": "code",
      "execution_count": null,
      "metadata": {
        "id": "h4cGDND-p0QG",
        "outputId": "662bad45-fd27-4aa3-ae62-ec6ecf291664"
      },
      "outputs": [
        {
          "name": "stderr",
          "output_type": "stream",
          "text": [
            "/var/folders/xr/f9q8dphs5vq5mhqy843mnkv40000gn/T/ipykernel_13541/3113924533.py:9: SettingWithCopyWarning: \n",
            "A value is trying to be set on a copy of a slice from a DataFrame\n",
            "\n",
            "See the caveats in the documentation: https://pandas.pydata.org/pandas-docs/stable/user_guide/indexing.html#returning-a-view-versus-a-copy\n",
            "  y[y == 0] = -1\n"
          ]
        }
      ],
      "source": [
        "iris = datasets.load_iris()\n",
        "\n",
        "df = pd.DataFrame(data=iris.data, columns=iris.feature_names)\n",
        "df['target'] = iris.target\n",
        "df = df.drop(df.index[range(100,150)])\n",
        "\n",
        "X = df.drop('target', axis=1)\n",
        "y = df.target\n",
        "y[y == 0] = -1"
      ]
    },
    {
      "cell_type": "code",
      "execution_count": null,
      "metadata": {
        "id": "NdS5zUv0p0QG"
      },
      "outputs": [],
      "source": [
        "X_train, X_test, y_train, y_test = train_test_split(X, y, test_size=0.25,\n",
        "                                                   random_state=1)\n",
        "y_train = np.array(y_train)"
      ]
    },
    {
      "cell_type": "code",
      "execution_count": null,
      "metadata": {
        "id": "QNmI_oJXp0QG"
      },
      "outputs": [],
      "source": [
        "train_f1 = np.array(X_train.iloc[:,0])\n",
        "train_f2 = np.array(X_train.iloc[:,1])\n",
        "train_f3 = np.array(X_train.iloc[:,2])\n",
        "train_f4 = np.array(X_train.iloc[:,3])\n",
        "\n",
        "train_f1 = train_f1.reshape(75,1)\n",
        "train_f2 = train_f2.reshape(75,1)\n",
        "train_f3 = train_f3.reshape(75,1)\n",
        "train_f4 = train_f4.reshape(75,1)\n",
        "\n",
        "w1 = np.zeros((75,1))\n",
        "w2 = np.zeros((75,1))\n",
        "w3 = np.zeros((75,1))\n",
        "w4 = np.zeros((75,1))\n",
        "\n",
        "epochs = 1\n",
        "alpha = 0.0001\n",
        "\n",
        "while(epochs < 10000):\n",
        "    y = w1 * train_f1 + w2 * train_f2 + w3 * train_f3 + w4 * train_f4\n",
        "    prod = y.reshape(-1,) * y_train\n",
        "    count = 0\n",
        "    for val in prod:\n",
        "        if (val >= 1):\n",
        "            cost = 0\n",
        "            w1 = w1 - alpha * (2 * 1/epochs * w1)\n",
        "            w2 = w2 - alpha * (2 * 1/epochs * w2)\n",
        "            w3 = w3 - alpha * (2 * 1/epochs * w3)\n",
        "            w4 = w4 - alpha * (2 * 1/epochs * w4)\n",
        "        else:\n",
        "            cost = 1 - val\n",
        "            w1 = w1 + alpha * (train_f1[count] * y_train[count] - 2 * 1/epochs * w1)\n",
        "            w2 = w2 + alpha * (train_f2[count] * y_train[count] - 2 * 1/epochs * w2)\n",
        "            w3 = w3 + alpha * (train_f3[count] * y_train[count] - 2 * 1/epochs * w3)\n",
        "            w4 = w4 + alpha * (train_f4[count] * y_train[count] - 2 * 1/epochs * w4)\n",
        "        count += 1\n",
        "    epochs += 1"
      ]
    },
    {
      "cell_type": "code",
      "execution_count": null,
      "metadata": {
        "id": "XcC5NyjGp0QG",
        "outputId": "71dbdf71-4946-41ac-873e-b9ed7efd28cf"
      },
      "outputs": [
        {
          "name": "stdout",
          "output_type": "stream",
          "text": [
            "[1, 1, -1, 1, 1, -1, -1, 1, 1, 1, 1, -1, 1, 1, 1, -1, -1, -1, 1, -1, -1, 1, 1, 1, -1]\n",
            "My SVM Accuracy: 1.0\n"
          ]
        }
      ],
      "source": [
        "## Clip the weights so they match the size of the test set\n",
        "index = list(range(25,75))\n",
        "w1 = np.delete(w1,index)\n",
        "w2 = np.delete(w2,index)\n",
        "w3 = np.delete(w3,index)\n",
        "w4 = np.delete(w4,index)\n",
        "\n",
        "## Extract the test data features\n",
        "test_f1 = np.array(X_test.iloc[:,0])\n",
        "test_f2 = np.array(X_test.iloc[:,1])\n",
        "test_f3 = np.array(X_test.iloc[:,2])\n",
        "test_f4 = np.array(X_test.iloc[:,3])\n",
        "\n",
        "## Predict\n",
        "y_pred = w1 * test_f1 + w2 * test_f2 + w3 * test_f3 + w4 * test_f4\n",
        "predictions = []\n",
        "for val in y_pred:\n",
        "    if(val > 1):\n",
        "        predictions.append(1)\n",
        "    else:\n",
        "        predictions.append(-1)\n",
        "\n",
        "print(predictions)\n",
        "print(f\"My SVM Accuracy: {accuracy_score(y_test, predictions)}\")"
      ]
    },
    {
      "cell_type": "code",
      "execution_count": null,
      "metadata": {
        "id": "ugddbD2_p0QG",
        "outputId": "2b6f52d5-e9e1-4099-d5d1-c0478a3d24f3"
      },
      "outputs": [
        {
          "data": {
            "text/plain": [
              "array([[10,  0],\n",
              "       [ 0, 15]])"
            ]
          },
          "execution_count": 285,
          "metadata": {},
          "output_type": "execute_result"
        }
      ],
      "source": [
        "confusion_matrix(np.array(y_test), predictions)"
      ]
    },
    {
      "cell_type": "markdown",
      "metadata": {
        "id": "Tm178ASRp0QG"
      },
      "source": [
        "### Multinomial SVM with sklearn"
      ]
    },
    {
      "cell_type": "markdown",
      "metadata": {
        "id": "D2GroWN7p0QG"
      },
      "source": [
        "Add back in all classes"
      ]
    },
    {
      "cell_type": "code",
      "execution_count": null,
      "metadata": {
        "id": "UIY_ulvbp0QG",
        "outputId": "e5867b71-992d-43fb-8542-b67e2d2a2306"
      },
      "outputs": [
        {
          "name": "stdout",
          "output_type": "stream",
          "text": [
            "[0 1 1 0 2 1 2 0 0 2 1 0 2 1 1 0 1 1 0 0 1 2 1 0 2 1 0 0 1 2 1 2 1 2 2 0 1\n",
            " 0]\n",
            "Sklearn Multinomial SVM Accuracy: 0.9736842105263158\n"
          ]
        }
      ],
      "source": [
        "from sklearn import svm\n",
        "\n",
        "iris = datasets.load_iris()\n",
        "\n",
        "df = pd.DataFrame(data=iris.data, columns=iris.feature_names)\n",
        "df['target'] = iris.target\n",
        "\n",
        "X = df.drop('target', axis=1)\n",
        "y = df.target\n",
        "\n",
        "X_train, X_test, y_train, y_test = train_test_split(X, y, test_size=0.25,\n",
        "                                                   random_state=1)\n",
        "\n",
        "clf = svm.LinearSVC(C=1.0, max_iter=10000)\n",
        "\n",
        "clf.fit(X, y)\n",
        "\n",
        "y_pred_test = clf.predict(X_test)\n",
        "\n",
        "print(y_pred_test)\n",
        "print(f\"Sklearn Multinomial SVM Accuracy: {accuracy_score(y_test, y_pred_test)}\")"
      ]
    },
    {
      "cell_type": "code",
      "execution_count": null,
      "metadata": {
        "id": "hBOrebB9p0QH"
      },
      "outputs": [],
      "source": [
        "# Different SVM types\n",
        "\n",
        "# we create an instance of SVM and fit out data. We do not scale our\n",
        "# data since we want to plot the support vectors\n",
        "C = 1.0  # SVM regularization parameter\n",
        "models = (\n",
        "    svm.SVC(kernel=\"linear\", C=C),\n",
        "    svm.LinearSVC(C=C, max_iter=10000),\n",
        "    svm.SVC(kernel=\"rbf\", gamma=0.7, C=C), # radial basis function kernel\n",
        "    svm.SVC(kernel=\"poly\", degree=3, gamma=\"auto\", C=C), # polynomial kernel\n",
        ")\n",
        "models = (clf.fit(X, y) for clf in models)"
      ]
    },
    {
      "cell_type": "code",
      "execution_count": null,
      "metadata": {
        "id": "yIKdGwzyp0QH"
      },
      "outputs": [],
      "source": [
        "y_pred_test = [clf.predict(X_test) for clf in models]"
      ]
    },
    {
      "cell_type": "code",
      "execution_count": null,
      "metadata": {
        "id": "557O0h9Lp0QH",
        "outputId": "ec0e934c-5a29-45e7-b9ec-63b1ea1cfa9e"
      },
      "outputs": [
        {
          "name": "stdout",
          "output_type": "stream",
          "text": [
            "Sklearn SVM Accuracy: 1.0\n",
            "Sklearn SVM Accuracy: 0.9736842105263158\n",
            "Sklearn SVM Accuracy: 0.9736842105263158\n",
            "Sklearn SVM Accuracy: 1.0\n"
          ]
        }
      ],
      "source": [
        "for pred in y_pred_test:\n",
        "    print(f\"Sklearn SVM Accuracy: {accuracy_score(y_test, pred)}\")"
      ]
    },
    {
      "cell_type": "code",
      "execution_count": null,
      "metadata": {
        "scrolled": true,
        "id": "d48VhMSIp0QH",
        "outputId": "7dde06a7-b42f-4750-b5ba-2e163cece5b9"
      },
      "outputs": [
        {
          "data": {
            "text/plain": [
              "[array([[13,  0,  0],\n",
              "        [ 0, 15,  1],\n",
              "        [ 0,  0,  9]]),\n",
              " array([[13,  0,  0],\n",
              "        [ 0, 15,  1],\n",
              "        [ 0,  0,  9]])]"
            ]
          },
          "execution_count": 290,
          "metadata": {},
          "output_type": "execute_result"
        }
      ],
      "source": [
        "[confusion_matrix(y_test, y_hat_test) for y_hat_test in y_pred_test[1:3]]"
      ]
    },
    {
      "cell_type": "markdown",
      "metadata": {
        "id": "41ZyeyeIp0QH"
      },
      "source": [
        "### Kernel in SVM?"
      ]
    },
    {
      "cell_type": "markdown",
      "metadata": {
        "id": "KXzZga-Jp0QH"
      },
      "source": [
        "What's the kernel in an SVM?\n",
        "\n",
        "For many algorithms, raw data must be transformed into a *feature vector*.  This can be done through an explicitly-defined mapping function, or can be transformed into a feature map a la a CNN through mutiplication by a matrix.  This matrix multiplication is just a function $f$ parameterized by weights $W$: $f(X;W) \\rightarrow U$.\n",
        "\n",
        "That matrix is a convolutional filter a.k.a. a *kernel*.\n",
        "\n",
        "The *other* kind of kernel is a user-specified similarity function over pairs of data points in raw representation.  This is the kernel at work in an SVM.\n",
        "\n",
        "For instance, the radial basis function (RBF) kernel:\n",
        "$$K(x,x') = \\text{exp}\\Big(\\frac{\\Vert x-x'\\Vert^2}{2\\sigma^2}\\Big)$$\n",
        "\n",
        "$\\Vert x-x'\\Vert^2$ is the squared Euclidean distance between two samples, and $\\sigma$ is a free tunable parameter."
      ]
    },
    {
      "cell_type": "markdown",
      "metadata": {
        "id": "ApqFy2TCp0QH"
      },
      "source": [
        "# Decision Tree"
      ]
    },
    {
      "cell_type": "markdown",
      "metadata": {
        "id": "6dw9bXnip0QH"
      },
      "source": [
        "A decisions tree is built on a source set.  The entire set is considered the root of the tree and every sample in the set has a target value (class, in the case of classification).  At each step, we split into subsets, which each constitute children.\n",
        "\n",
        "The splitting is based on a set of splitting rules based on classification features.\n",
        "\n",
        "This process is repeated recursively on each derived subset. The recursion is complete when the subset at a node has all the same values of the target variable, or when splitting no longer adds value to the predictions."
      ]
    },
    {
      "cell_type": "markdown",
      "metadata": {
        "id": "1d8_Jdkep0QH"
      },
      "source": [
        "<img src=\"https://upload.wikimedia.org/wikipedia/commons/e/eb/Decision_Tree.jpg\" width=400>\n",
        "$$\\text{Your chances of survival were good if you were (i) a female or (ii) a male younger than 9.5 years with strictly less than 3 siblings.}$$"
      ]
    },
    {
      "cell_type": "markdown",
      "metadata": {
        "id": "lhHRz5PYp0QH"
      },
      "source": [
        "## Modeling with sklearn"
      ]
    },
    {
      "cell_type": "code",
      "execution_count": null,
      "metadata": {
        "id": "rVr5TWbip0QH"
      },
      "outputs": [],
      "source": [
        "from sklearn import tree\n",
        "import graphviz\n",
        "from sklearn.tree import DecisionTreeClassifier\n",
        "from sklearn.model_selection import train_test_split, cross_val_score"
      ]
    },
    {
      "cell_type": "code",
      "execution_count": null,
      "metadata": {
        "id": "uXT_eFdBp0QH",
        "outputId": "e8aaf423-e53b-45f2-cb6f-45311d80f9da"
      },
      "outputs": [
        {
          "data": {
            "text/html": [
              "<div>\n",
              "<style scoped>\n",
              "    .dataframe tbody tr th:only-of-type {\n",
              "        vertical-align: middle;\n",
              "    }\n",
              "\n",
              "    .dataframe tbody tr th {\n",
              "        vertical-align: top;\n",
              "    }\n",
              "\n",
              "    .dataframe thead th {\n",
              "        text-align: right;\n",
              "    }\n",
              "</style>\n",
              "<table border=\"1\" class=\"dataframe\">\n",
              "  <thead>\n",
              "    <tr style=\"text-align: right;\">\n",
              "      <th></th>\n",
              "      <th>sepal length (cm)</th>\n",
              "      <th>sepal width (cm)</th>\n",
              "      <th>petal length (cm)</th>\n",
              "      <th>petal width (cm)</th>\n",
              "      <th>target</th>\n",
              "    </tr>\n",
              "  </thead>\n",
              "  <tbody>\n",
              "    <tr>\n",
              "      <th>0</th>\n",
              "      <td>5.1</td>\n",
              "      <td>3.5</td>\n",
              "      <td>1.4</td>\n",
              "      <td>0.2</td>\n",
              "      <td>0</td>\n",
              "    </tr>\n",
              "    <tr>\n",
              "      <th>1</th>\n",
              "      <td>4.9</td>\n",
              "      <td>3.0</td>\n",
              "      <td>1.4</td>\n",
              "      <td>0.2</td>\n",
              "      <td>0</td>\n",
              "    </tr>\n",
              "    <tr>\n",
              "      <th>2</th>\n",
              "      <td>4.7</td>\n",
              "      <td>3.2</td>\n",
              "      <td>1.3</td>\n",
              "      <td>0.2</td>\n",
              "      <td>0</td>\n",
              "    </tr>\n",
              "    <tr>\n",
              "      <th>3</th>\n",
              "      <td>4.6</td>\n",
              "      <td>3.1</td>\n",
              "      <td>1.5</td>\n",
              "      <td>0.2</td>\n",
              "      <td>0</td>\n",
              "    </tr>\n",
              "    <tr>\n",
              "      <th>4</th>\n",
              "      <td>5.0</td>\n",
              "      <td>3.6</td>\n",
              "      <td>1.4</td>\n",
              "      <td>0.2</td>\n",
              "      <td>0</td>\n",
              "    </tr>\n",
              "    <tr>\n",
              "      <th>...</th>\n",
              "      <td>...</td>\n",
              "      <td>...</td>\n",
              "      <td>...</td>\n",
              "      <td>...</td>\n",
              "      <td>...</td>\n",
              "    </tr>\n",
              "    <tr>\n",
              "      <th>145</th>\n",
              "      <td>6.7</td>\n",
              "      <td>3.0</td>\n",
              "      <td>5.2</td>\n",
              "      <td>2.3</td>\n",
              "      <td>2</td>\n",
              "    </tr>\n",
              "    <tr>\n",
              "      <th>146</th>\n",
              "      <td>6.3</td>\n",
              "      <td>2.5</td>\n",
              "      <td>5.0</td>\n",
              "      <td>1.9</td>\n",
              "      <td>2</td>\n",
              "    </tr>\n",
              "    <tr>\n",
              "      <th>147</th>\n",
              "      <td>6.5</td>\n",
              "      <td>3.0</td>\n",
              "      <td>5.2</td>\n",
              "      <td>2.0</td>\n",
              "      <td>2</td>\n",
              "    </tr>\n",
              "    <tr>\n",
              "      <th>148</th>\n",
              "      <td>6.2</td>\n",
              "      <td>3.4</td>\n",
              "      <td>5.4</td>\n",
              "      <td>2.3</td>\n",
              "      <td>2</td>\n",
              "    </tr>\n",
              "    <tr>\n",
              "      <th>149</th>\n",
              "      <td>5.9</td>\n",
              "      <td>3.0</td>\n",
              "      <td>5.1</td>\n",
              "      <td>1.8</td>\n",
              "      <td>2</td>\n",
              "    </tr>\n",
              "  </tbody>\n",
              "</table>\n",
              "<p>150 rows × 5 columns</p>\n",
              "</div>"
            ],
            "text/plain": [
              "     sepal length (cm)  sepal width (cm)  petal length (cm)  petal width (cm)  \\\n",
              "0                  5.1               3.5                1.4               0.2   \n",
              "1                  4.9               3.0                1.4               0.2   \n",
              "2                  4.7               3.2                1.3               0.2   \n",
              "3                  4.6               3.1                1.5               0.2   \n",
              "4                  5.0               3.6                1.4               0.2   \n",
              "..                 ...               ...                ...               ...   \n",
              "145                6.7               3.0                5.2               2.3   \n",
              "146                6.3               2.5                5.0               1.9   \n",
              "147                6.5               3.0                5.2               2.0   \n",
              "148                6.2               3.4                5.4               2.3   \n",
              "149                5.9               3.0                5.1               1.8   \n",
              "\n",
              "     target  \n",
              "0         0  \n",
              "1         0  \n",
              "2         0  \n",
              "3         0  \n",
              "4         0  \n",
              "..      ...  \n",
              "145       2  \n",
              "146       2  \n",
              "147       2  \n",
              "148       2  \n",
              "149       2  \n",
              "\n",
              "[150 rows x 5 columns]"
            ]
          },
          "execution_count": 298,
          "metadata": {},
          "output_type": "execute_result"
        }
      ],
      "source": [
        "iris = datasets.load_iris()\n",
        "\n",
        "df = pd.DataFrame(data=iris.data, columns=iris.feature_names)\n",
        "df['target'] = iris.target\n",
        "\n",
        "df"
      ]
    },
    {
      "cell_type": "code",
      "execution_count": null,
      "metadata": {
        "id": "8Op-_eZKp0QH"
      },
      "outputs": [],
      "source": [
        "X = np.array(df[['sepal length (cm)',\\\n",
        "       'sepal width (cm)',\\\n",
        "       'petal length (cm)',\\\n",
        "       'petal width (cm)']])\n",
        "y = np.array(df['target'])"
      ]
    },
    {
      "cell_type": "code",
      "execution_count": null,
      "metadata": {
        "id": "hIvmrFB0p0QH",
        "outputId": "b3463db5-c690-41dd-9604-27e4c466fd8d"
      },
      "outputs": [
        {
          "data": {
            "text/plain": [
              "[Text(0.4, 0.9166666666666666, 'X[2] <= 2.6\\ngini = 0.665\\nsamples = 112\\nvalue = [37, 34, 41]'),\n",
              " Text(0.3, 0.75, 'gini = 0.0\\nsamples = 37\\nvalue = [37, 0, 0]'),\n",
              " Text(0.5, 0.75, 'X[3] <= 1.65\\ngini = 0.496\\nsamples = 75\\nvalue = [0, 34, 41]'),\n",
              " Text(0.2, 0.5833333333333334, 'X[2] <= 4.95\\ngini = 0.193\\nsamples = 37\\nvalue = [0, 33, 4]'),\n",
              " Text(0.1, 0.4166666666666667, 'gini = 0.0\\nsamples = 32\\nvalue = [0, 32, 0]'),\n",
              " Text(0.3, 0.4166666666666667, 'X[0] <= 6.05\\ngini = 0.32\\nsamples = 5\\nvalue = [0, 1, 4]'),\n",
              " Text(0.2, 0.25, 'X[3] <= 1.55\\ngini = 0.5\\nsamples = 2\\nvalue = [0, 1, 1]'),\n",
              " Text(0.1, 0.08333333333333333, 'gini = 0.0\\nsamples = 1\\nvalue = [0, 0, 1]'),\n",
              " Text(0.3, 0.08333333333333333, 'gini = 0.0\\nsamples = 1\\nvalue = [0, 1, 0]'),\n",
              " Text(0.4, 0.25, 'gini = 0.0\\nsamples = 3\\nvalue = [0, 0, 3]'),\n",
              " Text(0.8, 0.5833333333333334, 'X[2] <= 4.85\\ngini = 0.051\\nsamples = 38\\nvalue = [0, 1, 37]'),\n",
              " Text(0.7, 0.4166666666666667, 'X[1] <= 3.1\\ngini = 0.375\\nsamples = 4\\nvalue = [0, 1, 3]'),\n",
              " Text(0.6, 0.25, 'gini = 0.0\\nsamples = 3\\nvalue = [0, 0, 3]'),\n",
              " Text(0.8, 0.25, 'gini = 0.0\\nsamples = 1\\nvalue = [0, 1, 0]'),\n",
              " Text(0.9, 0.4166666666666667, 'gini = 0.0\\nsamples = 34\\nvalue = [0, 0, 34]')]"
            ]
          },
          "execution_count": 307,
          "metadata": {},
          "output_type": "execute_result"
        },
        {
          "data": {
            "image/png": "[encoded data removed]",
            "text/plain": [
              "<Figure size 432x288 with 1 Axes>"
            ]
          },
          "metadata": {
            "needs_background": "light"
          },
          "output_type": "display_data"
        }
      ],
      "source": [
        "X_train, X_test, y_train, y_test = train_test_split(X, y, test_size=0.25, random_state=1)\n",
        "\n",
        "clf = DecisionTreeClassifier(criterion='gini',min_samples_split=2)\n",
        "clf.fit(X_train, y_train)\n",
        "\n",
        "tree.plot_tree(clf)"
      ]
    },
    {
      "cell_type": "markdown",
      "metadata": {
        "id": "5hh9bobVp0QH"
      },
      "source": [
        "That's to small to see to let's use the `graphviz` library to get a better look."
      ]
    },
    {
      "cell_type": "code",
      "execution_count": null,
      "metadata": {
        "id": "9vhITzqVp0QH",
        "outputId": "d4e3620d-5a6a-476b-91f3-f2b9cde94983"
      },
      "outputs": [
        {
          "data": {
            "image/svg+xml": [
              "<?xml version=\"1.0\" encoding=\"UTF-8\" standalone=\"no\"?>\n",
              "<!DOCTYPE svg PUBLIC \"-//W3C//DTD SVG 1.1//EN\"\n",
              " \"http://www.w3.org/Graphics/SVG/1.1/DTD/svg11.dtd\">\n",
              "<!-- Generated by graphviz version 2.44.1 (20200629.0846)\n",
              " -->\n",
              "<!-- Title: Tree Pages: 1 -->\n",
              "<svg width=\"578pt\" height=\"581pt\"\n",
              " viewBox=\"0.00 0.00 577.50 581.00\" xmlns=\"http://www.w3.org/2000/svg\" xmlns:xlink=\"http://www.w3.org/1999/xlink\">\n",
              "<g id=\"graph0\" class=\"graph\" transform=\"scale(1 1) rotate(0) translate(4 577)\">\n",
              "<title>Tree</title>\n",
              "<polygon fill=\"white\" stroke=\"transparent\" points=\"-4,4 -4,-577 573.5,-577 573.5,4 -4,4\"/>\n",
              "<!-- 0 -->\n",
              "<g id=\"node1\" class=\"node\">\n",
              "<title>0</title>\n",
              "<polygon fill=\"none\" stroke=\"black\" points=\"307,-573 175,-573 175,-505 307,-505 307,-573\"/>\n",
              "<text text-anchor=\"middle\" x=\"241\" y=\"-557.8\" font-family=\"Helvetica,sans-Serif\" font-size=\"14.00\">X[2] &lt;= 2.6</text>\n",
              "<text text-anchor=\"middle\" x=\"241\" y=\"-542.8\" font-family=\"Helvetica,sans-Serif\" font-size=\"14.00\">gini = 0.665</text>\n",
              "<text text-anchor=\"middle\" x=\"241\" y=\"-527.8\" font-family=\"Helvetica,sans-Serif\" font-size=\"14.00\">samples = 112</text>\n",
              "<text text-anchor=\"middle\" x=\"241\" y=\"-512.8\" font-family=\"Helvetica,sans-Serif\" font-size=\"14.00\">value = [37, 34, 41]</text>\n",
              "</g>\n",
              "<!-- 1 -->\n",
              "<g id=\"node2\" class=\"node\">\n",
              "<title>1</title>\n",
              "<polygon fill=\"none\" stroke=\"black\" points=\"230.5,-461.5 113.5,-461.5 113.5,-408.5 230.5,-408.5 230.5,-461.5\"/>\n",
              "<text text-anchor=\"middle\" x=\"172\" y=\"-446.3\" font-family=\"Helvetica,sans-Serif\" font-size=\"14.00\">gini = 0.0</text>\n",
              "<text text-anchor=\"middle\" x=\"172\" y=\"-431.3\" font-family=\"Helvetica,sans-Serif\" font-size=\"14.00\">samples = 37</text>\n",
              "<text text-anchor=\"middle\" x=\"172\" y=\"-416.3\" font-family=\"Helvetica,sans-Serif\" font-size=\"14.00\">value = [37, 0, 0]</text>\n",
              "</g>\n",
              "<!-- 0&#45;&gt;1 -->\n",
              "<g id=\"edge1\" class=\"edge\">\n",
              "<title>0&#45;&gt;1</title>\n",
              "<path fill=\"none\" stroke=\"black\" d=\"M218.6,-504.88C211.01,-493.67 202.53,-481.13 194.9,-469.85\"/>\n",
              "<polygon fill=\"black\" stroke=\"black\" points=\"197.77,-467.84 189.26,-461.52 191.97,-471.76 197.77,-467.84\"/>\n",
              "<text text-anchor=\"middle\" x=\"184.53\" y=\"-482.37\" font-family=\"Helvetica,sans-Serif\" font-size=\"14.00\">True</text>\n",
              "</g>\n",
              "<!-- 2 -->\n",
              "<g id=\"node3\" class=\"node\">\n",
              "<title>2</title>\n",
              "<polygon fill=\"none\" stroke=\"black\" points=\"373.5,-469 248.5,-469 248.5,-401 373.5,-401 373.5,-469\"/>\n",
              "<text text-anchor=\"middle\" x=\"311\" y=\"-453.8\" font-family=\"Helvetica,sans-Serif\" font-size=\"14.00\">X[3] &lt;= 1.65</text>\n",
              "<text text-anchor=\"middle\" x=\"311\" y=\"-438.8\" font-family=\"Helvetica,sans-Serif\" font-size=\"14.00\">gini = 0.496</text>\n",
              "<text text-anchor=\"middle\" x=\"311\" y=\"-423.8\" font-family=\"Helvetica,sans-Serif\" font-size=\"14.00\">samples = 75</text>\n",
              "<text text-anchor=\"middle\" x=\"311\" y=\"-408.8\" font-family=\"Helvetica,sans-Serif\" font-size=\"14.00\">value = [0, 34, 41]</text>\n",
              "</g>\n",
              "<!-- 0&#45;&gt;2 -->\n",
              "<g id=\"edge2\" class=\"edge\">\n",
              "<title>0&#45;&gt;2</title>\n",
              "<path fill=\"none\" stroke=\"black\" d=\"M263.73,-504.88C269.66,-496.24 276.12,-486.82 282.32,-477.79\"/>\n",
              "<polygon fill=\"black\" stroke=\"black\" points=\"285.37,-479.52 288.15,-469.3 279.6,-475.56 285.37,-479.52\"/>\n",
              "<text text-anchor=\"middle\" x=\"292.72\" y=\"-490.18\" font-family=\"Helvetica,sans-Serif\" font-size=\"14.00\">False</text>\n",
              "</g>\n",
              "<!-- 3 -->\n",
              "<g id=\"node4\" class=\"node\">\n",
              "<title>3</title>\n",
              "<polygon fill=\"none\" stroke=\"black\" points=\"302.5,-365 185.5,-365 185.5,-297 302.5,-297 302.5,-365\"/>\n",
              "<text text-anchor=\"middle\" x=\"244\" y=\"-349.8\" font-family=\"Helvetica,sans-Serif\" font-size=\"14.00\">X[2] &lt;= 4.95</text>\n",
              "<text text-anchor=\"middle\" x=\"244\" y=\"-334.8\" font-family=\"Helvetica,sans-Serif\" font-size=\"14.00\">gini = 0.193</text>\n",
              "<text text-anchor=\"middle\" x=\"244\" y=\"-319.8\" font-family=\"Helvetica,sans-Serif\" font-size=\"14.00\">samples = 37</text>\n",
              "<text text-anchor=\"middle\" x=\"244\" y=\"-304.8\" font-family=\"Helvetica,sans-Serif\" font-size=\"14.00\">value = [0, 33, 4]</text>\n",
              "</g>\n",
              "<!-- 2&#45;&gt;3 -->\n",
              "<g id=\"edge3\" class=\"edge\">\n",
              "<title>2&#45;&gt;3</title>\n",
              "<path fill=\"none\" stroke=\"black\" d=\"M289.25,-400.88C283.57,-392.24 277.38,-382.82 271.45,-373.79\"/>\n",
              "<polygon fill=\"black\" stroke=\"black\" points=\"274.29,-371.74 265.87,-365.3 268.44,-375.58 274.29,-371.74\"/>\n",
              "</g>\n",
              "<!-- 10 -->\n",
              "<g id=\"node11\" class=\"node\">\n",
              "<title>10</title>\n",
              "<polygon fill=\"none\" stroke=\"black\" points=\"437.5,-365 320.5,-365 320.5,-297 437.5,-297 437.5,-365\"/>\n",
              "<text text-anchor=\"middle\" x=\"379\" y=\"-349.8\" font-family=\"Helvetica,sans-Serif\" font-size=\"14.00\">X[2] &lt;= 4.85</text>\n",
              "<text text-anchor=\"middle\" x=\"379\" y=\"-334.8\" font-family=\"Helvetica,sans-Serif\" font-size=\"14.00\">gini = 0.051</text>\n",
              "<text text-anchor=\"middle\" x=\"379\" y=\"-319.8\" font-family=\"Helvetica,sans-Serif\" font-size=\"14.00\">samples = 38</text>\n",
              "<text text-anchor=\"middle\" x=\"379\" y=\"-304.8\" font-family=\"Helvetica,sans-Serif\" font-size=\"14.00\">value = [0, 1, 37]</text>\n",
              "</g>\n",
              "<!-- 2&#45;&gt;10 -->\n",
              "<g id=\"edge10\" class=\"edge\">\n",
              "<title>2&#45;&gt;10</title>\n",
              "<path fill=\"none\" stroke=\"black\" d=\"M333.08,-400.88C338.84,-392.24 345.12,-382.82 351.14,-373.79\"/>\n",
              "<polygon fill=\"black\" stroke=\"black\" points=\"354.17,-375.56 356.8,-365.3 348.34,-371.68 354.17,-375.56\"/>\n",
              "</g>\n",
              "<!-- 4 -->\n",
              "<g id=\"node5\" class=\"node\">\n",
              "<title>4</title>\n",
              "<polygon fill=\"none\" stroke=\"black\" points=\"172.5,-253.5 55.5,-253.5 55.5,-200.5 172.5,-200.5 172.5,-253.5\"/>\n",
              "<text text-anchor=\"middle\" x=\"114\" y=\"-238.3\" font-family=\"Helvetica,sans-Serif\" font-size=\"14.00\">gini = 0.0</text>\n",
              "<text text-anchor=\"middle\" x=\"114\" y=\"-223.3\" font-family=\"Helvetica,sans-Serif\" font-size=\"14.00\">samples = 32</text>\n",
              "<text text-anchor=\"middle\" x=\"114\" y=\"-208.3\" font-family=\"Helvetica,sans-Serif\" font-size=\"14.00\">value = [0, 32, 0]</text>\n",
              "</g>\n",
              "<!-- 3&#45;&gt;4 -->\n",
              "<g id=\"edge4\" class=\"edge\">\n",
              "<title>3&#45;&gt;4</title>\n",
              "<path fill=\"none\" stroke=\"black\" d=\"M201.79,-296.88C186.65,-285.01 169.63,-271.65 154.63,-259.88\"/>\n",
              "<polygon fill=\"black\" stroke=\"black\" points=\"156.55,-256.94 146.53,-253.52 152.23,-262.45 156.55,-256.94\"/>\n",
              "</g>\n",
              "<!-- 5 -->\n",
              "<g id=\"node6\" class=\"node\">\n",
              "<title>5</title>\n",
              "<polygon fill=\"none\" stroke=\"black\" points=\"301,-261 191,-261 191,-193 301,-193 301,-261\"/>\n",
              "<text text-anchor=\"middle\" x=\"246\" y=\"-245.8\" font-family=\"Helvetica,sans-Serif\" font-size=\"14.00\">X[0] &lt;= 6.05</text>\n",
              "<text text-anchor=\"middle\" x=\"246\" y=\"-230.8\" font-family=\"Helvetica,sans-Serif\" font-size=\"14.00\">gini = 0.32</text>\n",
              "<text text-anchor=\"middle\" x=\"246\" y=\"-215.8\" font-family=\"Helvetica,sans-Serif\" font-size=\"14.00\">samples = 5</text>\n",
              "<text text-anchor=\"middle\" x=\"246\" y=\"-200.8\" font-family=\"Helvetica,sans-Serif\" font-size=\"14.00\">value = [0, 1, 4]</text>\n",
              "</g>\n",
              "<!-- 3&#45;&gt;5 -->\n",
              "<g id=\"edge5\" class=\"edge\">\n",
              "<title>3&#45;&gt;5</title>\n",
              "<path fill=\"none\" stroke=\"black\" d=\"M244.65,-296.88C244.81,-288.78 244.98,-279.98 245.15,-271.47\"/>\n",
              "<polygon fill=\"black\" stroke=\"black\" points=\"248.65,-271.37 245.35,-261.3 241.65,-271.23 248.65,-271.37\"/>\n",
              "</g>\n",
              "<!-- 6 -->\n",
              "<g id=\"node7\" class=\"node\">\n",
              "<title>6</title>\n",
              "<polygon fill=\"none\" stroke=\"black\" points=\"174,-157 64,-157 64,-89 174,-89 174,-157\"/>\n",
              "<text text-anchor=\"middle\" x=\"119\" y=\"-141.8\" font-family=\"Helvetica,sans-Serif\" font-size=\"14.00\">X[3] &lt;= 1.55</text>\n",
              "<text text-anchor=\"middle\" x=\"119\" y=\"-126.8\" font-family=\"Helvetica,sans-Serif\" font-size=\"14.00\">gini = 0.5</text>\n",
              "<text text-anchor=\"middle\" x=\"119\" y=\"-111.8\" font-family=\"Helvetica,sans-Serif\" font-size=\"14.00\">samples = 2</text>\n",
              "<text text-anchor=\"middle\" x=\"119\" y=\"-96.8\" font-family=\"Helvetica,sans-Serif\" font-size=\"14.00\">value = [0, 1, 1]</text>\n",
              "</g>\n",
              "<!-- 5&#45;&gt;6 -->\n",
              "<g id=\"edge6\" class=\"edge\">\n",
              "<title>5&#45;&gt;6</title>\n",
              "<path fill=\"none\" stroke=\"black\" d=\"M204.77,-192.88C193.12,-183.53 180.33,-173.26 168.27,-163.57\"/>\n",
              "<polygon fill=\"black\" stroke=\"black\" points=\"170.45,-160.83 160.46,-157.3 166.07,-166.29 170.45,-160.83\"/>\n",
              "</g>\n",
              "<!-- 9 -->\n",
              "<g id=\"node10\" class=\"node\">\n",
              "<title>9</title>\n",
              "<polygon fill=\"none\" stroke=\"black\" points=\"302,-149.5 192,-149.5 192,-96.5 302,-96.5 302,-149.5\"/>\n",
              "<text text-anchor=\"middle\" x=\"247\" y=\"-134.3\" font-family=\"Helvetica,sans-Serif\" font-size=\"14.00\">gini = 0.0</text>\n",
              "<text text-anchor=\"middle\" x=\"247\" y=\"-119.3\" font-family=\"Helvetica,sans-Serif\" font-size=\"14.00\">samples = 3</text>\n",
              "<text text-anchor=\"middle\" x=\"247\" y=\"-104.3\" font-family=\"Helvetica,sans-Serif\" font-size=\"14.00\">value = [0, 0, 3]</text>\n",
              "</g>\n",
              "<!-- 5&#45;&gt;9 -->\n",
              "<g id=\"edge9\" class=\"edge\">\n",
              "<title>5&#45;&gt;9</title>\n",
              "<path fill=\"none\" stroke=\"black\" d=\"M246.32,-192.88C246.43,-182.33 246.54,-170.6 246.65,-159.85\"/>\n",
              "<polygon fill=\"black\" stroke=\"black\" points=\"250.15,-159.55 246.75,-149.52 243.15,-159.49 250.15,-159.55\"/>\n",
              "</g>\n",
              "<!-- 7 -->\n",
              "<g id=\"node8\" class=\"node\">\n",
              "<title>7</title>\n",
              "<polygon fill=\"none\" stroke=\"black\" points=\"110,-53 0,-53 0,0 110,0 110,-53\"/>\n",
              "<text text-anchor=\"middle\" x=\"55\" y=\"-37.8\" font-family=\"Helvetica,sans-Serif\" font-size=\"14.00\">gini = 0.0</text>\n",
              "<text text-anchor=\"middle\" x=\"55\" y=\"-22.8\" font-family=\"Helvetica,sans-Serif\" font-size=\"14.00\">samples = 1</text>\n",
              "<text text-anchor=\"middle\" x=\"55\" y=\"-7.8\" font-family=\"Helvetica,sans-Serif\" font-size=\"14.00\">value = [0, 0, 1]</text>\n",
              "</g>\n",
              "<!-- 6&#45;&gt;7 -->\n",
              "<g id=\"edge7\" class=\"edge\">\n",
              "<title>6&#45;&gt;7</title>\n",
              "<path fill=\"none\" stroke=\"black\" d=\"M96.62,-88.95C90.61,-80.07 84.1,-70.46 78.05,-61.54\"/>\n",
              "<polygon fill=\"black\" stroke=\"black\" points=\"80.94,-59.55 72.43,-53.24 75.14,-63.48 80.94,-59.55\"/>\n",
              "</g>\n",
              "<!-- 8 -->\n",
              "<g id=\"node9\" class=\"node\">\n",
              "<title>8</title>\n",
              "<polygon fill=\"none\" stroke=\"black\" points=\"238,-53 128,-53 128,0 238,0 238,-53\"/>\n",
              "<text text-anchor=\"middle\" x=\"183\" y=\"-37.8\" font-family=\"Helvetica,sans-Serif\" font-size=\"14.00\">gini = 0.0</text>\n",
              "<text text-anchor=\"middle\" x=\"183\" y=\"-22.8\" font-family=\"Helvetica,sans-Serif\" font-size=\"14.00\">samples = 1</text>\n",
              "<text text-anchor=\"middle\" x=\"183\" y=\"-7.8\" font-family=\"Helvetica,sans-Serif\" font-size=\"14.00\">value = [0, 1, 0]</text>\n",
              "</g>\n",
              "<!-- 6&#45;&gt;8 -->\n",
              "<g id=\"edge8\" class=\"edge\">\n",
              "<title>6&#45;&gt;8</title>\n",
              "<path fill=\"none\" stroke=\"black\" d=\"M141.38,-88.95C147.39,-80.07 153.9,-70.46 159.95,-61.54\"/>\n",
              "<polygon fill=\"black\" stroke=\"black\" points=\"162.86,-63.48 165.57,-53.24 157.06,-59.55 162.86,-63.48\"/>\n",
              "</g>\n",
              "<!-- 11 -->\n",
              "<g id=\"node12\" class=\"node\">\n",
              "<title>11</title>\n",
              "<polygon fill=\"none\" stroke=\"black\" points=\"434,-261 324,-261 324,-193 434,-193 434,-261\"/>\n",
              "<text text-anchor=\"middle\" x=\"379\" y=\"-245.8\" font-family=\"Helvetica,sans-Serif\" font-size=\"14.00\">X[1] &lt;= 3.1</text>\n",
              "<text text-anchor=\"middle\" x=\"379\" y=\"-230.8\" font-family=\"Helvetica,sans-Serif\" font-size=\"14.00\">gini = 0.375</text>\n",
              "<text text-anchor=\"middle\" x=\"379\" y=\"-215.8\" font-family=\"Helvetica,sans-Serif\" font-size=\"14.00\">samples = 4</text>\n",
              "<text text-anchor=\"middle\" x=\"379\" y=\"-200.8\" font-family=\"Helvetica,sans-Serif\" font-size=\"14.00\">value = [0, 1, 3]</text>\n",
              "</g>\n",
              "<!-- 10&#45;&gt;11 -->\n",
              "<g id=\"edge11\" class=\"edge\">\n",
              "<title>10&#45;&gt;11</title>\n",
              "<path fill=\"none\" stroke=\"black\" d=\"M379,-296.88C379,-288.78 379,-279.98 379,-271.47\"/>\n",
              "<polygon fill=\"black\" stroke=\"black\" points=\"382.5,-271.3 379,-261.3 375.5,-271.3 382.5,-271.3\"/>\n",
              "</g>\n",
              "<!-- 14 -->\n",
              "<g id=\"node15\" class=\"node\">\n",
              "<title>14</title>\n",
              "<polygon fill=\"none\" stroke=\"black\" points=\"569.5,-253.5 452.5,-253.5 452.5,-200.5 569.5,-200.5 569.5,-253.5\"/>\n",
              "<text text-anchor=\"middle\" x=\"511\" y=\"-238.3\" font-family=\"Helvetica,sans-Serif\" font-size=\"14.00\">gini = 0.0</text>\n",
              "<text text-anchor=\"middle\" x=\"511\" y=\"-223.3\" font-family=\"Helvetica,sans-Serif\" font-size=\"14.00\">samples = 34</text>\n",
              "<text text-anchor=\"middle\" x=\"511\" y=\"-208.3\" font-family=\"Helvetica,sans-Serif\" font-size=\"14.00\">value = [0, 0, 34]</text>\n",
              "</g>\n",
              "<!-- 10&#45;&gt;14 -->\n",
              "<g id=\"edge14\" class=\"edge\">\n",
              "<title>10&#45;&gt;14</title>\n",
              "<path fill=\"none\" stroke=\"black\" d=\"M421.86,-296.88C437.23,-285.01 454.52,-271.65 469.75,-259.88\"/>\n",
              "<polygon fill=\"black\" stroke=\"black\" points=\"472.2,-262.4 477.97,-253.52 467.92,-256.86 472.2,-262.4\"/>\n",
              "</g>\n",
              "<!-- 12 -->\n",
              "<g id=\"node13\" class=\"node\">\n",
              "<title>12</title>\n",
              "<polygon fill=\"none\" stroke=\"black\" points=\"433,-149.5 323,-149.5 323,-96.5 433,-96.5 433,-149.5\"/>\n",
              "<text text-anchor=\"middle\" x=\"378\" y=\"-134.3\" font-family=\"Helvetica,sans-Serif\" font-size=\"14.00\">gini = 0.0</text>\n",
              "<text text-anchor=\"middle\" x=\"378\" y=\"-119.3\" font-family=\"Helvetica,sans-Serif\" font-size=\"14.00\">samples = 3</text>\n",
              "<text text-anchor=\"middle\" x=\"378\" y=\"-104.3\" font-family=\"Helvetica,sans-Serif\" font-size=\"14.00\">value = [0, 0, 3]</text>\n",
              "</g>\n",
              "<!-- 11&#45;&gt;12 -->\n",
              "<g id=\"edge12\" class=\"edge\">\n",
              "<title>11&#45;&gt;12</title>\n",
              "<path fill=\"none\" stroke=\"black\" d=\"M378.68,-192.88C378.57,-182.33 378.46,-170.6 378.35,-159.85\"/>\n",
              "<polygon fill=\"black\" stroke=\"black\" points=\"381.85,-159.49 378.25,-149.52 374.85,-159.55 381.85,-159.49\"/>\n",
              "</g>\n",
              "<!-- 13 -->\n",
              "<g id=\"node14\" class=\"node\">\n",
              "<title>13</title>\n",
              "<polygon fill=\"none\" stroke=\"black\" points=\"561,-149.5 451,-149.5 451,-96.5 561,-96.5 561,-149.5\"/>\n",
              "<text text-anchor=\"middle\" x=\"506\" y=\"-134.3\" font-family=\"Helvetica,sans-Serif\" font-size=\"14.00\">gini = 0.0</text>\n",
              "<text text-anchor=\"middle\" x=\"506\" y=\"-119.3\" font-family=\"Helvetica,sans-Serif\" font-size=\"14.00\">samples = 1</text>\n",
              "<text text-anchor=\"middle\" x=\"506\" y=\"-104.3\" font-family=\"Helvetica,sans-Serif\" font-size=\"14.00\">value = [0, 1, 0]</text>\n",
              "</g>\n",
              "<!-- 11&#45;&gt;13 -->\n",
              "<g id=\"edge13\" class=\"edge\">\n",
              "<title>11&#45;&gt;13</title>\n",
              "<path fill=\"none\" stroke=\"black\" d=\"M420.23,-192.88C435.02,-181.01 451.66,-167.65 466.31,-155.88\"/>\n",
              "<polygon fill=\"black\" stroke=\"black\" points=\"468.62,-158.51 474.23,-149.52 464.24,-153.05 468.62,-158.51\"/>\n",
              "</g>\n",
              "</g>\n",
              "</svg>\n"
            ],
            "text/plain": [
              "<graphviz.sources.Source at 0x1567c35e0>"
            ]
          },
          "execution_count": 308,
          "metadata": {},
          "output_type": "execute_result"
        }
      ],
      "source": [
        "#Visualizing Decision Tree using graphviz library\n",
        "\n",
        "dot_data = tree.export_graphviz(clf, out_file=None)\n",
        "\n",
        "graph = graphviz.Source(dot_data)\n",
        "graph"
      ]
    },
    {
      "cell_type": "code",
      "execution_count": null,
      "metadata": {
        "id": "P_eaS5i0p0QH",
        "outputId": "3c3cd72f-9a2d-4492-82bd-ab0e886e8e6b"
      },
      "outputs": [
        {
          "name": "stdout",
          "output_type": "stream",
          "text": [
            "Sklearn Decision Tree Accuracy: 0.9736842105263158\n"
          ]
        }
      ],
      "source": [
        "y_pred_test = clf.predict(X_test)\n",
        "\n",
        "print(f\"Sklearn Decision Tree Accuracy: {accuracy_score(y_test, y_pred_test)}\")"
      ]
    },
    {
      "cell_type": "code",
      "execution_count": null,
      "metadata": {
        "id": "7HlnhEtQp0QH",
        "outputId": "ae9ccb98-bbc9-4bb0-8234-78658c6935b7"
      },
      "outputs": [
        {
          "data": {
            "text/plain": [
              "array([[13,  0,  0],\n",
              "       [ 0, 15,  1],\n",
              "       [ 0,  0,  9]])"
            ]
          },
          "execution_count": 311,
          "metadata": {},
          "output_type": "execute_result"
        }
      ],
      "source": [
        "confusion_matrix(y_test, y_pred_test)"
      ]
    },
    {
      "cell_type": "markdown",
      "metadata": {
        "id": "6cdjutBCp0QH"
      },
      "source": [
        "Same as the others!"
      ]
    },
    {
      "cell_type": "code",
      "execution_count": null,
      "metadata": {
        "id": "HmjTP5h3p0QH",
        "outputId": "51941338-a47d-481c-d28e-fae56be623d9"
      },
      "outputs": [
        {
          "data": {
            "image/svg+xml": [
              "<?xml version=\"1.0\" encoding=\"UTF-8\" standalone=\"no\"?>\n",
              "<!DOCTYPE svg PUBLIC \"-//W3C//DTD SVG 1.1//EN\"\n",
              " \"http://www.w3.org/Graphics/SVG/1.1/DTD/svg11.dtd\">\n",
              "<!-- Generated by graphviz version 2.44.1 (20200629.0846)\n",
              " -->\n",
              "<!-- Title: Tree Pages: 1 -->\n",
              "<svg width=\"577pt\" height=\"581pt\"\n",
              " viewBox=\"0.00 0.00 576.50 581.00\" xmlns=\"http://www.w3.org/2000/svg\" xmlns:xlink=\"http://www.w3.org/1999/xlink\">\n",
              "<g id=\"graph0\" class=\"graph\" transform=\"scale(1 1) rotate(0) translate(4 577)\">\n",
              "<title>Tree</title>\n",
              "<polygon fill=\"white\" stroke=\"transparent\" points=\"-4,4 -4,-577 572.5,-577 572.5,4 -4,4\"/>\n",
              "<!-- 0 -->\n",
              "<g id=\"node1\" class=\"node\">\n",
              "<title>0</title>\n",
              "<polygon fill=\"none\" stroke=\"black\" points=\"308,-573 176,-573 176,-505 308,-505 308,-573\"/>\n",
              "<text text-anchor=\"middle\" x=\"242\" y=\"-557.8\" font-family=\"Helvetica,sans-Serif\" font-size=\"14.00\">X[3] &lt;= 0.8</text>\n",
              "<text text-anchor=\"middle\" x=\"242\" y=\"-542.8\" font-family=\"Helvetica,sans-Serif\" font-size=\"14.00\">entropy = 1.581</text>\n",
              "<text text-anchor=\"middle\" x=\"242\" y=\"-527.8\" font-family=\"Helvetica,sans-Serif\" font-size=\"14.00\">samples = 112</text>\n",
              "<text text-anchor=\"middle\" x=\"242\" y=\"-512.8\" font-family=\"Helvetica,sans-Serif\" font-size=\"14.00\">value = [37, 34, 41]</text>\n",
              "</g>\n",
              "<!-- 1 -->\n",
              "<g id=\"node2\" class=\"node\">\n",
              "<title>1</title>\n",
              "<polygon fill=\"none\" stroke=\"black\" points=\"231.5,-461.5 114.5,-461.5 114.5,-408.5 231.5,-408.5 231.5,-461.5\"/>\n",
              "<text text-anchor=\"middle\" x=\"173\" y=\"-446.3\" font-family=\"Helvetica,sans-Serif\" font-size=\"14.00\">entropy = 0.0</text>\n",
              "<text text-anchor=\"middle\" x=\"173\" y=\"-431.3\" font-family=\"Helvetica,sans-Serif\" font-size=\"14.00\">samples = 37</text>\n",
              "<text text-anchor=\"middle\" x=\"173\" y=\"-416.3\" font-family=\"Helvetica,sans-Serif\" font-size=\"14.00\">value = [37, 0, 0]</text>\n",
              "</g>\n",
              "<!-- 0&#45;&gt;1 -->\n",
              "<g id=\"edge1\" class=\"edge\">\n",
              "<title>0&#45;&gt;1</title>\n",
              "<path fill=\"none\" stroke=\"black\" d=\"M219.6,-504.88C212.01,-493.67 203.53,-481.13 195.9,-469.85\"/>\n",
              "<polygon fill=\"black\" stroke=\"black\" points=\"198.77,-467.84 190.26,-461.52 192.97,-471.76 198.77,-467.84\"/>\n",
              "<text text-anchor=\"middle\" x=\"185.53\" y=\"-482.37\" font-family=\"Helvetica,sans-Serif\" font-size=\"14.00\">True</text>\n",
              "</g>\n",
              "<!-- 2 -->\n",
              "<g id=\"node3\" class=\"node\">\n",
              "<title>2</title>\n",
              "<polygon fill=\"none\" stroke=\"black\" points=\"374.5,-469 249.5,-469 249.5,-401 374.5,-401 374.5,-469\"/>\n",
              "<text text-anchor=\"middle\" x=\"312\" y=\"-453.8\" font-family=\"Helvetica,sans-Serif\" font-size=\"14.00\">X[3] &lt;= 1.65</text>\n",
              "<text text-anchor=\"middle\" x=\"312\" y=\"-438.8\" font-family=\"Helvetica,sans-Serif\" font-size=\"14.00\">entropy = 0.994</text>\n",
              "<text text-anchor=\"middle\" x=\"312\" y=\"-423.8\" font-family=\"Helvetica,sans-Serif\" font-size=\"14.00\">samples = 75</text>\n",
              "<text text-anchor=\"middle\" x=\"312\" y=\"-408.8\" font-family=\"Helvetica,sans-Serif\" font-size=\"14.00\">value = [0, 34, 41]</text>\n",
              "</g>\n",
              "<!-- 0&#45;&gt;2 -->\n",
              "<g id=\"edge2\" class=\"edge\">\n",
              "<title>0&#45;&gt;2</title>\n",
              "<path fill=\"none\" stroke=\"black\" d=\"M264.73,-504.88C270.66,-496.24 277.12,-486.82 283.32,-477.79\"/>\n",
              "<polygon fill=\"black\" stroke=\"black\" points=\"286.37,-479.52 289.15,-469.3 280.6,-475.56 286.37,-479.52\"/>\n",
              "<text text-anchor=\"middle\" x=\"293.72\" y=\"-490.18\" font-family=\"Helvetica,sans-Serif\" font-size=\"14.00\">False</text>\n",
              "</g>\n",
              "<!-- 3 -->\n",
              "<g id=\"node4\" class=\"node\">\n",
              "<title>3</title>\n",
              "<polygon fill=\"none\" stroke=\"black\" points=\"302.5,-365 185.5,-365 185.5,-297 302.5,-297 302.5,-365\"/>\n",
              "<text text-anchor=\"middle\" x=\"244\" y=\"-349.8\" font-family=\"Helvetica,sans-Serif\" font-size=\"14.00\">X[2] &lt;= 4.95</text>\n",
              "<text text-anchor=\"middle\" x=\"244\" y=\"-334.8\" font-family=\"Helvetica,sans-Serif\" font-size=\"14.00\">entropy = 0.494</text>\n",
              "<text text-anchor=\"middle\" x=\"244\" y=\"-319.8\" font-family=\"Helvetica,sans-Serif\" font-size=\"14.00\">samples = 37</text>\n",
              "<text text-anchor=\"middle\" x=\"244\" y=\"-304.8\" font-family=\"Helvetica,sans-Serif\" font-size=\"14.00\">value = [0, 33, 4]</text>\n",
              "</g>\n",
              "<!-- 2&#45;&gt;3 -->\n",
              "<g id=\"edge3\" class=\"edge\">\n",
              "<title>2&#45;&gt;3</title>\n",
              "<path fill=\"none\" stroke=\"black\" d=\"M289.92,-400.88C284.16,-392.24 277.88,-382.82 271.86,-373.79\"/>\n",
              "<polygon fill=\"black\" stroke=\"black\" points=\"274.66,-371.68 266.2,-365.3 268.83,-375.56 274.66,-371.68\"/>\n",
              "</g>\n",
              "<!-- 10 -->\n",
              "<g id=\"node11\" class=\"node\">\n",
              "<title>10</title>\n",
              "<polygon fill=\"none\" stroke=\"black\" points=\"437.5,-365 320.5,-365 320.5,-297 437.5,-297 437.5,-365\"/>\n",
              "<text text-anchor=\"middle\" x=\"379\" y=\"-349.8\" font-family=\"Helvetica,sans-Serif\" font-size=\"14.00\">X[2] &lt;= 4.85</text>\n",
              "<text text-anchor=\"middle\" x=\"379\" y=\"-334.8\" font-family=\"Helvetica,sans-Serif\" font-size=\"14.00\">entropy = 0.176</text>\n",
              "<text text-anchor=\"middle\" x=\"379\" y=\"-319.8\" font-family=\"Helvetica,sans-Serif\" font-size=\"14.00\">samples = 38</text>\n",
              "<text text-anchor=\"middle\" x=\"379\" y=\"-304.8\" font-family=\"Helvetica,sans-Serif\" font-size=\"14.00\">value = [0, 1, 37]</text>\n",
              "</g>\n",
              "<!-- 2&#45;&gt;10 -->\n",
              "<g id=\"edge10\" class=\"edge\">\n",
              "<title>2&#45;&gt;10</title>\n",
              "<path fill=\"none\" stroke=\"black\" d=\"M333.75,-400.88C339.43,-392.24 345.62,-382.82 351.55,-373.79\"/>\n",
              "<polygon fill=\"black\" stroke=\"black\" points=\"354.56,-375.58 357.13,-365.3 348.71,-371.74 354.56,-375.58\"/>\n",
              "</g>\n",
              "<!-- 4 -->\n",
              "<g id=\"node5\" class=\"node\">\n",
              "<title>4</title>\n",
              "<polygon fill=\"none\" stroke=\"black\" points=\"172.5,-253.5 55.5,-253.5 55.5,-200.5 172.5,-200.5 172.5,-253.5\"/>\n",
              "<text text-anchor=\"middle\" x=\"114\" y=\"-238.3\" font-family=\"Helvetica,sans-Serif\" font-size=\"14.00\">entropy = 0.0</text>\n",
              "<text text-anchor=\"middle\" x=\"114\" y=\"-223.3\" font-family=\"Helvetica,sans-Serif\" font-size=\"14.00\">samples = 32</text>\n",
              "<text text-anchor=\"middle\" x=\"114\" y=\"-208.3\" font-family=\"Helvetica,sans-Serif\" font-size=\"14.00\">value = [0, 32, 0]</text>\n",
              "</g>\n",
              "<!-- 3&#45;&gt;4 -->\n",
              "<g id=\"edge4\" class=\"edge\">\n",
              "<title>3&#45;&gt;4</title>\n",
              "<path fill=\"none\" stroke=\"black\" d=\"M201.79,-296.88C186.65,-285.01 169.63,-271.65 154.63,-259.88\"/>\n",
              "<polygon fill=\"black\" stroke=\"black\" points=\"156.55,-256.94 146.53,-253.52 152.23,-262.45 156.55,-256.94\"/>\n",
              "</g>\n",
              "<!-- 5 -->\n",
              "<g id=\"node6\" class=\"node\">\n",
              "<title>5</title>\n",
              "<polygon fill=\"none\" stroke=\"black\" points=\"301.5,-261 190.5,-261 190.5,-193 301.5,-193 301.5,-261\"/>\n",
              "<text text-anchor=\"middle\" x=\"246\" y=\"-245.8\" font-family=\"Helvetica,sans-Serif\" font-size=\"14.00\">X[0] &lt;= 6.05</text>\n",
              "<text text-anchor=\"middle\" x=\"246\" y=\"-230.8\" font-family=\"Helvetica,sans-Serif\" font-size=\"14.00\">entropy = 0.722</text>\n",
              "<text text-anchor=\"middle\" x=\"246\" y=\"-215.8\" font-family=\"Helvetica,sans-Serif\" font-size=\"14.00\">samples = 5</text>\n",
              "<text text-anchor=\"middle\" x=\"246\" y=\"-200.8\" font-family=\"Helvetica,sans-Serif\" font-size=\"14.00\">value = [0, 1, 4]</text>\n",
              "</g>\n",
              "<!-- 3&#45;&gt;5 -->\n",
              "<g id=\"edge5\" class=\"edge\">\n",
              "<title>3&#45;&gt;5</title>\n",
              "<path fill=\"none\" stroke=\"black\" d=\"M244.65,-296.88C244.81,-288.78 244.98,-279.98 245.15,-271.47\"/>\n",
              "<polygon fill=\"black\" stroke=\"black\" points=\"248.65,-271.37 245.35,-261.3 241.65,-271.23 248.65,-271.37\"/>\n",
              "</g>\n",
              "<!-- 6 -->\n",
              "<g id=\"node7\" class=\"node\">\n",
              "<title>6</title>\n",
              "<polygon fill=\"none\" stroke=\"black\" points=\"174,-157 64,-157 64,-89 174,-89 174,-157\"/>\n",
              "<text text-anchor=\"middle\" x=\"119\" y=\"-141.8\" font-family=\"Helvetica,sans-Serif\" font-size=\"14.00\">X[1] &lt;= 2.45</text>\n",
              "<text text-anchor=\"middle\" x=\"119\" y=\"-126.8\" font-family=\"Helvetica,sans-Serif\" font-size=\"14.00\">entropy = 1.0</text>\n",
              "<text text-anchor=\"middle\" x=\"119\" y=\"-111.8\" font-family=\"Helvetica,sans-Serif\" font-size=\"14.00\">samples = 2</text>\n",
              "<text text-anchor=\"middle\" x=\"119\" y=\"-96.8\" font-family=\"Helvetica,sans-Serif\" font-size=\"14.00\">value = [0, 1, 1]</text>\n",
              "</g>\n",
              "<!-- 5&#45;&gt;6 -->\n",
              "<g id=\"edge6\" class=\"edge\">\n",
              "<title>5&#45;&gt;6</title>\n",
              "<path fill=\"none\" stroke=\"black\" d=\"M204.77,-192.88C193.12,-183.53 180.33,-173.26 168.27,-163.57\"/>\n",
              "<polygon fill=\"black\" stroke=\"black\" points=\"170.45,-160.83 160.46,-157.3 166.07,-166.29 170.45,-160.83\"/>\n",
              "</g>\n",
              "<!-- 9 -->\n",
              "<g id=\"node10\" class=\"node\">\n",
              "<title>9</title>\n",
              "<polygon fill=\"none\" stroke=\"black\" points=\"302,-149.5 192,-149.5 192,-96.5 302,-96.5 302,-149.5\"/>\n",
              "<text text-anchor=\"middle\" x=\"247\" y=\"-134.3\" font-family=\"Helvetica,sans-Serif\" font-size=\"14.00\">entropy = 0.0</text>\n",
              "<text text-anchor=\"middle\" x=\"247\" y=\"-119.3\" font-family=\"Helvetica,sans-Serif\" font-size=\"14.00\">samples = 3</text>\n",
              "<text text-anchor=\"middle\" x=\"247\" y=\"-104.3\" font-family=\"Helvetica,sans-Serif\" font-size=\"14.00\">value = [0, 0, 3]</text>\n",
              "</g>\n",
              "<!-- 5&#45;&gt;9 -->\n",
              "<g id=\"edge9\" class=\"edge\">\n",
              "<title>5&#45;&gt;9</title>\n",
              "<path fill=\"none\" stroke=\"black\" d=\"M246.32,-192.88C246.43,-182.33 246.54,-170.6 246.65,-159.85\"/>\n",
              "<polygon fill=\"black\" stroke=\"black\" points=\"250.15,-159.55 246.75,-149.52 243.15,-159.49 250.15,-159.55\"/>\n",
              "</g>\n",
              "<!-- 7 -->\n",
              "<g id=\"node8\" class=\"node\">\n",
              "<title>7</title>\n",
              "<polygon fill=\"none\" stroke=\"black\" points=\"110,-53 0,-53 0,0 110,0 110,-53\"/>\n",
              "<text text-anchor=\"middle\" x=\"55\" y=\"-37.8\" font-family=\"Helvetica,sans-Serif\" font-size=\"14.00\">entropy = 0.0</text>\n",
              "<text text-anchor=\"middle\" x=\"55\" y=\"-22.8\" font-family=\"Helvetica,sans-Serif\" font-size=\"14.00\">samples = 1</text>\n",
              "<text text-anchor=\"middle\" x=\"55\" y=\"-7.8\" font-family=\"Helvetica,sans-Serif\" font-size=\"14.00\">value = [0, 0, 1]</text>\n",
              "</g>\n",
              "<!-- 6&#45;&gt;7 -->\n",
              "<g id=\"edge7\" class=\"edge\">\n",
              "<title>6&#45;&gt;7</title>\n",
              "<path fill=\"none\" stroke=\"black\" d=\"M96.62,-88.95C90.61,-80.07 84.1,-70.46 78.05,-61.54\"/>\n",
              "<polygon fill=\"black\" stroke=\"black\" points=\"80.94,-59.55 72.43,-53.24 75.14,-63.48 80.94,-59.55\"/>\n",
              "</g>\n",
              "<!-- 8 -->\n",
              "<g id=\"node9\" class=\"node\">\n",
              "<title>8</title>\n",
              "<polygon fill=\"none\" stroke=\"black\" points=\"238,-53 128,-53 128,0 238,0 238,-53\"/>\n",
              "<text text-anchor=\"middle\" x=\"183\" y=\"-37.8\" font-family=\"Helvetica,sans-Serif\" font-size=\"14.00\">entropy = 0.0</text>\n",
              "<text text-anchor=\"middle\" x=\"183\" y=\"-22.8\" font-family=\"Helvetica,sans-Serif\" font-size=\"14.00\">samples = 1</text>\n",
              "<text text-anchor=\"middle\" x=\"183\" y=\"-7.8\" font-family=\"Helvetica,sans-Serif\" font-size=\"14.00\">value = [0, 1, 0]</text>\n",
              "</g>\n",
              "<!-- 6&#45;&gt;8 -->\n",
              "<g id=\"edge8\" class=\"edge\">\n",
              "<title>6&#45;&gt;8</title>\n",
              "<path fill=\"none\" stroke=\"black\" d=\"M141.38,-88.95C147.39,-80.07 153.9,-70.46 159.95,-61.54\"/>\n",
              "<polygon fill=\"black\" stroke=\"black\" points=\"162.86,-63.48 165.57,-53.24 157.06,-59.55 162.86,-63.48\"/>\n",
              "</g>\n",
              "<!-- 11 -->\n",
              "<g id=\"node12\" class=\"node\">\n",
              "<title>11</title>\n",
              "<polygon fill=\"none\" stroke=\"black\" points=\"433.5,-261 322.5,-261 322.5,-193 433.5,-193 433.5,-261\"/>\n",
              "<text text-anchor=\"middle\" x=\"378\" y=\"-245.8\" font-family=\"Helvetica,sans-Serif\" font-size=\"14.00\">X[1] &lt;= 3.1</text>\n",
              "<text text-anchor=\"middle\" x=\"378\" y=\"-230.8\" font-family=\"Helvetica,sans-Serif\" font-size=\"14.00\">entropy = 0.811</text>\n",
              "<text text-anchor=\"middle\" x=\"378\" y=\"-215.8\" font-family=\"Helvetica,sans-Serif\" font-size=\"14.00\">samples = 4</text>\n",
              "<text text-anchor=\"middle\" x=\"378\" y=\"-200.8\" font-family=\"Helvetica,sans-Serif\" font-size=\"14.00\">value = [0, 1, 3]</text>\n",
              "</g>\n",
              "<!-- 10&#45;&gt;11 -->\n",
              "<g id=\"edge11\" class=\"edge\">\n",
              "<title>10&#45;&gt;11</title>\n",
              "<path fill=\"none\" stroke=\"black\" d=\"M378.68,-296.88C378.6,-288.78 378.51,-279.98 378.43,-271.47\"/>\n",
              "<polygon fill=\"black\" stroke=\"black\" points=\"381.92,-271.26 378.33,-261.3 374.92,-271.33 381.92,-271.26\"/>\n",
              "</g>\n",
              "<!-- 14 -->\n",
              "<g id=\"node15\" class=\"node\">\n",
              "<title>14</title>\n",
              "<polygon fill=\"none\" stroke=\"black\" points=\"568.5,-253.5 451.5,-253.5 451.5,-200.5 568.5,-200.5 568.5,-253.5\"/>\n",
              "<text text-anchor=\"middle\" x=\"510\" y=\"-238.3\" font-family=\"Helvetica,sans-Serif\" font-size=\"14.00\">entropy = 0.0</text>\n",
              "<text text-anchor=\"middle\" x=\"510\" y=\"-223.3\" font-family=\"Helvetica,sans-Serif\" font-size=\"14.00\">samples = 34</text>\n",
              "<text text-anchor=\"middle\" x=\"510\" y=\"-208.3\" font-family=\"Helvetica,sans-Serif\" font-size=\"14.00\">value = [0, 0, 34]</text>\n",
              "</g>\n",
              "<!-- 10&#45;&gt;14 -->\n",
              "<g id=\"edge14\" class=\"edge\">\n",
              "<title>10&#45;&gt;14</title>\n",
              "<path fill=\"none\" stroke=\"black\" d=\"M421.53,-296.88C436.79,-285.01 453.94,-271.65 469.06,-259.88\"/>\n",
              "<polygon fill=\"black\" stroke=\"black\" points=\"471.48,-262.43 477.22,-253.52 467.18,-256.9 471.48,-262.43\"/>\n",
              "</g>\n",
              "<!-- 12 -->\n",
              "<g id=\"node13\" class=\"node\">\n",
              "<title>12</title>\n",
              "<polygon fill=\"none\" stroke=\"black\" points=\"432,-149.5 322,-149.5 322,-96.5 432,-96.5 432,-149.5\"/>\n",
              "<text text-anchor=\"middle\" x=\"377\" y=\"-134.3\" font-family=\"Helvetica,sans-Serif\" font-size=\"14.00\">entropy = 0.0</text>\n",
              "<text text-anchor=\"middle\" x=\"377\" y=\"-119.3\" font-family=\"Helvetica,sans-Serif\" font-size=\"14.00\">samples = 3</text>\n",
              "<text text-anchor=\"middle\" x=\"377\" y=\"-104.3\" font-family=\"Helvetica,sans-Serif\" font-size=\"14.00\">value = [0, 0, 3]</text>\n",
              "</g>\n",
              "<!-- 11&#45;&gt;12 -->\n",
              "<g id=\"edge12\" class=\"edge\">\n",
              "<title>11&#45;&gt;12</title>\n",
              "<path fill=\"none\" stroke=\"black\" d=\"M377.68,-192.88C377.57,-182.33 377.46,-170.6 377.35,-159.85\"/>\n",
              "<polygon fill=\"black\" stroke=\"black\" points=\"380.85,-159.49 377.25,-149.52 373.85,-159.55 380.85,-159.49\"/>\n",
              "</g>\n",
              "<!-- 13 -->\n",
              "<g id=\"node14\" class=\"node\">\n",
              "<title>13</title>\n",
              "<polygon fill=\"none\" stroke=\"black\" points=\"560,-149.5 450,-149.5 450,-96.5 560,-96.5 560,-149.5\"/>\n",
              "<text text-anchor=\"middle\" x=\"505\" y=\"-134.3\" font-family=\"Helvetica,sans-Serif\" font-size=\"14.00\">entropy = 0.0</text>\n",
              "<text text-anchor=\"middle\" x=\"505\" y=\"-119.3\" font-family=\"Helvetica,sans-Serif\" font-size=\"14.00\">samples = 1</text>\n",
              "<text text-anchor=\"middle\" x=\"505\" y=\"-104.3\" font-family=\"Helvetica,sans-Serif\" font-size=\"14.00\">value = [0, 1, 0]</text>\n",
              "</g>\n",
              "<!-- 11&#45;&gt;13 -->\n",
              "<g id=\"edge13\" class=\"edge\">\n",
              "<title>11&#45;&gt;13</title>\n",
              "<path fill=\"none\" stroke=\"black\" d=\"M419.23,-192.88C434.02,-181.01 450.66,-167.65 465.31,-155.88\"/>\n",
              "<polygon fill=\"black\" stroke=\"black\" points=\"467.62,-158.51 473.23,-149.52 463.24,-153.05 467.62,-158.51\"/>\n",
              "</g>\n",
              "</g>\n",
              "</svg>\n"
            ],
            "text/plain": [
              "<graphviz.sources.Source at 0x152c67e20>"
            ]
          },
          "execution_count": 340,
          "metadata": {},
          "output_type": "execute_result"
        }
      ],
      "source": [
        "# entropy criterion\n",
        "clf = DecisionTreeClassifier(criterion='entropy',min_samples_split=2)\n",
        "clf.fit(X_train, y_train)\n",
        "\n",
        "dot_data = tree.export_graphviz(clf, out_file=None)\n",
        "\n",
        "graph = graphviz.Source(dot_data)\n",
        "graph"
      ]
    },
    {
      "cell_type": "code",
      "execution_count": null,
      "metadata": {
        "id": "L-Fw5pUJp0QH",
        "outputId": "4258e261-6d7b-454b-99ac-de570a2117c3"
      },
      "outputs": [
        {
          "name": "stdout",
          "output_type": "stream",
          "text": [
            "Sklearn Decision Tree Accuracy: 0.9736842105263158\n"
          ]
        },
        {
          "data": {
            "text/plain": [
              "array([[13,  0,  0],\n",
              "       [ 0, 15,  1],\n",
              "       [ 0,  0,  9]])"
            ]
          },
          "execution_count": 341,
          "metadata": {},
          "output_type": "execute_result"
        }
      ],
      "source": [
        "y_pred_test = clf.predict(X_test)\n",
        "\n",
        "print(f\"Sklearn Decision Tree Accuracy: {accuracy_score(y_test, y_pred_test)}\")\n",
        "confusion_matrix(y_test, y_pred_test)"
      ]
    },
    {
      "cell_type": "markdown",
      "metadata": {
        "id": "b8vkQRJFp0QH"
      },
      "source": [
        "### Criteria: Gini Impurity vs. Entropy"
      ]
    },
    {
      "cell_type": "markdown",
      "metadata": {
        "id": "Q_MNYbAbp0QH"
      },
      "source": [
        "Gini impurity:\n",
        "\n",
        "$$1-\\sum_j p_j^2$$\n",
        "\n",
        "Entropy:\n",
        "\n",
        "$$-\\sum_j p_j \\text{log}_2(p_j)$$"
      ]
    },
    {
      "cell_type": "markdown",
      "metadata": {
        "id": "XqkwwvvTp0QI"
      },
      "source": [
        "The **Gini impurity** measures the frequency at which any element of the dataset will be mislabelled when it is randomly labeled.\n",
        "\n",
        "**Entropy** is a measure of information that indicates the disorder of the features with the target.\n",
        "\n",
        "In both cases, the optimum split is the feature with the lowest criterion value."
      ]
    },
    {
      "cell_type": "code",
      "execution_count": null,
      "metadata": {
        "id": "KKaGAcOAp0QI"
      },
      "outputs": [],
      "source": []
    }
  ],
  "metadata": {
    "kernelspec": {
      "display_name": "Python 3 (ipykernel)",
      "language": "python",
      "name": "python3"
    },
    "language_info": {
      "codemirror_mode": {
        "name": "ipython",
        "version": 3
      },
      "file_extension": ".py",
      "mimetype": "text/x-python",
      "name": "python",
      "nbconvert_exporter": "python",
      "pygments_lexer": "ipython3",
      "version": "3.9.7"
    },
    "colab": {
      "provenance": [],
      "include_colab_link": true
    }
  },
  "nbformat": 4,
  "nbformat_minor": 0
}