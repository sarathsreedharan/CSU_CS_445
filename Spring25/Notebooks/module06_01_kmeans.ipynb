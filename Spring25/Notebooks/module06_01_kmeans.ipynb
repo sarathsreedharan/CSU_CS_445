{
 "cells": [
  {
   "cell_type": "markdown",
   "metadata": {},
   "source": [
    "# 22 K-Means Clustering"
   ]
  },
  {
   "cell_type": "markdown",
   "metadata": {},
   "source": [
    "K-means clustering is an unsupervised machine learning algorithm that partitions a dataset into `k` clusters by minimizing the variance within each cluster. It iteratively assigns data points to the nearest cluster center and updates the centers based on the mean of the assigned points.\n",
    "\n",
    "### Why do we need K-means clustering?\n",
    "- To identify patterns or groupings in unlabeled data.\n",
    "- To simplify and summarize large datasets.\n",
    "- To discover hidden structures in data.\n",
    "- To reduce dimensionality by grouping similar data points.\n",
    "\n",
    "### Applications of K-means clustering\n",
    "- Customer segmentation in marketing.\n",
    "- Image compression and segmentation.\n",
    "- Anomaly detection in network security.\n",
    "- Document clustering in natural language processing.\n",
    "- Pattern recognition in bioinformatics."
   ]
  },
  {
   "cell_type": "markdown",
   "metadata": {},
   "source": [
    "Here is some two-dimensional data samples."
   ]
  },
  {
   "cell_type": "code",
   "execution_count": 1,
   "metadata": {},
   "outputs": [],
   "source": [
    "import numpy as np\n",
    "import matplotlib.pyplot as plt\n",
    "import pandas\n",
    "import time"
   ]
  },
  {
   "cell_type": "code",
   "execution_count": 2,
   "metadata": {},
   "outputs": [],
   "source": [
    "data = np.array([[8,7],[7,6.6],[9.2,8.3],[6.8,9.2], [1.2,3.2],[4.8,2.3],[3.4,3.2],[3.2,5.6],[1,4],[2,2.2]])"
   ]
  },
  {
   "cell_type": "code",
   "execution_count": 3,
   "metadata": {},
   "outputs": [
    {
     "data": {
      "image/png": "[encoded data removed]",
      "text/plain": [
       "<Figure size 432x288 with 1 Axes>"
      ]
     },
     "metadata": {
      "needs_background": "light"
     },
     "output_type": "display_data"
    }
   ],
   "source": [
    "plt.scatter(data[:, 0], data[:, 1]);"
   ]
  },
  {
   "cell_type": "markdown",
   "metadata": {},
   "source": [
    "First, let's try to find two clusters, so $k=2$.  We must initialize the two means of the two clusters.  Let's just pick two samples at random."
   ]
  },
  {
   "cell_type": "code",
   "execution_count": 4,
   "metadata": {},
   "outputs": [
    {
     "data": {
      "text/plain": [
       "array([7, 6])"
      ]
     },
     "execution_count": 4,
     "metadata": {},
     "output_type": "execute_result"
    }
   ],
   "source": [
    "centersIndex = np.random.choice(range(data.shape[0]),2 , replace=False) # data.shape[0] is number of rows, or samples\n",
    "centersIndex"
   ]
  },
  {
   "cell_type": "code",
   "execution_count": 5,
   "metadata": {},
   "outputs": [
    {
     "data": {
      "text/plain": [
       "array([[3.2, 5.6],\n",
       "       [3.4, 3.2]])"
      ]
     },
     "execution_count": 5,
     "metadata": {},
     "output_type": "execute_result"
    }
   ],
   "source": [
    "centers = data[centersIndex, :]\n",
    "centers"
   ]
  },
  {
   "cell_type": "markdown",
   "metadata": {},
   "source": [
    "Now we must find all samples that are closest to the first center, and those that are closest to the second sample."
   ]
  },
  {
   "cell_type": "markdown",
   "metadata": {},
   "source": [
    "Before moving on, let's check how numpy handle the subtraction between different shapes of arrays. This is just simple subtraction."
   ]
  },
  {
   "cell_type": "code",
   "execution_count": 6,
   "metadata": {},
   "outputs": [
    {
     "data": {
      "text/plain": [
       "(array([1, 2, 3]), array([10, 20, 30]))"
      ]
     },
     "execution_count": 6,
     "metadata": {},
     "output_type": "execute_result"
    }
   ],
   "source": [
    "a = np.array([1, 2, 3])\n",
    "b = np.array([10, 20, 30])\n",
    "a, b"
   ]
  },
  {
   "cell_type": "code",
   "execution_count": 7,
   "metadata": {},
   "outputs": [
    {
     "data": {
      "text/plain": [
       "array([ -9, -18, -27])"
      ]
     },
     "execution_count": 7,
     "metadata": {},
     "output_type": "execute_result"
    }
   ],
   "source": [
    "a - b"
   ]
  },
  {
   "cell_type": "markdown",
   "metadata": {},
   "source": [
    "But what if we want to subtract every element of a with every element of b?"
   ]
  },
  {
   "cell_type": "code",
   "execution_count": 8,
   "metadata": {},
   "outputs": [
    {
     "data": {
      "text/plain": [
       "array([[1, 2, 3],\n",
       "       [1, 2, 3],\n",
       "       [1, 2, 3]])"
      ]
     },
     "execution_count": 8,
     "metadata": {},
     "output_type": "execute_result"
    }
   ],
   "source": [
    "np.resize(a, (3, 3))"
   ]
  },
  {
   "cell_type": "code",
   "execution_count": 9,
   "metadata": {},
   "outputs": [
    {
     "data": {
      "text/plain": [
       "array([[10, 20, 30],\n",
       "       [10, 20, 30],\n",
       "       [10, 20, 30]])"
      ]
     },
     "execution_count": 9,
     "metadata": {},
     "output_type": "execute_result"
    }
   ],
   "source": [
    "np.resize(b, (3, 3))"
   ]
  },
  {
   "cell_type": "code",
   "execution_count": 10,
   "metadata": {},
   "outputs": [
    {
     "data": {
      "text/plain": [
       "array([[1, 1, 1],\n",
       "       [2, 2, 2],\n",
       "       [3, 3, 3]])"
      ]
     },
     "execution_count": 10,
     "metadata": {},
     "output_type": "execute_result"
    }
   ],
   "source": [
    "np.resize(a,(3, 3)).T"
   ]
  },
  {
   "cell_type": "code",
   "execution_count": 12,
   "metadata": {},
   "outputs": [
    {
     "data": {
      "text/plain": [
       "array([[ -9, -19, -29],\n",
       "       [ -8, -18, -28],\n",
       "       [ -7, -17, -27]])"
      ]
     },
     "execution_count": 12,
     "metadata": {},
     "output_type": "execute_result"
    }
   ],
   "source": [
    "np.resize(a, (3, 3)).T - np.resize(b, (3, 3))"
   ]
  },
  {
   "cell_type": "markdown",
   "metadata": {},
   "source": [
    "However, we can ask numpy to do this duplication for us if we reshape a to be a column vector and leave b as a row vector.\n",
    "\n",
    "$$ \\begin{pmatrix}\n",
    "1\\\\\n",
    "2\\\\\n",
    "3\n",
    "\\end{pmatrix}\n",
    "-\n",
    "\\begin{pmatrix}\n",
    "10 & 20 & 30\n",
    "\\end{pmatrix}\n",
    "\\;\\; = \\;\\;\n",
    "\\begin{pmatrix}\n",
    "1 & 1 & 1\\\\\n",
    "2 & 2 & 2\\\\\n",
    "3 & 3 & 3\n",
    "\\end{pmatrix}\n",
    "-\n",
    "\\begin{pmatrix}\n",
    "10 & 20 & 30\\\\\n",
    "10 & 20 & 30\\\\\n",
    "10 & 20 & 30\n",
    "\\end{pmatrix}\n",
    "$$"
   ]
  },
  {
   "cell_type": "code",
   "execution_count": 13,
   "metadata": {},
   "outputs": [
    {
     "data": {
      "text/plain": [
       "array([[1],\n",
       "       [2],\n",
       "       [3]])"
      ]
     },
     "execution_count": 13,
     "metadata": {},
     "output_type": "execute_result"
    }
   ],
   "source": [
    "a = a.reshape((-1, 1))\n",
    "a"
   ]
  },
  {
   "cell_type": "code",
   "execution_count": 14,
   "metadata": {},
   "outputs": [
    {
     "data": {
      "text/plain": [
       "array([[ -9, -19, -29],\n",
       "       [ -8, -18, -28],\n",
       "       [ -7, -17, -27]])"
      ]
     },
     "execution_count": 14,
     "metadata": {},
     "output_type": "execute_result"
    }
   ],
   "source": [
    "a - b"
   ]
  },
  {
   "cell_type": "code",
   "execution_count": 15,
   "metadata": {},
   "outputs": [
    {
     "name": "stdout",
     "output_type": "stream",
     "text": [
      "[1 2 3]\n",
      "[[10 20 30]\n",
      " [40 50 60]]\n"
     ]
    }
   ],
   "source": [
    "a = np.array([1, 2, 3])\n",
    "b = np.array([[10, 20, 30], [40, 50, 60]])\n",
    "print(a)\n",
    "print(b)"
   ]
  },
  {
   "cell_type": "code",
   "execution_count": 16,
   "metadata": {},
   "outputs": [
    {
     "data": {
      "text/plain": [
       "array([[ 9, 18, 27],\n",
       "       [39, 48, 57]])"
      ]
     },
     "execution_count": 16,
     "metadata": {},
     "output_type": "execute_result"
    }
   ],
   "source": [
    "b - a"
   ]
  },
  {
   "cell_type": "markdown",
   "metadata": {},
   "source": [
    "The single row vector `a` is duplicated for as many rows as there are in `b`!\n",
    "\n",
    "Given a set of $d$-dimensional observations, k-means clustering aims to partition the sample in to $k$ sets $S$ by minimizing the *within-cluster sum of squares*.\n",
    "\n",
    "This is equivalent to the variance, so the objective is to find:\n",
    "\n",
    "$$\\text{argmin}_S \\sum_{i=1}^k|S_i|\\text{Var }S_i = \\text{argmin}_S \\sum_{i=1}^k\\sum_{x \\in S_i}\\Vert x-\\mu_i \\Vert^2$$"
   ]
  },
  {
   "cell_type": "markdown",
   "metadata": {},
   "source": [
    "We can use numpy broadcasting to calculate the squared distance between a center and every sample, given by\n",
    "\n",
    "    np.sum((centers[0, :] - data) ** 2, axis=1)"
   ]
  },
  {
   "cell_type": "code",
   "execution_count": 17,
   "metadata": {},
   "outputs": [
    {
     "data": {
      "text/plain": [
       "array([3.2, 5.6])"
      ]
     },
     "execution_count": 17,
     "metadata": {},
     "output_type": "execute_result"
    }
   ],
   "source": [
    "centers[0, :]  # zero-th row of centers"
   ]
  },
  {
   "cell_type": "code",
   "execution_count": 18,
   "metadata": {},
   "outputs": [
    {
     "data": {
      "text/plain": [
       "array([25.  , 15.44, 43.29, 25.92,  9.76, 13.45,  5.8 ,  0.  ,  7.4 ,\n",
       "       13.  ])"
      ]
     },
     "execution_count": 18,
     "metadata": {},
     "output_type": "execute_result"
    }
   ],
   "source": [
    "np.sum((centers[0, :] - data) ** 2, axis=1)"
   ]
  },
  {
   "cell_type": "markdown",
   "metadata": {},
   "source": [
    "Now we can test, for each sample, if the sample is closest to the first center."
   ]
  },
  {
   "cell_type": "code",
   "execution_count": 19,
   "metadata": {},
   "outputs": [
    {
     "data": {
      "text/plain": [
       "array([ True,  True,  True,  True, False, False, False,  True, False,\n",
       "       False])"
      ]
     },
     "execution_count": 19,
     "metadata": {},
     "output_type": "execute_result"
    }
   ],
   "source": [
    "np.sum((centers[1, :] - data) ** 2, axis=1) > np.sum((centers[0, :] - data) ** 2, axis=1)"
   ]
  },
  {
   "cell_type": "code",
   "execution_count": 20,
   "metadata": {},
   "outputs": [
    {
     "data": {
      "text/plain": [
       "array([[3.2, 5.6],\n",
       "       [3.4, 3.2]])"
      ]
     },
     "execution_count": 20,
     "metadata": {},
     "output_type": "execute_result"
    }
   ],
   "source": [
    "centers"
   ]
  },
  {
   "cell_type": "code",
   "execution_count": 21,
   "metadata": {},
   "outputs": [
    {
     "data": {
      "text/plain": [
       "<matplotlib.collections.PathCollection at 0x11fe167c0>"
      ]
     },
     "execution_count": 21,
     "metadata": {},
     "output_type": "execute_result"
    },
    {
     "data": {
      "image/png": "[encoded data removed]",
      "text/plain": [
       "<Figure size 432x288 with 1 Axes>"
      ]
     },
     "metadata": {
      "needs_background": "light"
     },
     "output_type": "display_data"
    }
   ],
   "source": [
    "plt.scatter(data[:, 0], data[:, 1])"
   ]
  },
  {
   "cell_type": "code",
   "execution_count": 22,
   "metadata": {},
   "outputs": [
    {
     "data": {
      "text/plain": [
       "<matplotlib.collections.PathCollection at 0x11ff54be0>"
      ]
     },
     "execution_count": 22,
     "metadata": {},
     "output_type": "execute_result"
    },
    {
     "data": {
      "image/png": "[encoded data removed]",
      "text/plain": [
       "<Figure size 432x288 with 1 Axes>"
      ]
     },
     "metadata": {
      "needs_background": "light"
     },
     "output_type": "display_data"
    }
   ],
   "source": [
    "plt.scatter(data[:, 0], data[:, 1])\n",
    "plt.scatter(centers[:, 0], centers[:, 1], color=\"r\")"
   ]
  },
  {
   "cell_type": "code",
   "execution_count": 23,
   "metadata": {},
   "outputs": [
    {
     "data": {
      "text/plain": [
       "<matplotlib.collections.PathCollection at 0x11ffd7ac0>"
      ]
     },
     "execution_count": 23,
     "metadata": {},
     "output_type": "execute_result"
    },
    {
     "data": {
      "image/png": "[encoded data removed]",
      "text/plain": [
       "<Figure size 432x288 with 1 Axes>"
      ]
     },
     "metadata": {
      "needs_background": "light"
     },
     "output_type": "display_data"
    }
   ],
   "source": [
    "plt.scatter(data[np.sum((centers[1, :] - data) ** 2, axis=1) > np.sum((centers[0, :] - data) ** 2, axis=1)][:,0],\n",
    "            data[np.sum((centers[1, :] - data) ** 2, axis=1) > np.sum((centers[0, :] - data) ** 2, axis=1)][:, 1])\n",
    "plt.scatter(centers[0, 0], centers[0, 1], color=\"r\")\n",
    "plt.scatter(data[np.sum((centers[1, :] - data) ** 2, axis=1) < np.sum((centers[0, :] - data) ** 2, axis=1)][:,0],\n",
    "            data[np.sum((centers[1, :] - data) ** 2, axis=1) < np.sum((centers[0, :] - data) ** 2, axis=1)][:, 1])\n",
    "plt.scatter(centers[1, 0], centers[1, 1], color=\"r\")"
   ]
  },
  {
   "cell_type": "markdown",
   "metadata": {},
   "source": [
    "Sure enough, all the blue points are closer to one center than the other (and same for the orange)."
   ]
  },
  {
   "cell_type": "markdown",
   "metadata": {},
   "source": [
    "However, we want something a little more general, so it works for as many centers as we have rows in `centers`."
   ]
  },
  {
   "cell_type": "code",
   "execution_count": 24,
   "metadata": {},
   "outputs": [
    {
     "data": {
      "text/plain": [
       "((2, 1, 2), (10, 2))"
      ]
     },
     "execution_count": 24,
     "metadata": {},
     "output_type": "execute_result"
    }
   ],
   "source": [
    "centers[:, np.newaxis, :].shape, data.shape"
   ]
  },
  {
   "cell_type": "code",
   "execution_count": 25,
   "metadata": {},
   "outputs": [
    {
     "data": {
      "text/plain": [
       "(2, 10, 2)"
      ]
     },
     "execution_count": 25,
     "metadata": {},
     "output_type": "execute_result"
    }
   ],
   "source": [
    "(centers[:, np.newaxis, :] - data).shape"
   ]
  },
  {
   "cell_type": "code",
   "execution_count": 27,
   "metadata": {},
   "outputs": [
    {
     "data": {
      "text/plain": [
       "array([[[-4.8, -1.4],\n",
       "        [-3.8, -1. ],\n",
       "        [-6. , -2.7],\n",
       "        [-3.6, -3.6],\n",
       "        [ 2. ,  2.4],\n",
       "        [-1.6,  3.3],\n",
       "        [-0.2,  2.4],\n",
       "        [ 0. ,  0. ],\n",
       "        [ 2.2,  1.6],\n",
       "        [ 1.2,  3.4]],\n",
       "\n",
       "       [[-4.6, -3.8],\n",
       "        [-3.6, -3.4],\n",
       "        [-5.8, -5.1],\n",
       "        [-3.4, -6. ],\n",
       "        [ 2.2,  0. ],\n",
       "        [-1.4,  0.9],\n",
       "        [ 0. ,  0. ],\n",
       "        [ 0.2, -2.4],\n",
       "        [ 2.4, -0.8],\n",
       "        [ 1.4,  1. ]]])"
      ]
     },
     "execution_count": 27,
     "metadata": {},
     "output_type": "execute_result"
    }
   ],
   "source": [
    "(centers[:, np.newaxis, :] - data) # distance from every data point to each center"
   ]
  },
  {
   "cell_type": "code",
   "execution_count": 28,
   "metadata": {},
   "outputs": [
    {
     "data": {
      "text/plain": [
       "(2, 10)"
      ]
     },
     "execution_count": 28,
     "metadata": {},
     "output_type": "execute_result"
    }
   ],
   "source": [
    "np.sum((centers[:, np.newaxis, :] - data) ** 2, axis=2).shape"
   ]
  },
  {
   "cell_type": "code",
   "execution_count": 29,
   "metadata": {},
   "outputs": [
    {
     "data": {
      "text/plain": [
       "array([[25.  , 15.44, 43.29, 25.92,  9.76, 13.45,  5.8 ,  0.  ,  7.4 ,\n",
       "        13.  ],\n",
       "       [35.6 , 24.52, 59.65, 47.56,  4.84,  2.77,  0.  ,  5.8 ,  6.4 ,\n",
       "         2.96]])"
      ]
     },
     "execution_count": 29,
     "metadata": {},
     "output_type": "execute_result"
    }
   ],
   "source": [
    "np.sum((centers[:, np.newaxis, :] - data) ** 2, axis=2) # sum of squares for each point"
   ]
  },
  {
   "cell_type": "code",
   "execution_count": 30,
   "metadata": {},
   "outputs": [
    {
     "data": {
      "text/plain": [
       "array([0, 0, 0, 0, 1, 1, 1, 0, 1, 1])"
      ]
     },
     "execution_count": 30,
     "metadata": {},
     "output_type": "execute_result"
    }
   ],
   "source": [
    "np.argmin(np.sum((centers[:, np.newaxis, :] - data) ** 2, axis=2), axis=0) # argmin gives closest center"
   ]
  },
  {
   "cell_type": "markdown",
   "metadata": {},
   "source": [
    "So we can now assign to each sample which center it is closest to.  All samples closest to a particular center forms a cluster."
   ]
  },
  {
   "cell_type": "code",
   "execution_count": 31,
   "metadata": {},
   "outputs": [
    {
     "data": {
      "text/plain": [
       "array([0, 0, 0, 0, 1, 1, 1, 0, 1, 1])"
      ]
     },
     "execution_count": 31,
     "metadata": {},
     "output_type": "execute_result"
    }
   ],
   "source": [
    "cluster = np.argmin(np.sum((centers[:,np.newaxis,:] - data)**2, axis=2), axis=0)\n",
    "cluster"
   ]
  },
  {
   "cell_type": "markdown",
   "metadata": {},
   "source": [
    "Once we have collected all of the samples in one cluster, we can calculate a new center for that cluster as the mean of all of the samples in that cluster."
   ]
  },
  {
   "cell_type": "code",
   "execution_count": 32,
   "metadata": {},
   "outputs": [
    {
     "data": {
      "text/plain": [
       "array([6.84, 7.34])"
      ]
     },
     "execution_count": 32,
     "metadata": {},
     "output_type": "execute_result"
    }
   ],
   "source": [
    "data[cluster == 0, :].mean(axis=0)"
   ]
  },
  {
   "cell_type": "code",
   "execution_count": 33,
   "metadata": {},
   "outputs": [
    {
     "data": {
      "text/plain": [
       "array([2.48, 2.98])"
      ]
     },
     "execution_count": 33,
     "metadata": {},
     "output_type": "execute_result"
    }
   ],
   "source": [
    "data[cluster == 1, :].mean(axis=0)"
   ]
  },
  {
   "cell_type": "code",
   "execution_count": 34,
   "metadata": {},
   "outputs": [],
   "source": [
    "k = 2\n",
    "for i in range(k):\n",
    "    centers[i, :] = data[cluster == i, :].mean(axis=0)"
   ]
  },
  {
   "cell_type": "code",
   "execution_count": 35,
   "metadata": {},
   "outputs": [
    {
     "data": {
      "text/plain": [
       "array([[6.84, 7.34],\n",
       "       [2.48, 2.98]])"
      ]
     },
     "execution_count": 35,
     "metadata": {},
     "output_type": "execute_result"
    }
   ],
   "source": [
    "centers"
   ]
  },
  {
   "cell_type": "code",
   "execution_count": 36,
   "metadata": {},
   "outputs": [
    {
     "data": {
      "text/plain": [
       "<matplotlib.collections.PathCollection at 0x12a04ffd0>"
      ]
     },
     "execution_count": 36,
     "metadata": {},
     "output_type": "execute_result"
    },
    {
     "data": {
      "image/png": "[encoded data removed]",
      "text/plain": [
       "<Figure size 432x288 with 1 Axes>"
      ]
     },
     "metadata": {
      "needs_background": "light"
     },
     "output_type": "display_data"
    }
   ],
   "source": [
    "plt.scatter(data[:, 0], data[:, 1])\n",
    "plt.scatter(centers[:, 0], centers[:, 1], color=\"r\")"
   ]
  },
  {
   "cell_type": "code",
   "execution_count": 37,
   "metadata": {},
   "outputs": [
    {
     "data": {
      "text/plain": [
       "<matplotlib.collections.PathCollection at 0x12a0c7d30>"
      ]
     },
     "execution_count": 37,
     "metadata": {},
     "output_type": "execute_result"
    },
    {
     "data": {
      "image/png": "[encoded data removed]",
      "text/plain": [
       "<Figure size 432x288 with 1 Axes>"
      ]
     },
     "metadata": {
      "needs_background": "light"
     },
     "output_type": "display_data"
    }
   ],
   "source": [
    "plt.scatter(data[np.sum((centers[1, :] - data) ** 2, axis=1) > np.sum((centers[0, :] - data) ** 2, axis=1)][:,0],\n",
    "            data[np.sum((centers[1, :] - data) ** 2, axis=1) > np.sum((centers[0, :] - data) ** 2, axis=1)][:, 1])\n",
    "plt.scatter(centers[0, 0], centers[0, 1], color=\"r\")\n",
    "plt.scatter(data[np.sum((centers[1, :] - data) ** 2, axis=1) < np.sum((centers[0, :] - data) ** 2, axis=1)][:,0],\n",
    "            data[np.sum((centers[1, :] - data) ** 2, axis=1) < np.sum((centers[0, :] - data) ** 2, axis=1)][:, 1])\n",
    "plt.scatter(centers[1, 0], centers[1, 1], color=\"r\")"
   ]
  },
  {
   "cell_type": "code",
   "execution_count": 39,
   "metadata": {},
   "outputs": [],
   "source": [
    "def kmeans(data, k = 2, n_iterations = 5):\n",
    "    \n",
    "    # Initial centers\n",
    "    centers = data[np.random.choice(range(data.shape[0]), k, replace=False), :]\n",
    "    \n",
    "    # Repeat n times\n",
    "    for iteration in range(n_iterations):\n",
    "        \n",
    "        # Which center is each sample closest to?\n",
    "        closest = np.argmin(np.sum((centers[:, np.newaxis, :] - data) ** 2, axis=2), axis=0)\n",
    "        \n",
    "        # Update cluster centers\n",
    "        for i in range(k):\n",
    "            centers[i, :] = data[closest == i, :].mean(axis=0)\n",
    "            \n",
    "    return centers, closest"
   ]
  },
  {
   "cell_type": "code",
   "execution_count": 40,
   "metadata": {},
   "outputs": [
    {
     "data": {
      "text/plain": [
       "(array([[2.6       , 3.41666667],\n",
       "        [7.75      , 7.775     ]]),\n",
       " array([1, 1, 1, 1, 0, 0, 0, 0, 0, 0]))"
      ]
     },
     "execution_count": 40,
     "metadata": {},
     "output_type": "execute_result"
    }
   ],
   "source": [
    "kmeans(data, k=2, n_iterations=5)"
   ]
  },
  {
   "cell_type": "code",
   "execution_count": 41,
   "metadata": {},
   "outputs": [
    {
     "data": {
      "text/plain": [
       "<matplotlib.collections.PathCollection at 0x12a204100>"
      ]
     },
     "execution_count": 41,
     "metadata": {},
     "output_type": "execute_result"
    },
    {
     "data": {
      "image/png": "[encoded data removed]",
      "text/plain": [
       "<Figure size 432x288 with 1 Axes>"
      ]
     },
     "metadata": {
      "needs_background": "light"
     },
     "output_type": "display_data"
    }
   ],
   "source": [
    "plt.scatter(data[np.sum((centers[1, :] - data) ** 2, axis=1) > np.sum((centers[0, :] - data) ** 2, axis=1)][:,0],\n",
    "            data[np.sum((centers[1, :] - data) ** 2, axis=1) > np.sum((centers[0, :] - data) ** 2, axis=1)][:, 1])\n",
    "plt.scatter(centers[0, 0], centers[0, 1], color=\"r\")\n",
    "plt.scatter(data[np.sum((centers[1, :] - data) ** 2, axis=1) < np.sum((centers[0, :] - data) ** 2, axis=1)][:,0],\n",
    "            data[np.sum((centers[1, :] - data) ** 2, axis=1) < np.sum((centers[0, :] - data) ** 2, axis=1)][:, 1])\n",
    "plt.scatter(centers[1, 0], centers[1, 1], color=\"r\")"
   ]
  },
  {
   "cell_type": "code",
   "execution_count": 42,
   "metadata": {
    "scrolled": true
   },
   "outputs": [
    {
     "data": {
      "text/plain": [
       "(array([[7.75      , 7.775     ],\n",
       "        [2.6       , 3.41666667]]),\n",
       " array([0, 0, 0, 0, 1, 1, 1, 1, 1, 1]))"
      ]
     },
     "execution_count": 42,
     "metadata": {},
     "output_type": "execute_result"
    }
   ],
   "source": [
    "kmeans(data, k=2, n_iterations=5)"
   ]
  },
  {
   "cell_type": "code",
   "execution_count": 43,
   "metadata": {},
   "outputs": [
    {
     "data": {
      "image/png": "[encoded data removed]",
      "text/plain": [
       "<Figure size 432x288 with 1 Axes>"
      ]
     },
     "metadata": {
      "needs_background": "light"
     },
     "output_type": "display_data"
    }
   ],
   "source": [
    "centers, closest = kmeans(data, k=2, n_iterations=2)\n",
    "plt.scatter(data[:, 0], data[:, 1], s=80, c=closest, alpha=0.5);\n",
    "plt.scatter(centers[:, 0], centers[:, 1], s=80, c='green', alpha=0.5); "
   ]
  },
  {
   "cell_type": "markdown",
   "metadata": {},
   "source": [
    "Why does the second time we call `kmeans` produce a different answer?"
   ]
  },
  {
   "cell_type": "markdown",
   "metadata": {},
   "source": [
    "Let's define $J$ as the performance measure being minimized by *k-means*.\n",
    "$$\n",
    "J = \\sum_{n=1}^N \\sum_{k=1}^K r_{nk} ||\\mathbf{x}_n - \\mathbf{\\mu}_k||^2\n",
    "$$\n",
    "where $N$ is the number of samples, $K$ is the number of cluster centers, $\\mathbf{x}_n$ is the $n^{th}$ sample and $\\mathbf{\\mu}_k$ is the $k^{th}$ center, each being an element of $\\mathbf{R}^p$ where $p$ is the dimensionality of the data, and $r_{nk}$ is 1 if cluster $k$ is closest to sample $n$, 0 otherwise.\n",
    "\n",
    "The sums can be computed using python *for* loops, but *for* loops are much slower than matrix operations in python, as the following cells show."
   ]
  },
  {
   "cell_type": "code",
   "execution_count": 56,
   "metadata": {},
   "outputs": [
    {
     "data": {
      "text/plain": [
       "array([[0.00000000e+00, 1.00010001e-03, 2.00020002e-03, ...,\n",
       "        7.00070007e-03, 8.00080008e-03, 9.00090009e-03],\n",
       "       [1.00010001e-02, 1.10011001e-02, 1.20012001e-02, ...,\n",
       "        1.70017002e-02, 1.80018002e-02, 1.90019002e-02],\n",
       "       [2.00020002e-02, 2.10021002e-02, 2.20022002e-02, ...,\n",
       "        2.70027003e-02, 2.80028003e-02, 2.90029003e-02],\n",
       "       ...,\n",
       "       [9.97099710e+00, 9.97199720e+00, 9.97299730e+00, ...,\n",
       "        9.97799780e+00, 9.97899790e+00, 9.97999800e+00],\n",
       "       [9.98099810e+00, 9.98199820e+00, 9.98299830e+00, ...,\n",
       "        9.98799880e+00, 9.98899890e+00, 9.98999900e+00],\n",
       "       [9.99099910e+00, 9.99199920e+00, 9.99299930e+00, ...,\n",
       "        9.99799980e+00, 9.99899990e+00, 1.00000000e+01]])"
      ]
     },
     "execution_count": 56,
     "metadata": {},
     "output_type": "execute_result"
    }
   ],
   "source": [
    "a = np.linspace(0, 10, 10000).reshape(1000, 10)\n",
    "a"
   ]
  },
  {
   "cell_type": "code",
   "execution_count": 57,
   "metadata": {},
   "outputs": [
    {
     "data": {
      "text/plain": [
       "array([[   0,    1,    2, ...,    7,    8,    9],\n",
       "       [  10,   11,   12, ...,   17,   18,   19],\n",
       "       [  20,   21,   22, ...,   27,   28,   29],\n",
       "       ...,\n",
       "       [9970, 9971, 9972, ..., 9977, 9978, 9979],\n",
       "       [9980, 9981, 9982, ..., 9987, 9988, 9989],\n",
       "       [9990, 9991, 9992, ..., 9997, 9998, 9999]])"
      ]
     },
     "execution_count": 57,
     "metadata": {},
     "output_type": "execute_result"
    }
   ],
   "source": [
    "b = np.arange(10000).reshape(1000, 10)\n",
    "b"
   ]
  },
  {
   "cell_type": "code",
   "execution_count": 58,
   "metadata": {},
   "outputs": [
    {
     "name": "stdout",
     "output_type": "stream",
     "text": [
      "Took 0.018728971481323242 seconds\n"
     ]
    },
    {
     "data": {
      "text/plain": [
       "array([[0.00000000e+00, 1.00100010e+00, 2.00200020e+00, ...,\n",
       "        7.00700070e+00, 8.00800080e+00, 9.00900090e+00],\n",
       "       [1.00100010e+01, 1.10110011e+01, 1.20120012e+01, ...,\n",
       "        1.70170017e+01, 1.80180018e+01, 1.90190019e+01],\n",
       "       [2.00200020e+01, 2.10210021e+01, 2.20220022e+01, ...,\n",
       "        2.70270027e+01, 2.80280028e+01, 2.90290029e+01],\n",
       "       ...,\n",
       "       [9.97997100e+03, 9.98097200e+03, 9.98197300e+03, ...,\n",
       "        9.98697800e+03, 9.98797900e+03, 9.98898000e+03],\n",
       "       [9.98998100e+03, 9.99098200e+03, 9.99198300e+03, ...,\n",
       "        9.99698800e+03, 9.99798900e+03, 9.99899000e+03],\n",
       "       [9.99999100e+03, 1.00009920e+04, 1.00019930e+04, ...,\n",
       "        1.00069980e+04, 1.00079990e+04, 1.00090000e+04]])"
      ]
     },
     "execution_count": 58,
     "metadata": {},
     "output_type": "execute_result"
    }
   ],
   "source": [
    "result = np.zeros((1000, 10))\n",
    "start_time = time.time()\n",
    "for i in range(1000):\n",
    "    for j in range(10):\n",
    "        result[i, j] = a[i, j] + b[i, j]\n",
    "print(f\"Took {time.time()-start_time} seconds\")\n",
    "result"
   ]
  },
  {
   "cell_type": "code",
   "execution_count": 59,
   "metadata": {},
   "outputs": [
    {
     "name": "stdout",
     "output_type": "stream",
     "text": [
      "Took 0.0006771087646484375 seconds\n"
     ]
    },
    {
     "data": {
      "text/plain": [
       "array([[0.00000000e+00, 1.00100010e+00, 2.00200020e+00, ...,\n",
       "        7.00700070e+00, 8.00800080e+00, 9.00900090e+00],\n",
       "       [1.00100010e+01, 1.10110011e+01, 1.20120012e+01, ...,\n",
       "        1.70170017e+01, 1.80180018e+01, 1.90190019e+01],\n",
       "       [2.00200020e+01, 2.10210021e+01, 2.20220022e+01, ...,\n",
       "        2.70270027e+01, 2.80280028e+01, 2.90290029e+01],\n",
       "       ...,\n",
       "       [9.97997100e+03, 9.98097200e+03, 9.98197300e+03, ...,\n",
       "        9.98697800e+03, 9.98797900e+03, 9.98898000e+03],\n",
       "       [9.98998100e+03, 9.99098200e+03, 9.99198300e+03, ...,\n",
       "        9.99698800e+03, 9.99798900e+03, 9.99899000e+03],\n",
       "       [9.99999100e+03, 1.00009920e+04, 1.00019930e+04, ...,\n",
       "        1.00069980e+04, 1.00079990e+04, 1.00090000e+04]])"
      ]
     },
     "execution_count": 59,
     "metadata": {},
     "output_type": "execute_result"
    }
   ],
   "source": [
    "start_time = time.time()\n",
    "result = a+b\n",
    "print(f\"Took {time.time()-start_time} seconds\")\n",
    "result"
   ]
  },
  {
   "cell_type": "code",
   "execution_count": 60,
   "metadata": {},
   "outputs": [
    {
     "data": {
      "text/plain": [
       "((1000, 10), (1000, 1, 10))"
      ]
     },
     "execution_count": 60,
     "metadata": {},
     "output_type": "execute_result"
    }
   ],
   "source": [
    "a.shape, a[:, np.newaxis].shape"
   ]
  },
  {
   "cell_type": "markdown",
   "metadata": {},
   "source": [
    "\n",
    "Now, back to our problem.  How can we use matrix operations to calculate the squared distance between two centers and, say, five data samples?  Let's say both are two-dimensional."
   ]
  },
  {
   "cell_type": "code",
   "execution_count": 61,
   "metadata": {},
   "outputs": [
    {
     "data": {
      "text/plain": [
       "array([[1, 2],\n",
       "       [5, 4]])"
      ]
     },
     "execution_count": 61,
     "metadata": {},
     "output_type": "execute_result"
    }
   ],
   "source": [
    "centers = np.array([[1, 2], [5, 4]])\n",
    "centers"
   ]
  },
  {
   "cell_type": "code",
   "execution_count": 62,
   "metadata": {},
   "outputs": [
    {
     "data": {
      "text/plain": [
       "array([[3, 2],\n",
       "       [4, 6],\n",
       "       [7, 3],\n",
       "       [4, 6],\n",
       "       [1, 8]])"
      ]
     },
     "execution_count": 62,
     "metadata": {},
     "output_type": "execute_result"
    }
   ],
   "source": [
    "data = np.array([[3, 2], [4, 6], [7, 3], [4, 6], [1, 8]])\n",
    "data"
   ]
  },
  {
   "cell_type": "markdown",
   "metadata": {},
   "source": [
    "This will be a little weird, and hard to understand, but by adding an empty dimension to the `centers` array, numpy broadcasting does all the work for us. "
   ]
  },
  {
   "cell_type": "code",
   "execution_count": 63,
   "metadata": {},
   "outputs": [
    {
     "data": {
      "text/plain": [
       "array([[[1, 2]],\n",
       "\n",
       "       [[5, 4]]])"
      ]
     },
     "execution_count": 63,
     "metadata": {},
     "output_type": "execute_result"
    }
   ],
   "source": [
    "centers[:, np.newaxis, :]"
   ]
  },
  {
   "cell_type": "code",
   "execution_count": 64,
   "metadata": {},
   "outputs": [
    {
     "data": {
      "text/plain": [
       "(2, 1, 2)"
      ]
     },
     "execution_count": 64,
     "metadata": {},
     "output_type": "execute_result"
    }
   ],
   "source": [
    "centers[:, np.newaxis, :].shape"
   ]
  },
  {
   "cell_type": "code",
   "execution_count": 65,
   "metadata": {},
   "outputs": [
    {
     "data": {
      "text/plain": [
       "(5, 2)"
      ]
     },
     "execution_count": 65,
     "metadata": {},
     "output_type": "execute_result"
    }
   ],
   "source": [
    "data.shape"
   ]
  },
  {
   "cell_type": "code",
   "execution_count": 66,
   "metadata": {},
   "outputs": [
    {
     "data": {
      "text/plain": [
       "array([[[ 4,  0],\n",
       "        [ 9, 16],\n",
       "        [36,  1],\n",
       "        [ 9, 16],\n",
       "        [ 0, 36]],\n",
       "\n",
       "       [[ 4,  4],\n",
       "        [ 1,  4],\n",
       "        [ 4,  1],\n",
       "        [ 1,  4],\n",
       "        [16, 16]]])"
      ]
     },
     "execution_count": 66,
     "metadata": {},
     "output_type": "execute_result"
    }
   ],
   "source": [
    "diffsq = (centers[:, np.newaxis, :] - data) ** 2\n",
    "diffsq"
   ]
  },
  {
   "cell_type": "code",
   "execution_count": 67,
   "metadata": {},
   "outputs": [
    {
     "data": {
      "text/plain": [
       "(2, 5, 2)"
      ]
     },
     "execution_count": 67,
     "metadata": {},
     "output_type": "execute_result"
    }
   ],
   "source": [
    "diffsq.shape"
   ]
  },
  {
   "cell_type": "code",
   "execution_count": 68,
   "metadata": {},
   "outputs": [
    {
     "data": {
      "text/plain": [
       "array([[ 4, 25, 37, 25, 36],\n",
       "       [ 8,  5,  5,  5, 32]])"
      ]
     },
     "execution_count": 68,
     "metadata": {},
     "output_type": "execute_result"
    }
   ],
   "source": [
    "np.sum(diffsq, axis=2)"
   ]
  },
  {
   "cell_type": "markdown",
   "metadata": {},
   "source": [
    "Now we have a 2 x 5 array with the first row containing the squared distance from the first center to each of the five data samples, and the second row containing the squared distances from the second center to each of the five data samples.\n",
    "\n",
    "Now we just have to find the smallest distance in each column and sum them up."
   ]
  },
  {
   "cell_type": "code",
   "execution_count": 69,
   "metadata": {},
   "outputs": [
    {
     "data": {
      "text/plain": [
       "array([ 4,  5,  5,  5, 32])"
      ]
     },
     "execution_count": 69,
     "metadata": {},
     "output_type": "execute_result"
    }
   ],
   "source": [
    "np.min(np.sum(diffsq, axis=2), axis=0)"
   ]
  },
  {
   "cell_type": "code",
   "execution_count": 70,
   "metadata": {},
   "outputs": [
    {
     "data": {
      "text/plain": [
       "51"
      ]
     },
     "execution_count": 70,
     "metadata": {},
     "output_type": "execute_result"
    }
   ],
   "source": [
    "np.sum(np.min(np.sum(diffsq, axis=2), axis=0))"
   ]
  },
  {
   "cell_type": "markdown",
   "metadata": {},
   "source": [
    "Let's define a function named *calcJ* to do this calculation."
   ]
  },
  {
   "cell_type": "code",
   "execution_count": 71,
   "metadata": {},
   "outputs": [],
   "source": [
    "def calcJ(data, centers, not_empty=None):\n",
    "    \n",
    "    if  not_empty is None:\n",
    "        not_empty = [True] * centers.shape[0]\n",
    "    diffsq = (centers[np.array(not_empty), np.newaxis, :] - data) ** 2\n",
    "    return np.sum(np.min(np.sum(diffsq, axis=2), axis=0))"
   ]
  },
  {
   "cell_type": "code",
   "execution_count": 72,
   "metadata": {},
   "outputs": [
    {
     "data": {
      "text/plain": [
       "51"
      ]
     },
     "execution_count": 72,
     "metadata": {},
     "output_type": "execute_result"
    }
   ],
   "source": [
    "calcJ(data, centers)"
   ]
  },
  {
   "cell_type": "code",
   "execution_count": 73,
   "metadata": {},
   "outputs": [],
   "source": [
    "def kmeans(data, k = 2, n_iterations = 5):\n",
    "    \n",
    "    # Initialize centers and list J to track performance metric\n",
    "    centers = data[np.random.choice(range(data.shape[0]), k, replace=False), :]\n",
    "    J = []\n",
    "    # Calculate J and append to list J\n",
    "    J = [calcJ(data, centers, not_empty=None)]\n",
    "     \n",
    "    # Repeat n times\n",
    "    for iteration in range(n_iterations):\n",
    "        \n",
    "        # Which center is each sample closest to?\n",
    "        sqdistances = np.sum((centers[:, np.newaxis, :] - data) ** 2, axis=2)\n",
    "        closest = np.argmin(sqdistances, axis=0)\n",
    "        if iteration == 0:\n",
    "            last_closest = closest.copy()\n",
    "        else:\n",
    "            if np.all(closest == last_closest):\n",
    "                break\n",
    "        \n",
    "        # Update cluster centers\n",
    "        not_empty = [True] * k\n",
    "        for i in range(k):\n",
    "            if np.sum(closest == i) == 0:\n",
    "                not_empty[i] = False\n",
    "            else:\n",
    "                centers[i, :] = data[closest==i, :].mean(axis=0)\n",
    "            \n",
    "        # Calculate J one final time and return results\n",
    "        J.append(calcJ(data, centers, not_empty))\n",
    "    \n",
    "    return centers, J, closest, not_empty"
   ]
  },
  {
   "cell_type": "code",
   "execution_count": 74,
   "metadata": {},
   "outputs": [],
   "source": [
    "centers, J, closest, not_empty = kmeans(data, k=2, n_iterations=5)"
   ]
  },
  {
   "cell_type": "code",
   "execution_count": 75,
   "metadata": {},
   "outputs": [
    {
     "data": {
      "text/plain": [
       "[True, True]"
      ]
     },
     "execution_count": 75,
     "metadata": {},
     "output_type": "execute_result"
    }
   ],
   "source": [
    "not_empty"
   ]
  },
  {
   "cell_type": "code",
   "execution_count": 76,
   "metadata": {},
   "outputs": [
    {
     "data": {
      "text/plain": [
       "[43, 19]"
      ]
     },
     "execution_count": 76,
     "metadata": {},
     "output_type": "execute_result"
    }
   ],
   "source": [
    "J"
   ]
  },
  {
   "cell_type": "code",
   "execution_count": 77,
   "metadata": {},
   "outputs": [
    {
     "data": {
      "text/plain": [
       "[<matplotlib.lines.Line2D at 0x12adb9c70>]"
      ]
     },
     "execution_count": 77,
     "metadata": {},
     "output_type": "execute_result"
    },
    {
     "data": {
      "image/png": "[encoded data removed]",
      "text/plain": [
       "<Figure size 432x288 with 1 Axes>"
      ]
     },
     "metadata": {
      "needs_background": "light"
     },
     "output_type": "display_data"
    }
   ],
   "source": [
    "plt.plot(J)"
   ]
  },
  {
   "cell_type": "code",
   "execution_count": 78,
   "metadata": {},
   "outputs": [
    {
     "data": {
      "text/plain": [
       "[<matplotlib.lines.Line2D at 0x12ad04af0>]"
      ]
     },
     "execution_count": 78,
     "metadata": {},
     "output_type": "execute_result"
    },
    {
     "data": {
      "image/png": "[encoded data removed]",
      "text/plain": [
       "<Figure size 432x288 with 1 Axes>"
      ]
     },
     "metadata": {
      "needs_background": "light"
     },
     "output_type": "display_data"
    }
   ],
   "source": [
    "centers, J, closest, not_empty = kmeans(data, k=2, n_iterations=10)\n",
    "plt.plot(J)"
   ]
  },
  {
   "cell_type": "code",
   "execution_count": 79,
   "metadata": {},
   "outputs": [
    {
     "data": {
      "text/plain": [
       "(5, 2)"
      ]
     },
     "execution_count": 79,
     "metadata": {},
     "output_type": "execute_result"
    }
   ],
   "source": [
    "data.shape"
   ]
  },
  {
   "cell_type": "code",
   "execution_count": 81,
   "metadata": {},
   "outputs": [
    {
     "data": {
      "text/plain": [
       "[True, True, True, True, False]"
      ]
     },
     "execution_count": 81,
     "metadata": {},
     "output_type": "execute_result"
    },
    {
     "data": {
      "image/png": "[encoded data removed]",
      "text/plain": [
       "<Figure size 432x288 with 1 Axes>"
      ]
     },
     "metadata": {
      "needs_background": "light"
     },
     "output_type": "display_data"
    }
   ],
   "source": [
    "centers, J, closest, not_empty = kmeans(data, k=5, n_iterations=10)\n",
    "plt.plot(J)\n",
    "not_empty"
   ]
  },
  {
   "cell_type": "markdown",
   "metadata": {},
   "source": [
    "Here, since there are only five samples, $J$ is 0 for all centers (since each sample is a center, and therefore the minimum distance from a sample to a center is 0)."
   ]
  },
  {
   "cell_type": "code",
   "execution_count": 82,
   "metadata": {},
   "outputs": [],
   "source": [
    "# multivariate normal function from Lecture 20\n",
    "def mv_normal(n, mean, sigma):                                                 \n",
    "    mean = np.array(mean) # to allow entry of values as simple lists                                                       \n",
    "    sigma = np.array(sigma)                                                     \n",
    "    X = np.random.normal(0, 1, n * len(mean)).reshape((n, len(mean)))                \n",
    "    return np.dot(X, np.linalg.cholesky(sigma)) + mean        "
   ]
  },
  {
   "cell_type": "code",
   "execution_count": 83,
   "metadata": {},
   "outputs": [],
   "source": [
    "N = 200\n",
    "data = mv_normal(N, [0, 4], [[0.9, 0.8], [0.8, 0.9]])"
   ]
  },
  {
   "cell_type": "code",
   "execution_count": 84,
   "metadata": {},
   "outputs": [
    {
     "data": {
      "text/plain": [
       "[<matplotlib.lines.Line2D at 0x12e1516a0>]"
      ]
     },
     "execution_count": 84,
     "metadata": {},
     "output_type": "execute_result"
    },
    {
     "data": {
      "image/png": "[encoded data removed]",
      "text/plain": [
       "<Figure size 432x288 with 1 Axes>"
      ]
     },
     "metadata": {
      "needs_background": "light"
     },
     "output_type": "display_data"
    }
   ],
   "source": [
    "centers, J, closest, not_empty = kmeans(data, k=10, n_iterations=10)\n",
    "plt.plot(J)"
   ]
  },
  {
   "cell_type": "code",
   "execution_count": 87,
   "metadata": {},
   "outputs": [
    {
     "data": {
      "text/plain": [
       "<matplotlib.collections.PathCollection at 0x12e27aee0>"
      ]
     },
     "execution_count": 87,
     "metadata": {},
     "output_type": "execute_result"
    },
    {
     "data": {
      "image/png": "[encoded data removed]",
      "text/plain": [
       "<Figure size 432x288 with 1 Axes>"
      ]
     },
     "metadata": {
      "needs_background": "light"
     },
     "output_type": "display_data"
    }
   ],
   "source": [
    "plt.scatter(data[:,0],data[:,1])\n",
    "plt.scatter(centers[:,0],centers[:,1])"
   ]
  },
  {
   "cell_type": "code",
   "execution_count": 95,
   "metadata": {},
   "outputs": [
    {
     "data": {
      "text/plain": [
       "[<matplotlib.lines.Line2D at 0x12e5adb20>]"
      ]
     },
     "execution_count": 95,
     "metadata": {},
     "output_type": "execute_result"
    },
    {
     "data": {
      "image/png": "[encoded data removed]",
      "text/plain": [
       "<Figure size 432x288 with 1 Axes>"
      ]
     },
     "metadata": {
      "needs_background": "light"
     },
     "output_type": "display_data"
    }
   ],
   "source": [
    "N = 200\n",
    "data1 = mv_normal(N, [0, 4], [[0.9 ,0.8], [0.8, 0.9]])\n",
    "data2 = mv_normal(N, [-5, 3], [[0.9, -0.8], [-0.8, 0.9]])\n",
    "data3 = mv_normal(N, [-2, 6], [[0.9 ,0.1], [0.8, 0.8]])\n",
    "data = np.vstack((data1, data2, data3))\n",
    "\n",
    "centers, J, closest, not_empty = kmeans(data, k=3, n_iterations=10)\n",
    "plt.plot(J)"
   ]
  },
  {
   "cell_type": "code",
   "execution_count": 96,
   "metadata": {},
   "outputs": [
    {
     "data": {
      "text/plain": [
       "<matplotlib.collections.PathCollection at 0x12e61d640>"
      ]
     },
     "execution_count": 96,
     "metadata": {},
     "output_type": "execute_result"
    },
    {
     "data": {
      "image/png": "[encoded data removed]",
      "text/plain": [
       "<Figure size 432x288 with 1 Axes>"
      ]
     },
     "metadata": {
      "needs_background": "light"
     },
     "output_type": "display_data"
    }
   ],
   "source": [
    "plt.scatter(data[:,0],data[:,1])\n",
    "plt.scatter(centers[:,0],centers[:,1])"
   ]
  },
  {
   "cell_type": "markdown",
   "metadata": {},
   "source": [
    "## Old Faithful Data"
   ]
  },
  {
   "cell_type": "markdown",
   "metadata": {},
   "source": [
    "Let's represent clusters as a list of sample matrices, each matrix containing samples from one cluster.  Initially, all samples are in their own clusters.  Let's use the Old Faithful data to develop our implementation. Download it from [here](https://www.cs.colostate.edu/~cs445/notebooks/oldfaithful.csv)."
   ]
  },
  {
   "cell_type": "code",
   "execution_count": 97,
   "metadata": {},
   "outputs": [
    {
     "name": "stdout",
     "output_type": "stream",
     "text": [
      "\"\",\"eruptions\",\"waiting\"\r\n",
      "\"1\",3.6,79\r\n",
      "\"2\",1.8,54\r\n",
      "\"3\",3.333,74\r\n",
      "\"4\",2.283,62\r\n",
      "\"5\",4.533,85\r\n",
      "\"6\",2.883,55\r\n",
      "\"7\",4.7,88\r\n",
      "\"8\",3.6,85\r\n",
      "\"9\",1.95,51\r\n"
     ]
    }
   ],
   "source": [
    "!head oldfaithful.csv"
   ]
  },
  {
   "cell_type": "code",
   "execution_count": 98,
   "metadata": {},
   "outputs": [],
   "source": [
    "data = pandas.read_csv('oldfaithful.csv')\n",
    "data = data.iloc[:,1:]"
   ]
  },
  {
   "cell_type": "code",
   "execution_count": 99,
   "metadata": {},
   "outputs": [
    {
     "data": {
      "text/html": [
       "<div>\n",
       "<style scoped>\n",
       "    .dataframe tbody tr th:only-of-type {\n",
       "        vertical-align: middle;\n",
       "    }\n",
       "\n",
       "    .dataframe tbody tr th {\n",
       "        vertical-align: top;\n",
       "    }\n",
       "\n",
       "    .dataframe thead th {\n",
       "        text-align: right;\n",
       "    }\n",
       "</style>\n",
       "<table border=\"1\" class=\"dataframe\">\n",
       "  <thead>\n",
       "    <tr style=\"text-align: right;\">\n",
       "      <th></th>\n",
       "      <th>eruptions</th>\n",
       "      <th>waiting</th>\n",
       "    </tr>\n",
       "  </thead>\n",
       "  <tbody>\n",
       "    <tr>\n",
       "      <th>0</th>\n",
       "      <td>3.600</td>\n",
       "      <td>79</td>\n",
       "    </tr>\n",
       "    <tr>\n",
       "      <th>1</th>\n",
       "      <td>1.800</td>\n",
       "      <td>54</td>\n",
       "    </tr>\n",
       "    <tr>\n",
       "      <th>2</th>\n",
       "      <td>3.333</td>\n",
       "      <td>74</td>\n",
       "    </tr>\n",
       "    <tr>\n",
       "      <th>3</th>\n",
       "      <td>2.283</td>\n",
       "      <td>62</td>\n",
       "    </tr>\n",
       "    <tr>\n",
       "      <th>4</th>\n",
       "      <td>4.533</td>\n",
       "      <td>85</td>\n",
       "    </tr>\n",
       "    <tr>\n",
       "      <th>...</th>\n",
       "      <td>...</td>\n",
       "      <td>...</td>\n",
       "    </tr>\n",
       "    <tr>\n",
       "      <th>267</th>\n",
       "      <td>4.117</td>\n",
       "      <td>81</td>\n",
       "    </tr>\n",
       "    <tr>\n",
       "      <th>268</th>\n",
       "      <td>2.150</td>\n",
       "      <td>46</td>\n",
       "    </tr>\n",
       "    <tr>\n",
       "      <th>269</th>\n",
       "      <td>4.417</td>\n",
       "      <td>90</td>\n",
       "    </tr>\n",
       "    <tr>\n",
       "      <th>270</th>\n",
       "      <td>1.817</td>\n",
       "      <td>46</td>\n",
       "    </tr>\n",
       "    <tr>\n",
       "      <th>271</th>\n",
       "      <td>4.467</td>\n",
       "      <td>74</td>\n",
       "    </tr>\n",
       "  </tbody>\n",
       "</table>\n",
       "<p>272 rows × 2 columns</p>\n",
       "</div>"
      ],
      "text/plain": [
       "     eruptions  waiting\n",
       "0        3.600       79\n",
       "1        1.800       54\n",
       "2        3.333       74\n",
       "3        2.283       62\n",
       "4        4.533       85\n",
       "..         ...      ...\n",
       "267      4.117       81\n",
       "268      2.150       46\n",
       "269      4.417       90\n",
       "270      1.817       46\n",
       "271      4.467       74\n",
       "\n",
       "[272 rows x 2 columns]"
      ]
     },
     "execution_count": 99,
     "metadata": {},
     "output_type": "execute_result"
    }
   ],
   "source": [
    "data"
   ]
  },
  {
   "cell_type": "code",
   "execution_count": 100,
   "metadata": {},
   "outputs": [
    {
     "data": {
      "text/plain": [
       "(272, 2)"
      ]
     },
     "execution_count": 100,
     "metadata": {},
     "output_type": "execute_result"
    }
   ],
   "source": [
    "data.shape"
   ]
  },
  {
   "cell_type": "code",
   "execution_count": 101,
   "metadata": {},
   "outputs": [],
   "source": [
    "data = data.to_numpy()"
   ]
  },
  {
   "cell_type": "code",
   "execution_count": 102,
   "metadata": {},
   "outputs": [
    {
     "data": {
      "image/png": "[encoded data removed]",
      "text/plain": [
       "<Figure size 432x288 with 1 Axes>"
      ]
     },
     "metadata": {
      "needs_background": "light"
     },
     "output_type": "display_data"
    }
   ],
   "source": [
    "plt.scatter(data[:,0],data[:,1]);\n",
    "plt.xlabel('Duration')\n",
    "plt.ylabel('Interval');"
   ]
  },
  {
   "cell_type": "code",
   "execution_count": 105,
   "metadata": {},
   "outputs": [
    {
     "name": "stdout",
     "output_type": "stream",
     "text": [
      "k=10 n_not_empty=10\n"
     ]
    },
    {
     "data": {
      "image/png": "[encoded data removed]",
      "text/plain": [
       "<Figure size 432x288 with 1 Axes>"
      ]
     },
     "metadata": {
      "needs_background": "light"
     },
     "output_type": "display_data"
    }
   ],
   "source": [
    "k = 10\n",
    "centers, J, closest, not_empty = kmeans(data, k=k, n_iterations=20)\n",
    "\n",
    "print(f'k={k} n_not_empty={sum(not_empty)}')\n",
    "plt.plot(J);"
   ]
  },
  {
   "cell_type": "code",
   "execution_count": 106,
   "metadata": {},
   "outputs": [
    {
     "data": {
      "text/plain": [
       "[<matplotlib.lines.Line2D at 0x12e7a9880>]"
      ]
     },
     "execution_count": 106,
     "metadata": {},
     "output_type": "execute_result"
    },
    {
     "data": {
      "image/png": "[encoded data removed]",
      "text/plain": [
       "<Figure size 432x288 with 1 Axes>"
      ]
     },
     "metadata": {
      "needs_background": "light"
     },
     "output_type": "display_data"
    }
   ],
   "source": [
    "plt.scatter(data[:,0],data[:,1]);\n",
    "plt.xlabel('Duration')\n",
    "plt.ylabel('Interval')\n",
    "\n",
    "plt.plot(centers[:, 0], centers[:, 1], 'ro', ms=10)"
   ]
  },
  {
   "cell_type": "code",
   "execution_count": 107,
   "metadata": {},
   "outputs": [
    {
     "name": "stdout",
     "output_type": "stream",
     "text": [
      "k=3 n_not_empty=3\n"
     ]
    },
    {
     "data": {
      "image/png": "[encoded data removed]",
      "text/plain": [
       "<Figure size 432x288 with 1 Axes>"
      ]
     },
     "metadata": {
      "needs_background": "light"
     },
     "output_type": "display_data"
    },
    {
     "data": {
      "image/png": "[encoded data removed]",
      "text/plain": [
       "<Figure size 432x288 with 1 Axes>"
      ]
     },
     "metadata": {
      "needs_background": "light"
     },
     "output_type": "display_data"
    }
   ],
   "source": [
    "k = 3\n",
    "centers, J, closest, not_empty = kmeans(data, k=k, n_iterations=20)\n",
    "\n",
    "print(f'k={k} n_not_empty={sum(not_empty)}')\n",
    "plt.plot(J);\n",
    "\n",
    "plt.figure()\n",
    "\n",
    "plt.scatter(data[:,0],data[:,1]);\n",
    "plt.xlabel('Duration')\n",
    "plt.ylabel('Interval')\n",
    "\n",
    "plt.plot(centers[:, 0], centers[:, 1], 'ro', ms=10);"
   ]
  },
  {
   "cell_type": "code",
   "execution_count": 108,
   "metadata": {},
   "outputs": [
    {
     "name": "stdout",
     "output_type": "stream",
     "text": [
      "k=2 n_not_empty=2\n"
     ]
    },
    {
     "data": {
      "image/png": "[encoded data removed]",
      "text/plain": [
       "<Figure size 432x288 with 1 Axes>"
      ]
     },
     "metadata": {
      "needs_background": "light"
     },
     "output_type": "display_data"
    },
    {
     "data": {
      "image/png": "[encoded data removed]",
      "text/plain": [
       "<Figure size 432x288 with 1 Axes>"
      ]
     },
     "metadata": {
      "needs_background": "light"
     },
     "output_type": "display_data"
    }
   ],
   "source": [
    "k = 2\n",
    "centers, J, closest, not_empty = kmeans(data, k=k, n_iterations=20)\n",
    "\n",
    "print(f'k={k} n_not_empty={sum(not_empty)}')\n",
    "plt.plot(J);\n",
    "\n",
    "plt.figure()\n",
    "\n",
    "plt.scatter(data[:,0],data[:,1]);\n",
    "plt.xlabel('Duration')\n",
    "plt.ylabel('Interval')\n",
    "\n",
    "plt.plot(centers[:, 0], centers[:, 1], 'ro', ms=10);"
   ]
  },
  {
   "cell_type": "markdown",
   "metadata": {
    "slideshow": {
     "slide_type": "slide"
    }
   },
   "source": [
    "## MNIST Data"
   ]
  },
  {
   "cell_type": "code",
   "execution_count": 109,
   "metadata": {
    "slideshow": {
     "slide_type": "slide"
    }
   },
   "outputs": [
    {
     "data": {
      "text/plain": [
       "((50000, 784), (50000, 1), (10000, 784), (10000, 1))"
      ]
     },
     "execution_count": 109,
     "metadata": {},
     "output_type": "execute_result"
    }
   ],
   "source": [
    "import gzip\n",
    "import pickle\n",
    "\n",
    "with gzip.open('mnist.pkl.gz', 'rb') as f:\n",
    "    train_set, valid_set, test_set = pickle.load(f, encoding='latin1')\n",
    "\n",
    "X = train_set[0]\n",
    "T = train_set[1].reshape((-1,1))\n",
    "\n",
    "Xtest = test_set[0]\n",
    "Ttest = test_set[1].reshape((-1,1))\n",
    "\n",
    "X.shape, T.shape, Xtest.shape, Ttest.shape"
   ]
  },
  {
   "cell_type": "code",
   "execution_count": 110,
   "metadata": {},
   "outputs": [
    {
     "name": "stdout",
     "output_type": "stream",
     "text": [
      "k=10 n_not_empty=10\n"
     ]
    }
   ],
   "source": [
    "k = 10\n",
    "centers, J, closest, not_empty = kmeans(X, k=k, n_iterations=20)\n",
    "print(f'k={k} n_not_empty={sum(not_empty)}')"
   ]
  },
  {
   "cell_type": "code",
   "execution_count": 111,
   "metadata": {},
   "outputs": [
    {
     "data": {
      "image/png": "[encoded data removed]",
      "text/plain": [
       "<Figure size 432x288 with 1 Axes>"
      ]
     },
     "metadata": {
      "needs_background": "light"
     },
     "output_type": "display_data"
    }
   ],
   "source": [
    "plt.plot(J);"
   ]
  },
  {
   "cell_type": "code",
   "execution_count": 112,
   "metadata": {},
   "outputs": [
    {
     "data": {
      "text/plain": [
       "(10, 784)"
      ]
     },
     "execution_count": 112,
     "metadata": {},
     "output_type": "execute_result"
    }
   ],
   "source": [
    "centers.shape"
   ]
  },
  {
   "cell_type": "code",
   "execution_count": 113,
   "metadata": {},
   "outputs": [
    {
     "data": {
      "text/plain": [
       "array([0.00000000e+00, 0.00000000e+00, 0.00000000e+00, 0.00000000e+00,\n",
       "       0.00000000e+00, 0.00000000e+00, 0.00000000e+00, 0.00000000e+00,\n",
       "       0.00000000e+00, 0.00000000e+00, 0.00000000e+00, 0.00000000e+00,\n",
       "       0.00000000e+00, 0.00000000e+00, 0.00000000e+00, 0.00000000e+00,\n",
       "       0.00000000e+00, 0.00000000e+00, 0.00000000e+00, 0.00000000e+00,\n",
       "       0.00000000e+00, 0.00000000e+00, 0.00000000e+00, 0.00000000e+00,\n",
       "       0.00000000e+00, 0.00000000e+00, 0.00000000e+00, 0.00000000e+00,\n",
       "       0.00000000e+00, 0.00000000e+00, 0.00000000e+00, 0.00000000e+00,\n",
       "       0.00000000e+00, 0.00000000e+00, 0.00000000e+00, 4.43496756e-05,\n",
       "       0.00000000e+00, 0.00000000e+00, 0.00000000e+00, 5.41761750e-04,\n",
       "       1.93138490e-03, 2.84533622e-03, 2.68098153e-03, 3.28100659e-03,\n",
       "       4.14104247e-03, 4.18626191e-03, 3.19752470e-03, 2.74272310e-03,\n",
       "       2.10617483e-03, 5.67849784e-04, 2.83490081e-04, 1.30440230e-05,\n",
       "       0.00000000e+00, 0.00000000e+00, 0.00000000e+00, 0.00000000e+00,\n",
       "       0.00000000e+00, 0.00000000e+00, 5.56544983e-05, 2.52184436e-05,\n",
       "       2.18269983e-04, 1.16526600e-04, 5.39152934e-05, 6.26113106e-05,\n",
       "       2.48706026e-04, 1.06352265e-03, 2.67489417e-03, 8.14642664e-03,\n",
       "       2.24896353e-02, 4.53071073e-02, 7.14282021e-02, 9.90658775e-02,\n",
       "       1.18093625e-01, 1.19973704e-01, 1.06683582e-01, 7.94181004e-02,\n",
       "       4.80837449e-02, 2.51619201e-02, 1.12796016e-02, 3.48797161e-03,\n",
       "       1.47658342e-03, 4.50453575e-04, 0.00000000e+00, 0.00000000e+00,\n",
       "       0.00000000e+00, 0.00000000e+00, 1.22613812e-04, 1.92181935e-04,\n",
       "       1.67833088e-04, 3.32187774e-04, 4.77411231e-04, 1.62267638e-03,\n",
       "       3.20882956e-03, 6.15243055e-03, 1.15778744e-02, 2.74724513e-02,\n",
       "       6.06981851e-02, 1.17691867e-01, 1.98063046e-01, 2.73246199e-01,\n",
       "       3.10599923e-01, 3.12047809e-01, 2.74061888e-01, 2.00693592e-01,\n",
       "       1.20212846e-01, 6.22417293e-02, 2.92429589e-02, 1.11969886e-02,\n",
       "       4.58193058e-03, 8.23512615e-04, 4.08712694e-05, 0.00000000e+00,\n",
       "       0.00000000e+00, 0.00000000e+00, 0.00000000e+00, 2.79142085e-04,\n",
       "       1.99138740e-04, 1.07308826e-03, 2.34357617e-03, 3.74798244e-03,\n",
       "       6.28200127e-03, 1.04508707e-02, 2.04365049e-02, 4.99064326e-02,\n",
       "       1.16467468e-01, 2.20750958e-01, 3.44845712e-01, 4.44043756e-01,\n",
       "       4.76784259e-01, 4.42410648e-01, 3.57427955e-01, 2.40903974e-01,\n",
       "       1.35887414e-01, 7.01255351e-02, 3.46005745e-02, 1.54823856e-02,\n",
       "       6.92898501e-03, 1.27744465e-03, 1.30440230e-05, 0.00000000e+00,\n",
       "       0.00000000e+00, 0.00000000e+00, 2.01747549e-04, 4.67845617e-04,\n",
       "       6.28721900e-04, 1.52528100e-03, 2.38705613e-03, 4.64019366e-03,\n",
       "       7.26899924e-03, 1.18526686e-02, 2.77602896e-02, 7.99563825e-02,\n",
       "       1.93046317e-01, 3.45201373e-01, 4.80877459e-01, 5.50494254e-01,\n",
       "       5.37788510e-01, 4.51414496e-01, 3.22454333e-01, 1.96128190e-01,\n",
       "       1.06528796e-01, 5.39805144e-02, 2.64898017e-02, 1.39840618e-02,\n",
       "       7.30552245e-03, 1.75224710e-03, 8.86993512e-05, 0.00000000e+00,\n",
       "       0.00000000e+00, 0.00000000e+00, 1.22613812e-04, 1.58267474e-04,\n",
       "       8.16555810e-04, 1.89225294e-03, 3.38535872e-03, 6.16721390e-03,\n",
       "       9.00385436e-03, 1.42353764e-02, 4.33592014e-02, 1.40214548e-01,\n",
       "       3.02605689e-01, 4.72477108e-01, 5.76207519e-01, 5.80235541e-01,\n",
       "       4.96614635e-01, 3.66059631e-01, 2.35486344e-01, 1.33731663e-01,\n",
       "       7.25630298e-02, 4.07269187e-02, 2.43740603e-02, 1.57606583e-02,\n",
       "       8.07598885e-03, 3.32622579e-03, 5.47848933e-04, 1.79137918e-04,\n",
       "       0.00000000e+00, 0.00000000e+00, 0.00000000e+00, 4.15669521e-04,\n",
       "       7.73945358e-04, 1.38875365e-03, 3.07925907e-03, 5.83937438e-03,\n",
       "       8.89167562e-03, 1.96173415e-02, 8.09990317e-02, 2.37962976e-01,\n",
       "       4.33723330e-01, 5.87217569e-01, 6.27193987e-01, 5.42826116e-01,\n",
       "       3.96166086e-01, 2.61098713e-01, 1.61721528e-01, 9.67596918e-02,\n",
       "       5.65667078e-02, 3.60388942e-02, 2.49253884e-02, 1.81137994e-02,\n",
       "       9.66040324e-03, 4.18104418e-03, 1.22613809e-03, 2.31313999e-04,\n",
       "       0.00000000e+00, 0.00000000e+00, 0.00000000e+00, 4.86107252e-04,\n",
       "       5.79154585e-04, 1.47571380e-03, 3.20709031e-03, 5.95242251e-03,\n",
       "       9.88041237e-03, 3.53927799e-02, 1.50758460e-01, 3.62112492e-01,\n",
       "       5.70735991e-01, 6.67276561e-01, 6.09231532e-01, 4.37865227e-01,\n",
       "       2.75597602e-01, 1.70544505e-01, 1.20129362e-01, 8.41565579e-02,\n",
       "       5.34639694e-02, 3.26900594e-02, 2.31948812e-02, 1.64259039e-02,\n",
       "       1.01734679e-02, 4.13234625e-03, 1.18526688e-03, 1.39136246e-04,\n",
       "       0.00000000e+00, 0.00000000e+00, 2.34792406e-05, 5.93068253e-04,\n",
       "       1.02960819e-03, 2.15313327e-03, 3.12360865e-03, 5.22021810e-03,\n",
       "       1.37110073e-02, 7.31474012e-02, 2.55594134e-01, 5.07023752e-01,\n",
       "       6.87888741e-01, 6.80999756e-01, 5.02732277e-01, 2.98735946e-01,\n",
       "       1.67171329e-01, 1.10292427e-01, 9.89519581e-02, 8.74601752e-02,\n",
       "       5.94111755e-02, 3.36205326e-02, 2.02564970e-02, 1.34344734e-02,\n",
       "       8.22121277e-03, 3.44362203e-03, 8.20034242e-04, 0.00000000e+00,\n",
       "       0.00000000e+00, 0.00000000e+00, 1.20874611e-04, 6.23504282e-04,\n",
       "       1.40092801e-03, 2.69315578e-03, 3.40448995e-03, 5.62023465e-03,\n",
       "       2.61897892e-02, 1.43771216e-01, 3.91147643e-01, 6.53475106e-01,\n",
       "       7.43841469e-01, 6.03569567e-01, 3.60327214e-01, 1.87478259e-01,\n",
       "       1.08041033e-01, 9.68988240e-02, 1.13723010e-01, 1.12099461e-01,\n",
       "       8.00381228e-02, 4.28452678e-02, 2.38896925e-02, 1.23231234e-02,\n",
       "       6.57505682e-03, 3.06882383e-03, 1.09395874e-03, 1.15657000e-04,\n",
       "       0.00000000e+00, 0.00000000e+00, 0.00000000e+00, 5.42631373e-04,\n",
       "       1.00178097e-03, 2.33140169e-03, 3.36709712e-03, 8.73862579e-03,\n",
       "       5.97720593e-02, 2.49433890e-01, 5.40554762e-01, 7.56676793e-01,\n",
       "       7.10943580e-01, 4.74657208e-01, 2.48245150e-01, 1.42891183e-01,\n",
       "       1.30995035e-01, 1.57627448e-01, 1.85961679e-01, 1.84654668e-01,\n",
       "       1.34161249e-01, 7.07820877e-02, 3.45492698e-02, 1.51345450e-02,\n",
       "       7.74814934e-03, 3.91320698e-03, 1.51832425e-03, 8.86993512e-05,\n",
       "       0.00000000e+00, 1.39136246e-05, 5.30456928e-05, 3.62623832e-04,\n",
       "       1.01830333e-03, 1.97486510e-03, 3.79233225e-03, 2.01051868e-02,\n",
       "       1.19222365e-01, 3.70840698e-01, 6.70103610e-01, 7.87050247e-01,\n",
       "       6.15510881e-01, 3.57331425e-01, 2.16344684e-01, 2.07479089e-01,\n",
       "       2.54623681e-01, 3.11157346e-01, 3.40693355e-01, 3.20156842e-01,\n",
       "       2.38924757e-01, 1.29031479e-01, 5.77328429e-02, 2.19852664e-02,\n",
       "       9.37778316e-03, 3.66797927e-03, 1.39571039e-03, 0.00000000e+00,\n",
       "       0.00000000e+00, 5.47848940e-05, 1.51310669e-04, 2.25226788e-04,\n",
       "       7.26986851e-04, 1.55484746e-03, 6.76984759e-03, 4.59749624e-02,\n",
       "       2.04847679e-01, 4.95612860e-01, 7.48384297e-01, 7.48032093e-01,\n",
       "       5.10481298e-01, 3.19030702e-01, 2.96661943e-01, 3.66692692e-01,\n",
       "       4.44395065e-01, 4.94421512e-01, 5.11483073e-01, 4.69868302e-01,\n",
       "       3.52865160e-01, 1.99293539e-01, 8.77384469e-02, 3.14856619e-02,\n",
       "       1.07856672e-02, 3.04099638e-03, 9.43517662e-04, 0.00000000e+00,\n",
       "       0.00000000e+00, 0.00000000e+00, 0.00000000e+00, 2.76533276e-04,\n",
       "       8.98298342e-04, 3.08099808e-03, 1.80955380e-02, 8.93185139e-02,\n",
       "       2.94714898e-01, 5.93423903e-01, 7.69345164e-01, 6.73342884e-01,\n",
       "       4.43161100e-01, 3.59990686e-01, 4.19971436e-01, 5.11482239e-01,\n",
       "       5.67008913e-01, 5.94065666e-01, 6.05773985e-01, 5.73476136e-01,\n",
       "       4.49821383e-01, 2.64884979e-01, 1.19147584e-01, 4.18217443e-02,\n",
       "       1.21752908e-02, 3.38622835e-03, 1.42005924e-03, 0.00000000e+00,\n",
       "       0.00000000e+00, 0.00000000e+00, 1.21744215e-05, 5.26978518e-04,\n",
       "       1.56528270e-03, 7.62553560e-03, 3.89094502e-02, 1.41514599e-01,\n",
       "       3.72083366e-01, 6.43248558e-01, 7.48438179e-01, 6.06622696e-01,\n",
       "       4.38355684e-01, 4.25230801e-01, 4.95352864e-01, 5.34354448e-01,\n",
       "       5.28654218e-01, 5.48360288e-01, 5.97864926e-01, 6.11417711e-01,\n",
       "       5.03111422e-01, 3.06140602e-01, 1.38814494e-01, 4.78002578e-02,\n",
       "       1.35101294e-02, 5.00977412e-03, 1.95138576e-03, 5.21760921e-05,\n",
       "       0.00000000e+00, 0.00000000e+00, 8.60905493e-05, 5.78285020e-04,\n",
       "       3.61754233e-03, 1.66172162e-02, 6.55801296e-02, 1.90177500e-01,\n",
       "       4.24554229e-01, 6.54498637e-01, 7.11795807e-01, 5.73943973e-01,\n",
       "       4.61680144e-01, 4.58821774e-01, 4.71765786e-01, 4.41073179e-01,\n",
       "       4.09810156e-01, 4.62784529e-01, 5.85027874e-01, 6.33584678e-01,\n",
       "       5.14553666e-01, 3.03219616e-01, 1.34452567e-01, 4.40253168e-02,\n",
       "       1.41127631e-02, 5.59066795e-03, 1.45136495e-03, 2.04356358e-04,\n",
       "       0.00000000e+00, 0.00000000e+00, 1.47832252e-04, 8.23512615e-04,\n",
       "       6.41765911e-03, 2.76750680e-02, 8.88480544e-02, 2.22132757e-01,\n",
       "       4.46949095e-01, 6.46917462e-01, 6.95845544e-01, 5.96243143e-01,\n",
       "       4.93737996e-01, 4.49647456e-01, 4.12803322e-01, 3.62145543e-01,\n",
       "       3.73593867e-01, 4.95419800e-01, 6.39496267e-01, 6.46780908e-01,\n",
       "       4.69775259e-01, 2.54629761e-01, 1.02479063e-01, 3.24787460e-02,\n",
       "       1.24205183e-02, 4.28713532e-03, 1.21657248e-03, 2.44358031e-04,\n",
       "       0.00000000e+00, 0.00000000e+00, 4.00016688e-05, 1.18439726e-03,\n",
       "       9.09603201e-03, 3.40962075e-02, 9.92902294e-02, 2.30459183e-01,\n",
       "       4.32125866e-01, 6.26693130e-01, 7.05801606e-01, 6.49031460e-01,\n",
       "       5.39373815e-01, 4.66335118e-01, 4.26852614e-01, 4.26224738e-01,\n",
       "       5.08035958e-01, 6.40421510e-01, 7.02933669e-01, 5.87988019e-01,\n",
       "       3.67010087e-01, 1.76781297e-01, 6.58827499e-02, 2.20374409e-02,\n",
       "       9.55605134e-03, 3.78624490e-03, 1.20874611e-03, 3.89581488e-04,\n",
       "       0.00000000e+00, 0.00000000e+00, 3.13056553e-05, 1.05395704e-03,\n",
       "       8.28382373e-03, 3.03534400e-02, 8.75584409e-02, 2.03591108e-01,\n",
       "       3.83543849e-01, 5.82284331e-01, 7.19805717e-01, 7.26247728e-01,\n",
       "       6.59229279e-01, 5.98367572e-01, 5.84865272e-01, 6.25348687e-01,\n",
       "       7.04035461e-01, 7.36535072e-01, 6.40145838e-01, 4.35263395e-01,\n",
       "       2.30207875e-01, 9.84728038e-02, 3.52988653e-02, 1.33388173e-02,\n",
       "       6.28026202e-03, 3.33057391e-03, 1.20091974e-03, 2.16530781e-04,\n",
       "       0.00000000e+00, 0.00000000e+00, 8.26121468e-05, 1.20526773e-03,\n",
       "       5.50196879e-03, 2.01834515e-02, 6.08694963e-02, 1.49027094e-01,\n",
       "       2.93227017e-01, 4.87689048e-01, 6.74935997e-01, 7.75333226e-01,\n",
       "       7.93828785e-01, 7.81236112e-01, 7.77429819e-01, 7.76948094e-01,\n",
       "       7.42672741e-01, 6.28121018e-01, 4.39293981e-01, 2.43149281e-01,\n",
       "       1.08864546e-01, 4.14834693e-02, 1.54641233e-02, 6.89333118e-03,\n",
       "       3.47492774e-03, 1.50180177e-03, 5.00020862e-04, 0.00000000e+00,\n",
       "       0.00000000e+00, 0.00000000e+00, 2.20878777e-04, 7.56553316e-04,\n",
       "       3.11665190e-03, 1.10248076e-02, 3.10552102e-02, 7.77145475e-02,\n",
       "       1.67586118e-01, 3.09902489e-01, 4.87327307e-01, 6.38824940e-01,\n",
       "       7.30053067e-01, 7.58589923e-01, 7.30962694e-01, 6.53142929e-01,\n",
       "       5.23260117e-01, 3.59179348e-01, 2.00162262e-01, 9.42726284e-02,\n",
       "       3.79024521e-02, 1.39188422e-02, 5.79154631e-03, 3.28970258e-03,\n",
       "       1.62006763e-03, 5.38283319e-04, 4.53931978e-04, 0.00000000e+00,\n",
       "       0.00000000e+00, 0.00000000e+00, 9.82649726e-05, 3.26100562e-04,\n",
       "       1.85312086e-03, 3.85320419e-03, 1.01012914e-02, 2.75681075e-02,\n",
       "       5.78754582e-02, 1.08752362e-01, 1.88253075e-01, 2.70499110e-01,\n",
       "       3.38825434e-01, 3.69421512e-01, 3.51041615e-01, 2.85226673e-01,\n",
       "       1.98437855e-01, 1.15334377e-01, 5.46553247e-02, 2.26287711e-02,\n",
       "       9.07429215e-03, 3.65493516e-03, 1.71659340e-03, 1.00091135e-03,\n",
       "       4.15669521e-04, 2.70446064e-04, 2.17400375e-04, 0.00000000e+00,\n",
       "       0.00000000e+00, 0.00000000e+00, 0.00000000e+00, 1.82616313e-05,\n",
       "       9.16560006e-04, 1.48006179e-03, 2.31835758e-03, 5.73241338e-03,\n",
       "       1.40153673e-02, 2.40201335e-02, 3.82702947e-02, 5.46770655e-02,\n",
       "       6.97698668e-02, 7.67040700e-02, 6.71271533e-02, 5.03960177e-02,\n",
       "       3.38535868e-02, 2.10765321e-02, 1.09048029e-02, 5.52979624e-03,\n",
       "       2.33314093e-03, 1.06700102e-03, 3.20882973e-04, 2.15661174e-04,\n",
       "       2.19139576e-04, 3.91320682e-05, 0.00000000e+00, 0.00000000e+00,\n",
       "       0.00000000e+00, 0.00000000e+00, 0.00000000e+00, 0.00000000e+00,\n",
       "       1.60876283e-04, 2.73054873e-04, 2.73054873e-04, 5.34804945e-04,\n",
       "       1.32788147e-03, 1.86964322e-03, 2.14008940e-03, 3.67493602e-03,\n",
       "       5.60197281e-03, 7.18638673e-03, 6.84289448e-03, 5.45761921e-03,\n",
       "       5.47153270e-03, 4.72976267e-03, 2.22357106e-03, 1.01743382e-03,\n",
       "       2.91316508e-04, 2.78272491e-05, 1.13048200e-05, 0.00000000e+00,\n",
       "       0.00000000e+00, 0.00000000e+00, 0.00000000e+00, 0.00000000e+00,\n",
       "       0.00000000e+00, 0.00000000e+00, 0.00000000e+00, 0.00000000e+00,\n",
       "       0.00000000e+00, 0.00000000e+00, 0.00000000e+00, 0.00000000e+00,\n",
       "       1.05221785e-04, 1.06960986e-04, 7.82641382e-06, 4.95672866e-05,\n",
       "       1.99138740e-04, 1.47832261e-05, 1.66093887e-04, 2.00008348e-04,\n",
       "       2.76533276e-04, 4.40018368e-04, 2.95664504e-04, 7.04377235e-05,\n",
       "       0.00000000e+00, 0.00000000e+00, 0.00000000e+00, 0.00000000e+00,\n",
       "       0.00000000e+00, 0.00000000e+00, 0.00000000e+00, 0.00000000e+00,\n",
       "       0.00000000e+00, 0.00000000e+00, 0.00000000e+00, 0.00000000e+00,\n",
       "       0.00000000e+00, 0.00000000e+00, 0.00000000e+00, 0.00000000e+00,\n",
       "       0.00000000e+00, 0.00000000e+00, 0.00000000e+00, 0.00000000e+00,\n",
       "       0.00000000e+00, 1.11308997e-04, 7.39161260e-05, 0.00000000e+00,\n",
       "       0.00000000e+00, 0.00000000e+00, 0.00000000e+00, 0.00000000e+00,\n",
       "       0.00000000e+00, 0.00000000e+00, 0.00000000e+00, 0.00000000e+00,\n",
       "       0.00000000e+00, 0.00000000e+00, 0.00000000e+00, 0.00000000e+00,\n",
       "       0.00000000e+00, 0.00000000e+00, 0.00000000e+00, 0.00000000e+00,\n",
       "       0.00000000e+00, 0.00000000e+00, 0.00000000e+00, 0.00000000e+00,\n",
       "       0.00000000e+00, 0.00000000e+00, 0.00000000e+00, 0.00000000e+00,\n",
       "       0.00000000e+00, 0.00000000e+00, 0.00000000e+00, 0.00000000e+00,\n",
       "       0.00000000e+00, 0.00000000e+00, 0.00000000e+00, 0.00000000e+00,\n",
       "       0.00000000e+00, 0.00000000e+00, 0.00000000e+00, 0.00000000e+00,\n",
       "       0.00000000e+00, 0.00000000e+00, 0.00000000e+00, 0.00000000e+00],\n",
       "      dtype=float32)"
      ]
     },
     "execution_count": 113,
     "metadata": {},
     "output_type": "execute_result"
    }
   ],
   "source": [
    "centers[0]"
   ]
  },
  {
   "cell_type": "code",
   "execution_count": 115,
   "metadata": {},
   "outputs": [
    {
     "data": {
      "text/plain": [
       "array([[0.  , 0.  , 0.  , 0.  , 0.  , 0.  , 0.  , 0.  , 0.  , 0.  , 0.  ,\n",
       "        0.  , 0.  , 0.  , 0.  , 0.  , 0.  , 0.  , 0.  , 0.  , 0.  , 0.  ,\n",
       "        0.  , 0.  , 0.  , 0.  , 0.  , 0.  ],\n",
       "       [0.  , 0.  , 0.  , 0.  , 0.  , 0.  , 0.  , 0.  , 0.  , 0.  , 0.  ,\n",
       "        0.  , 0.  , 0.  , 0.  , 0.  , 0.  , 0.  , 0.  , 0.  , 0.  , 0.  ,\n",
       "        0.  , 0.  , 0.  , 0.  , 0.  , 0.  ],\n",
       "       [0.  , 0.  , 0.  , 0.  , 0.  , 0.  , 0.  , 0.  , 0.  , 0.  , 0.  ,\n",
       "        0.01, 0.02, 0.05, 0.07, 0.1 , 0.12, 0.12, 0.11, 0.08, 0.05, 0.03,\n",
       "        0.01, 0.  , 0.  , 0.  , 0.  , 0.  ],\n",
       "       [0.  , 0.  , 0.  , 0.  , 0.  , 0.  , 0.  , 0.  , 0.  , 0.01, 0.01,\n",
       "        0.03, 0.06, 0.12, 0.2 , 0.27, 0.31, 0.31, 0.27, 0.2 , 0.12, 0.06,\n",
       "        0.03, 0.01, 0.  , 0.  , 0.  , 0.  ],\n",
       "       [0.  , 0.  , 0.  , 0.  , 0.  , 0.  , 0.  , 0.  , 0.01, 0.01, 0.02,\n",
       "        0.05, 0.12, 0.22, 0.34, 0.44, 0.48, 0.44, 0.36, 0.24, 0.14, 0.07,\n",
       "        0.03, 0.02, 0.01, 0.  , 0.  , 0.  ],\n",
       "       [0.  , 0.  , 0.  , 0.  , 0.  , 0.  , 0.  , 0.  , 0.01, 0.01, 0.03,\n",
       "        0.08, 0.19, 0.35, 0.48, 0.55, 0.54, 0.45, 0.32, 0.2 , 0.11, 0.05,\n",
       "        0.03, 0.01, 0.01, 0.  , 0.  , 0.  ],\n",
       "       [0.  , 0.  , 0.  , 0.  , 0.  , 0.  , 0.  , 0.01, 0.01, 0.01, 0.04,\n",
       "        0.14, 0.3 , 0.47, 0.58, 0.58, 0.5 , 0.37, 0.24, 0.13, 0.07, 0.04,\n",
       "        0.02, 0.02, 0.01, 0.  , 0.  , 0.  ],\n",
       "       [0.  , 0.  , 0.  , 0.  , 0.  , 0.  , 0.  , 0.01, 0.01, 0.02, 0.08,\n",
       "        0.24, 0.43, 0.59, 0.63, 0.54, 0.4 , 0.26, 0.16, 0.1 , 0.06, 0.04,\n",
       "        0.02, 0.02, 0.01, 0.  , 0.  , 0.  ],\n",
       "       [0.  , 0.  , 0.  , 0.  , 0.  , 0.  , 0.  , 0.01, 0.01, 0.04, 0.15,\n",
       "        0.36, 0.57, 0.67, 0.61, 0.44, 0.28, 0.17, 0.12, 0.08, 0.05, 0.03,\n",
       "        0.02, 0.02, 0.01, 0.  , 0.  , 0.  ],\n",
       "       [0.  , 0.  , 0.  , 0.  , 0.  , 0.  , 0.  , 0.01, 0.01, 0.07, 0.26,\n",
       "        0.51, 0.69, 0.68, 0.5 , 0.3 , 0.17, 0.11, 0.1 , 0.09, 0.06, 0.03,\n",
       "        0.02, 0.01, 0.01, 0.  , 0.  , 0.  ],\n",
       "       [0.  , 0.  , 0.  , 0.  , 0.  , 0.  , 0.  , 0.01, 0.03, 0.14, 0.39,\n",
       "        0.65, 0.74, 0.6 , 0.36, 0.19, 0.11, 0.1 , 0.11, 0.11, 0.08, 0.04,\n",
       "        0.02, 0.01, 0.01, 0.  , 0.  , 0.  ],\n",
       "       [0.  , 0.  , 0.  , 0.  , 0.  , 0.  , 0.  , 0.01, 0.06, 0.25, 0.54,\n",
       "        0.76, 0.71, 0.47, 0.25, 0.14, 0.13, 0.16, 0.19, 0.18, 0.13, 0.07,\n",
       "        0.03, 0.02, 0.01, 0.  , 0.  , 0.  ],\n",
       "       [0.  , 0.  , 0.  , 0.  , 0.  , 0.  , 0.  , 0.02, 0.12, 0.37, 0.67,\n",
       "        0.79, 0.62, 0.36, 0.22, 0.21, 0.25, 0.31, 0.34, 0.32, 0.24, 0.13,\n",
       "        0.06, 0.02, 0.01, 0.  , 0.  , 0.  ],\n",
       "       [0.  , 0.  , 0.  , 0.  , 0.  , 0.  , 0.01, 0.05, 0.2 , 0.5 , 0.75,\n",
       "        0.75, 0.51, 0.32, 0.3 , 0.37, 0.44, 0.49, 0.51, 0.47, 0.35, 0.2 ,\n",
       "        0.09, 0.03, 0.01, 0.  , 0.  , 0.  ],\n",
       "       [0.  , 0.  , 0.  , 0.  , 0.  , 0.  , 0.02, 0.09, 0.29, 0.59, 0.77,\n",
       "        0.67, 0.44, 0.36, 0.42, 0.51, 0.57, 0.59, 0.61, 0.57, 0.45, 0.26,\n",
       "        0.12, 0.04, 0.01, 0.  , 0.  , 0.  ],\n",
       "       [0.  , 0.  , 0.  , 0.  , 0.  , 0.01, 0.04, 0.14, 0.37, 0.64, 0.75,\n",
       "        0.61, 0.44, 0.43, 0.5 , 0.53, 0.53, 0.55, 0.6 , 0.61, 0.5 , 0.31,\n",
       "        0.14, 0.05, 0.01, 0.01, 0.  , 0.  ],\n",
       "       [0.  , 0.  , 0.  , 0.  , 0.  , 0.02, 0.07, 0.19, 0.42, 0.65, 0.71,\n",
       "        0.57, 0.46, 0.46, 0.47, 0.44, 0.41, 0.46, 0.59, 0.63, 0.51, 0.3 ,\n",
       "        0.13, 0.04, 0.01, 0.01, 0.  , 0.  ],\n",
       "       [0.  , 0.  , 0.  , 0.  , 0.01, 0.03, 0.09, 0.22, 0.45, 0.65, 0.7 ,\n",
       "        0.6 , 0.49, 0.45, 0.41, 0.36, 0.37, 0.5 , 0.64, 0.65, 0.47, 0.25,\n",
       "        0.1 , 0.03, 0.01, 0.  , 0.  , 0.  ],\n",
       "       [0.  , 0.  , 0.  , 0.  , 0.01, 0.03, 0.1 , 0.23, 0.43, 0.63, 0.71,\n",
       "        0.65, 0.54, 0.47, 0.43, 0.43, 0.51, 0.64, 0.7 , 0.59, 0.37, 0.18,\n",
       "        0.07, 0.02, 0.01, 0.  , 0.  , 0.  ],\n",
       "       [0.  , 0.  , 0.  , 0.  , 0.01, 0.03, 0.09, 0.2 , 0.38, 0.58, 0.72,\n",
       "        0.73, 0.66, 0.6 , 0.58, 0.63, 0.7 , 0.74, 0.64, 0.44, 0.23, 0.1 ,\n",
       "        0.04, 0.01, 0.01, 0.  , 0.  , 0.  ],\n",
       "       [0.  , 0.  , 0.  , 0.  , 0.01, 0.02, 0.06, 0.15, 0.29, 0.49, 0.67,\n",
       "        0.78, 0.79, 0.78, 0.78, 0.78, 0.74, 0.63, 0.44, 0.24, 0.11, 0.04,\n",
       "        0.02, 0.01, 0.  , 0.  , 0.  , 0.  ],\n",
       "       [0.  , 0.  , 0.  , 0.  , 0.  , 0.01, 0.03, 0.08, 0.17, 0.31, 0.49,\n",
       "        0.64, 0.73, 0.76, 0.73, 0.65, 0.52, 0.36, 0.2 , 0.09, 0.04, 0.01,\n",
       "        0.01, 0.  , 0.  , 0.  , 0.  , 0.  ],\n",
       "       [0.  , 0.  , 0.  , 0.  , 0.  , 0.  , 0.01, 0.03, 0.06, 0.11, 0.19,\n",
       "        0.27, 0.34, 0.37, 0.35, 0.29, 0.2 , 0.12, 0.05, 0.02, 0.01, 0.  ,\n",
       "        0.  , 0.  , 0.  , 0.  , 0.  , 0.  ],\n",
       "       [0.  , 0.  , 0.  , 0.  , 0.  , 0.  , 0.  , 0.01, 0.01, 0.02, 0.04,\n",
       "        0.05, 0.07, 0.08, 0.07, 0.05, 0.03, 0.02, 0.01, 0.01, 0.  , 0.  ,\n",
       "        0.  , 0.  , 0.  , 0.  , 0.  , 0.  ],\n",
       "       [0.  , 0.  , 0.  , 0.  , 0.  , 0.  , 0.  , 0.  , 0.  , 0.  , 0.  ,\n",
       "        0.  , 0.01, 0.01, 0.01, 0.01, 0.01, 0.  , 0.  , 0.  , 0.  , 0.  ,\n",
       "        0.  , 0.  , 0.  , 0.  , 0.  , 0.  ],\n",
       "       [0.  , 0.  , 0.  , 0.  , 0.  , 0.  , 0.  , 0.  , 0.  , 0.  , 0.  ,\n",
       "        0.  , 0.  , 0.  , 0.  , 0.  , 0.  , 0.  , 0.  , 0.  , 0.  , 0.  ,\n",
       "        0.  , 0.  , 0.  , 0.  , 0.  , 0.  ],\n",
       "       [0.  , 0.  , 0.  , 0.  , 0.  , 0.  , 0.  , 0.  , 0.  , 0.  , 0.  ,\n",
       "        0.  , 0.  , 0.  , 0.  , 0.  , 0.  , 0.  , 0.  , 0.  , 0.  , 0.  ,\n",
       "        0.  , 0.  , 0.  , 0.  , 0.  , 0.  ],\n",
       "       [0.  , 0.  , 0.  , 0.  , 0.  , 0.  , 0.  , 0.  , 0.  , 0.  , 0.  ,\n",
       "        0.  , 0.  , 0.  , 0.  , 0.  , 0.  , 0.  , 0.  , 0.  , 0.  , 0.  ,\n",
       "        0.  , 0.  , 0.  , 0.  , 0.  , 0.  ]], dtype=float32)"
      ]
     },
     "execution_count": 115,
     "metadata": {},
     "output_type": "execute_result"
    }
   ],
   "source": [
    "np.round(centers[0].reshape(28,28),2)"
   ]
  },
  {
   "cell_type": "code",
   "execution_count": 116,
   "metadata": {},
   "outputs": [
    {
     "data": {
      "image/png": "[encoded data removed]",
      "text/plain": [
       "<Figure size 432x288 with 10 Axes>"
      ]
     },
     "metadata": {
      "needs_background": "light"
     },
     "output_type": "display_data"
    }
   ],
   "source": [
    "for i in range(10):\n",
    "    plt.subplot(2, 5 ,i + 1)\n",
    "    plt.imshow(-centers[i, :].reshape((28, 28)), cmap='gray')\n",
    "    plt.axis('off')"
   ]
  },
  {
   "cell_type": "code",
   "execution_count": 117,
   "metadata": {},
   "outputs": [
    {
     "name": "stdout",
     "output_type": "stream",
     "text": [
      "k=10 n_not_empty=10\n"
     ]
    },
    {
     "data": {
      "image/png": "[encoded data removed]",
      "text/plain": [
       "<Figure size 432x288 with 1 Axes>"
      ]
     },
     "metadata": {
      "needs_background": "light"
     },
     "output_type": "display_data"
    },
    {
     "data": {
      "image/png": "[encoded data removed]",
      "text/plain": [
       "<Figure size 432x288 with 10 Axes>"
      ]
     },
     "metadata": {
      "needs_background": "light"
     },
     "output_type": "display_data"
    }
   ],
   "source": [
    "k = 10\n",
    "centers, J, closest, not_empty = kmeans(X, k=k, n_iterations=20)\n",
    "print(f'k={k} n_not_empty={sum(not_empty)}')\n",
    "plt.plot(J)\n",
    "plt.figure()\n",
    "for i in range(k):\n",
    "    plt.subplot(2, 5, i + 1)\n",
    "    plt.imshow(-centers[i, :].reshape((28, 28)), cmap='gray')\n",
    "    plt.axis('off')"
   ]
  },
  {
   "cell_type": "code",
   "execution_count": 368,
   "metadata": {},
   "outputs": [
    {
     "name": "stdout",
     "output_type": "stream",
     "text": [
      "k=20 n_not_empty=20\n"
     ]
    },
    {
     "data": {
      "image/png": "[encoded data removed]",
      "text/plain": [
       "<Figure size 432x288 with 1 Axes>"
      ]
     },
     "metadata": {
      "needs_background": "light"
     },
     "output_type": "display_data"
    },
    {
     "data": {
      "image/png": "[encoded data removed]",
      "text/plain": [
       "<Figure size 432x288 with 20 Axes>"
      ]
     },
     "metadata": {
      "needs_background": "light"
     },
     "output_type": "display_data"
    }
   ],
   "source": [
    "k = 20\n",
    "centers, J, closest, not_empty = kmeans(X, k=k, n_iterations=20)\n",
    "print(f'k={k} n_not_empty={sum(not_empty)}')\n",
    "plt.plot(J)\n",
    "plt.figure()\n",
    "for i in range(k):\n",
    "    plt.subplot(4, 5, i + 1)\n",
    "    plt.imshow(-centers[i, :].reshape((28, 28)), cmap='gray')\n",
    "    plt.axis('off')"
   ]
  },
  {
   "cell_type": "code",
   "execution_count": 370,
   "metadata": {},
   "outputs": [
    {
     "data": {
      "text/plain": [
       "(20, 784)"
      ]
     },
     "execution_count": 370,
     "metadata": {},
     "output_type": "execute_result"
    }
   ],
   "source": [
    "centers.shape"
   ]
  },
  {
   "cell_type": "code",
   "execution_count": 369,
   "metadata": {},
   "outputs": [
    {
     "data": {
      "text/html": [
       "<div>\n",
       "<style scoped>\n",
       "    .dataframe tbody tr th:only-of-type {\n",
       "        vertical-align: middle;\n",
       "    }\n",
       "\n",
       "    .dataframe tbody tr th {\n",
       "        vertical-align: top;\n",
       "    }\n",
       "\n",
       "    .dataframe thead th {\n",
       "        text-align: right;\n",
       "    }\n",
       "</style>\n",
       "<table border=\"1\" class=\"dataframe\">\n",
       "  <thead>\n",
       "    <tr style=\"text-align: right;\">\n",
       "      <th></th>\n",
       "      <th>0</th>\n",
       "      <th>1</th>\n",
       "      <th>2</th>\n",
       "      <th>3</th>\n",
       "      <th>4</th>\n",
       "      <th>5</th>\n",
       "      <th>6</th>\n",
       "      <th>7</th>\n",
       "      <th>8</th>\n",
       "      <th>9</th>\n",
       "    </tr>\n",
       "  </thead>\n",
       "  <tbody>\n",
       "    <tr>\n",
       "      <th>0</th>\n",
       "      <td>19.000000</td>\n",
       "      <td>0.129997</td>\n",
       "      <td>2.664933</td>\n",
       "      <td>69.808255</td>\n",
       "      <td>0.000000</td>\n",
       "      <td>20.311992</td>\n",
       "      <td>0.162496</td>\n",
       "      <td>0.032499</td>\n",
       "      <td>4.029899</td>\n",
       "      <td>0.714982</td>\n",
       "    </tr>\n",
       "    <tr>\n",
       "      <th>1</th>\n",
       "      <td>0.198939</td>\n",
       "      <td>0.397878</td>\n",
       "      <td>3.017241</td>\n",
       "      <td>3.415119</td>\n",
       "      <td>36.836870</td>\n",
       "      <td>3.216180</td>\n",
       "      <td>0.298408</td>\n",
       "      <td>8.355438</td>\n",
       "      <td>1.624668</td>\n",
       "      <td>42.639257</td>\n",
       "    </tr>\n",
       "    <tr>\n",
       "      <th>2</th>\n",
       "      <td>95.337257</td>\n",
       "      <td>0.000000</td>\n",
       "      <td>0.407424</td>\n",
       "      <td>0.452694</td>\n",
       "      <td>0.045269</td>\n",
       "      <td>0.905387</td>\n",
       "      <td>1.267542</td>\n",
       "      <td>0.271616</td>\n",
       "      <td>0.769579</td>\n",
       "      <td>0.543232</td>\n",
       "    </tr>\n",
       "    <tr>\n",
       "      <th>3</th>\n",
       "      <td>0.033761</td>\n",
       "      <td>83.693450</td>\n",
       "      <td>3.983795</td>\n",
       "      <td>0.945307</td>\n",
       "      <td>1.688049</td>\n",
       "      <td>0.708980</td>\n",
       "      <td>1.147873</td>\n",
       "      <td>4.118839</td>\n",
       "      <td>2.835922</td>\n",
       "      <td>0.844024</td>\n",
       "    </tr>\n",
       "    <tr>\n",
       "      <th>4</th>\n",
       "      <td>2.538741</td>\n",
       "      <td>0.000000</td>\n",
       "      <td>1.153973</td>\n",
       "      <td>48.071217</td>\n",
       "      <td>0.065941</td>\n",
       "      <td>31.025387</td>\n",
       "      <td>0.659413</td>\n",
       "      <td>0.131883</td>\n",
       "      <td>15.265414</td>\n",
       "      <td>1.088032</td>\n",
       "    </tr>\n",
       "    <tr>\n",
       "      <th>5</th>\n",
       "      <td>0.141844</td>\n",
       "      <td>0.000000</td>\n",
       "      <td>0.094563</td>\n",
       "      <td>0.283688</td>\n",
       "      <td>49.078014</td>\n",
       "      <td>1.843972</td>\n",
       "      <td>0.000000</td>\n",
       "      <td>3.924350</td>\n",
       "      <td>2.553191</td>\n",
       "      <td>42.080378</td>\n",
       "    </tr>\n",
       "    <tr>\n",
       "      <th>6</th>\n",
       "      <td>10.175597</td>\n",
       "      <td>0.675371</td>\n",
       "      <td>4.457452</td>\n",
       "      <td>4.457452</td>\n",
       "      <td>1.305718</td>\n",
       "      <td>63.079694</td>\n",
       "      <td>6.078343</td>\n",
       "      <td>1.395768</td>\n",
       "      <td>7.879334</td>\n",
       "      <td>0.495272</td>\n",
       "    </tr>\n",
       "    <tr>\n",
       "      <th>7</th>\n",
       "      <td>0.000000</td>\n",
       "      <td>83.087644</td>\n",
       "      <td>3.430716</td>\n",
       "      <td>3.832753</td>\n",
       "      <td>0.804074</td>\n",
       "      <td>1.259716</td>\n",
       "      <td>1.554543</td>\n",
       "      <td>1.956580</td>\n",
       "      <td>3.403913</td>\n",
       "      <td>0.670062</td>\n",
       "    </tr>\n",
       "    <tr>\n",
       "      <th>8</th>\n",
       "      <td>0.799645</td>\n",
       "      <td>0.000000</td>\n",
       "      <td>2.709907</td>\n",
       "      <td>0.666371</td>\n",
       "      <td>47.934251</td>\n",
       "      <td>3.065304</td>\n",
       "      <td>1.999112</td>\n",
       "      <td>7.463350</td>\n",
       "      <td>1.599289</td>\n",
       "      <td>33.762772</td>\n",
       "    </tr>\n",
       "    <tr>\n",
       "      <th>9</th>\n",
       "      <td>5.819925</td>\n",
       "      <td>0.171174</td>\n",
       "      <td>2.567614</td>\n",
       "      <td>0.650462</td>\n",
       "      <td>2.362205</td>\n",
       "      <td>2.499144</td>\n",
       "      <td>85.039370</td>\n",
       "      <td>0.000000</td>\n",
       "      <td>0.821636</td>\n",
       "      <td>0.068470</td>\n",
       "    </tr>\n",
       "    <tr>\n",
       "      <th>10</th>\n",
       "      <td>0.647410</td>\n",
       "      <td>0.000000</td>\n",
       "      <td>92.480080</td>\n",
       "      <td>4.233068</td>\n",
       "      <td>0.747012</td>\n",
       "      <td>0.049801</td>\n",
       "      <td>0.249004</td>\n",
       "      <td>0.448207</td>\n",
       "      <td>0.747012</td>\n",
       "      <td>0.398406</td>\n",
       "    </tr>\n",
       "    <tr>\n",
       "      <th>11</th>\n",
       "      <td>0.105764</td>\n",
       "      <td>0.000000</td>\n",
       "      <td>0.317292</td>\n",
       "      <td>0.105764</td>\n",
       "      <td>52.300370</td>\n",
       "      <td>0.581703</td>\n",
       "      <td>0.264410</td>\n",
       "      <td>6.028556</td>\n",
       "      <td>3.648863</td>\n",
       "      <td>36.647277</td>\n",
       "    </tr>\n",
       "    <tr>\n",
       "      <th>12</th>\n",
       "      <td>1.523261</td>\n",
       "      <td>0.370523</td>\n",
       "      <td>3.869905</td>\n",
       "      <td>8.110333</td>\n",
       "      <td>0.123508</td>\n",
       "      <td>6.957596</td>\n",
       "      <td>0.164677</td>\n",
       "      <td>0.741046</td>\n",
       "      <td>77.850967</td>\n",
       "      <td>0.288184</td>\n",
       "    </tr>\n",
       "    <tr>\n",
       "      <th>13</th>\n",
       "      <td>0.000000</td>\n",
       "      <td>0.108932</td>\n",
       "      <td>1.742919</td>\n",
       "      <td>0.599129</td>\n",
       "      <td>0.163399</td>\n",
       "      <td>0.163399</td>\n",
       "      <td>0.000000</td>\n",
       "      <td>91.557734</td>\n",
       "      <td>0.599129</td>\n",
       "      <td>5.065359</td>\n",
       "    </tr>\n",
       "    <tr>\n",
       "      <th>14</th>\n",
       "      <td>0.134348</td>\n",
       "      <td>0.850873</td>\n",
       "      <td>94.133453</td>\n",
       "      <td>2.194357</td>\n",
       "      <td>0.044783</td>\n",
       "      <td>0.179131</td>\n",
       "      <td>1.030004</td>\n",
       "      <td>0.626959</td>\n",
       "      <td>0.761308</td>\n",
       "      <td>0.044783</td>\n",
       "    </tr>\n",
       "    <tr>\n",
       "      <th>15</th>\n",
       "      <td>92.667278</td>\n",
       "      <td>0.000000</td>\n",
       "      <td>1.329056</td>\n",
       "      <td>0.779102</td>\n",
       "      <td>0.091659</td>\n",
       "      <td>1.604033</td>\n",
       "      <td>2.703941</td>\n",
       "      <td>0.091659</td>\n",
       "      <td>0.504125</td>\n",
       "      <td>0.229148</td>\n",
       "    </tr>\n",
       "    <tr>\n",
       "      <th>16</th>\n",
       "      <td>0.222717</td>\n",
       "      <td>0.742390</td>\n",
       "      <td>1.670379</td>\n",
       "      <td>2.783964</td>\n",
       "      <td>14.996288</td>\n",
       "      <td>1.893096</td>\n",
       "      <td>0.111359</td>\n",
       "      <td>36.822569</td>\n",
       "      <td>2.969562</td>\n",
       "      <td>37.787676</td>\n",
       "    </tr>\n",
       "    <tr>\n",
       "      <th>17</th>\n",
       "      <td>2.713415</td>\n",
       "      <td>0.304878</td>\n",
       "      <td>1.676829</td>\n",
       "      <td>18.689024</td>\n",
       "      <td>0.030488</td>\n",
       "      <td>26.524390</td>\n",
       "      <td>0.579268</td>\n",
       "      <td>0.030488</td>\n",
       "      <td>48.018293</td>\n",
       "      <td>1.432927</td>\n",
       "    </tr>\n",
       "    <tr>\n",
       "      <th>18</th>\n",
       "      <td>3.823662</td>\n",
       "      <td>0.134953</td>\n",
       "      <td>1.349528</td>\n",
       "      <td>0.494827</td>\n",
       "      <td>1.304543</td>\n",
       "      <td>1.124606</td>\n",
       "      <td>90.643275</td>\n",
       "      <td>0.089969</td>\n",
       "      <td>0.854701</td>\n",
       "      <td>0.179937</td>\n",
       "    </tr>\n",
       "    <tr>\n",
       "      <th>19</th>\n",
       "      <td>0.118483</td>\n",
       "      <td>0.000000</td>\n",
       "      <td>1.066351</td>\n",
       "      <td>0.710900</td>\n",
       "      <td>0.177725</td>\n",
       "      <td>0.236967</td>\n",
       "      <td>0.000000</td>\n",
       "      <td>94.905213</td>\n",
       "      <td>0.059242</td>\n",
       "      <td>2.725118</td>\n",
       "    </tr>\n",
       "  </tbody>\n",
       "</table>\n",
       "</div>"
      ],
      "text/plain": [
       "            0          1          2          3          4          5  \\\n",
       "0   19.000000   0.129997   2.664933  69.808255   0.000000  20.311992   \n",
       "1    0.198939   0.397878   3.017241   3.415119  36.836870   3.216180   \n",
       "2   95.337257   0.000000   0.407424   0.452694   0.045269   0.905387   \n",
       "3    0.033761  83.693450   3.983795   0.945307   1.688049   0.708980   \n",
       "4    2.538741   0.000000   1.153973  48.071217   0.065941  31.025387   \n",
       "5    0.141844   0.000000   0.094563   0.283688  49.078014   1.843972   \n",
       "6   10.175597   0.675371   4.457452   4.457452   1.305718  63.079694   \n",
       "7    0.000000  83.087644   3.430716   3.832753   0.804074   1.259716   \n",
       "8    0.799645   0.000000   2.709907   0.666371  47.934251   3.065304   \n",
       "9    5.819925   0.171174   2.567614   0.650462   2.362205   2.499144   \n",
       "10   0.647410   0.000000  92.480080   4.233068   0.747012   0.049801   \n",
       "11   0.105764   0.000000   0.317292   0.105764  52.300370   0.581703   \n",
       "12   1.523261   0.370523   3.869905   8.110333   0.123508   6.957596   \n",
       "13   0.000000   0.108932   1.742919   0.599129   0.163399   0.163399   \n",
       "14   0.134348   0.850873  94.133453   2.194357   0.044783   0.179131   \n",
       "15  92.667278   0.000000   1.329056   0.779102   0.091659   1.604033   \n",
       "16   0.222717   0.742390   1.670379   2.783964  14.996288   1.893096   \n",
       "17   2.713415   0.304878   1.676829  18.689024   0.030488  26.524390   \n",
       "18   3.823662   0.134953   1.349528   0.494827   1.304543   1.124606   \n",
       "19   0.118483   0.000000   1.066351   0.710900   0.177725   0.236967   \n",
       "\n",
       "            6          7          8          9  \n",
       "0    0.162496   0.032499   4.029899   0.714982  \n",
       "1    0.298408   8.355438   1.624668  42.639257  \n",
       "2    1.267542   0.271616   0.769579   0.543232  \n",
       "3    1.147873   4.118839   2.835922   0.844024  \n",
       "4    0.659413   0.131883  15.265414   1.088032  \n",
       "5    0.000000   3.924350   2.553191  42.080378  \n",
       "6    6.078343   1.395768   7.879334   0.495272  \n",
       "7    1.554543   1.956580   3.403913   0.670062  \n",
       "8    1.999112   7.463350   1.599289  33.762772  \n",
       "9   85.039370   0.000000   0.821636   0.068470  \n",
       "10   0.249004   0.448207   0.747012   0.398406  \n",
       "11   0.264410   6.028556   3.648863  36.647277  \n",
       "12   0.164677   0.741046  77.850967   0.288184  \n",
       "13   0.000000  91.557734   0.599129   5.065359  \n",
       "14   1.030004   0.626959   0.761308   0.044783  \n",
       "15   2.703941   0.091659   0.504125   0.229148  \n",
       "16   0.111359  36.822569   2.969562  37.787676  \n",
       "17   0.579268   0.030488  48.018293   1.432927  \n",
       "18  90.643275   0.089969   0.854701   0.179937  \n",
       "19   0.000000  94.905213   0.059242   2.725118  "
      ]
     },
     "execution_count": 369,
     "metadata": {},
     "output_type": "execute_result"
    }
   ],
   "source": [
    "k = centers.shape[0]\n",
    "df = pandas.DataFrame({'0': np.zeros(k),\n",
    "                      '1': np.zeros(k),\n",
    "                      '2': np.zeros(k),\n",
    "                      '3': np.zeros(k),\n",
    "                      '4': np.zeros(k),\n",
    "                      '5': np.zeros(k),\n",
    "                      '6': np.zeros(k),\n",
    "                      '7': np.zeros(k),\n",
    "                      '8': np.zeros(k),\n",
    "                      '9': np.zeros(k)})\n",
    "\n",
    "for center_i, center in enumerate(centers):\n",
    "    df.iloc[0, 0] = center_i\n",
    "    uniques, counts = np.unique(T[closest == center_i], return_counts=True)\n",
    "    df.iloc[center_i, uniques] = 100 * counts / sum(counts)\n",
    "    \n",
    "df"
   ]
  },
  {
   "cell_type": "code",
   "execution_count": null,
   "metadata": {},
   "outputs": [],
   "source": []
  }
 ],
 "metadata": {
  "kernelspec": {
   "display_name": "anno",
   "language": "python",
   "name": "python3"
  },
  "language_info": {
   "codemirror_mode": {
    "name": "ipython",
    "version": 3
   },
   "file_extension": ".py",
   "mimetype": "text/x-python",
   "name": "python",
   "nbconvert_exporter": "python",
   "pygments_lexer": "ipython3",
   "version": "3.10.15"
  },
  "toc": {
   "base_numbering": 1,
   "nav_menu": {},
   "number_sections": true,
   "sideBar": true,
   "skip_h1_title": false,
   "title_cell": "Table of Contents",
   "title_sidebar": "Contents",
   "toc_cell": false,
   "toc_position": {},
   "toc_section_display": true,
   "toc_window_display": false
  }
 },
 "nbformat": 4,
 "nbformat_minor": 1
}
