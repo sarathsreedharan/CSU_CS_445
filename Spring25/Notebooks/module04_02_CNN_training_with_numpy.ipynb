{
 "cells": [
  {
   "cell_type": "markdown",
   "metadata": {},
   "source": [
    "# Convolutional Neural Networks Training"
   ]
  },
  {
   "cell_type": "markdown",
   "metadata": {},
   "source": [
    "## Introduction"
   ]
  },
  {
   "cell_type": "markdown",
   "metadata": {},
   "source": [
    "Today we will discuss functions we need to override to create a convolutional neural network class based on our `NeuralNetworkClassifier` class.  This will be limited to a single convolutional layer. Let's name the new class `NeuralNetworkClassifierCNN`.  We also assume samples are two-dimensional arrays, like images, with the same number of rows and columns.\n",
    "\n",
    "We will also introduce how to work with convolutional neural networks in Pytorch, with multiple convolutional layers. "
   ]
  },
  {
   "cell_type": "markdown",
   "metadata": {},
   "source": [
    "## `NeuralNetworkClassifierCNN`"
   ]
  },
  {
   "cell_type": "markdown",
   "metadata": {},
   "source": [
    "### `__init__`"
   ]
  },
  {
   "cell_type": "markdown",
   "metadata": {
    "lines_to_next_cell": 2
   },
   "source": [
    "The constructor for `NeuralNetworkClassifierCNN` needs two more arguments, in addition to the usual ones:\n",
    "\n",
    "- `n_inputs`: (int) number of components (columns of X) in each sample.\n",
    "- `n_hiddens_per_layer`: (list of ints) First int is number of units in the single convolutional layer.\n",
    "- `n_outputs`: (int) number of outputs, which equals the number of different classes.\n",
    "- `patch_size`: (int) number of rows (equals number of columns) in size of patches. Often called the kernel size.\n",
    "- `stride`: (int) number of pixels to shift right and down to produce next patch.\n",
    "- `activation_function='tanh'`: ('tanh' or 'relu')\n",
    "\n",
    "To make the right number of weights, we must deal with the convolutional layer first.\n",
    "\n",
    "```python\n",
    "      # Initialize weights, by first building list of all weight matrix shapes.\n",
    "      n_in = n_inputs\n",
    "      shapes = []\n",
    "      # First build shape of weight matrix for convolutional layer.  Only one allowed.\n",
    "      shapes = [(self.patch_size * self.patch_size + 1, n_hiddens_per_layer[0])]\n",
    "      input_size = int(np.sqrt(n_inputs))\n",
    "      n_in = ((input_size - self.patch_size) // self.stride + 1) ** 2 * self.n_hiddens_per_layer[0]\n",
    "      for nh in self.n_hiddens_per_layer[1:]:\n",
    "          shapes.append((n_in + 1, nh))\n",
    "          n_in = nh\n",
    "      shapes.append((n_in + 1, self.n_outputs))\n",
    "```"
   ]
  },
  {
   "cell_type": "markdown",
   "metadata": {},
   "source": [
    "### `_make_patches`\n",
    "We need a new function to convert an input matrix `X` into patches as discussed previously.\n",
    "```python\n",
    "   def _make_patches(self, X, patch_size, stride=2):\n",
    "       '''X: n_samples x n_pixels  (flattened square images)'''\n",
    "\n",
    "       X = np.ascontiguousarray(X)  # make sure X values are contiguous in memory\n",
    "\n",
    "       n_samples = X.shape[0]\n",
    "       image_size = int(np.sqrt(X.shape[1]))\n",
    "       n_patches = (image_size - patch_size ) // stride + 1\n",
    "       nb = X.itemsize  # number of bytes each value\n",
    "       new_shape = [n_samples, n_patches, n_patches, patch_size, patch_size]\n",
    "       new_strides = [image_size * image_size * nb,\n",
    "                      image_size * stride * nb,\n",
    "                      stride * nb,\n",
    "                      image_size * nb,\n",
    "                      nb]\n",
    "       X = np.lib.stride_tricks.as_strided(X, shape=new_shape, strides=new_strides)\n",
    "       X = X.reshape(n_samples, n_patches * n_patches, patch_size * patch_size)\n",
    "\n",
    "       return X\n",
    "```"
   ]
  },
  {
   "cell_type": "markdown",
   "metadata": {},
   "source": [
    "## `use`\n",
    "Now that we have `_make_patches` we know how to modify our `use` function.\n",
    "```python\n",
    "   def use(self, X):\n",
    "       '''X assumed to not be standardized. Returns (classes, class_probabilities)'''\n",
    "       # Standardize X\n",
    "       X = (X - self.Xmeans) / self.Xstds\n",
    "       # Convert flattened samples into patches\n",
    "       X_patches = self._make_patches(X, self.patch_size, self.stride)\n",
    "       Ys = self.forward_pass(X_patches)\n",
    "       Y = self.softmax(Ys[-1])\n",
    "       classes = self.classes[np.argmax(Y, axis=1)].reshape(-1, 1)\n",
    "       return classes, Y\n",
    "```"
   ]
  },
  {
   "cell_type": "markdown",
   "metadata": {},
   "source": [
    "### `forward_pass`\n",
    "As you see, `forward_pass` has to be modified a bit to handle input as patches.  It also must flatten the image obtained as output of the convolutional layer for use as input to the following fully-connected layer.\n",
    "```python\n",
    "   def forward_pass(self, X_patches):\n",
    "       '''X assumed already standardized. Output returned as standardized.'''\n",
    "       self.Ys = [X_patches]\n",
    "       for layer_i, W in enumerate(self.Ws[:-1]):\n",
    "           if self.activation_function == 'relu':\n",
    "               self.Ys.append(self.relu(self.Ys[-1] @ W[1:, :] + W[0:1, :]))\n",
    "           else:\n",
    "               self.Ys.append(np.tanh(self.Ys[-1] @ W[1:, :] + W[0:1, :]))\n",
    "           # If convolutional layer, flatten each sample into vector for input to following f\n",
    "           # fully-connected layer.\n",
    "           if layer_i == 0:\n",
    "               self.Ys[-1] = self.Ys[-1].reshape(self.Ys[-1].shape[0], -1)\n",
    "       last_W = self.Ws[-1]\n",
    "       self.Ys.append(self.Ys[-1] @ last_W[1:, :] + last_W[0:1, :])\n",
    "       return self.Ys\n",
    "```"
   ]
  },
  {
   "cell_type": "markdown",
   "metadata": {},
   "source": [
    "### `train`\n",
    "The only change needed in `train` is to create patches from `X`\n",
    "```python\n",
    "        X_patches = self._make_patches(X, self.patch_size, self.stride)\n",
    "```\n",
    "and use this form of `X` as input matrix for optimizer calls, such as\n",
    "```python\n",
    "           error_trace = optimizer.sgd(self.error_f, self.gradient_f,\n",
    "                                       fargs=[X_patches, T_indicator_vars], n_epochs=n_epochs,\n",
    "                                       learning_rate=learning_rate,\n",
    "                                       verbose=verbose,\n",
    "                                       error_convert_f=error_convert_f)\n",
    "```"
   ]
  },
  {
   "cell_type": "markdown",
   "metadata": {},
   "source": [
    "###  `error_f`\n",
    "What must we change for `error_f`?\n",
    "\n",
    "Nothing!  Yay!"
   ]
  },
  {
   "cell_type": "markdown",
   "metadata": {},
   "source": [
    "### `gradient_f`\n",
    "However, we do have to do a little work for `gradient_f`.  This is the trickiest part of our convolutional neural network. But, remember, once we move to `pytorch`, we do not have to write this function!\n",
    "\n",
    "To the back-propagation loop that steps backwards through the layers we add a special case when we have reached the first layer.\n",
    "```python\n",
    "        for layeri in range(n_layers - 1, -1, -1):\n",
    "            if layeri == 0:\n",
    "                # Convolutional layer\n",
    "                # delta, backpropagated from a fully-connected layer, has multiple values for each\n",
    "                # convolutional unit, for each application of it to each patch.  We must sum the dE_dWs\n",
    "                # for all of those delta values by multiplying each delta value for each convolutional\n",
    "                # unit by the patch values used to produce the output by the input values for the \n",
    "                # corresponding patch. \n",
    "                # Do this by first reshaping the backed-up delta matrix to the right form.\n",
    "                patch_n_values = X_patches.shape[-1]\n",
    "                n_conv_units = self.n_hiddens_per_layer[0]\n",
    "                delta_reshaped = delta.reshape(-1, n_conv_units)\n",
    "                # And we must reshape the convolutional layer input matrix to a compatible shape.\n",
    "                conv_layer_inputs_reshaped = self.Ys[0].reshape(-1, patch_n_values)\n",
    "                # Now we can calculate the dE_dWs for the convolutional layer with a simple matrix\n",
    "                # multiplication.\n",
    "                self.dE_dWs[layeri][1:, :] = conv_layer_inputs_reshaped.T @ delta_reshaped\n",
    "                self.dE_dWs[layeri][0:1, :] = np.sum(delta_reshaped, axis=0)\n",
    "            else:\n",
    "                # Fully-connected layers\n",
    "                . . .\n",
    "```"
   ]
  },
  {
   "cell_type": "markdown",
   "metadata": {},
   "source": [
    "## Example use of `NeuralNetworkClassifierCNN`"
   ]
  },
  {
   "cell_type": "markdown",
   "metadata": {},
   "source": [
    "After you define `NeuralNetworkClassifierCNN` as a new class that extends `NeuralNetworkClassifier`, you can use it as in the following example.\n",
    "\n",
    "Let's make some simple images that are either squares or diamond shapes, like this."
   ]
  },
  {
   "cell_type": "code",
   "execution_count": 143,
   "metadata": {},
   "outputs": [],
   "source": [
    "import numpy as np\n",
    "import matplotlib.pyplot as plt"
   ]
  },
  {
   "cell_type": "code",
   "execution_count": 144,
   "metadata": {},
   "outputs": [
    {
     "data": {
      "text/plain": [
       "array([[0, 0, 0, 0, 0, 0, 0, 0, 0, 0, 0, 0, 0, 0, 0, 0, 0, 0, 0, 0],\n",
       "       [0, 0, 0, 0, 0, 0, 0, 0, 0, 0, 0, 0, 0, 0, 0, 0, 0, 0, 0, 0],\n",
       "       [0, 0, 0, 0, 0, 0, 0, 0, 0, 0, 0, 0, 0, 0, 0, 0, 0, 0, 0, 0],\n",
       "       [0, 0, 0, 0, 0, 0, 0, 0, 0, 0, 0, 0, 0, 0, 0, 0, 0, 0, 0, 0],\n",
       "       [0, 0, 0, 0, 1, 1, 1, 1, 1, 1, 1, 1, 1, 1, 1, 1, 0, 0, 0, 0],\n",
       "       [0, 0, 0, 0, 1, 0, 0, 0, 0, 0, 0, 0, 0, 0, 0, 1, 0, 0, 0, 0],\n",
       "       [0, 0, 0, 0, 1, 0, 0, 0, 0, 0, 0, 0, 0, 0, 0, 1, 0, 0, 0, 0],\n",
       "       [0, 0, 0, 0, 1, 0, 0, 0, 0, 0, 0, 0, 0, 0, 0, 1, 0, 0, 0, 0],\n",
       "       [0, 0, 0, 0, 1, 0, 0, 0, 0, 0, 0, 0, 0, 0, 0, 1, 0, 0, 0, 0],\n",
       "       [0, 0, 0, 0, 1, 0, 0, 0, 0, 0, 0, 0, 0, 0, 0, 1, 0, 0, 0, 0],\n",
       "       [0, 0, 0, 0, 1, 0, 0, 0, 0, 0, 0, 0, 0, 0, 0, 1, 0, 0, 0, 0],\n",
       "       [0, 0, 0, 0, 1, 0, 0, 0, 0, 0, 0, 0, 0, 0, 0, 1, 0, 0, 0, 0],\n",
       "       [0, 0, 0, 0, 1, 0, 0, 0, 0, 0, 0, 0, 0, 0, 0, 1, 0, 0, 0, 0],\n",
       "       [0, 0, 0, 0, 1, 0, 0, 0, 0, 0, 0, 0, 0, 0, 0, 1, 0, 0, 0, 0],\n",
       "       [0, 0, 0, 0, 1, 0, 0, 0, 0, 0, 0, 0, 0, 0, 0, 1, 0, 0, 0, 0],\n",
       "       [0, 0, 0, 0, 1, 1, 1, 1, 1, 1, 1, 1, 1, 1, 1, 1, 0, 0, 0, 0],\n",
       "       [0, 0, 0, 0, 0, 0, 0, 0, 0, 0, 0, 0, 0, 0, 0, 0, 0, 0, 0, 0],\n",
       "       [0, 0, 0, 0, 0, 0, 0, 0, 0, 0, 0, 0, 0, 0, 0, 0, 0, 0, 0, 0],\n",
       "       [0, 0, 0, 0, 0, 0, 0, 0, 0, 0, 0, 0, 0, 0, 0, 0, 0, 0, 0, 0],\n",
       "       [0, 0, 0, 0, 0, 0, 0, 0, 0, 0, 0, 0, 0, 0, 0, 0, 0, 0, 0, 0]])"
      ]
     },
     "execution_count": 144,
     "metadata": {},
     "output_type": "execute_result"
    }
   ],
   "source": [
    "square = np.array([[0] * 20,\n",
    "                   [0] * 20,\n",
    "                   [0] * 20,\n",
    "                   [0] * 20,\n",
    "                   [0] * 4 + [1] * 12 + [0] * 4,\n",
    "                   [0] * 4 + [1] + [0] * 10 + [1] + [0] * 4,\n",
    "                   [0] * 4 + [1] + [0] * 10 + [1] + [0] * 4,\n",
    "                   [0] * 4 + [1] + [0] * 10 + [1] + [0] * 4,\n",
    "                   [0] * 4 + [1] + [0] * 10 + [1] + [0] * 4,\n",
    "                   [0] * 4 + [1] + [0] * 10 + [1] + [0] * 4,\n",
    "                   [0] * 4 + [1] + [0] * 10 + [1] + [0] * 4,\n",
    "                   [0] * 4 + [1] + [0] * 10 + [1] + [0] * 4,\n",
    "                   [0] * 4 + [1] + [0] * 10 + [1] + [0] * 4,\n",
    "                   [0] * 4 + [1] + [0] * 10 + [1] + [0] * 4,\n",
    "                   [0] * 4 + [1] + [0] * 10 + [1] + [0] * 4,\n",
    "                   [0] * 4 + [1] * 12 + [0] * 4,\n",
    "                   [0] * 20,\n",
    "                   [0] * 20,\n",
    "                   [0] * 20,\n",
    "                   [0] * 20])\n",
    "square"
   ]
  },
  {
   "cell_type": "code",
   "execution_count": 145,
   "metadata": {},
   "outputs": [
    {
     "data": {
      "text/plain": [
       "array([[0, 0, 0, 0, 0, 0, 0, 0, 0, 0, 0, 0, 0, 0, 0, 0, 0, 0, 0, 0],\n",
       "       [0, 0, 0, 0, 0, 0, 0, 0, 0, 0, 0, 0, 0, 0, 0, 0, 0, 0, 0, 0],\n",
       "       [0, 0, 0, 0, 0, 0, 0, 0, 0, 0, 0, 0, 0, 0, 0, 0, 0, 0, 0, 0],\n",
       "       [0, 0, 0, 0, 0, 0, 0, 0, 0, 0, 0, 0, 0, 0, 0, 0, 0, 0, 0, 0],\n",
       "       [0, 0, 0, 0, 0, 0, 0, 0, 0, 1, 0, 0, 0, 0, 0, 0, 0, 0, 0, 0],\n",
       "       [0, 0, 0, 0, 0, 0, 0, 0, 1, 0, 1, 0, 0, 0, 0, 0, 0, 0, 0, 0],\n",
       "       [0, 0, 0, 0, 0, 0, 0, 1, 0, 0, 0, 1, 0, 0, 0, 0, 0, 0, 0, 0],\n",
       "       [0, 0, 0, 0, 0, 0, 1, 0, 0, 0, 0, 0, 1, 0, 0, 0, 0, 0, 0, 0],\n",
       "       [0, 0, 0, 0, 0, 1, 0, 0, 0, 0, 0, 0, 0, 1, 0, 0, 0, 0, 0, 0],\n",
       "       [0, 0, 0, 0, 1, 0, 0, 0, 0, 0, 0, 0, 0, 0, 1, 0, 0, 0, 0, 0],\n",
       "       [0, 0, 0, 1, 0, 0, 0, 0, 0, 0, 0, 0, 0, 0, 0, 1, 0, 0, 0, 0],\n",
       "       [0, 0, 0, 0, 1, 0, 0, 0, 0, 0, 0, 0, 0, 0, 1, 0, 0, 0, 0, 0],\n",
       "       [0, 0, 0, 0, 0, 1, 0, 0, 0, 0, 0, 0, 0, 1, 0, 0, 0, 0, 0, 0],\n",
       "       [0, 0, 0, 0, 0, 0, 1, 0, 0, 0, 0, 0, 1, 0, 0, 0, 0, 0, 0, 0],\n",
       "       [0, 0, 0, 0, 0, 0, 0, 1, 0, 0, 0, 1, 0, 0, 0, 0, 0, 0, 0, 0],\n",
       "       [0, 0, 0, 0, 0, 0, 0, 0, 1, 0, 1, 0, 0, 0, 0, 0, 0, 0, 0, 0],\n",
       "       [0, 0, 0, 0, 0, 0, 0, 0, 0, 1, 0, 0, 0, 0, 0, 0, 0, 0, 0, 0],\n",
       "       [0, 0, 0, 0, 0, 0, 0, 0, 0, 0, 0, 0, 0, 0, 0, 0, 0, 0, 0, 0],\n",
       "       [0, 0, 0, 0, 0, 0, 0, 0, 0, 0, 0, 0, 0, 0, 0, 0, 0, 0, 0, 0],\n",
       "       [0, 0, 0, 0, 0, 0, 0, 0, 0, 0, 0, 0, 0, 0, 0, 0, 0, 0, 0, 0]])"
      ]
     },
     "execution_count": 145,
     "metadata": {},
     "output_type": "execute_result"
    }
   ],
   "source": [
    "    diamond = np.array([[0] * 20,\n",
    "                        [0] * 20,\n",
    "                        [0] * 20,\n",
    "                        [0] * 20,\n",
    "                        [0] * 9 + [1] + [0] * 10,\n",
    "                        [0] * 8 + [1, 0, 1] + [0] * 9,\n",
    "                        [0] * 7 + [1, 0, 0, 0, 1] + [0] * 8,\n",
    "                        [0] * 6 + [1, 0, 0, 0, 0, 0, 1] + [0] * 7,\n",
    "                        [0] * 5 + [1, 0, 0, 0, 0, 0, 0, 0, 1] + [0] * 6,\n",
    "                        [0] * 4 + [1, 0, 0, 0, 0, 0, 0, 0, 0, 0, 1] + [0] * 5,\n",
    "                        [0] * 3 + [1, 0, 0, 0, 0, 0, 0, 0, 0, 0, 0, 0, 1] + [0] * 4,\n",
    "                        [0] * 4 + [1, 0, 0, 0, 0, 0, 0, 0, 0, 0, 1] + [0] * 5,\n",
    "                        [0] * 5 + [1, 0, 0, 0, 0, 0, 0, 0, 1] + [0] * 6,\n",
    "                        [0] * 6 + [1, 0, 0, 0, 0, 0, 1] + [0] * 7,\n",
    "                        [0] * 7 + [1, 0, 0, 0, 1] + [0] * 8,\n",
    "                        [0] * 8 + [1, 0, 1] + [0] * 9,\n",
    "                        [0] * 9 + [1] + [0] * 10,\n",
    "                        [0] * 20,\n",
    "                        [0] * 20,\n",
    "                        [0] * 20])\n",
    "diamond"
   ]
  },
  {
   "cell_type": "code",
   "execution_count": 146,
   "metadata": {},
   "outputs": [],
   "source": [
    "def draw_neg_image(image, label=''):\n",
    "    plt.imshow(-image, cmap='gray')\n",
    "    plt.xticks([])\n",
    "    plt.yticks([])\n",
    "    plt.title(label)"
   ]
  },
  {
   "cell_type": "code",
   "execution_count": 147,
   "metadata": {
    "lines_to_next_cell": 2
   },
   "outputs": [
    {
     "data": {
      "image/png": "[encoded data removed]",
      "text/plain": [
       "<Figure size 432x288 with 2 Axes>"
      ]
     },
     "metadata": {},
     "output_type": "display_data"
    }
   ],
   "source": [
    "plt.subplot(1, 2, 1)\n",
    "draw_neg_image(square, 'square')\n",
    "plt.subplot(1, 2, 2)\n",
    "draw_neg_image(diamond, 'diamond');"
   ]
  },
  {
   "cell_type": "markdown",
   "metadata": {},
   "source": [
    "Okay, that works.  Let's write a function to generate a bunch of images like these, but shifted left to right and up and down to random amounts.  This would challenge our fully-connected nets, but maybe not our convolutional net!"
   ]
  },
  {
   "cell_type": "code",
   "execution_count": 148,
   "metadata": {},
   "outputs": [],
   "source": [
    "def make_images(n_each_class):\n",
    "    '''Make 20x20 black and white images with diamonds or squares for the two classes, as line drawings.'''\n",
    "    images = np.zeros((n_each_class * 2, 20, 20))  # nSamples, rows, columns\n",
    "    radii = 3 + np.random.randint(10 - 5, size=(n_each_class * 2, 1))\n",
    "    centers = np.zeros((n_each_class * 2, 2))\n",
    "    for i in range(n_each_class * 2):\n",
    "        r = radii[i, 0]\n",
    "        centers[i, :] = r + 1 + np.random.randint(18 - 2 * r, size=(1, 2))\n",
    "        x = int(centers[i, 0])\n",
    "        y = int(centers[i, 1])\n",
    "        if i < n_each_class:\n",
    "            # squares\n",
    "            images[i, x - r:x + r, y + r] = 1.0\n",
    "            images[i, x - r:x + r, y - r] = 1.0\n",
    "            images[i, x - r, y - r:y + r] = 1.0\n",
    "            images[i, x + r, y - r:y + r + 1] = 1.0\n",
    "        else:\n",
    "            # diamonds\n",
    "            images[i, range(x - r, x), range(y, y + r)] = 1.0\n",
    "            images[i, range(x - r, x), range(y, y - r, -1)] = 1.0\n",
    "            images[i, range(x, x + r + 1), range(y + r, y - 1, -1)] = 1.0\n",
    "            images[i, range(x, x + r), range(y - r, y)] = 1.0\n",
    "    T = np.array(['square'] * n_each_class + ['diamond'] * n_each_class).reshape(-1, 1)\n",
    "    return images, T"
   ]
  },
  {
   "cell_type": "code",
   "execution_count": 149,
   "metadata": {},
   "outputs": [
    {
     "data": {
      "text/plain": [
       "((200, 20, 20), (200, 1), (200, 20, 20), (200, 1))"
      ]
     },
     "execution_count": 149,
     "metadata": {},
     "output_type": "execute_result"
    }
   ],
   "source": [
    "n_each_class = 100\n",
    "Xtrain, Ttrain = make_images(n_each_class)\n",
    "Xtest, Ttest = make_images(n_each_class)\n",
    "Xtrain.shape, Ttrain.shape, Xtest.shape, Ttest.shape"
   ]
  },
  {
   "cell_type": "code",
   "execution_count": 150,
   "metadata": {},
   "outputs": [
    {
     "data": {
      "image/png": "[encoded data removed]",
      "text/plain": [
       "<Figure size 720x216 with 20 Axes>"
      ]
     },
     "metadata": {},
     "output_type": "display_data"
    }
   ],
   "source": [
    "plt.figure(figsize=(10, 3))\n",
    "for i in range(10):\n",
    "    plt.subplot(2, 10, i + 1)\n",
    "    draw_neg_image(Xtrain[i, :], Ttrain[i, 0])\n",
    "\n",
    "for i in range(10):\n",
    "    plt.subplot(2, 10, i + 11)\n",
    "    draw_neg_image(Xtrain[i + n_each_class, :], Ttrain[i + n_each_class, 0])"
   ]
  },
  {
   "cell_type": "code",
   "execution_count": 151,
   "metadata": {},
   "outputs": [],
   "source": [
    "import neuralnetworks_A5 as nn"
   ]
  },
  {
   "cell_type": "markdown",
   "metadata": {},
   "source": [
    "Now we can try to train a CNN!!\n",
    "Our net has been defined to accept two-dimensional input `X` matrices, so first we must flatten each image."
   ]
  },
  {
   "cell_type": "code",
   "execution_count": 152,
   "metadata": {},
   "outputs": [
    {
     "data": {
      "text/plain": [
       "array(['square', 'square', 'square', 'square', 'square', 'square',\n",
       "       'square', 'square', 'square', 'square'], dtype='<U7')"
      ]
     },
     "execution_count": 152,
     "metadata": {},
     "output_type": "execute_result"
    }
   ],
   "source": [
    "Ttrain[:10, 0]"
   ]
  },
  {
   "cell_type": "code",
   "execution_count": 153,
   "metadata": {},
   "outputs": [
    {
     "data": {
      "text/plain": [
       "((200, 400), (200, 400))"
      ]
     },
     "execution_count": 153,
     "metadata": {},
     "output_type": "execute_result"
    }
   ],
   "source": [
    "Xtrain = Xtrain.reshape(Xtrain.shape[0], -1)\n",
    "Xtest = Xtest.reshape(Xtest.shape[0], -1)\n",
    "Xtrain.shape, Xtest.shape"
   ]
  },
  {
   "cell_type": "markdown",
   "metadata": {},
   "source": [
    "Let's try 2 units in the convolutional layer followed by one fully-connected layer of 2 units.  And let's use a patch size of 5 and stride of 2."
   ]
  },
  {
   "cell_type": "code",
   "execution_count": 154,
   "metadata": {},
   "outputs": [
    {
     "data": {
      "text/plain": [
       "array(['diamond', 'square'], dtype='<U7')"
      ]
     },
     "execution_count": 154,
     "metadata": {},
     "output_type": "execute_result"
    }
   ],
   "source": [
    "np.unique(Ttrain)"
   ]
  },
  {
   "cell_type": "code",
   "execution_count": 155,
   "metadata": {
    "scrolled": true
   },
   "outputs": [],
   "source": [
    "import time\n",
    "import neuralnetworks_A5 as nn"
   ]
  },
  {
   "cell_type": "code",
   "execution_count": 156,
   "metadata": {},
   "outputs": [
    {
     "name": "stdout",
     "output_type": "stream",
     "text": [
      "Adam: Epoch 200 Error=0.99948\n",
      "Adam: Epoch 400 Error=0.99984\n",
      "Adam: Epoch 600 Error=0.99992\n",
      "Adam: Epoch 800 Error=0.99995\n",
      "Adam: Epoch 1000 Error=0.99996\n",
      "Adam: Epoch 1200 Error=0.99997\n",
      "Adam: Epoch 1400 Error=0.99998\n",
      "Adam: Epoch 1600 Error=0.99998\n",
      "Adam: Epoch 1800 Error=0.99999\n",
      "Adam: Epoch 2000 Error=0.99999\n",
      "took 2.904790163040161 seconds\n",
      "Train percent correct 100.0\n",
      "Test fraction correct 100.0\n"
     ]
    }
   ],
   "source": [
    "nnet = nn.NeuralNetworkClassifierCNN(Xtrain.shape[1], [2], len(np.unique(Ttrain)),\n",
    "                                       patch_size=5, stride=2)\n",
    "start_time = time.time()\n",
    "nnet.train(Xtrain, Ttrain, 2000, learning_rate=0.01, method='adam')\n",
    "classes_train, probs_train = nnet.use(Xtrain)\n",
    "\n",
    "print(f'took {time.time() - start_time} seconds')\n",
    "print(f'Train percent correct {100 * np.mean(Ttrain == classes_train)}')\n",
    "\n",
    "classes_test, probs_test = nnet.use(Xtest)\n",
    "print(f'Test fraction correct {100 * np.mean(Ttest == classes_test)}')"
   ]
  },
  {
   "cell_type": "code",
   "execution_count": 157,
   "metadata": {},
   "outputs": [
    {
     "data": {
      "text/plain": [
       "array(['diamond', 'square'], dtype='<U7')"
      ]
     },
     "execution_count": 157,
     "metadata": {},
     "output_type": "execute_result"
    }
   ],
   "source": [
    "np.unique(Ttrain)"
   ]
  },
  {
   "cell_type": "code",
   "execution_count": 158,
   "metadata": {},
   "outputs": [
    {
     "data": {
      "image/png": "[encoded data removed]",
      "text/plain": [
       "<Figure size 720x360 with 2 Axes>"
      ]
     },
     "metadata": {
      "needs_background": "light"
     },
     "output_type": "display_data"
    }
   ],
   "source": [
    "plt.figure(figsize=(10, 5))\n",
    "plt.subplot(1, 2, 1)\n",
    "plt.plot(nnet.error_trace)\n",
    "\n",
    "Ttest_i = (Ttest == 'diamond').astype(int)\n",
    "\n",
    "plt.subplot(1, 2, 2)\n",
    "plt.plot(Ttest_i, 'o-')\n",
    "plt.plot(probs_test[:, :], '-')\n",
    "plt.legend(('Ttest', 'Probs Class 1', 'Probs Class 0'));"
   ]
  },
  {
   "cell_type": "markdown",
   "metadata": {},
   "source": [
    "Cool.  Let's see what our two convolutional units learned.  Draw images of their weight matrices."
   ]
  },
  {
   "cell_type": "code",
   "execution_count": 159,
   "metadata": {},
   "outputs": [
    {
     "data": {
      "text/plain": [
       "(26, 2)"
      ]
     },
     "execution_count": 159,
     "metadata": {},
     "output_type": "execute_result"
    }
   ],
   "source": [
    "#number of pixels in each patch\n",
    "#5 x 5 patch + 1 bias weight \n",
    "nnet.Ws[0].shape"
   ]
  },
  {
   "cell_type": "code",
   "execution_count": 160,
   "metadata": {},
   "outputs": [
    {
     "data": {
      "text/plain": [
       "<matplotlib.colorbar.Colorbar at 0x130af87e3c8>"
      ]
     },
     "execution_count": 160,
     "metadata": {},
     "output_type": "execute_result"
    },
    {
     "data": {
      "image/png": "[encoded data removed]",
      "text/plain": [
       "<Figure size 432x288 with 4 Axes>"
      ]
     },
     "metadata": {
      "needs_background": "light"
     },
     "output_type": "display_data"
    }
   ],
   "source": [
    "conv_W = nnet.Ws[0][1:, :]  # do not include bias weights\n",
    "\n",
    "plt.subplot(1, 2, 1)\n",
    "plt.imshow(conv_W[:, 0].reshape(5, 5)) # first unit\n",
    "plt.colorbar()\n",
    "\n",
    "plt.subplot(1, 2, 2)\n",
    "plt.imshow(conv_W[:, 1].reshape(5, 5)) # second unit\n",
    "plt.colorbar()"
   ]
  },
  {
   "cell_type": "code",
   "execution_count": 161,
   "metadata": {},
   "outputs": [
    {
     "data": {
      "text/plain": [
       "array([[ 0.29863189, -0.02124669,  0.19698273,  0.07529536,  0.11743154],\n",
       "       [ 0.00464144,  0.81641365, -0.0202866 , -0.26617104, -0.0072444 ],\n",
       "       [ 0.52531431, -0.04334969,  0.23491773, -0.00193867,  0.28027161],\n",
       "       [-0.08749799,  0.23339155, -0.14083358,  0.80734466, -0.06664136],\n",
       "       [-0.14296563,  0.01440076,  0.66347136, -0.12129824,  0.43165675]])"
      ]
     },
     "execution_count": 161,
     "metadata": {},
     "output_type": "execute_result"
    }
   ],
   "source": [
    "conv_W[:, 0].reshape(5, 5) # print the first unit"
   ]
  },
  {
   "cell_type": "markdown",
   "metadata": {},
   "source": [
    "So, each hidden unit contains a 5 x 5 filter.  The colors represent the value of that value in the matrix.  Unlike the last lecture where we defined a filter to detect a very specific image feature (a specific kind of edge), these units have been trained with filters to detect both squares and diamonds, at arbitrary locations in the image.  They do pretty well at it!  But you'll notice that the filters doesn't visibly resemble either square features or diamond features, really.\n",
    "\n",
    "Let's imagine, if we trained a CNN to detect dogs, would you expect the filters in that network to visibly resemble \"dog\" features?"
   ]
  },
  {
   "cell_type": "markdown",
   "metadata": {},
   "source": [
    "<span style=\"color:white\">No</span>"
   ]
  },
  {
   "cell_type": "markdown",
   "metadata": {},
   "source": [
    "Let's repeat, with 4 convolutional units and with two fully-connected layers after the convolutional layer."
   ]
  },
  {
   "cell_type": "code",
   "execution_count": 162,
   "metadata": {},
   "outputs": [
    {
     "name": "stdout",
     "output_type": "stream",
     "text": [
      "Adam: Epoch 100 Error=0.99794\n",
      "Adam: Epoch 200 Error=0.99932\n",
      "Adam: Epoch 300 Error=0.99963\n",
      "Adam: Epoch 400 Error=0.99976\n",
      "Adam: Epoch 500 Error=0.99983\n",
      "Adam: Epoch 600 Error=0.99987\n",
      "Adam: Epoch 700 Error=0.99990\n",
      "Adam: Epoch 800 Error=0.99992\n",
      "Adam: Epoch 900 Error=0.99993\n",
      "Adam: Epoch 1000 Error=0.99994\n",
      "took 2.1891582012176514 seconds\n",
      "Train percent correct 100.0\n",
      "Test fraction correct 100.0\n"
     ]
    }
   ],
   "source": [
    "nnet = nn.NeuralNetworkClassifierCNN(Xtrain.shape[1], [4, 10, 10], len(np.unique(Ttrain)),\n",
    "                                       patch_size=5, stride=2)\n",
    "\n",
    "start_time = time.time()\n",
    "nnet.train(Xtrain, Ttrain, 1000, learning_rate=0.01, verbose=True, method='adam') # training for 1K epochs instead of 2K\n",
    "classes_train, probs_train = nnet.use(Xtrain)\n",
    "\n",
    "print(f'took {time.time() - start_time} seconds')\n",
    "print(f'Train percent correct {100 * np.mean(Ttrain == classes_train)}')\n",
    "\n",
    "classes_test, probs_test = nnet.use(Xtest)\n",
    "print(f'Test fraction correct {100 * np.mean(Ttest == classes_test)}')"
   ]
  },
  {
   "cell_type": "code",
   "execution_count": 163,
   "metadata": {
    "scrolled": true
   },
   "outputs": [
    {
     "data": {
      "text/plain": [
       "<matplotlib.legend.Legend at 0x130af69ac48>"
      ]
     },
     "execution_count": 163,
     "metadata": {},
     "output_type": "execute_result"
    },
    {
     "data": {
      "image/png": "[encoded data removed]",
      "text/plain": [
       "<Figure size 720x360 with 2 Axes>"
      ]
     },
     "metadata": {
      "needs_background": "light"
     },
     "output_type": "display_data"
    }
   ],
   "source": [
    "plt.figure(figsize=(10, 5))\n",
    "plt.subplot(1, 2, 1)\n",
    "plt.plot(nnet.error_trace)\n",
    "\n",
    "Ttest_i = (Ttest == 'diamond').astype(int)\n",
    "\n",
    "plt.subplot(1, 2, 2)\n",
    "plt.plot(Ttest_i, 'o-')\n",
    "plt.plot(probs_test[:, :], '-')\n",
    "plt.legend(('Ttest', 'Probs Class 1', 'Probs Class 0'))"
   ]
  },
  {
   "cell_type": "markdown",
   "metadata": {},
   "source": [
    "Training converges faster, but the generalization to test data not as accurate.\n",
    "\n",
    "Let's see what our four convolutional units learned.  Draw images of their weight matrices."
   ]
  },
  {
   "cell_type": "code",
   "execution_count": 164,
   "metadata": {},
   "outputs": [
    {
     "data": {
      "text/plain": [
       "(26, 4)"
      ]
     },
     "execution_count": 164,
     "metadata": {},
     "output_type": "execute_result"
    }
   ],
   "source": [
    "nnet.Ws[0].shape"
   ]
  },
  {
   "cell_type": "code",
   "execution_count": 165,
   "metadata": {},
   "outputs": [
    {
     "data": {
      "image/png": "[encoded data removed]",
      "text/plain": [
       "<Figure size 432x288 with 8 Axes>"
      ]
     },
     "metadata": {
      "needs_background": "light"
     },
     "output_type": "display_data"
    }
   ],
   "source": [
    "conv_W = nnet.Ws[0][1:, :]  # do not include bias weights\n",
    "\n",
    "for uniti in range(4):\n",
    "    plt.subplot(2, 2, uniti + 1)\n",
    "    plt.imshow(conv_W[:, uniti].reshape(5, 5))\n",
    "    plt.colorbar()"
   ]
  },
  {
   "cell_type": "markdown",
   "metadata": {},
   "source": [
    "How well would a fully-connected, non-convolutional net do?"
   ]
  },
  {
   "cell_type": "code",
   "execution_count": 166,
   "metadata": {},
   "outputs": [
    {
     "data": {
      "text/plain": [
       "((200, 400), (200, 1))"
      ]
     },
     "execution_count": 166,
     "metadata": {},
     "output_type": "execute_result"
    }
   ],
   "source": [
    "Xtrain.shape, Ttrain.shape"
   ]
  },
  {
   "cell_type": "code",
   "execution_count": 167,
   "metadata": {},
   "outputs": [
    {
     "name": "stdout",
     "output_type": "stream",
     "text": [
      "Adam: Epoch 100 Error=0.97805\n",
      "Adam: Epoch 200 Error=0.99140\n",
      "Adam: Epoch 300 Error=0.99517\n",
      "Adam: Epoch 400 Error=0.99684\n",
      "Adam: Epoch 500 Error=0.99774\n",
      "Adam: Epoch 600 Error=0.99829\n",
      "Adam: Epoch 700 Error=0.99865\n",
      "Adam: Epoch 800 Error=0.99891\n",
      "Adam: Epoch 900 Error=0.99910\n",
      "Adam: Epoch 1000 Error=0.99924\n",
      "took 0.8956232070922852 seconds\n",
      "Train percent correct 100.0\n",
      "Test fraction correct 86.5\n"
     ]
    }
   ],
   "source": [
    "# nnet = nn. NeuralNetworkClassifierCNN(20 * 20, [4, 2], len(np.unique(Ttrain)),\n",
    "#                                        patch_size=5, stride=2)\n",
    "\n",
    "nnet = nn. NeuralNetworkClassifier(Xtrain.shape[1], [4, 2], len(np.unique(Ttrain)))\n",
    "\n",
    "start_time = time.time()\n",
    "nnet.train(Xtrain, Ttrain, 1000, learning_rate=0.01, verbose=True, method='adam')\n",
    "classes_train, probs_train = nnet.use(Xtrain)\n",
    "\n",
    "print(f'took {time.time() - start_time} seconds')\n",
    "print(f'Train percent correct {100 * np.mean(Ttrain == classes_train)}')\n",
    "\n",
    "classes_test, probs_test = nnet.use(Xtest)\n",
    "print(f'Test fraction correct {100 * np.mean(Ttest == classes_test)}')"
   ]
  },
  {
   "cell_type": "code",
   "execution_count": 168,
   "metadata": {},
   "outputs": [
    {
     "data": {
      "text/plain": [
       "<matplotlib.legend.Legend at 0x130b0654a08>"
      ]
     },
     "execution_count": 168,
     "metadata": {},
     "output_type": "execute_result"
    },
    {
     "data": {
      "image/png": "[encoded data removed]",
      "text/plain": [
       "<Figure size 720x360 with 2 Axes>"
      ]
     },
     "metadata": {
      "needs_background": "light"
     },
     "output_type": "display_data"
    }
   ],
   "source": [
    "plt.figure(figsize=(10, 5))\n",
    "plt.subplot(1, 2, 1)\n",
    "plt.plot(nnet.error_trace)\n",
    "\n",
    "Ttest_i = (Ttest == 'diamond').astype(int)\n",
    "\n",
    "plt.subplot(1, 2, 2)\n",
    "plt.plot(Ttest_i, 'o-')\n",
    "plt.plot(probs_test[:, :], '-')\n",
    "plt.legend(('Ttest', 'Probs Class 0', 'Probs Class 1'))"
   ]
  },
  {
   "cell_type": "code",
   "execution_count": 169,
   "metadata": {},
   "outputs": [
    {
     "name": "stdout",
     "output_type": "stream",
     "text": [
      "(400, 4)\n"
     ]
    }
   ],
   "source": [
    "first_layer_W = nnet.Ws[0][1:, :]  # do not include bias weights\n",
    "print(first_layer_W.shape)"
   ]
  },
  {
   "cell_type": "code",
   "execution_count": 170,
   "metadata": {},
   "outputs": [
    {
     "data": {
      "image/png": "[encoded data removed]",
      "text/plain": [
       "<Figure size 432x288 with 8 Axes>"
      ]
     },
     "metadata": {
      "needs_background": "light"
     },
     "output_type": "display_data"
    }
   ],
   "source": [
    "for uniti in range(4):\n",
    "    plt.subplot(2, 2, uniti + 1)\n",
    "    plt.imshow(first_layer_W[:, uniti].reshape(20, 20))  # notice we have to reshape to the full image size\n",
    "    plt.colorbar()"
   ]
  },
  {
   "cell_type": "markdown",
   "metadata": {},
   "source": [
    "The fully-connected net tends to overfit to the training data, but fails to perform as well on the testing data.  Look at the 1,600 weights we plotted above (specifically the kinds of shapes you can pick out in there).  What does this tell us about what the fully-connected net is learning?"
   ]
  },
  {
   "cell_type": "markdown",
   "metadata": {},
   "source": [
    "## Summary"
   ]
  },
  {
   "cell_type": "markdown",
   "metadata": {},
   "source": [
    "So, to summarize, with fewer weights, convolutional nets can learn more generalizable matrices (filters).  These filters do not necessarily \"match\" image features (visibly) but can also be trained to recognize multiple types of features at the same time (e.g., squares vs. diamonds, or straight lines vs. diagonal lines)."
   ]
  },
  {
   "cell_type": "markdown",
   "metadata": {},
   "source": [
    "We need to make our input image into strided, overlapping patches first, so that the filters can learn the differences and similarities between neighboring patches that differ slightly.\n",
    "\n",
    "After you standardize your input values (remember, these are just numbers, like intensity or color values), you convert that entire matrix into patches.  You do this in both `train` and `use`.\n",
    "\n",
    "The input to your `forward_pass` function is the patches, not the raw inputs.  If the output of a convolutional layer is input to a fully-connected layer, you must flatten that output into a single vector.\n",
    "\n",
    "Back-prop is a little tricky.  The delta that is back-propped from a fully-connected layer, has multiple values for each convolutional unit, that come from each application of that unit from each patch.  We must sum $\\frac{\\partial E}{\\partial W}$ for all delta values:\n",
    "    \n",
    "1. Reshape the delta matrix to $K \\times N$ where $N$ is the number of units in this convolutional layer.\n",
    "2. Reshape the convolutional layer input matrix to $N \\times P$ where $P$ is the number of values in a patch.\n",
    "3. Multiply the two together to get the gradient of everything but the bias weights.\n",
    "4. Sum every column of the reshaped delta matrix to get the gradient of the bias weights.\n",
    "    \n",
    "Compare to back-propagating through a fully connected layer, where we:\n",
    "\n",
    "3. Simply multiply the inputs to the layer by the delta.\n",
    "4. Don't need to reshape the delta matrix."
   ]
  },
  {
   "cell_type": "code",
   "execution_count": null,
   "metadata": {},
   "outputs": [],
   "source": []
  }
 ],
 "metadata": {
  "jupytext": {
   "formats": "ipynb,py:light"
  },
  "kernelspec": {
   "display_name": "Python 3",
   "language": "python",
   "name": "python3"
  },
  "language_info": {
   "codemirror_mode": {
    "name": "ipython",
    "version": 3
   },
   "file_extension": ".py",
   "mimetype": "text/x-python",
   "name": "python",
   "nbconvert_exporter": "python",
   "pygments_lexer": "ipython3",
   "version": "3.7.7"
  },
  "toc": {
   "base_numbering": 1,
   "nav_menu": {},
   "number_sections": true,
   "sideBar": true,
   "skip_h1_title": false,
   "title_cell": "Table of Contents",
   "title_sidebar": "Contents",
   "toc_cell": false,
   "toc_position": {
    "height": "calc(100% - 180px)",
    "left": "10px",
    "top": "150px",
    "width": "329px"
   },
   "toc_section_display": true,
   "toc_window_display": false
  }
 },
 "nbformat": 4,
 "nbformat_minor": 4
}
