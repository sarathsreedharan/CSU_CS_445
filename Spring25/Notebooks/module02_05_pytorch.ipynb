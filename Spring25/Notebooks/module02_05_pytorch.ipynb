{
  "cells": [
    {
      "cell_type": "markdown",
      "metadata": {
        "id": "view-in-github",
        "colab_type": "text"
      },
      "source": [
        "<a href=\"https://colab.research.google.com/github/sarathsreedharan/CSU_CS_445/blob/main/Spring25/Notebooks/module02_05_pytorch.ipynb\" target=\"_parent\"><img src=\"https://colab.research.google.com/assets/colab-badge.svg\" alt=\"Open In Colab\"/></a>"
      ]
    },
    {
      "cell_type": "markdown",
      "metadata": {
        "id": "DRnnL-4oXxND"
      },
      "source": [
        "Very helpful tutorials can be found at this site for [Pytorch tutorials](https://pytorch.org/tutorials/)."
      ]
    },
    {
      "cell_type": "code",
      "execution_count": 1,
      "metadata": {
        "id": "eZy9_hWeXxNE",
        "outputId": "6630811a-338c-4be4-a3ee-20f58e41f4f7",
        "colab": {
          "base_uri": "https://localhost:8080/"
        }
      },
      "outputs": [
        {
          "output_type": "stream",
          "name": "stdout",
          "text": [
            "2.5.1+cu124\n"
          ]
        }
      ],
      "source": [
        "import numpy as np\n",
        "import torch\n",
        "\n",
        "print(torch.__version__)\n",
        "import time\n",
        "\n",
        "import matplotlib.pyplot as plt"
      ]
    },
    {
      "cell_type": "markdown",
      "metadata": {
        "id": "PeYhgGMqXxNE"
      },
      "source": [
        "## Why use PyTorch?\n",
        "* Speed\n",
        "* Efficiency\n",
        "* GPUs\n",
        "* Instead of `Y = np.tanh(Y[-1] @ W[1:, :] + W[0:1, :])` just do `Y = hidden_layer(Y)`"
      ]
    },
    {
      "cell_type": "markdown",
      "metadata": {
        "id": "nApLyy8GXxNF"
      },
      "source": [
        "# torch.tensor"
      ]
    },
    {
      "cell_type": "markdown",
      "metadata": {
        "id": "MlOrGnNyXxNF"
      },
      "source": [
        "The core of PyTorch (and TensorFlow, etc.) is the \"tensor.\"\n",
        "\n",
        "The `torch` package contains classes and functions that are very similar to `numpy`.  It also provides functions to convert back and forth."
      ]
    },
    {
      "cell_type": "code",
      "execution_count": null,
      "metadata": {
        "id": "nerqsMwvXxNF",
        "outputId": "eacc4e1f-c7d1-4b7f-e71e-bbf916c993b3"
      },
      "outputs": [
        {
          "data": {
            "text/plain": [
              "[[0.1, 0.2, 0.3], [1.1, 1.2, 1.3], [2.1, 2.2, 2.3]]"
            ]
          },
          "execution_count": 126,
          "metadata": {},
          "output_type": "execute_result"
        }
      ],
      "source": [
        "data = [[0.1, 0.2, 0.3], [1.1, 1.2, 1.3], [2.1, 2.2, 2.3]]\n",
        "data"
      ]
    },
    {
      "cell_type": "code",
      "execution_count": null,
      "metadata": {
        "id": "3cEO73XQXxNF",
        "outputId": "1f2959f3-3834-4639-f985-578719367173"
      },
      "outputs": [
        {
          "data": {
            "text/plain": [
              "array([[0.1, 0.2, 0.3],\n",
              "       [1.1, 1.2, 1.3],\n",
              "       [2.1, 2.2, 2.3]])"
            ]
          },
          "execution_count": 127,
          "metadata": {},
          "output_type": "execute_result"
        }
      ],
      "source": [
        "a = np.array(data)\n",
        "a"
      ]
    },
    {
      "cell_type": "code",
      "execution_count": null,
      "metadata": {
        "id": "YMJWES7_XxNF",
        "outputId": "57f05144-0a81-42bb-8a66-f78c49f9ef3b"
      },
      "outputs": [
        {
          "data": {
            "text/plain": [
              "(numpy.ndarray, dtype('float64'))"
            ]
          },
          "execution_count": 128,
          "metadata": {},
          "output_type": "execute_result"
        }
      ],
      "source": [
        "type(a), a.dtype"
      ]
    },
    {
      "cell_type": "code",
      "execution_count": null,
      "metadata": {
        "id": "nCzcKk_WXxNF",
        "outputId": "a9b7508d-97c0-4ce8-9001-4c3d87254e6e"
      },
      "outputs": [
        {
          "data": {
            "text/plain": [
              "tensor([[0.1000, 0.2000, 0.3000],\n",
              "        [1.1000, 1.2000, 1.3000],\n",
              "        [2.1000, 2.2000, 2.3000]])"
            ]
          },
          "execution_count": 129,
          "metadata": {},
          "output_type": "execute_result"
        }
      ],
      "source": [
        "b = torch.tensor(data)\n",
        "b"
      ]
    },
    {
      "cell_type": "code",
      "execution_count": null,
      "metadata": {
        "id": "hnyZsGB5XxNF",
        "outputId": "1fdae8f0-5bcd-49c2-cd87-a995b62735cf"
      },
      "outputs": [
        {
          "data": {
            "text/plain": [
              "(torch.Tensor, torch.float32)"
            ]
          },
          "execution_count": 130,
          "metadata": {},
          "output_type": "execute_result"
        }
      ],
      "source": [
        "type(b), b.dtype"
      ]
    },
    {
      "cell_type": "code",
      "execution_count": null,
      "metadata": {
        "id": "w6ddyf1UXxNF",
        "outputId": "f6289a2d-6c4b-4fad-81db-7c66d0279ee7"
      },
      "outputs": [
        {
          "data": {
            "text/plain": [
              "tensor([[0.1000, 0.2000, 0.3000],\n",
              "        [1.1000, 1.2000, 1.3000],\n",
              "        [2.1000, 2.2000, 2.3000]], dtype=torch.float64)"
            ]
          },
          "execution_count": 131,
          "metadata": {},
          "output_type": "execute_result"
        }
      ],
      "source": [
        "c = torch.from_numpy(a)\n",
        "c"
      ]
    },
    {
      "cell_type": "code",
      "execution_count": null,
      "metadata": {
        "id": "jYh8485dXxNF",
        "outputId": "56614e1d-74d7-4017-f54e-ef96d52a61c8"
      },
      "outputs": [
        {
          "data": {
            "text/plain": [
              "(torch.Tensor, torch.float64)"
            ]
          },
          "execution_count": 132,
          "metadata": {},
          "output_type": "execute_result"
        }
      ],
      "source": [
        "type(c), c.dtype"
      ]
    },
    {
      "cell_type": "code",
      "execution_count": null,
      "metadata": {
        "id": "DwddfjFmXxNF",
        "outputId": "b5465bf0-3e44-4c68-835a-8bbb6b17e16f"
      },
      "outputs": [
        {
          "data": {
            "text/plain": [
              "tensor([[0.1000, 0.2000, 0.3000],\n",
              "        [1.1000, 1.2000, 1.3000],\n",
              "        [2.1000, 2.2000, 2.3000]], dtype=torch.float64)"
            ]
          },
          "execution_count": 133,
          "metadata": {},
          "output_type": "execute_result"
        }
      ],
      "source": [
        "d = torch.as_tensor(a)\n",
        "d"
      ]
    },
    {
      "cell_type": "code",
      "execution_count": null,
      "metadata": {
        "id": "WZn2egZKXxNG",
        "outputId": "7552bedd-b095-4a3a-9d2f-529f3b90f452"
      },
      "outputs": [
        {
          "data": {
            "text/plain": [
              "(torch.Tensor, torch.float64)"
            ]
          },
          "execution_count": 134,
          "metadata": {},
          "output_type": "execute_result"
        }
      ],
      "source": [
        "type(d), d.dtype"
      ]
    },
    {
      "cell_type": "code",
      "execution_count": null,
      "metadata": {
        "id": "IC6nA6MhXxNG",
        "outputId": "8a7502e2-1e46-4c23-d3eb-fc70d3aac76f"
      },
      "outputs": [
        {
          "data": {
            "text/plain": [
              "array([[0.1, 0.2, 0.3],\n",
              "       [1.1, 1.2, 1.3],\n",
              "       [2.1, 2.2, 2.3]])"
            ]
          },
          "execution_count": 135,
          "metadata": {},
          "output_type": "execute_result"
        }
      ],
      "source": [
        "e = d.numpy()\n",
        "e"
      ]
    },
    {
      "cell_type": "code",
      "execution_count": null,
      "metadata": {
        "id": "fyRxsHdOXxNG",
        "outputId": "3ae6f37c-3c41-49dc-85f8-55994998bbd9"
      },
      "outputs": [
        {
          "data": {
            "text/plain": [
              "(numpy.ndarray, dtype('float64'))"
            ]
          },
          "execution_count": 136,
          "metadata": {},
          "output_type": "execute_result"
        }
      ],
      "source": [
        "type(e), e.dtype"
      ]
    },
    {
      "cell_type": "markdown",
      "metadata": {
        "id": "hFNK2Qj_XxNG"
      },
      "source": [
        "`torch.tensor` copies the data.  `torch.from_numpy` and `torch.as_tensor` do not copy the data."
      ]
    },
    {
      "cell_type": "code",
      "execution_count": null,
      "metadata": {
        "id": "pkbV7UtgXxNG",
        "outputId": "3626fa11-5053-4b83-c18b-fee9dd3a31ea"
      },
      "outputs": [
        {
          "data": {
            "text/plain": [
              "array([[0.1, 0.2, 0.3],\n",
              "       [1.1, 1.2, 1.3],\n",
              "       [2.1, 2.2, 2.3]])"
            ]
          },
          "execution_count": 137,
          "metadata": {},
          "output_type": "execute_result"
        }
      ],
      "source": [
        "a"
      ]
    },
    {
      "cell_type": "code",
      "execution_count": null,
      "metadata": {
        "id": "o71h-qgmXxNG",
        "outputId": "4611838c-548a-4721-ce95-6d6d3679d7fc"
      },
      "outputs": [
        {
          "data": {
            "text/plain": [
              "tensor([[0.1000, 0.2000, 0.3000],\n",
              "        [1.1000, 1.2000, 1.3000],\n",
              "        [2.1000, 2.2000, 2.3000]], dtype=torch.float64)"
            ]
          },
          "execution_count": 138,
          "metadata": {},
          "output_type": "execute_result"
        }
      ],
      "source": [
        "b = torch.from_numpy(a)\n",
        "b"
      ]
    },
    {
      "cell_type": "code",
      "execution_count": null,
      "metadata": {
        "id": "EO1ebUaLXxNG",
        "outputId": "084050a0-4ae0-4b7b-e696-9889ee47bfdc"
      },
      "outputs": [
        {
          "data": {
            "text/plain": [
              "array([[42.42,  0.2 ,  0.3 ],\n",
              "       [ 1.1 ,  1.2 ,  1.3 ],\n",
              "       [ 2.1 ,  2.2 ,  2.3 ]])"
            ]
          },
          "execution_count": 139,
          "metadata": {},
          "output_type": "execute_result"
        }
      ],
      "source": [
        "a[0,0] = 42.42\n",
        "a"
      ]
    },
    {
      "cell_type": "code",
      "execution_count": null,
      "metadata": {
        "id": "2Y7kUK3dXxNG",
        "outputId": "87c16f20-7319-43a8-b0f4-cec1b94b9e3f"
      },
      "outputs": [
        {
          "data": {
            "text/plain": [
              "tensor([[42.4200,  0.2000,  0.3000],\n",
              "        [ 1.1000,  1.2000,  1.3000],\n",
              "        [ 2.1000,  2.2000,  2.3000]], dtype=torch.float64)"
            ]
          },
          "execution_count": 140,
          "metadata": {},
          "output_type": "execute_result"
        }
      ],
      "source": [
        "b"
      ]
    },
    {
      "cell_type": "code",
      "execution_count": null,
      "metadata": {
        "id": "mPOSEPBRXxNG",
        "outputId": "0eb25579-5934-4ff1-ab79-bdd0cb4eccc9"
      },
      "outputs": [
        {
          "data": {
            "text/plain": [
              "tensor([[42.4200,  0.2000,  0.3000],\n",
              "        [ 1.1000,  1.2000,  1.3000],\n",
              "        [ 2.1000,  2.2000,  2.3000]], dtype=torch.float64)"
            ]
          },
          "execution_count": 141,
          "metadata": {},
          "output_type": "execute_result"
        }
      ],
      "source": [
        "b = torch.tensor(a)\n",
        "b"
      ]
    },
    {
      "cell_type": "code",
      "execution_count": null,
      "metadata": {
        "id": "eHVJCg8iXxNG",
        "outputId": "1dcaf9e6-3e8f-432c-af3f-b3d0184bda5d"
      },
      "outputs": [
        {
          "data": {
            "text/plain": [
              "array([[1.2345e+04, 2.0000e-01, 3.0000e-01],\n",
              "       [1.1000e+00, 1.2000e+00, 1.3000e+00],\n",
              "       [2.1000e+00, 2.2000e+00, 2.3000e+00]])"
            ]
          },
          "execution_count": 142,
          "metadata": {},
          "output_type": "execute_result"
        }
      ],
      "source": [
        "a[0,0] = 12345.0\n",
        "a"
      ]
    },
    {
      "cell_type": "code",
      "execution_count": null,
      "metadata": {
        "id": "2fnh732YXxNG",
        "outputId": "cc0068e3-7a7e-449a-8c80-06cddcb537c1"
      },
      "outputs": [
        {
          "data": {
            "text/plain": [
              "tensor([[42.4200,  0.2000,  0.3000],\n",
              "        [ 1.1000,  1.2000,  1.3000],\n",
              "        [ 2.1000,  2.2000,  2.3000]], dtype=torch.float64)"
            ]
          },
          "execution_count": 143,
          "metadata": {},
          "output_type": "execute_result"
        }
      ],
      "source": [
        "b"
      ]
    },
    {
      "cell_type": "markdown",
      "metadata": {
        "id": "AoJdUtQvXxNG"
      },
      "source": [
        "We can even use `@` for matrix multiplcation as we do in `numpy`."
      ]
    },
    {
      "cell_type": "code",
      "execution_count": null,
      "metadata": {
        "id": "U45GwOPIXxNG",
        "outputId": "577e32de-6d2a-42b3-93d2-37683d7abd79"
      },
      "outputs": [
        {
          "data": {
            "text/plain": [
              "(10, 20)"
            ]
          },
          "execution_count": 144,
          "metadata": {},
          "output_type": "execute_result"
        }
      ],
      "source": [
        "a = np.random.uniform(-0.1, 0.1, size=(10, 5))\n",
        "b = np.random.uniform(-0.1, 0.1, size=(5, 20))\n",
        "c = a @ b\n",
        "c.shape"
      ]
    },
    {
      "cell_type": "code",
      "execution_count": null,
      "metadata": {
        "id": "0L0_hVrdXxNG"
      },
      "outputs": [],
      "source": [
        "# torch.rand?\n",
        "# bt"
      ]
    },
    {
      "cell_type": "code",
      "execution_count": null,
      "metadata": {
        "id": "uloZd2fuXxNH",
        "outputId": "6028ff72-06ce-4667-fb3d-8a836e8f6944"
      },
      "outputs": [
        {
          "data": {
            "text/plain": [
              "torch.Size([10, 20])"
            ]
          },
          "execution_count": 146,
          "metadata": {},
          "output_type": "execute_result"
        }
      ],
      "source": [
        "at = (torch.rand(size=(10, 5)) - 0.5) / 5\n",
        "bt = (torch.rand(size=(5, 20)) - 0.5) / 5\n",
        "ct = at @ bt\n",
        "ct.shape"
      ]
    },
    {
      "cell_type": "markdown",
      "metadata": {
        "id": "kw9Ps-QNXxNH"
      },
      "source": [
        "# Automatic Gradients using autograd"
      ]
    },
    {
      "cell_type": "markdown",
      "metadata": {
        "id": "yi6cG2s8XxNH"
      },
      "source": [
        "\"To deal with hyper-planes in a 14-dimensional space, visualize a 3-D space and say â€˜fourteenâ€™ to yourself very loudly. Everyone does it.\" â€”Geoffrey Hinton"
      ]
    },
    {
      "cell_type": "markdown",
      "metadata": {
        "id": "lqnK6H_vXxNH"
      },
      "source": [
        "\"That is cool.\" â€”Abraham Lincoln ([look it up](https://en.wikipedia.org/wiki/Cooper_Union_speech#Section_addressed_%22to_the_Southern_people%22))"
      ]
    },
    {
      "cell_type": "markdown",
      "metadata": {
        "id": "HjLV1FR1XxNH"
      },
      "source": [
        "People are pretty bad at calculus normally, let alone in 3+ dimensions.  Part of the reason machine learning can feel like magic (IMO) is that there's just too much math going on for one person to fathom, let alone calculate each step.\n",
        "\n",
        "We take a lot of the work out by using matrices, and more by using GPUs, etc., but there's still explainable math going on at each step.\n",
        "\n",
        "There's just **A LOT** of it. When building a network, it's impractical to calculate gradients for these huge composite functions, especially when they happen in high-dimensional space."
      ]
    },
    {
      "cell_type": "markdown",
      "metadata": {
        "id": "Eb3Of8R3XxNH"
      },
      "source": [
        "What is the derivative of $\\sin(x)$?"
      ]
    },
    {
      "cell_type": "code",
      "execution_count": null,
      "metadata": {
        "id": "0YynlUWPXxNH",
        "outputId": "d09749ce-1e13-4e56-d590-7e6a682cdeee"
      },
      "outputs": [
        {
          "data": {
            "image/png": "[encoded data removed]",
            "text/plain": [
              "<Figure size 720x360 with 1 Axes>"
            ]
          },
          "metadata": {
            "needs_background": "light"
          },
          "output_type": "display_data"
        }
      ],
      "source": [
        "plt.figure(figsize=(10, 5))\n",
        "x = np.linspace(-2*np.pi, 2*np.pi, 100) # 100 evenly-spaced points on a line from -2*pi to 2*pi\n",
        "y = np.sin(x)\n",
        "dy = np.cos(x)\n",
        "plt.plot(x, y)\n",
        "plt.plot(x, dy)\n",
        "plt.legend(('$\\sin(x)$', '$\\\\frac{d \\sin(x)}{dx} = \\cos(x)$',));"
      ]
    },
    {
      "cell_type": "markdown",
      "metadata": {
        "id": "DHfY29ElXxNH"
      },
      "source": [
        "Now, let's explore how to do this using PyTorch and tensors."
      ]
    },
    {
      "cell_type": "code",
      "execution_count": null,
      "metadata": {
        "id": "-ldugvYuXxNH",
        "outputId": "319d35ce-a2e8-421a-bc64-b5e9c9b73d50"
      },
      "outputs": [
        {
          "data": {
            "text/plain": [
              "tensor([-6.2832, -6.1563, -6.0293, -5.9024, -5.7755, -5.6485, -5.5216, -5.3947,\n",
              "        -5.2677, -5.1408, -5.0139, -4.8869, -4.7600, -4.6331, -4.5061, -4.3792,\n",
              "        -4.2523, -4.1253, -3.9984, -3.8715, -3.7445, -3.6176, -3.4907, -3.3637,\n",
              "        -3.2368, -3.1099, -2.9829, -2.8560, -2.7291, -2.6021, -2.4752, -2.3483,\n",
              "        -2.2213, -2.0944, -1.9675, -1.8405, -1.7136, -1.5867, -1.4597, -1.3328,\n",
              "        -1.2059, -1.0789, -0.9520, -0.8251, -0.6981, -0.5712, -0.4443, -0.3173,\n",
              "        -0.1904, -0.0635,  0.0635,  0.1904,  0.3173,  0.4443,  0.5712,  0.6981,\n",
              "         0.8251,  0.9520,  1.0789,  1.2059,  1.3328,  1.4597,  1.5867,  1.7136,\n",
              "         1.8405,  1.9675,  2.0944,  2.2213,  2.3483,  2.4752,  2.6021,  2.7291,\n",
              "         2.8560,  2.9829,  3.1099,  3.2368,  3.3637,  3.4907,  3.6176,  3.7445,\n",
              "         3.8715,  3.9984,  4.1253,  4.2523,  4.3792,  4.5061,  4.6331,  4.7600,\n",
              "         4.8869,  5.0139,  5.1408,  5.2677,  5.3947,  5.5216,  5.6485,  5.7755,\n",
              "         5.9024,  6.0293,  6.1563,  6.2832], dtype=torch.float64)"
            ]
          },
          "execution_count": 160,
          "metadata": {},
          "output_type": "execute_result"
        }
      ],
      "source": [
        "xt = torch.from_numpy(x) # create a tensor from an ndarray\n",
        "xt"
      ]
    },
    {
      "cell_type": "code",
      "execution_count": null,
      "metadata": {
        "id": "ggzWziCRXxNH",
        "outputId": "1e2dcd5c-b1b7-41b1-9758-56b54cf9262e"
      },
      "outputs": [
        {
          "data": {
            "text/plain": [
              "False"
            ]
          },
          "execution_count": 161,
          "metadata": {},
          "output_type": "execute_result"
        }
      ],
      "source": [
        "xt.requires_grad"
      ]
    },
    {
      "cell_type": "code",
      "execution_count": null,
      "metadata": {
        "id": "oaO_MWPCXxNH",
        "outputId": "5722b685-ad21-4c02-9e37-956cdaf295fc"
      },
      "outputs": [
        {
          "data": {
            "text/plain": [
              "tensor([-6.2832, -6.1563, -6.0293, -5.9024, -5.7755, -5.6485, -5.5216, -5.3947,\n",
              "        -5.2677, -5.1408, -5.0139, -4.8869, -4.7600, -4.6331, -4.5061, -4.3792,\n",
              "        -4.2523, -4.1253, -3.9984, -3.8715, -3.7445, -3.6176, -3.4907, -3.3637,\n",
              "        -3.2368, -3.1099, -2.9829, -2.8560, -2.7291, -2.6021, -2.4752, -2.3483,\n",
              "        -2.2213, -2.0944, -1.9675, -1.8405, -1.7136, -1.5867, -1.4597, -1.3328,\n",
              "        -1.2059, -1.0789, -0.9520, -0.8251, -0.6981, -0.5712, -0.4443, -0.3173,\n",
              "        -0.1904, -0.0635,  0.0635,  0.1904,  0.3173,  0.4443,  0.5712,  0.6981,\n",
              "         0.8251,  0.9520,  1.0789,  1.2059,  1.3328,  1.4597,  1.5867,  1.7136,\n",
              "         1.8405,  1.9675,  2.0944,  2.2213,  2.3483,  2.4752,  2.6021,  2.7291,\n",
              "         2.8560,  2.9829,  3.1099,  3.2368,  3.3637,  3.4907,  3.6176,  3.7445,\n",
              "         3.8715,  3.9984,  4.1253,  4.2523,  4.3792,  4.5061,  4.6331,  4.7600,\n",
              "         4.8869,  5.0139,  5.1408,  5.2677,  5.3947,  5.5216,  5.6485,  5.7755,\n",
              "         5.9024,  6.0293,  6.1563,  6.2832], dtype=torch.float64,\n",
              "       requires_grad=True)"
            ]
          },
          "execution_count": 162,
          "metadata": {},
          "output_type": "execute_result"
        }
      ],
      "source": [
        "xt.requires_grad_(True)"
      ]
    },
    {
      "cell_type": "code",
      "execution_count": null,
      "metadata": {
        "id": "eWnz5fysXxNH",
        "outputId": "2576bc26-c2be-4faf-d13c-c99e899a489d"
      },
      "outputs": [
        {
          "data": {
            "text/plain": [
              "True"
            ]
          },
          "execution_count": 163,
          "metadata": {},
          "output_type": "execute_result"
        }
      ],
      "source": [
        "xt.requires_grad"
      ]
    },
    {
      "cell_type": "markdown",
      "metadata": {
        "id": "k3BRIV8vXxNR"
      },
      "source": [
        "By setting `.requires_grad = True`, you are starting to form a backwards graph (history) of every operation that is being applied on this tensor, which aids in calculating composite gradients."
      ]
    },
    {
      "cell_type": "code",
      "execution_count": null,
      "metadata": {
        "id": "PyHZ5rvhXxNR",
        "outputId": "7ca36a5b-658d-4870-f473-bbb78f2e9055"
      },
      "outputs": [
        {
          "name": "stdout",
          "output_type": "stream",
          "text": [
            "None\n"
          ]
        }
      ],
      "source": [
        "print(xt.grad_fn)"
      ]
    },
    {
      "cell_type": "markdown",
      "metadata": {
        "id": "uzfGAjaeXxNR"
      },
      "source": [
        "Now we can define our $\\sin$ function."
      ]
    },
    {
      "cell_type": "code",
      "execution_count": null,
      "metadata": {
        "id": "OXDIc4gQXxNR",
        "outputId": "8e497a03-9916-46d6-9b34-7f57c2fc526f"
      },
      "outputs": [
        {
          "data": {
            "text/plain": [
              "tensor([ 2.4493e-16,  1.2659e-01,  2.5115e-01,  3.7166e-01,  4.8620e-01,\n",
              "         5.9291e-01,  6.9008e-01,  7.7615e-01,  8.4973e-01,  9.0963e-01,\n",
              "         9.5490e-01,  9.8481e-01,  9.9887e-01,  9.9685e-01,  9.7880e-01,\n",
              "         9.4500e-01,  8.9599e-01,  8.3257e-01,  7.5575e-01,  6.6677e-01,\n",
              "         5.6706e-01,  4.5823e-01,  3.4202e-01,  2.2031e-01,  9.5056e-02,\n",
              "        -3.1728e-02, -1.5800e-01, -2.8173e-01, -4.0093e-01, -5.1368e-01,\n",
              "        -6.1816e-01, -7.1269e-01, -7.9576e-01, -8.6603e-01, -9.2235e-01,\n",
              "        -9.6384e-01, -9.8982e-01, -9.9987e-01, -9.9384e-01, -9.7181e-01,\n",
              "        -9.3415e-01, -8.8145e-01, -8.1458e-01, -7.3459e-01, -6.4279e-01,\n",
              "        -5.4064e-01, -4.2979e-01, -3.1203e-01, -1.8925e-01, -6.3424e-02,\n",
              "         6.3424e-02,  1.8925e-01,  3.1203e-01,  4.2979e-01,  5.4064e-01,\n",
              "         6.4279e-01,  7.3459e-01,  8.1458e-01,  8.8145e-01,  9.3415e-01,\n",
              "         9.7181e-01,  9.9384e-01,  9.9987e-01,  9.8982e-01,  9.6384e-01,\n",
              "         9.2235e-01,  8.6603e-01,  7.9576e-01,  7.1269e-01,  6.1816e-01,\n",
              "         5.1368e-01,  4.0093e-01,  2.8173e-01,  1.5800e-01,  3.1728e-02,\n",
              "        -9.5056e-02, -2.2031e-01, -3.4202e-01, -4.5823e-01, -5.6706e-01,\n",
              "        -6.6677e-01, -7.5575e-01, -8.3257e-01, -8.9599e-01, -9.4500e-01,\n",
              "        -9.7880e-01, -9.9685e-01, -9.9887e-01, -9.8481e-01, -9.5490e-01,\n",
              "        -9.0963e-01, -8.4973e-01, -7.7615e-01, -6.9008e-01, -5.9291e-01,\n",
              "        -4.8620e-01, -3.7166e-01, -2.5115e-01, -1.2659e-01, -2.4493e-16],\n",
              "       dtype=torch.float64, grad_fn=<SinBackward>)"
            ]
          },
          "execution_count": 165,
          "metadata": {},
          "output_type": "execute_result"
        }
      ],
      "source": [
        "yt = torch.sin(xt)\n",
        "yt"
      ]
    },
    {
      "cell_type": "code",
      "execution_count": null,
      "metadata": {
        "id": "qHYUqSSUXxNR"
      },
      "outputs": [],
      "source": [
        "xt.grad?"
      ]
    },
    {
      "cell_type": "code",
      "execution_count": null,
      "metadata": {
        "id": "hArnTGr3XxNR",
        "outputId": "fc79b8d0-733c-4c21-c6fd-0d075578b1ca"
      },
      "outputs": [
        {
          "data": {
            "text/plain": [
              "torch.Size([100])"
            ]
          },
          "execution_count": 167,
          "metadata": {},
          "output_type": "execute_result"
        }
      ],
      "source": [
        "xt.shape"
      ]
    },
    {
      "cell_type": "code",
      "execution_count": null,
      "metadata": {
        "id": "4AUoidb-XxNR"
      },
      "outputs": [],
      "source": [
        "yt.backward?"
      ]
    },
    {
      "cell_type": "markdown",
      "metadata": {
        "id": "tSe5h4zAXxNR"
      },
      "source": [
        "`yt.backward` computes $\\frac{dyt}{dx}$ for every $x$ in `yt` that has `requires_grad` set to `True`."
      ]
    },
    {
      "cell_type": "code",
      "execution_count": null,
      "metadata": {
        "id": "MoLTlLgOXxNR"
      },
      "outputs": [],
      "source": [
        "yt.backward(torch.ones(100)) # the argument represents the gradient of yt w.r.t. to itself (hence, all ones)"
      ]
    },
    {
      "cell_type": "code",
      "execution_count": null,
      "metadata": {
        "id": "N-2g1MKVXxNR",
        "outputId": "0c3305ae-d721-4d85-8f89-a1288c366358"
      },
      "outputs": [
        {
          "data": {
            "text/plain": [
              "tensor([ 1.0000,  0.9920,  0.9679,  0.9284,  0.8738,  0.8053,  0.7237,  0.6306,\n",
              "         0.5272,  0.4154,  0.2969,  0.1736,  0.0476, -0.0792, -0.2048, -0.3271,\n",
              "        -0.4441, -0.5539, -0.6549, -0.7453, -0.8237, -0.8888, -0.9397, -0.9754,\n",
              "        -0.9955, -0.9995, -0.9874, -0.9595, -0.9161, -0.8580, -0.7861, -0.7015,\n",
              "        -0.6056, -0.5000, -0.3863, -0.2665, -0.1423, -0.0159,  0.1108,  0.2358,\n",
              "         0.3569,  0.4723,  0.5801,  0.6785,  0.7660,  0.8413,  0.9029,  0.9501,\n",
              "         0.9819,  0.9980,  0.9980,  0.9819,  0.9501,  0.9029,  0.8413,  0.7660,\n",
              "         0.6785,  0.5801,  0.4723,  0.3569,  0.2358,  0.1108, -0.0159, -0.1423,\n",
              "        -0.2665, -0.3863, -0.5000, -0.6056, -0.7015, -0.7861, -0.8580, -0.9161,\n",
              "        -0.9595, -0.9874, -0.9995, -0.9955, -0.9754, -0.9397, -0.8888, -0.8237,\n",
              "        -0.7453, -0.6549, -0.5539, -0.4441, -0.3271, -0.2048, -0.0792,  0.0476,\n",
              "         0.1736,  0.2969,  0.4154,  0.5272,  0.6306,  0.7237,  0.8053,  0.8738,\n",
              "         0.9284,  0.9679,  0.9920,  1.0000], dtype=torch.float64)"
            ]
          },
          "execution_count": 170,
          "metadata": {},
          "output_type": "execute_result"
        }
      ],
      "source": [
        "xt.grad"
      ]
    },
    {
      "cell_type": "markdown",
      "metadata": {
        "id": "I7EcTXWvXxNR"
      },
      "source": [
        "This is now $cos(x)$.  Why?\n",
        "\n",
        "Look above at how we compute `yt`: `yt = torch.sin(xt)`\n",
        "\n",
        "Since `yt` is created by performing an operation over `xt`, running `yt.backward` will keep a record of updated gradients for `xt` if `xt.requires_grad` is `True` (which it is)."
      ]
    },
    {
      "cell_type": "markdown",
      "metadata": {
        "id": "QOppOH19XxNR"
      },
      "source": [
        "Be alert to your \"in-place\" calculations.  Anyway, let's visualize some of these operations."
      ]
    },
    {
      "cell_type": "code",
      "execution_count": null,
      "metadata": {
        "id": "eCLVnkDTXxNR",
        "outputId": "16376198-bb90-48a2-fa6a-10700c371d35"
      },
      "outputs": [
        {
          "ename": "RuntimeError",
          "evalue": "Can't call numpy() on Tensor that requires grad. Use tensor.detach().numpy() instead.",
          "output_type": "error",
          "traceback": [
            "\u001b[1;31m---------------------------------------------------------------------------\u001b[0m",
            "\u001b[1;31mRuntimeError\u001b[0m                              Traceback (most recent call last)",
            "\u001b[1;32m<ipython-input-171-b86bfeb842bc>\u001b[0m in \u001b[0;36m<module>\u001b[1;34m\u001b[0m\n\u001b[0;32m      1\u001b[0m \u001b[0mplt\u001b[0m\u001b[1;33m.\u001b[0m\u001b[0mfigure\u001b[0m\u001b[1;33m(\u001b[0m\u001b[0mfigsize\u001b[0m\u001b[1;33m=\u001b[0m\u001b[1;33m(\u001b[0m\u001b[1;36m10\u001b[0m\u001b[1;33m,\u001b[0m \u001b[1;36m5\u001b[0m\u001b[1;33m)\u001b[0m\u001b[1;33m)\u001b[0m\u001b[1;33m\u001b[0m\u001b[1;33m\u001b[0m\u001b[0m\n\u001b[1;32m----> 2\u001b[1;33m \u001b[0mplt\u001b[0m\u001b[1;33m.\u001b[0m\u001b[0mplot\u001b[0m\u001b[1;33m(\u001b[0m\u001b[0mxt\u001b[0m\u001b[1;33m,\u001b[0m \u001b[0myt\u001b[0m\u001b[1;33m)\u001b[0m\u001b[1;33m\u001b[0m\u001b[1;33m\u001b[0m\u001b[0m\n\u001b[0m",
            "\u001b[1;32m~\\miniconda3\\lib\\site-packages\\matplotlib\\pyplot.py\u001b[0m in \u001b[0;36mplot\u001b[1;34m(scalex, scaley, data, *args, **kwargs)\u001b[0m\n\u001b[0;32m   2840\u001b[0m     return gca().plot(\n\u001b[0;32m   2841\u001b[0m         \u001b[1;33m*\u001b[0m\u001b[0margs\u001b[0m\u001b[1;33m,\u001b[0m \u001b[0mscalex\u001b[0m\u001b[1;33m=\u001b[0m\u001b[0mscalex\u001b[0m\u001b[1;33m,\u001b[0m \u001b[0mscaley\u001b[0m\u001b[1;33m=\u001b[0m\u001b[0mscaley\u001b[0m\u001b[1;33m,\u001b[0m\u001b[1;33m\u001b[0m\u001b[1;33m\u001b[0m\u001b[0m\n\u001b[1;32m-> 2842\u001b[1;33m         **({\"data\": data} if data is not None else {}), **kwargs)\n\u001b[0m\u001b[0;32m   2843\u001b[0m \u001b[1;33m\u001b[0m\u001b[0m\n\u001b[0;32m   2844\u001b[0m \u001b[1;33m\u001b[0m\u001b[0m\n",
            "\u001b[1;32m~\\miniconda3\\lib\\site-packages\\matplotlib\\axes\\_axes.py\u001b[0m in \u001b[0;36mplot\u001b[1;34m(self, scalex, scaley, data, *args, **kwargs)\u001b[0m\n\u001b[0;32m   1743\u001b[0m         \u001b[0mlines\u001b[0m \u001b[1;33m=\u001b[0m \u001b[1;33m[\u001b[0m\u001b[1;33m*\u001b[0m\u001b[0mself\u001b[0m\u001b[1;33m.\u001b[0m\u001b[0m_get_lines\u001b[0m\u001b[1;33m(\u001b[0m\u001b[1;33m*\u001b[0m\u001b[0margs\u001b[0m\u001b[1;33m,\u001b[0m \u001b[0mdata\u001b[0m\u001b[1;33m=\u001b[0m\u001b[0mdata\u001b[0m\u001b[1;33m,\u001b[0m \u001b[1;33m**\u001b[0m\u001b[0mkwargs\u001b[0m\u001b[1;33m)\u001b[0m\u001b[1;33m]\u001b[0m\u001b[1;33m\u001b[0m\u001b[1;33m\u001b[0m\u001b[0m\n\u001b[0;32m   1744\u001b[0m         \u001b[1;32mfor\u001b[0m \u001b[0mline\u001b[0m \u001b[1;32min\u001b[0m \u001b[0mlines\u001b[0m\u001b[1;33m:\u001b[0m\u001b[1;33m\u001b[0m\u001b[1;33m\u001b[0m\u001b[0m\n\u001b[1;32m-> 1745\u001b[1;33m             \u001b[0mself\u001b[0m\u001b[1;33m.\u001b[0m\u001b[0madd_line\u001b[0m\u001b[1;33m(\u001b[0m\u001b[0mline\u001b[0m\u001b[1;33m)\u001b[0m\u001b[1;33m\u001b[0m\u001b[1;33m\u001b[0m\u001b[0m\n\u001b[0m\u001b[0;32m   1746\u001b[0m         \u001b[0mself\u001b[0m\u001b[1;33m.\u001b[0m\u001b[0m_request_autoscale_view\u001b[0m\u001b[1;33m(\u001b[0m\u001b[0mscalex\u001b[0m\u001b[1;33m=\u001b[0m\u001b[0mscalex\u001b[0m\u001b[1;33m,\u001b[0m \u001b[0mscaley\u001b[0m\u001b[1;33m=\u001b[0m\u001b[0mscaley\u001b[0m\u001b[1;33m)\u001b[0m\u001b[1;33m\u001b[0m\u001b[1;33m\u001b[0m\u001b[0m\n\u001b[0;32m   1747\u001b[0m         \u001b[1;32mreturn\u001b[0m \u001b[0mlines\u001b[0m\u001b[1;33m\u001b[0m\u001b[1;33m\u001b[0m\u001b[0m\n",
            "\u001b[1;32m~\\miniconda3\\lib\\site-packages\\matplotlib\\axes\\_base.py\u001b[0m in \u001b[0;36madd_line\u001b[1;34m(self, line)\u001b[0m\n\u001b[0;32m   1962\u001b[0m             \u001b[0mline\u001b[0m\u001b[1;33m.\u001b[0m\u001b[0mset_clip_path\u001b[0m\u001b[1;33m(\u001b[0m\u001b[0mself\u001b[0m\u001b[1;33m.\u001b[0m\u001b[0mpatch\u001b[0m\u001b[1;33m)\u001b[0m\u001b[1;33m\u001b[0m\u001b[1;33m\u001b[0m\u001b[0m\n\u001b[0;32m   1963\u001b[0m \u001b[1;33m\u001b[0m\u001b[0m\n\u001b[1;32m-> 1964\u001b[1;33m         \u001b[0mself\u001b[0m\u001b[1;33m.\u001b[0m\u001b[0m_update_line_limits\u001b[0m\u001b[1;33m(\u001b[0m\u001b[0mline\u001b[0m\u001b[1;33m)\u001b[0m\u001b[1;33m\u001b[0m\u001b[1;33m\u001b[0m\u001b[0m\n\u001b[0m\u001b[0;32m   1965\u001b[0m         \u001b[1;32mif\u001b[0m \u001b[1;32mnot\u001b[0m \u001b[0mline\u001b[0m\u001b[1;33m.\u001b[0m\u001b[0mget_label\u001b[0m\u001b[1;33m(\u001b[0m\u001b[1;33m)\u001b[0m\u001b[1;33m:\u001b[0m\u001b[1;33m\u001b[0m\u001b[1;33m\u001b[0m\u001b[0m\n\u001b[0;32m   1966\u001b[0m             \u001b[0mline\u001b[0m\u001b[1;33m.\u001b[0m\u001b[0mset_label\u001b[0m\u001b[1;33m(\u001b[0m\u001b[1;34m'_line%d'\u001b[0m \u001b[1;33m%\u001b[0m \u001b[0mlen\u001b[0m\u001b[1;33m(\u001b[0m\u001b[0mself\u001b[0m\u001b[1;33m.\u001b[0m\u001b[0mlines\u001b[0m\u001b[1;33m)\u001b[0m\u001b[1;33m)\u001b[0m\u001b[1;33m\u001b[0m\u001b[1;33m\u001b[0m\u001b[0m\n",
            "\u001b[1;32m~\\miniconda3\\lib\\site-packages\\matplotlib\\axes\\_base.py\u001b[0m in \u001b[0;36m_update_line_limits\u001b[1;34m(self, line)\u001b[0m\n\u001b[0;32m   1984\u001b[0m         \u001b[0mFigures\u001b[0m \u001b[0mout\u001b[0m \u001b[0mthe\u001b[0m \u001b[0mdata\u001b[0m \u001b[0mlimit\u001b[0m \u001b[0mof\u001b[0m \u001b[0mthe\u001b[0m \u001b[0mgiven\u001b[0m \u001b[0mline\u001b[0m\u001b[1;33m,\u001b[0m \u001b[0mupdating\u001b[0m \u001b[0mself\u001b[0m\u001b[1;33m.\u001b[0m\u001b[0mdataLim\u001b[0m\u001b[1;33m.\u001b[0m\u001b[1;33m\u001b[0m\u001b[1;33m\u001b[0m\u001b[0m\n\u001b[0;32m   1985\u001b[0m         \"\"\"\n\u001b[1;32m-> 1986\u001b[1;33m         \u001b[0mpath\u001b[0m \u001b[1;33m=\u001b[0m \u001b[0mline\u001b[0m\u001b[1;33m.\u001b[0m\u001b[0mget_path\u001b[0m\u001b[1;33m(\u001b[0m\u001b[1;33m)\u001b[0m\u001b[1;33m\u001b[0m\u001b[1;33m\u001b[0m\u001b[0m\n\u001b[0m\u001b[0;32m   1987\u001b[0m         \u001b[1;32mif\u001b[0m \u001b[0mpath\u001b[0m\u001b[1;33m.\u001b[0m\u001b[0mvertices\u001b[0m\u001b[1;33m.\u001b[0m\u001b[0msize\u001b[0m \u001b[1;33m==\u001b[0m \u001b[1;36m0\u001b[0m\u001b[1;33m:\u001b[0m\u001b[1;33m\u001b[0m\u001b[1;33m\u001b[0m\u001b[0m\n\u001b[0;32m   1988\u001b[0m             \u001b[1;32mreturn\u001b[0m\u001b[1;33m\u001b[0m\u001b[1;33m\u001b[0m\u001b[0m\n",
            "\u001b[1;32m~\\miniconda3\\lib\\site-packages\\matplotlib\\lines.py\u001b[0m in \u001b[0;36mget_path\u001b[1;34m(self)\u001b[0m\n\u001b[0;32m   1009\u001b[0m         \"\"\"\n\u001b[0;32m   1010\u001b[0m         \u001b[1;32mif\u001b[0m \u001b[0mself\u001b[0m\u001b[1;33m.\u001b[0m\u001b[0m_invalidy\u001b[0m \u001b[1;32mor\u001b[0m \u001b[0mself\u001b[0m\u001b[1;33m.\u001b[0m\u001b[0m_invalidx\u001b[0m\u001b[1;33m:\u001b[0m\u001b[1;33m\u001b[0m\u001b[1;33m\u001b[0m\u001b[0m\n\u001b[1;32m-> 1011\u001b[1;33m             \u001b[0mself\u001b[0m\u001b[1;33m.\u001b[0m\u001b[0mrecache\u001b[0m\u001b[1;33m(\u001b[0m\u001b[1;33m)\u001b[0m\u001b[1;33m\u001b[0m\u001b[1;33m\u001b[0m\u001b[0m\n\u001b[0m\u001b[0;32m   1012\u001b[0m         \u001b[1;32mreturn\u001b[0m \u001b[0mself\u001b[0m\u001b[1;33m.\u001b[0m\u001b[0m_path\u001b[0m\u001b[1;33m\u001b[0m\u001b[1;33m\u001b[0m\u001b[0m\n\u001b[0;32m   1013\u001b[0m \u001b[1;33m\u001b[0m\u001b[0m\n",
            "\u001b[1;32m~\\miniconda3\\lib\\site-packages\\matplotlib\\lines.py\u001b[0m in \u001b[0;36mrecache\u001b[1;34m(self, always)\u001b[0m\n\u001b[0;32m    651\u001b[0m         \u001b[1;32mif\u001b[0m \u001b[0malways\u001b[0m \u001b[1;32mor\u001b[0m \u001b[0mself\u001b[0m\u001b[1;33m.\u001b[0m\u001b[0m_invalidx\u001b[0m\u001b[1;33m:\u001b[0m\u001b[1;33m\u001b[0m\u001b[1;33m\u001b[0m\u001b[0m\n\u001b[0;32m    652\u001b[0m             \u001b[0mxconv\u001b[0m \u001b[1;33m=\u001b[0m \u001b[0mself\u001b[0m\u001b[1;33m.\u001b[0m\u001b[0mconvert_xunits\u001b[0m\u001b[1;33m(\u001b[0m\u001b[0mself\u001b[0m\u001b[1;33m.\u001b[0m\u001b[0m_xorig\u001b[0m\u001b[1;33m)\u001b[0m\u001b[1;33m\u001b[0m\u001b[1;33m\u001b[0m\u001b[0m\n\u001b[1;32m--> 653\u001b[1;33m             \u001b[0mx\u001b[0m \u001b[1;33m=\u001b[0m \u001b[0m_to_unmasked_float_array\u001b[0m\u001b[1;33m(\u001b[0m\u001b[0mxconv\u001b[0m\u001b[1;33m)\u001b[0m\u001b[1;33m.\u001b[0m\u001b[0mravel\u001b[0m\u001b[1;33m(\u001b[0m\u001b[1;33m)\u001b[0m\u001b[1;33m\u001b[0m\u001b[1;33m\u001b[0m\u001b[0m\n\u001b[0m\u001b[0;32m    654\u001b[0m         \u001b[1;32melse\u001b[0m\u001b[1;33m:\u001b[0m\u001b[1;33m\u001b[0m\u001b[1;33m\u001b[0m\u001b[0m\n\u001b[0;32m    655\u001b[0m             \u001b[0mx\u001b[0m \u001b[1;33m=\u001b[0m \u001b[0mself\u001b[0m\u001b[1;33m.\u001b[0m\u001b[0m_x\u001b[0m\u001b[1;33m\u001b[0m\u001b[1;33m\u001b[0m\u001b[0m\n",
            "\u001b[1;32m~\\miniconda3\\lib\\site-packages\\matplotlib\\cbook\\__init__.py\u001b[0m in \u001b[0;36m_to_unmasked_float_array\u001b[1;34m(x)\u001b[0m\n\u001b[0;32m   1287\u001b[0m         \u001b[1;32mreturn\u001b[0m \u001b[0mnp\u001b[0m\u001b[1;33m.\u001b[0m\u001b[0mma\u001b[0m\u001b[1;33m.\u001b[0m\u001b[0masarray\u001b[0m\u001b[1;33m(\u001b[0m\u001b[0mx\u001b[0m\u001b[1;33m,\u001b[0m \u001b[0mfloat\u001b[0m\u001b[1;33m)\u001b[0m\u001b[1;33m.\u001b[0m\u001b[0mfilled\u001b[0m\u001b[1;33m(\u001b[0m\u001b[0mnp\u001b[0m\u001b[1;33m.\u001b[0m\u001b[0mnan\u001b[0m\u001b[1;33m)\u001b[0m\u001b[1;33m\u001b[0m\u001b[1;33m\u001b[0m\u001b[0m\n\u001b[0;32m   1288\u001b[0m     \u001b[1;32melse\u001b[0m\u001b[1;33m:\u001b[0m\u001b[1;33m\u001b[0m\u001b[1;33m\u001b[0m\u001b[0m\n\u001b[1;32m-> 1289\u001b[1;33m         \u001b[1;32mreturn\u001b[0m \u001b[0mnp\u001b[0m\u001b[1;33m.\u001b[0m\u001b[0masarray\u001b[0m\u001b[1;33m(\u001b[0m\u001b[0mx\u001b[0m\u001b[1;33m,\u001b[0m \u001b[0mfloat\u001b[0m\u001b[1;33m)\u001b[0m\u001b[1;33m\u001b[0m\u001b[1;33m\u001b[0m\u001b[0m\n\u001b[0m\u001b[0;32m   1290\u001b[0m \u001b[1;33m\u001b[0m\u001b[0m\n\u001b[0;32m   1291\u001b[0m \u001b[1;33m\u001b[0m\u001b[0m\n",
            "\u001b[1;32m~\\miniconda3\\lib\\site-packages\\numpy\\core\\_asarray.py\u001b[0m in \u001b[0;36masarray\u001b[1;34m(a, dtype, order)\u001b[0m\n\u001b[0;32m     81\u001b[0m \u001b[1;33m\u001b[0m\u001b[0m\n\u001b[0;32m     82\u001b[0m     \"\"\"\n\u001b[1;32m---> 83\u001b[1;33m     \u001b[1;32mreturn\u001b[0m \u001b[0marray\u001b[0m\u001b[1;33m(\u001b[0m\u001b[0ma\u001b[0m\u001b[1;33m,\u001b[0m \u001b[0mdtype\u001b[0m\u001b[1;33m,\u001b[0m \u001b[0mcopy\u001b[0m\u001b[1;33m=\u001b[0m\u001b[1;32mFalse\u001b[0m\u001b[1;33m,\u001b[0m \u001b[0morder\u001b[0m\u001b[1;33m=\u001b[0m\u001b[0morder\u001b[0m\u001b[1;33m)\u001b[0m\u001b[1;33m\u001b[0m\u001b[1;33m\u001b[0m\u001b[0m\n\u001b[0m\u001b[0;32m     84\u001b[0m \u001b[1;33m\u001b[0m\u001b[0m\n\u001b[0;32m     85\u001b[0m \u001b[1;33m\u001b[0m\u001b[0m\n",
            "\u001b[1;32m~\\miniconda3\\lib\\site-packages\\torch\\tensor.py\u001b[0m in \u001b[0;36m__array__\u001b[1;34m(self, dtype)\u001b[0m\n\u001b[0;32m    630\u001b[0m             \u001b[1;32mreturn\u001b[0m \u001b[0mself\u001b[0m\u001b[1;33m.\u001b[0m\u001b[0mnumpy\u001b[0m\u001b[1;33m(\u001b[0m\u001b[1;33m)\u001b[0m\u001b[1;33m\u001b[0m\u001b[1;33m\u001b[0m\u001b[0m\n\u001b[0;32m    631\u001b[0m         \u001b[1;32melse\u001b[0m\u001b[1;33m:\u001b[0m\u001b[1;33m\u001b[0m\u001b[1;33m\u001b[0m\u001b[0m\n\u001b[1;32m--> 632\u001b[1;33m             \u001b[1;32mreturn\u001b[0m \u001b[0mself\u001b[0m\u001b[1;33m.\u001b[0m\u001b[0mnumpy\u001b[0m\u001b[1;33m(\u001b[0m\u001b[1;33m)\u001b[0m\u001b[1;33m.\u001b[0m\u001b[0mastype\u001b[0m\u001b[1;33m(\u001b[0m\u001b[0mdtype\u001b[0m\u001b[1;33m,\u001b[0m \u001b[0mcopy\u001b[0m\u001b[1;33m=\u001b[0m\u001b[1;32mFalse\u001b[0m\u001b[1;33m)\u001b[0m\u001b[1;33m\u001b[0m\u001b[1;33m\u001b[0m\u001b[0m\n\u001b[0m\u001b[0;32m    633\u001b[0m \u001b[1;33m\u001b[0m\u001b[0m\n\u001b[0;32m    634\u001b[0m     \u001b[1;31m# Wrap Numpy array again in a suitable tensor when done, to support e.g.\u001b[0m\u001b[1;33m\u001b[0m\u001b[1;33m\u001b[0m\u001b[1;33m\u001b[0m\u001b[0m\n",
            "\u001b[1;31mRuntimeError\u001b[0m: Can't call numpy() on Tensor that requires grad. Use tensor.detach().numpy() instead."
          ]
        },
        {
          "data": {
            "image/png": "[encoded data removed]",
            "text/plain": [
              "<Figure size 720x360 with 1 Axes>"
            ]
          },
          "metadata": {
            "needs_background": "light"
          },
          "output_type": "display_data"
        }
      ],
      "source": [
        "plt.figure(figsize=(10, 5))\n",
        "plt.plot(xt, yt)"
      ]
    },
    {
      "cell_type": "markdown",
      "metadata": {
        "id": "EC8KFRvsXxNR"
      },
      "source": [
        "`tensor.detach()` returns a new tensor, detached from the current graph.  Importantly, the result will never require grad. so you can poke around and explore it without worrying about changing it by performing other ops on the graph.\n",
        "\n",
        "`.numpy()` will convert the tensor to a numpy ndarray.\n",
        "\n",
        "Now we're back in familiar territory."
      ]
    },
    {
      "cell_type": "code",
      "execution_count": null,
      "metadata": {
        "scrolled": true,
        "id": "UwjUCICpXxNR",
        "outputId": "c3800312-6ff2-42aa-c610-463a3527218d"
      },
      "outputs": [
        {
          "data": {
            "image/png": "[encoded data removed]",
            "text/plain": [
              "<Figure size 720x360 with 1 Axes>"
            ]
          },
          "metadata": {
            "needs_background": "light"
          },
          "output_type": "display_data"
        }
      ],
      "source": [
        "plt.figure(figsize=(10, 5))\n",
        "plt.plot(xt.detach(), yt.detach())\n",
        "plt.plot(xt.detach(), xt.grad)\n",
        "plt.legend(('$\\sin(x)$', '$\\\\frac{d \\sin(x)}{dx} = \\cos(x)$'));"
      ]
    },
    {
      "cell_type": "code",
      "execution_count": null,
      "metadata": {
        "id": "ZCK42uEHXxNR",
        "outputId": "c2ec41ef-b464-47a6-a880-69654a0a9373"
      },
      "outputs": [
        {
          "data": {
            "text/plain": [
              "tensor([ 2.0000,  1.9839,  1.9359,  1.8567,  1.7477,  1.6105,  1.4475,  1.2611,\n",
              "         1.0545,  0.8308,  0.5938,  0.3473,  0.0952, -0.1585, -0.4096, -0.6541,\n",
              "        -0.8881, -1.1078, -1.3097, -1.4905, -1.6474, -1.7777, -1.8794, -1.9509,\n",
              "        -1.9909, -1.9990, -1.9749, -1.9190, -1.8322, -1.7160, -1.5721, -1.4029,\n",
              "        -1.2112, -1.0000, -0.7727, -0.5329, -0.2846, -0.0317,  0.2217,  0.4715,\n",
              "         0.7138,  0.9445,  1.1601,  1.3570,  1.5321,  1.6825,  1.8059,  1.9001,\n",
              "         1.9639,  1.9960,  1.9960,  1.9639,  1.9001,  1.8059,  1.6825,  1.5321,\n",
              "         1.3570,  1.1601,  0.9445,  0.7138,  0.4715,  0.2217, -0.0317, -0.2846,\n",
              "        -0.5329, -0.7727, -1.0000, -1.2112, -1.4029, -1.5721, -1.7160, -1.8322,\n",
              "        -1.9190, -1.9749, -1.9990, -1.9909, -1.9509, -1.8794, -1.7777, -1.6474,\n",
              "        -1.4905, -1.3097, -1.1078, -0.8881, -0.6541, -0.4096, -0.1585,  0.0952,\n",
              "         0.3473,  0.5938,  0.8308,  1.0545,  1.2611,  1.4475,  1.6105,  1.7477,\n",
              "         1.8567,  1.9359,  1.9839,  2.0000], dtype=torch.float64)"
            ]
          },
          "execution_count": 41,
          "metadata": {},
          "output_type": "execute_result"
        }
      ],
      "source": [
        "yt = torch.sin(xt)\n",
        "yt.backward(torch.ones(100))\n",
        "xt.grad"
      ]
    },
    {
      "cell_type": "markdown",
      "metadata": {
        "id": "aBtxh839XxNS"
      },
      "source": [
        "$\\frac{dsin(x)}{dx}$ = $cos(x)$, right?"
      ]
    },
    {
      "cell_type": "code",
      "execution_count": null,
      "metadata": {
        "scrolled": true,
        "id": "eCrbeWUsXxNS",
        "outputId": "02371ff4-a35e-4f61-c789-28c34c19f0f0"
      },
      "outputs": [
        {
          "data": {
            "image/png": "[encoded data removed]",
            "text/plain": [
              "<Figure size 720x360 with 1 Axes>"
            ]
          },
          "metadata": {
            "needs_background": "light"
          },
          "output_type": "display_data"
        }
      ],
      "source": [
        "plt.figure(figsize=(10, 5))\n",
        "plt.plot(xt.detach(), yt.detach())\n",
        "plt.plot(xt.detach(), xt.grad)\n",
        "plt.legend(('$\\sin(x)$', '$\\\\frac{d \\sin(x)}{dx} = \\cos(x)$'));"
      ]
    },
    {
      "cell_type": "markdown",
      "metadata": {
        "id": "5QIMwrJtXxNS"
      },
      "source": [
        "Above shows the magnitude of our derivative is twice what is should be.  This is because `backward` adds the gradient values to the previous values.  We must explicitly zero out the gradient first."
      ]
    },
    {
      "cell_type": "code",
      "execution_count": null,
      "metadata": {
        "id": "qNzF6eiHXxNS",
        "outputId": "83679c7b-0ebe-49e5-e800-9a58d4916796"
      },
      "outputs": [
        {
          "name": "stdout",
          "output_type": "stream",
          "text": [
            "tensor(1., dtype=torch.float64)\n",
            "tensor(2., dtype=torch.float64)\n",
            "tensor(3., dtype=torch.float64)\n",
            "tensor(4., dtype=torch.float64)\n",
            "tensor(5., dtype=torch.float64)\n",
            "tensor(6., dtype=torch.float64)\n",
            "tensor(7., dtype=torch.float64)\n",
            "tensor(8., dtype=torch.float64)\n",
            "tensor(9., dtype=torch.float64)\n",
            "tensor(10., dtype=torch.float64)\n"
          ]
        }
      ],
      "source": [
        "xt.grad.zero_()\n",
        "for i in range(10):\n",
        "    yt = torch.sin(xt)\n",
        "    yt.backward(torch.ones(100))\n",
        "    print(xt.grad[0])"
      ]
    },
    {
      "cell_type": "markdown",
      "metadata": {
        "id": "iwkZlEcZXxNS"
      },
      "source": [
        "$\\frac{dsin(x)}{dx}$ = $cos(x)$; $cos(0) = 1$, but each time we do this, we add one to the existing value."
      ]
    },
    {
      "cell_type": "code",
      "execution_count": null,
      "metadata": {
        "id": "TYBdGcFDXxNS",
        "outputId": "2f208c97-159a-4c7f-d4b3-0a78636fff6d"
      },
      "outputs": [
        {
          "name": "stdout",
          "output_type": "stream",
          "text": [
            "tensor(1., dtype=torch.float64)\n",
            "tensor(1., dtype=torch.float64)\n",
            "tensor(1., dtype=torch.float64)\n",
            "tensor(1., dtype=torch.float64)\n",
            "tensor(1., dtype=torch.float64)\n",
            "tensor(1., dtype=torch.float64)\n",
            "tensor(1., dtype=torch.float64)\n",
            "tensor(1., dtype=torch.float64)\n",
            "tensor(1., dtype=torch.float64)\n",
            "tensor(1., dtype=torch.float64)\n"
          ]
        }
      ],
      "source": [
        "for i in range(10):\n",
        "    xt.grad.zero_()\n",
        "    yt = torch.sin(xt)\n",
        "    yt.backward(torch.ones(100))\n",
        "    print(xt.grad[0])"
      ]
    },
    {
      "cell_type": "markdown",
      "metadata": {
        "id": "9fev-k4gXxNS"
      },
      "source": [
        "If we zero out the gradient each time, this doesn't happen."
      ]
    },
    {
      "cell_type": "markdown",
      "metadata": {
        "id": "qfBmokoDXxNS"
      },
      "source": [
        "# Train linear model of one variable using SGD in Pytorch"
      ]
    },
    {
      "cell_type": "markdown",
      "metadata": {
        "id": "yKZ6NkhrXxNS"
      },
      "source": [
        "## First in `numpy`."
      ]
    },
    {
      "cell_type": "code",
      "execution_count": null,
      "metadata": {
        "id": "JQxt_P1MXxNS",
        "outputId": "8188c478-15f5-4b5f-af96-6105001a3a50"
      },
      "outputs": [
        {
          "data": {
            "image/png": "[encoded data removed]",
            "text/plain": [
              "<Figure size 432x288 with 1 Axes>"
            ]
          },
          "metadata": {
            "needs_background": "light"
          },
          "output_type": "display_data"
        }
      ],
      "source": [
        "X = np.arange(10).reshape((-1, 1))\n",
        "T = X ** 2\n",
        "\n",
        "n_samples = X.shape[0]\n",
        "n_outputs = T.shape[1]\n",
        "\n",
        "learning_rate = 0.01 / (n_samples * n_outputs)\n",
        "\n",
        "W = np.zeros((2, 1))\n",
        "\n",
        "for epoch in range(100):\n",
        "\n",
        "    Y = X @ W[1:, :] + W[0:1, :]\n",
        "\n",
        "    mse = ((T - Y) ** 2).mean()  # not used\n",
        "\n",
        "    gradient = - X.T @ (T - Y)\n",
        "    W -= learning_rate * gradient\n",
        "\n",
        "plt.plot(X, T, 'o-', label='T')\n",
        "plt.plot(X, Y, 'o-', label='Y')\n",
        "plt.legend();"
      ]
    },
    {
      "cell_type": "markdown",
      "metadata": {
        "id": "oRgoDtDNXxNS"
      },
      "source": [
        "## Now in `torch`."
      ]
    },
    {
      "cell_type": "code",
      "execution_count": null,
      "metadata": {
        "id": "lgJA1zVXXxNS",
        "outputId": "f056731b-f442-4fc4-98e3-6c0faa2d6d85"
      },
      "outputs": [
        {
          "ename": "RuntimeError",
          "evalue": "expected scalar type Int but found Float",
          "output_type": "error",
          "traceback": [
            "\u001b[1;31m---------------------------------------------------------------------------\u001b[0m",
            "\u001b[1;31mRuntimeError\u001b[0m                              Traceback (most recent call last)",
            "\u001b[1;32m<ipython-input-177-1a88e8edb78e>\u001b[0m in \u001b[0;36m<module>\u001b[1;34m\u001b[0m\n\u001b[0;32m     13\u001b[0m \u001b[1;32mfor\u001b[0m \u001b[0mepoch\u001b[0m \u001b[1;32min\u001b[0m \u001b[0mrange\u001b[0m\u001b[1;33m(\u001b[0m\u001b[1;36m100\u001b[0m\u001b[1;33m)\u001b[0m\u001b[1;33m:\u001b[0m\u001b[1;33m\u001b[0m\u001b[1;33m\u001b[0m\u001b[0m\n\u001b[0;32m     14\u001b[0m \u001b[1;33m\u001b[0m\u001b[0m\n\u001b[1;32m---> 15\u001b[1;33m     \u001b[0mY\u001b[0m \u001b[1;33m=\u001b[0m \u001b[0mX\u001b[0m \u001b[1;33m@\u001b[0m \u001b[0mW\u001b[0m\u001b[1;33m[\u001b[0m\u001b[1;36m1\u001b[0m\u001b[1;33m:\u001b[0m\u001b[1;33m,\u001b[0m \u001b[1;33m:\u001b[0m\u001b[1;33m]\u001b[0m \u001b[1;33m+\u001b[0m \u001b[0mW\u001b[0m\u001b[1;33m[\u001b[0m\u001b[1;36m0\u001b[0m\u001b[1;33m:\u001b[0m\u001b[1;36m1\u001b[0m\u001b[1;33m,\u001b[0m \u001b[1;33m:\u001b[0m\u001b[1;33m]\u001b[0m\u001b[1;33m\u001b[0m\u001b[1;33m\u001b[0m\u001b[0m\n\u001b[0m\u001b[0;32m     16\u001b[0m \u001b[1;33m\u001b[0m\u001b[0m\n\u001b[0;32m     17\u001b[0m     \u001b[0mmse\u001b[0m \u001b[1;33m=\u001b[0m \u001b[1;33m(\u001b[0m\u001b[1;33m(\u001b[0m\u001b[0mT\u001b[0m \u001b[1;33m-\u001b[0m \u001b[0mY\u001b[0m\u001b[1;33m)\u001b[0m \u001b[1;33m**\u001b[0m \u001b[1;36m2\u001b[0m\u001b[1;33m)\u001b[0m\u001b[1;33m.\u001b[0m\u001b[0mmean\u001b[0m\u001b[1;33m(\u001b[0m\u001b[1;33m)\u001b[0m  \u001b[1;31m# not used\u001b[0m\u001b[1;33m\u001b[0m\u001b[1;33m\u001b[0m\u001b[0m\n",
            "\u001b[1;31mRuntimeError\u001b[0m: expected scalar type Int but found Float"
          ]
        }
      ],
      "source": [
        "X = np.arange(10).reshape((-1, 1))\n",
        "T = X ** 2\n",
        "n_samples = X.shape[0]\n",
        "n_outputs = T.shape[1]\n",
        "\n",
        "learning_rate = 0.01 / (n_samples * n_outputs)\n",
        "\n",
        "X = torch.from_numpy(X) #.float()\n",
        "T = torch.from_numpy(T)\n",
        "\n",
        "W = torch.zeros((2, 1))\n",
        "\n",
        "for epoch in range(100):\n",
        "\n",
        "    Y = X @ W[1:, :] + W[0:1, :]\n",
        "\n",
        "    mse = ((T - Y) ** 2).mean()  # not used\n",
        "\n",
        "    gradient = - X.T @ (T - Y)\n",
        "    W -= learning_rate * gradient\n",
        "\n",
        "plt.plot(X, T, 'o-', label='T')\n",
        "plt.plot(X, Y, 'o-', label='Y')\n",
        "plt.legend();"
      ]
    },
    {
      "cell_type": "code",
      "execution_count": null,
      "metadata": {
        "id": "E-YJBf_zXxNS",
        "outputId": "9c625716-5775-43ff-f181-aba3e9105410"
      },
      "outputs": [
        {
          "data": {
            "text/plain": [
              "torch.int32"
            ]
          },
          "execution_count": 55,
          "metadata": {},
          "output_type": "execute_result"
        }
      ],
      "source": [
        "X.dtype"
      ]
    },
    {
      "cell_type": "markdown",
      "metadata": {
        "id": "WTfCNLs0XxNS"
      },
      "source": [
        "This error is a little misleading.  It suggests that some Float should be an Int.  `X` is made of Ints, but `W` is now made of Floats. So to fix it, rather than make `W` Ints, make `X` into Floats."
      ]
    },
    {
      "cell_type": "code",
      "execution_count": null,
      "metadata": {
        "scrolled": true,
        "id": "c8nOjAS3XxNS",
        "outputId": "6e4d4417-ed50-4985-88e4-7288b1882c42"
      },
      "outputs": [
        {
          "data": {
            "image/png": "[encoded data removed]",
            "text/plain": [
              "<Figure size 432x288 with 1 Axes>"
            ]
          },
          "metadata": {
            "needs_background": "light"
          },
          "output_type": "display_data"
        }
      ],
      "source": [
        "X = np.arange(10).reshape((-1, 1))\n",
        "T = X ** 2\n",
        "n_samples = X.shape[0]\n",
        "n_outputs = T.shape[1]\n",
        "\n",
        "learning_rate = 0.01 / (n_samples * n_outputs)\n",
        "\n",
        "X = torch.from_numpy(X).float()  ## ADDED .float()\n",
        "T = torch.from_numpy(T)\n",
        "\n",
        "W = torch.zeros((2, 1))\n",
        "\n",
        "for epoch in range(100):\n",
        "\n",
        "    Y = X @ W[1:, :] + W[0:1, :]\n",
        "\n",
        "    mse = ((T - Y) ** 2).mean()  # not used\n",
        "\n",
        "    gradient = - X.T @ (T - Y)\n",
        "    W -= learning_rate * gradient\n",
        "\n",
        "plt.plot(X, T, 'o-', label='T')\n",
        "plt.plot(X, Y, 'o-', label='Y')\n",
        "plt.legend();"
      ]
    },
    {
      "cell_type": "markdown",
      "metadata": {
        "id": "nifgUmr2XxNT"
      },
      "source": [
        "So why are we using `torch`?  Looks just like our `numpy` code?"
      ]
    },
    {
      "cell_type": "markdown",
      "metadata": {
        "id": "iqgnBFjlXxNT"
      },
      "source": [
        "## Let's take advantage of `autograd`!!"
      ]
    },
    {
      "cell_type": "code",
      "execution_count": null,
      "metadata": {
        "id": "MAQFLuh6XxNT",
        "outputId": "d76afd38-71eb-44ad-82d2-fd6f3fe0c450"
      },
      "outputs": [
        {
          "data": {
            "image/png": "[encoded data removed]",
            "text/plain": [
              "<Figure size 432x288 with 1 Axes>"
            ]
          },
          "metadata": {
            "needs_background": "light"
          },
          "output_type": "display_data"
        }
      ],
      "source": [
        "X = np.arange(10).reshape((-1, 1))\n",
        "T = X ** 2\n",
        "n_samples = X.shape[0]\n",
        "n_outputs = T.shape[1]\n",
        "\n",
        "learning_rate = 0.01 / (n_samples * n_outputs)\n",
        "\n",
        "X = torch.from_numpy(X).float()\n",
        "T = torch.from_numpy(T)\n",
        "\n",
        "W = torch.zeros((2, 1), requires_grad=True)\n",
        "\n",
        "for epoch in range(100):\n",
        "\n",
        "    Y = X @ W[1:, :] + W[0:1, :]\n",
        "\n",
        "    mse = ((T - Y)**2).mean()\n",
        "\n",
        "    mse.backward()  ##  NEW\n",
        "\n",
        "    with torch.no_grad():  ## NEW\n",
        "        W -= learning_rate * W.grad\n",
        "        W.grad.zero_()\n",
        "\n",
        "    # compare to what we did before\n",
        "    #gradient = - X.T @ (T - Y)\n",
        "    #W -= learning_rate * gradient\n",
        "\n",
        "plt.plot(X.detach(), T, 'o-', label='T')   ## NEW\n",
        "plt.plot(X.detach(), Y.detach(), 'o-', label='Y')    ## NEW\n",
        "plt.legend();"
      ]
    },
    {
      "cell_type": "markdown",
      "metadata": {
        "id": "130_XxiGXxNT"
      },
      "source": [
        "## Using Predefined Optimizers"
      ]
    },
    {
      "cell_type": "code",
      "execution_count": null,
      "metadata": {
        "id": "HNhkpKLQXxNT",
        "outputId": "a0cdb5a5-55a0-4b9a-ab45-ec2ec0e8ce8c"
      },
      "outputs": [
        {
          "data": {
            "image/png": "[encoded data removed]",
            "text/plain": [
              "<Figure size 432x288 with 1 Axes>"
            ]
          },
          "metadata": {
            "needs_background": "light"
          },
          "output_type": "display_data"
        }
      ],
      "source": [
        "X = np.arange(10).reshape((-1, 1))\n",
        "T = X ** 2\n",
        "n_samples = X.shape[0]\n",
        "n_outputs = T.shape[1]\n",
        "\n",
        "learning_rate = 0.01 / (n_samples * n_outputs)\n",
        "\n",
        "X = torch.from_numpy(X).float()\n",
        "T = torch.from_numpy(T)\n",
        "\n",
        "W = torch.zeros((2, 1), requires_grad=True)\n",
        "\n",
        "optimizer = torch.optim.SGD([W], lr=learning_rate)   ## NEW\n",
        "\n",
        "for epoch in range(100):\n",
        "\n",
        "    Y = X @ W[1:, :] + W[0:1, :]\n",
        "\n",
        "    mse = ((T - Y)**2).mean()\n",
        "    mse.backward()\n",
        "\n",
        "    optimizer.step()        ## NEW\n",
        "    optimizer.zero_grad()   ## NEW\n",
        "\n",
        "plt.plot(X.detach(), T, 'o-', label='T')\n",
        "plt.plot(X.detach(), Y.detach(), 'o-', label='Y')\n",
        "plt.legend();"
      ]
    },
    {
      "cell_type": "markdown",
      "metadata": {
        "id": "f8VDz4f1XxNT"
      },
      "source": [
        "Rather than implement the SGD (or Adam, etc.) step ourselves, PyTorch gives us a predefined optimizer class.  What advantages does this have?"
      ]
    },
    {
      "cell_type": "code",
      "execution_count": null,
      "metadata": {
        "id": "PIemtd8tXxNT"
      },
      "outputs": [],
      "source": [
        "torch.optim?"
      ]
    },
    {
      "cell_type": "markdown",
      "metadata": {
        "id": "LzfCGeYlXxNT"
      },
      "source": [
        "List of implemented optimizers: https://pytorch.org/docs/stable/optim.html"
      ]
    },
    {
      "cell_type": "markdown",
      "metadata": {
        "id": "wpwz5GsnXxNT"
      },
      "source": [
        "## Using Predefined Loss Functions"
      ]
    },
    {
      "cell_type": "code",
      "execution_count": null,
      "metadata": {
        "id": "Iqfr5Ic3XxNT",
        "outputId": "298a3d82-06ac-41ef-c734-bba267528e60"
      },
      "outputs": [
        {
          "ename": "RuntimeError",
          "evalue": "Found dtype Int but expected Float",
          "output_type": "error",
          "traceback": [
            "\u001b[1;31m---------------------------------------------------------------------------\u001b[0m",
            "\u001b[1;31mRuntimeError\u001b[0m                              Traceback (most recent call last)",
            "\u001b[1;32m<ipython-input-181-57ffd626cfb2>\u001b[0m in \u001b[0;36m<module>\u001b[1;34m\u001b[0m\n\u001b[0;32m     20\u001b[0m \u001b[1;33m\u001b[0m\u001b[0m\n\u001b[0;32m     21\u001b[0m     \u001b[0mmse\u001b[0m \u001b[1;33m=\u001b[0m \u001b[0mmse_func\u001b[0m\u001b[1;33m(\u001b[0m\u001b[0mT\u001b[0m\u001b[1;33m,\u001b[0m \u001b[0mY\u001b[0m\u001b[1;33m)\u001b[0m    \u001b[1;31m## NEW\u001b[0m\u001b[1;33m\u001b[0m\u001b[1;33m\u001b[0m\u001b[0m\n\u001b[1;32m---> 22\u001b[1;33m     \u001b[0mmse\u001b[0m\u001b[1;33m.\u001b[0m\u001b[0mbackward\u001b[0m\u001b[1;33m(\u001b[0m\u001b[1;33m)\u001b[0m\u001b[1;33m\u001b[0m\u001b[1;33m\u001b[0m\u001b[0m\n\u001b[0m\u001b[0;32m     23\u001b[0m \u001b[1;33m\u001b[0m\u001b[0m\n\u001b[0;32m     24\u001b[0m     \u001b[0moptimizer\u001b[0m\u001b[1;33m.\u001b[0m\u001b[0mstep\u001b[0m\u001b[1;33m(\u001b[0m\u001b[1;33m)\u001b[0m\u001b[1;33m\u001b[0m\u001b[1;33m\u001b[0m\u001b[0m\n",
            "\u001b[1;32m~\\miniconda3\\lib\\site-packages\\torch\\tensor.py\u001b[0m in \u001b[0;36mbackward\u001b[1;34m(self, gradient, retain_graph, create_graph)\u001b[0m\n\u001b[0;32m    219\u001b[0m                 \u001b[0mretain_graph\u001b[0m\u001b[1;33m=\u001b[0m\u001b[0mretain_graph\u001b[0m\u001b[1;33m,\u001b[0m\u001b[1;33m\u001b[0m\u001b[1;33m\u001b[0m\u001b[0m\n\u001b[0;32m    220\u001b[0m                 create_graph=create_graph)\n\u001b[1;32m--> 221\u001b[1;33m         \u001b[0mtorch\u001b[0m\u001b[1;33m.\u001b[0m\u001b[0mautograd\u001b[0m\u001b[1;33m.\u001b[0m\u001b[0mbackward\u001b[0m\u001b[1;33m(\u001b[0m\u001b[0mself\u001b[0m\u001b[1;33m,\u001b[0m \u001b[0mgradient\u001b[0m\u001b[1;33m,\u001b[0m \u001b[0mretain_graph\u001b[0m\u001b[1;33m,\u001b[0m \u001b[0mcreate_graph\u001b[0m\u001b[1;33m)\u001b[0m\u001b[1;33m\u001b[0m\u001b[1;33m\u001b[0m\u001b[0m\n\u001b[0m\u001b[0;32m    222\u001b[0m \u001b[1;33m\u001b[0m\u001b[0m\n\u001b[0;32m    223\u001b[0m     \u001b[1;32mdef\u001b[0m \u001b[0mregister_hook\u001b[0m\u001b[1;33m(\u001b[0m\u001b[0mself\u001b[0m\u001b[1;33m,\u001b[0m \u001b[0mhook\u001b[0m\u001b[1;33m)\u001b[0m\u001b[1;33m:\u001b[0m\u001b[1;33m\u001b[0m\u001b[1;33m\u001b[0m\u001b[0m\n",
            "\u001b[1;32m~\\miniconda3\\lib\\site-packages\\torch\\autograd\\__init__.py\u001b[0m in \u001b[0;36mbackward\u001b[1;34m(tensors, grad_tensors, retain_graph, create_graph, grad_variables)\u001b[0m\n\u001b[0;32m    130\u001b[0m     Variable._execution_engine.run_backward(\n\u001b[0;32m    131\u001b[0m         \u001b[0mtensors\u001b[0m\u001b[1;33m,\u001b[0m \u001b[0mgrad_tensors_\u001b[0m\u001b[1;33m,\u001b[0m \u001b[0mretain_graph\u001b[0m\u001b[1;33m,\u001b[0m \u001b[0mcreate_graph\u001b[0m\u001b[1;33m,\u001b[0m\u001b[1;33m\u001b[0m\u001b[1;33m\u001b[0m\u001b[0m\n\u001b[1;32m--> 132\u001b[1;33m         allow_unreachable=True)  # allow_unreachable flag\n\u001b[0m\u001b[0;32m    133\u001b[0m \u001b[1;33m\u001b[0m\u001b[0m\n\u001b[0;32m    134\u001b[0m \u001b[1;33m\u001b[0m\u001b[0m\n",
            "\u001b[1;31mRuntimeError\u001b[0m: Found dtype Int but expected Float"
          ]
        }
      ],
      "source": [
        "X = np.arange(10).reshape((-1, 1))\n",
        "T = X ** 2\n",
        "n_samples = X.shape[0]\n",
        "n_outputs = T.shape[1]\n",
        "\n",
        "learning_rate = 0.01 / (n_samples * n_outputs)\n",
        "\n",
        "X = torch.from_numpy(X).float()\n",
        "T = torch.from_numpy(T)\n",
        "\n",
        "W = torch.zeros((2, 1), requires_grad=True)\n",
        "\n",
        "optimizer = torch.optim.SGD([W], lr=learning_rate)\n",
        "\n",
        "mse_func = torch.nn.MSELoss()  ## NEW\n",
        "\n",
        "for epoch in range(100):\n",
        "\n",
        "    Y = X @ W[1:, :] + W[0:1, :]\n",
        "\n",
        "    mse = mse_func(T, Y)    ## NEW\n",
        "    mse.backward()\n",
        "\n",
        "    optimizer.step()\n",
        "    optimizer.zero_grad()\n",
        "\n",
        "plt.plot(X.detach(), T, 'o-', label='T')\n",
        "plt.plot(X.detach(), Y.detach(), 'o-', label='Y')\n",
        "plt.legend();"
      ]
    },
    {
      "cell_type": "markdown",
      "metadata": {
        "id": "rxZ5mUD7XxNT"
      },
      "source": [
        "This is a similar error to the one we saw about where `X` was made of Ints, but now we see it cropping up in the backward pass, where the inputs are `T` and `Y`.  We know `Y` is made of Floats as it should be.  The problem must be in `T`."
      ]
    },
    {
      "cell_type": "code",
      "execution_count": null,
      "metadata": {
        "id": "djKYZS3YXxNT",
        "outputId": "5655d7b3-2ebb-473f-c38f-528bd1aa893d"
      },
      "outputs": [
        {
          "data": {
            "image/png": "[encoded data removed]",
            "text/plain": [
              "<Figure size 432x288 with 1 Axes>"
            ]
          },
          "metadata": {
            "needs_background": "light"
          },
          "output_type": "display_data"
        }
      ],
      "source": [
        "X = np.arange(10).reshape((-1, 1))\n",
        "T = X ** 2\n",
        "n_samples = X.shape[0]\n",
        "n_outputs = T.shape[1]\n",
        "\n",
        "learning_rate = 0.01 / (n_samples * n_outputs)\n",
        "\n",
        "X = torch.from_numpy(X).float()\n",
        "T = torch.from_numpy(T).float() # added .float()\n",
        "\n",
        "W = torch.zeros((2, 1), requires_grad=True)\n",
        "\n",
        "optimizer = torch.optim.SGD([W], lr=learning_rate)\n",
        "\n",
        "mse_func = torch.nn.MSELoss()\n",
        "\n",
        "for epoch in range(100):\n",
        "\n",
        "    Y = X @ W[1:, :] + W[0:1, :]\n",
        "\n",
        "    mse = mse_func(T, Y)\n",
        "    mse.backward()\n",
        "\n",
        "    optimizer.step()\n",
        "    optimizer.zero_grad()\n",
        "\n",
        "plt.plot(X.detach(), T, 'o-', label='T')\n",
        "plt.plot(X.detach(), Y.detach(), 'o-', label='Y')\n",
        "plt.legend();"
      ]
    },
    {
      "cell_type": "markdown",
      "metadata": {
        "id": "cH75Vs5TXxNT"
      },
      "source": [
        "## Using torch.nn module"
      ]
    },
    {
      "cell_type": "markdown",
      "metadata": {
        "id": "rzi1dHHjXxNT"
      },
      "source": [
        "The `torch` module includes classes that simplify the constuction of our models.  It will not look simpler for our linear model, but will for multilayered models."
      ]
    },
    {
      "cell_type": "code",
      "execution_count": null,
      "metadata": {
        "id": "H3wN-2BBXxNT",
        "outputId": "1f760c6f-59ab-4961-8778-787c68fca6f4"
      },
      "outputs": [
        {
          "data": {
            "text/plain": [
              "Sequential(\n",
              "  (0): Linear(in_features=1, out_features=1, bias=True)\n",
              ")"
            ]
          },
          "execution_count": 183,
          "metadata": {},
          "output_type": "execute_result"
        }
      ],
      "source": [
        "n_inputs = 1\n",
        "n_outputs = 1\n",
        "\n",
        "model = torch.nn.Sequential(torch.nn.Linear(n_inputs, n_outputs))\n",
        "model"
      ]
    },
    {
      "cell_type": "code",
      "execution_count": null,
      "metadata": {
        "id": "xE1Tdx-iXxNT",
        "outputId": "f5da76b5-df66-407d-d274-b2a0f23b34fd"
      },
      "outputs": [
        {
          "data": {
            "text/plain": [
              "[Parameter containing:\n",
              " tensor([[0.0851]], requires_grad=True),\n",
              " Parameter containing:\n",
              " tensor([0.1389], requires_grad=True)]"
            ]
          },
          "execution_count": 184,
          "metadata": {},
          "output_type": "execute_result"
        }
      ],
      "source": [
        "list(model.parameters())"
      ]
    },
    {
      "cell_type": "code",
      "execution_count": null,
      "metadata": {
        "id": "hPUkM-F-XxNU",
        "outputId": "3eed1d61-6d70-45e3-c607-9340d1f2e7fe"
      },
      "outputs": [
        {
          "data": {
            "image/png": "[encoded data removed]",
            "text/plain": [
              "<Figure size 432x288 with 1 Axes>"
            ]
          },
          "metadata": {
            "needs_background": "light"
          },
          "output_type": "display_data"
        }
      ],
      "source": [
        "X = np.arange(10).reshape((-1, 1))\n",
        "T = X ** 2\n",
        "n_samples, n_inputs = X.shape  ## NEW, added n_inputs\n",
        "n_outputs = T.shape[1]\n",
        "\n",
        "learning_rate = 0.01 / (n_samples * n_outputs)\n",
        "\n",
        "X = torch.from_numpy(X).float()\n",
        "T = torch.from_numpy(T).float()\n",
        "\n",
        "model = torch.nn.Sequential(torch.nn.Linear(n_inputs, n_outputs))\n",
        "\n",
        "optimizer = torch.optim.SGD(model.parameters(), lr=learning_rate)\n",
        "mse_func = torch.nn.MSELoss()\n",
        "\n",
        "for epoch in range(100):\n",
        "\n",
        "    Y = model(X)            ## NEW - model(X) is a simple call to the forward pass\n",
        "\n",
        "    mse = mse_func(T, Y)\n",
        "    mse.backward()\n",
        "\n",
        "    optimizer.step()\n",
        "    optimizer.zero_grad()\n",
        "\n",
        "plt.plot(X.detach(), T, 'o-', label='T')\n",
        "plt.plot(X.detach(), Y.detach(), 'o-', label='Y')\n",
        "plt.legend();"
      ]
    },
    {
      "cell_type": "markdown",
      "metadata": {
        "id": "S8anlIsGXxNU"
      },
      "source": [
        "Now, add a hidden layer, or two."
      ]
    },
    {
      "cell_type": "code",
      "execution_count": null,
      "metadata": {
        "id": "gy-LgfMeXxNU",
        "outputId": "355b1739-ca23-4578-b544-a61ae605b572"
      },
      "outputs": [
        {
          "data": {
            "image/png": "[encoded data removed]",
            "text/plain": [
              "<Figure size 432x288 with 1 Axes>"
            ]
          },
          "metadata": {
            "needs_background": "light"
          },
          "output_type": "display_data"
        }
      ],
      "source": [
        "X = np.arange(10).reshape((-1, 1))\n",
        "T = X ** 2\n",
        "n_samples, n_inputs = X.shape  ## NEW, added n_inputs\n",
        "n_outputs = T.shape[1]\n",
        "n_hiddens = [10, 10]\n",
        "\n",
        "learning_rate = 0.01 / (n_samples * n_outputs)\n",
        "\n",
        "X = torch.from_numpy(X).float()\n",
        "T = torch.from_numpy(T).float()\n",
        "\n",
        "# describe the structure of this network\n",
        "model = torch.nn.Sequential(\n",
        "    torch.nn.Linear(n_inputs, n_hiddens[0]),\n",
        "    torch.nn.Tanh(),\n",
        "    torch.nn.Linear(n_hiddens[0], n_hiddens[1]),\n",
        "    torch.nn.Tanh(),\n",
        "    torch.nn.Linear(n_hiddens[1], n_outputs))\n",
        "\n",
        "optimizer = torch.optim.SGD(model.parameters(), lr=learning_rate)\n",
        "mse_func = torch.nn.MSELoss()\n",
        "\n",
        "for epoch in range(1000):\n",
        "\n",
        "    Y = model(X)            ## NEW\n",
        "\n",
        "    mse = mse_func(T, Y)\n",
        "    mse.backward()\n",
        "\n",
        "    optimizer.step()\n",
        "    optimizer.zero_grad()\n",
        "\n",
        "plt.plot(X.detach(), T, 'o-', label='T')\n",
        "plt.plot(X.detach(), Y.detach(), 'o-', label='Y')\n",
        "plt.legend();"
      ]
    },
    {
      "cell_type": "markdown",
      "metadata": {
        "id": "mLRHrUR8XxNU"
      },
      "source": [
        "Maybe Adam will do better."
      ]
    },
    {
      "cell_type": "code",
      "execution_count": null,
      "metadata": {
        "id": "e7C38kpuXxNU"
      },
      "outputs": [],
      "source": [
        "# torch.optim.Adam?\n",
        "# torch.nn.Linear?"
      ]
    },
    {
      "cell_type": "code",
      "execution_count": null,
      "metadata": {
        "id": "QG6vfu07XxNU",
        "outputId": "06eff98f-ba81-4545-b970-039735f02c5b"
      },
      "outputs": [
        {
          "data": {
            "image/png": "[encoded data removed]",
            "text/plain": [
              "<Figure size 432x288 with 1 Axes>"
            ]
          },
          "metadata": {
            "needs_background": "light"
          },
          "output_type": "display_data"
        }
      ],
      "source": [
        "X = np.arange(10).reshape((-1, 1))\n",
        "T = X ** 2\n",
        "n_samples, n_inputs = X.shape\n",
        "n_outputs = T.shape[1]\n",
        "n_hiddens = [10, 10]\n",
        "\n",
        "learning_rate = 0.5 / (n_samples * n_outputs)  ## Larger learning rate\n",
        "\n",
        "X = torch.from_numpy(X).float()\n",
        "T = torch.from_numpy(T).float()\n",
        "\n",
        "model = torch.nn.Sequential(\n",
        "    torch.nn.Linear(n_inputs, n_hiddens[0]),\n",
        "    torch.nn.Tanh(),\n",
        "    torch.nn.Linear(n_hiddens[0], n_hiddens[1]),\n",
        "    torch.nn.Tanh(),\n",
        "    torch.nn.Linear(n_hiddens[1], n_outputs))\n",
        "\n",
        "optimizer = torch.optim.Adam(model.parameters(), lr=learning_rate) # using Adam\n",
        "mse_func = torch.nn.MSELoss()\n",
        "\n",
        "for epoch in range(1000):\n",
        "\n",
        "    Y = model(X)\n",
        "\n",
        "    mse = mse_func(T, Y)\n",
        "    mse.backward()\n",
        "\n",
        "    optimizer.step()\n",
        "    optimizer.zero_grad()\n",
        "\n",
        "plt.plot(X.detach(), T, 'o-', label='T')\n",
        "plt.plot(X.detach(), Y.detach(), 'o-', label='Y')\n",
        "plt.legend();"
      ]
    },
    {
      "cell_type": "markdown",
      "metadata": {
        "id": "TnWmyinqXxNU"
      },
      "source": [
        "Right on!"
      ]
    },
    {
      "cell_type": "markdown",
      "metadata": {
        "id": "0YZ1zhsVXxNU"
      },
      "source": [
        "# Now for some Speed with a GPU"
      ]
    },
    {
      "cell_type": "markdown",
      "metadata": {
        "id": "RB_FXd2dXxNU"
      },
      "source": [
        "It is trivial to move data and operations down to a GPU with pytorch."
      ]
    },
    {
      "cell_type": "code",
      "execution_count": null,
      "metadata": {
        "id": "s9rJClOgXxNU",
        "outputId": "85501bd4-4244-40e4-c337-6e17e1426882"
      },
      "outputs": [
        {
          "name": "stdout",
          "output_type": "stream",
          "text": [
            "Took 5.9714131355285645 seconds without CUDA\n"
          ]
        },
        {
          "data": {
            "text/plain": [
              "(1000, 1000)"
            ]
          },
          "execution_count": 189,
          "metadata": {},
          "output_type": "execute_result"
        }
      ],
      "source": [
        "import time\n",
        "\n",
        "n = 1000\n",
        "a = np.random.uniform(-0.1, 0.1, size=(n, n)).astype(np.float32)\n",
        "b = np.random.uniform(-0.1, 0.1, size=(n, n)).astype(np.float32)\n",
        "\n",
        "start_time = time.time()\n",
        "for i in range(1000):\n",
        "    c = a @ b\n",
        "elapsed_time = time.time() - start_time\n",
        "\n",
        "print(f'Took {elapsed_time} seconds without CUDA')\n",
        "c.shape"
      ]
    },
    {
      "cell_type": "code",
      "execution_count": null,
      "metadata": {
        "id": "XcqIsGRxXxNU",
        "outputId": "064061b7-71cc-4418-e396-190c23df0b2c"
      },
      "outputs": [
        {
          "data": {
            "text/plain": [
              "True"
            ]
          },
          "execution_count": 190,
          "metadata": {},
          "output_type": "execute_result"
        }
      ],
      "source": [
        "torch.cuda.is_available()"
      ]
    },
    {
      "cell_type": "code",
      "execution_count": null,
      "metadata": {
        "id": "WQxnn4x6XxNU",
        "outputId": "3a112b3e-4272-458d-94c1-c5f69f076724"
      },
      "outputs": [
        {
          "name": "stdout",
          "output_type": "stream",
          "text": [
            "Took 5.246646165847778 seconds using CUDA on CPU\n"
          ]
        },
        {
          "data": {
            "text/plain": [
              "torch.Size([1000, 1000])"
            ]
          },
          "execution_count": 191,
          "metadata": {},
          "output_type": "execute_result"
        }
      ],
      "source": [
        "n = 1000\n",
        "at = (torch.rand(size=(n, n)) - 0.5) * 0.2\n",
        "bt = (torch.rand(size=(n, n)) - 0.5) * 0.2\n",
        "\n",
        "# ct = torch.zeros((n, n))\n",
        "\n",
        "start_time = time.time()\n",
        "at = at.to('cuda')  ## Don't forget these assignments.  at.to('cuda') does not change at\n",
        "bt = bt.to('cuda')\n",
        "\n",
        "start_time = time.time()\n",
        "\n",
        "for i in range(10000):\n",
        "    ct = at @ bt\n",
        "\n",
        "ct = ct.to('cpu')\n",
        "elapsed_time = time.time() - start_time\n",
        "\n",
        "print(f'Took {elapsed_time} seconds using CUDA on CPU')\n",
        "ct.shape"
      ]
    },
    {
      "cell_type": "code",
      "execution_count": null,
      "metadata": {
        "id": "jbmM1GbWXxNU",
        "outputId": "fd530f65-02b7-4573-9f26-1f012b6787dd"
      },
      "outputs": [
        {
          "data": {
            "text/plain": [
              "True"
            ]
          },
          "execution_count": 192,
          "metadata": {},
          "output_type": "execute_result"
        }
      ],
      "source": [
        "import subprocess\n",
        "\n",
        "def use_gpu(use=True):\n",
        "    if use:\n",
        "        subprocess.run(['system76-power', 'graphics', 'power', 'on'])\n",
        "        subprocess.run(['sudo', 'modprobe', 'nvidia'])\n",
        "    else:\n",
        "        subprocess.run(['sudo', 'rmmod', 'nvidia'])\n",
        "        subprocess.run(['system76-power', 'graphics', 'off'])\n",
        "\n",
        "# use_gpu()  #  if running on my system76 laptop\n",
        "\n",
        "torch.cuda.is_available()"
      ]
    },
    {
      "cell_type": "markdown",
      "metadata": {
        "id": "JUGReT_6XxNU"
      },
      "source": [
        "Now let's compare speed of our `torch.nn` model on more data, without and with the GPU."
      ]
    },
    {
      "cell_type": "code",
      "execution_count": null,
      "metadata": {
        "id": "Nfke5xSGXxNU",
        "outputId": "f2a98acf-7914-4c3e-b825-5ac6ece076f9"
      },
      "outputs": [
        {
          "name": "stdout",
          "output_type": "stream",
          "text": [
            "Training took 10.61 seconds.\n"
          ]
        },
        {
          "data": {
            "image/png": "[encoded data removed]",
            "text/plain": [
              "<Figure size 432x288 with 1 Axes>"
            ]
          },
          "metadata": {
            "needs_background": "light"
          },
          "output_type": "display_data"
        }
      ],
      "source": [
        "use_gpu = False # not using GPU\n",
        "\n",
        "n_samples = 10000\n",
        "X = np.linspace(0, 10, n_samples).reshape((-1, 1))\n",
        "T = X ** 2\n",
        "n_samples, n_inputs = X.shape\n",
        "n_outputs = T.shape[1]\n",
        "\n",
        "n_hiddens = [100, 100]\n",
        "\n",
        "learning_rate = 0.1 #  / (n_samples * n_outputs)  ## Larger learning rate\n",
        "\n",
        "X = torch.from_numpy(X).float()\n",
        "T = torch.from_numpy(T).float()\n",
        "\n",
        "model = torch.nn.Sequential(\n",
        "    torch.nn.Linear(n_inputs, n_hiddens[0]),\n",
        "    torch.nn.Tanh(),\n",
        "    torch.nn.Linear(n_hiddens[0], n_hiddens[1]),\n",
        "    torch.nn.Tanh(),\n",
        "    torch.nn.Linear(n_hiddens[1], n_outputs))\n",
        "\n",
        "if use_gpu:\n",
        "    print('Moving data and model to GPU')\n",
        "    X = X.to('cuda')\n",
        "    T = T.to('cuda')\n",
        "    model.to('cuda')\n",
        "\n",
        "optimizer = torch.optim.Adam(model.parameters(), lr=learning_rate)\n",
        "mse_func = torch.nn.MSELoss()\n",
        "\n",
        "start_time = time.time()\n",
        "\n",
        "for epoch in range(1000):\n",
        "\n",
        "    Y = model(X)\n",
        "\n",
        "    mse = mse_func(T, Y)\n",
        "    mse.backward()\n",
        "\n",
        "    optimizer.step()\n",
        "    optimizer.zero_grad()\n",
        "\n",
        "elapsed_time = time.time() - start_time\n",
        "print(f'Training took {elapsed_time:.2f} seconds.')\n",
        "if use_gpu:\n",
        "    print('   with GPU')\n",
        "\n",
        "plt.plot(X.cpu().detach(), T.cpu(), 'o-', label='T')\n",
        "plt.plot(X.cpu().detach(), Y.cpu().detach(), 'o-', label='Y')\n",
        "plt.legend();"
      ]
    },
    {
      "cell_type": "code",
      "execution_count": null,
      "metadata": {
        "id": "Q-_a6Ec9XxNV",
        "outputId": "0f2eba53-d8d6-491f-b677-c963d5ce65f8"
      },
      "outputs": [
        {
          "name": "stdout",
          "output_type": "stream",
          "text": [
            "Moving data and model to GPU\n",
            "Training took 1.32 seconds.\n",
            "   with GPU\n"
          ]
        },
        {
          "data": {
            "image/png": "[encoded data removed]",
            "text/plain": [
              "<Figure size 432x288 with 1 Axes>"
            ]
          },
          "metadata": {
            "needs_background": "light"
          },
          "output_type": "display_data"
        }
      ],
      "source": [
        "use_gpu = True # using GPU\n",
        "\n",
        "n_samples = 10000\n",
        "X = np.linspace(0, 10, n_samples).reshape((-1, 1))\n",
        "T = X ** 2\n",
        "n_samples, n_inputs = X.shape\n",
        "n_outputs = T.shape[1]\n",
        "\n",
        "n_hiddens = [100, 100]\n",
        "\n",
        "learning_rate = 0.1 #  / (n_samples * n_outputs)  ## Larger learning rate\n",
        "\n",
        "X = torch.from_numpy(X).float()\n",
        "T = torch.from_numpy(T).float()\n",
        "\n",
        "model = torch.nn.Sequential(\n",
        "    torch.nn.Linear(n_inputs, n_hiddens[0]),\n",
        "    torch.nn.Tanh(),\n",
        "    torch.nn.Linear(n_hiddens[0], n_hiddens[1]),\n",
        "    torch.nn.Tanh(),\n",
        "    torch.nn.Linear(n_hiddens[1], n_outputs))\n",
        "\n",
        "if use_gpu:\n",
        "    print('Moving data and model to GPU')\n",
        "    X = X.to('cuda')\n",
        "    T = T.to('cuda')\n",
        "    model.to('cuda')\n",
        "\n",
        "optimizer = torch.optim.Adam(model.parameters(), lr=learning_rate)\n",
        "mse_func = torch.nn.MSELoss()\n",
        "\n",
        "start_time = time.time()\n",
        "\n",
        "for epoch in range(1000):\n",
        "\n",
        "    Y = model(X)\n",
        "\n",
        "    mse = mse_func(T, Y)\n",
        "    mse.backward()\n",
        "\n",
        "    optimizer.step()\n",
        "    optimizer.zero_grad()\n",
        "\n",
        "elapsed_time = time.time() - start_time\n",
        "print(f'Training took {elapsed_time:.2f} seconds.')\n",
        "if use_gpu:\n",
        "    print('   with GPU')\n",
        "\n",
        "plt.plot(X.cpu().detach(), T.cpu(), 'o-', label='T')\n",
        "plt.plot(X.cpu().detach(), Y.cpu().detach(), 'o-', label='Y')\n",
        "plt.legend();"
      ]
    },
    {
      "cell_type": "markdown",
      "metadata": {
        "id": "3TI_-3FiXxNV"
      },
      "source": [
        "# The torch.nn.Module.forward function"
      ]
    },
    {
      "cell_type": "markdown",
      "metadata": {
        "id": "vua7iGoRXxNV"
      },
      "source": [
        "We just saw how to implement the neural network using `torch.nn.Sequential` as a combination of `Linear` and `Tanh` layers.  The forward calculation for such a neural network is implicitly defined this way.  \n",
        "\n",
        "Alternatively, we can define a new class that extends `torch.nn.Module` and define the `forward` function explicitly."
      ]
    },
    {
      "cell_type": "code",
      "execution_count": null,
      "metadata": {
        "id": "I9GK0DRZXxNV",
        "outputId": "6fc96224-7f11-4577-8e31-4a56e785a948"
      },
      "outputs": [
        {
          "name": "stdout",
          "output_type": "stream",
          "text": [
            "Moving data and model to GPU\n",
            "Training took 1.30 seconds.\n",
            "   with GPU\n"
          ]
        },
        {
          "data": {
            "image/png": "[encoded data removed]",
            "text/plain": [
              "<Figure size 432x288 with 1 Axes>"
            ]
          },
          "metadata": {
            "needs_background": "light"
          },
          "output_type": "display_data"
        }
      ],
      "source": [
        "use_gpu = True\n",
        "\n",
        "n_samples = 10000\n",
        "X = np.linspace(0, 10, n_samples).reshape((-1, 1))\n",
        "T = X ** 2\n",
        "n_samples, n_inputs = X.shape\n",
        "n_outputs = T.shape[1]\n",
        "\n",
        "\n",
        "X = torch.from_numpy(X).float()\n",
        "T = torch.from_numpy(T).float()\n",
        "\n",
        "class NNet(torch.nn.Module):\n",
        "\n",
        "    def __init__(self, n_inputs, n_hiddens_list, n_outputs):\n",
        "        super().__init__()  # call parent class (torch.nn.Module) constructor\n",
        "\n",
        "        self.hidden_layers = torch.nn.ModuleList()  # necessary for model.to('cuda')\n",
        "        for nh in n_hiddens_list:\n",
        "            self.hidden_layers.append( torch.nn.Sequential(\n",
        "                torch.nn.Linear(n_inputs, nh),\n",
        "                torch.nn.Tanh()))\n",
        "\n",
        "            n_inputs = nh\n",
        "        self.output_layer = torch.nn.Linear(n_inputs, n_outputs)\n",
        "\n",
        "    def forward(self, X):  # compare this to the forward_pass function in A2\n",
        "        Y = X\n",
        "        for hidden_layer in self.hidden_layers:\n",
        "            Y = hidden_layer(Y)\n",
        "        Y = self.output_layer(Y)\n",
        "        return Y\n",
        "\n",
        "n_hiddens = [100, 100]\n",
        "\n",
        "learning_rate = 0.1 #  / (n_samples * n_outputs)  ## Larger learning rate\n",
        "\n",
        "model = NNet(n_inputs, n_hiddens, n_outputs)\n",
        "\n",
        "if use_gpu:\n",
        "    print('Moving data and model to GPU')\n",
        "    X = X.to('cuda')\n",
        "    T = T.to('cuda')\n",
        "    model.to('cuda')   # or   model.cuda()\n",
        "\n",
        "optimizer = torch.optim.Adam(model.parameters(), lr=learning_rate)\n",
        "mse_func = torch.nn.MSELoss()\n",
        "\n",
        "start_time = time.time()\n",
        "\n",
        "for epoch in range(1000):\n",
        "\n",
        "    Y = model(X)\n",
        "\n",
        "    mse = mse_func(T, Y)\n",
        "    mse.backward()\n",
        "\n",
        "    optimizer.step()\n",
        "    optimizer.zero_grad()\n",
        "\n",
        "elapsed_time = time.time() - start_time\n",
        "print(f'Training took {elapsed_time:.2f} seconds.')\n",
        "if use_gpu:\n",
        "    print('   with GPU')\n",
        "\n",
        "plt.plot(X.cpu().detach(), T.cpu(), 'o-', label='T')\n",
        "plt.plot(X.cpu().detach(), Y.cpu().detach(), 'o-', label='Y')\n",
        "plt.legend();\n"
      ]
    },
    {
      "cell_type": "code",
      "execution_count": null,
      "metadata": {
        "id": "B2iWhisDXxNV"
      },
      "outputs": [],
      "source": []
    }
  ],
  "metadata": {
    "kernelspec": {
      "display_name": "Python 3",
      "name": "python3"
    },
    "language_info": {
      "codemirror_mode": {
        "name": "ipython",
        "version": 3
      },
      "file_extension": ".py",
      "mimetype": "text/x-python",
      "name": "python",
      "nbconvert_exporter": "python",
      "pygments_lexer": "ipython3",
      "version": "3.7.7"
    },
    "toc": {
      "base_numbering": 1,
      "nav_menu": {},
      "number_sections": true,
      "sideBar": true,
      "skip_h1_title": false,
      "title_cell": "Table of Contents",
      "title_sidebar": "Contents",
      "toc_cell": false,
      "toc_position": {
        "height": "calc(100% - 180px)",
        "left": "10px",
        "top": "150px",
        "width": "341.391px"
      },
      "toc_section_display": true,
      "toc_window_display": true
    },
    "colab": {
      "provenance": [],
      "gpuType": "T4",
      "include_colab_link": true
    },
    "accelerator": "GPU"
  },
  "nbformat": 4,
  "nbformat_minor": 0
}