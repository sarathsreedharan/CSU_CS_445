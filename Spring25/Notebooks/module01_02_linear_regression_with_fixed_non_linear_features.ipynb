{
  "cells": [
    {
      "cell_type": "markdown",
      "metadata": {
        "id": "view-in-github",
        "colab_type": "text"
      },
      "source": [
        "<a href=\"https://colab.research.google.com/github/sarathsreedharan/CSU_CS_445/blob/main/Spring25/Notebooks/module01_02_linear_regression_with_fixed_non_linear_features.ipynb\" target=\"_parent\"><img src=\"https://colab.research.google.com/assets/colab-badge.svg\" alt=\"Open In Colab\"/></a>"
      ]
    },
    {
      "cell_type": "markdown",
      "metadata": {
        "id": "XGKnvS6nty-i"
      },
      "source": [
        "$\\newcommand{\\xv}{\\mathbf{x}}\n",
        "\\newcommand{\\Xv}{\\mathbf{X}}\n",
        "\\newcommand{\\yv}{\\mathbf{y}}\n",
        "\\newcommand{\\zv}{\\mathbf{z}}\n",
        "\\newcommand{\\av}{\\mathbf{a}}\n",
        "\\newcommand{\\Wv}{\\mathbf{W}}\n",
        "\\newcommand{\\wv}{\\mathbf{w}}\n",
        "\\newcommand{\\tv}{\\mathbf{t}}\n",
        "\\newcommand{\\Tv}{\\mathbf{T}}\n",
        "\\newcommand{\\muv}{\\boldsymbol{\\mu}}\n",
        "\\newcommand{\\sigmav}{\\boldsymbol{\\sigma}}\n",
        "\\newcommand{\\phiv}{\\boldsymbol{\\phi}}\n",
        "\\newcommand{\\Phiv}{\\boldsymbol{\\Phi}}\n",
        "\\newcommand{\\Sigmav}{\\boldsymbol{\\Sigma}}\n",
        "\\newcommand{\\Lambdav}{\\boldsymbol{\\Lambda}}\n",
        "\\newcommand{\\half}{\\frac{1}{2}}\n",
        "\\newcommand{\\argmax}[1]{\\underset{#1}{\\operatorname{argmax}}}\n",
        "\\newcommand{\\argmin}[1]{\\underset{#1}{\\operatorname{argmin}}}$"
      ]
    },
    {
      "cell_type": "markdown",
      "metadata": {
        "id": "P2OYipLzty-j"
      },
      "source": [
        "# Linear Regression with Fixed Nonlinear Features"
      ]
    },
    {
      "cell_type": "markdown",
      "metadata": {
        "id": "x3rvOz0dty-k"
      },
      "source": [
        "The models we have been buildling are linear in the parameters $\\wv$\n",
        "and linear in the attributes (features) of the samples.  We can make\n",
        "models that are nonlinear in the attributes by adding nonlinear\n",
        "functions of the original features.  \n",
        "\n",
        "Say we have a single feature for each sample.  Our data matrix is\n",
        "$$\n",
        "\\begin{alignat*}{1}\n",
        " X &= \\begin{bmatrix}\n",
        "       x_0\\\\\n",
        "       x_1\\\\\n",
        "       \\vdots \\\\\n",
        "       x_N\n",
        "       \\end{bmatrix}\n",
        "\\end{alignat*}\n",
        "$$\n",
        "We can add other powers of each $x$ value, say up to the fourth power.\n",
        "$$\n",
        "\\begin{alignat*}{1}\n",
        " X &= \\begin{bmatrix}\n",
        "       x_0 & x_0^2 & x_0^3 & x_0^4\\\\\n",
        "       x_1 & x_1^2 & x_1^3 & x_1^4\\\\\n",
        "       \\vdots \\\\\n",
        "       x_N & x_N^2 & x_N^3 & x_N^4\\\\\n",
        "       \\end{bmatrix}\n",
        "\\end{alignat*}\n",
        "$$\n",
        "\n",
        "This is simple to do in python.\n",
        "\n",
        "    X = np.hstack((X, X**2, X**3, X**4))"
      ]
    },
    {
      "cell_type": "markdown",
      "metadata": {
        "id": "H1yAScHqty-k"
      },
      "source": [
        "Which of these powers of $x$ are useful?  Looking at the magnitudes of the weights is helpful, as long as the input features are\n",
        "standardized.  We can do more than this, though.  If we build multiple models from multiple \"bootstrap samples\" of the training data, we can compute confidence intervals of the weight values.\n",
        "\n",
        "* If zero is not included in the range of weight values specified by a weight's 90% lower and upper confidence limit, then we can say that we are 90% certain that the value of this weight is not zero.\n",
        "* If the range does include zero, the corresponding feature is probably one that is not useful."
      ]
    },
    {
      "cell_type": "markdown",
      "metadata": {
        "id": "8LLAdbsHty-k"
      },
      "source": [
        "**What's a boostrap sample?**\n",
        "\n",
        "A **bootstrap sample** is a smaller sample that is â€œbootstrappedâ€ from a larger sample. Bootstrapping is a type of resampling where large numbers of smaller samples of the same size are repeatedly drawn, with replacement, from a single original sample."
      ]
    },
    {
      "cell_type": "markdown",
      "metadata": {
        "id": "pv80ltPDty-k"
      },
      "source": [
        "Decent explainer here: https://www.statisticshowto.com/bootstrap-sample/"
      ]
    },
    {
      "cell_type": "markdown",
      "metadata": {
        "id": "iYiXQajtty-k"
      },
      "source": [
        "Here is some code that illustrates this process.  We include a value $\\lambda$, which is a penalty on weight magnitudes."
      ]
    },
    {
      "cell_type": "code",
      "execution_count": 1,
      "metadata": {
        "id": "x0PyRl0Rty-l"
      },
      "outputs": [],
      "source": [
        "import numpy as np\n",
        "import matplotlib.pyplot as plt\n",
        "# set backend of matplotlib to the 'inline' backend\n",
        "# print plots inline into notebook\n",
        "%matplotlib inline"
      ]
    },
    {
      "cell_type": "code",
      "execution_count": null,
      "metadata": {
        "id": "TsoSc-OIty-l"
      },
      "outputs": [],
      "source": [
        "import random"
      ]
    },
    {
      "cell_type": "code",
      "execution_count": null,
      "metadata": {
        "id": "NHIk_Pyity-l"
      },
      "outputs": [],
      "source": [
        "def train(X, T, lamb=0):\n",
        "    means = X.mean(0)\n",
        "    stds = X.std(0)\n",
        "    n, d = X.shape\n",
        "    Xs1 = np.insert((X - means)/stds, 0, 1, axis=1)\n",
        "    lambDiag = np.eye(d+1) * lamb\n",
        "    lambDiag[0, 0] = 0\n",
        "    w = np.linalg.lstsq( Xs1.T @ Xs1 + lambDiag, Xs1.T @ T, rcond=None)[0]\n",
        "    return {'w': w, 'means':means, 'stds':stds, 'lambda': lamb}\n",
        "\n",
        "def use(model, X):\n",
        "    Xs1 = np.insert((X - model['means'])/model['stds'], 0, 1, axis=1)\n",
        "    return Xs1 @ model['w']\n",
        "\n",
        "def rmse(A,B):\n",
        "    return np.sqrt(np.mean( (A - B)**2 ))\n"
      ]
    },
    {
      "cell_type": "code",
      "execution_count": null,
      "metadata": {
        "id": "CfvOg-g-ty-l"
      },
      "outputs": [],
      "source": [
        "# \"eye\" = \"i\" = \"identity\"\n",
        "np.eye?"
      ]
    },
    {
      "cell_type": "markdown",
      "metadata": {
        "id": "C_pib1p5ty-m"
      },
      "source": [
        "Now, make a simple function of $x$. How about $f(x) = -1 + 0.1 x^2 - 0.02 x^3 + 0.5 n$, where $n$ is from a standard Normal distribution."
      ]
    },
    {
      "cell_type": "code",
      "execution_count": null,
      "metadata": {
        "id": "e7VpmCpXty-m",
        "outputId": "e66ee3f1-ab0b-42ff-f520-5ae30747e394"
      },
      "outputs": [
        {
          "data": {
            "text/plain": [
              "((80, 1), (80, 1))"
            ]
          },
          "execution_count": 138,
          "metadata": {},
          "output_type": "execute_result"
        }
      ],
      "source": [
        "nSamples = 40\n",
        "trainingFraction = 0.5\n",
        "\n",
        "X = np.hstack((np.linspace(0, 3, num=nSamples),\n",
        "               np.linspace(6, 10, num=nSamples))).reshape((2*nSamples, 1))\n",
        "# T = -1 + 1 * X + 2 * np.sin(X*2) + 0.55*np.random.normal(size=(2*nSamples,1))\n",
        "T = -1 + 0 * X + 0.1 * X**2 - 0.02 * X**3 + 0.5*np.random.normal(size=(2*nSamples, 1))\n",
        "X.shape, T.shape"
      ]
    },
    {
      "cell_type": "code",
      "execution_count": null,
      "metadata": {
        "id": "0O-1mog0ty-m",
        "outputId": "6971d4df-bab2-4b09-f0e9-430735be068c"
      },
      "outputs": [
        {
          "data": {
            "image/png": "[encoded data removed]",
            "text/plain": [
              "<Figure size 432x288 with 1 Axes>"
            ]
          },
          "metadata": {
            "needs_background": "light"
          },
          "output_type": "display_data"
        }
      ],
      "source": [
        "plt.plot(X, T, '.-');"
      ]
    },
    {
      "cell_type": "markdown",
      "metadata": {
        "id": "pT1PzLJJty-m"
      },
      "source": [
        "Let's add squared and cubed values of each feature."
      ]
    },
    {
      "cell_type": "code",
      "execution_count": null,
      "metadata": {
        "id": "s1vMdDHYty-m"
      },
      "outputs": [],
      "source": [
        "Xf = np.hstack((X, X**2, X**3, X**4, X**5))\n",
        "#Xf = np.hstack((X, np.sin(X)))"
      ]
    },
    {
      "cell_type": "markdown",
      "metadata": {
        "id": "B7C60gC4ty-m"
      },
      "source": [
        "Divide data into training and testing sets, randomly."
      ]
    },
    {
      "cell_type": "code",
      "execution_count": null,
      "metadata": {
        "id": "Q7GfPHmnty-m",
        "outputId": "3a99f403-cd41-4131-dd8c-1e3fa09b9e25"
      },
      "outputs": [
        {
          "data": {
            "text/plain": [
              "80"
            ]
          },
          "execution_count": 141,
          "metadata": {},
          "output_type": "execute_result"
        }
      ],
      "source": [
        "nRows = Xf.shape[0]\n",
        "nRows"
      ]
    },
    {
      "cell_type": "code",
      "execution_count": null,
      "metadata": {
        "id": "QvG19I5Bty-n",
        "outputId": "b372db30-adae-4f83-d705-87e3ee4eb073"
      },
      "outputs": [
        {
          "data": {
            "text/plain": [
              "array([55, 39, 76, 45, 53, 74, 59, 36, 49, 79,  5, 27, 33,  6, 62, 48, 78,\n",
              "       60, 77, 69, 15,  0, 40, 64, 37, 73, 22, 70, 57, 35, 63, 54, 28, 66,\n",
              "       51,  1, 21,  7, 16, 17, 68, 11, 47, 38, 18, 29, 75, 19, 61,  8, 12,\n",
              "       32, 71, 58, 46, 25,  4, 67, 72, 30, 56, 42,  2, 10,  3, 23, 34, 20,\n",
              "       24, 26, 65, 44, 43, 13, 52, 50, 31, 41,  9, 14])"
            ]
          },
          "execution_count": 142,
          "metadata": {},
          "output_type": "execute_result"
        }
      ],
      "source": [
        "rowIndices = np.arange(nRows)\n",
        "np.random.shuffle(rowIndices)\n",
        "rowIndices"
      ]
    },
    {
      "cell_type": "code",
      "execution_count": null,
      "metadata": {
        "id": "SQKk1kIdty-n",
        "outputId": "ded0fc89-9473-4c62-87a4-22a8b3e1742b"
      },
      "outputs": [
        {
          "data": {
            "text/plain": [
              "((40, 5), (40, 1), (40, 5), (40, 1))"
            ]
          },
          "execution_count": 143,
          "metadata": {},
          "output_type": "execute_result"
        }
      ],
      "source": [
        "# round -> round(7.8) = 8\n",
        "nTrain = round(nRows * trainingFraction)\n",
        "nTest = nRows - nTrain\n",
        "trainIndices = rowIndices[:nTrain]\n",
        "testIndices = rowIndices[nTrain:]\n",
        "\n",
        "Xtrain = Xf[trainIndices, :]\n",
        "Ttrain = T[trainIndices, :]\n",
        "Xtest = Xf[testIndices, :]\n",
        "Ttest = T[testIndices, :]\n",
        "\n",
        "Xtrain.shape, Ttrain.shape, Xtest.shape, Ttest.shape"
      ]
    },
    {
      "cell_type": "code",
      "execution_count": null,
      "metadata": {
        "id": "Mdp0fJwvty-n",
        "outputId": "e451c0ea-4118-4e69-ea7e-2af2a0f5a095"
      },
      "outputs": [
        {
          "data": {
            "image/png": "[encoded data removed]",
            "text/plain": [
              "<Figure size 432x288 with 1 Axes>"
            ]
          },
          "metadata": {
            "needs_background": "light"
          },
          "output_type": "display_data"
        }
      ],
      "source": [
        "plt.plot(Xtrain[:, 0], Ttrain, 'o', label='Train')\n",
        "plt.plot(Xtest[:, 0], Ttest, 'ro', label='Test')\n",
        "plt.legend(loc='best');"
      ]
    },
    {
      "cell_type": "markdown",
      "metadata": {
        "id": "EDz_uy_Nty-n"
      },
      "source": [
        "Make models based on bootstrap samples of training data.  `models` will be list of models, one for each bootstrap sample."
      ]
    },
    {
      "cell_type": "code",
      "execution_count": null,
      "metadata": {
        "id": "gDC_ln6hty-n",
        "outputId": "2b894589-4924-454f-be74-d68e9dd5611c"
      },
      "outputs": [
        {
          "data": {
            "text/plain": [
              "[0, 4, 6, 0, 3, 5, 8, 2, 5, 10, 4, 2, 4, 10, 8, 6, 6, 10, 1, 6]"
            ]
          },
          "execution_count": 145,
          "metadata": {},
          "output_type": "execute_result"
        }
      ],
      "source": [
        "[random.randint(0,10) for i in range(20)]"
      ]
    },
    {
      "cell_type": "code",
      "execution_count": null,
      "metadata": {
        "id": "ZSjMN2xRty-n"
      },
      "outputs": [],
      "source": [
        "nModels = 100\n",
        "lambdaw = 0\n",
        "models = []\n",
        "for modeli in range(nModels):\n",
        "    # Draw random sample (row) numbers, with repetition\n",
        "    trainI = [random.randint(0, nTrain-1) for i in range(nTrain)]\n",
        "    XtrainBoot = Xtrain[trainI, :]\n",
        "    TtrainBoot = Ttrain[trainI, :]\n",
        "    model = train(XtrainBoot, TtrainBoot, lambdaw)\n",
        "    models.append(model)"
      ]
    },
    {
      "cell_type": "code",
      "execution_count": null,
      "metadata": {
        "id": "lqG4Ila2ty-n",
        "outputId": "e23881b7-baa1-41df-fb5c-0febbc857397"
      },
      "outputs": [
        {
          "data": {
            "text/plain": [
              "100"
            ]
          },
          "execution_count": 180,
          "metadata": {},
          "output_type": "execute_result"
        }
      ],
      "source": [
        "len(models)"
      ]
    },
    {
      "cell_type": "code",
      "execution_count": null,
      "metadata": {
        "id": "vs_H6w6jty-n",
        "outputId": "95b9c383-27b2-4a75-b843-f027a47dc8bc"
      },
      "outputs": [
        {
          "data": {
            "text/plain": [
              "{'w': array([[ -3.94108005],\n",
              "        [ -5.10199198],\n",
              "        [ 32.85483394],\n",
              "        [-73.89105167],\n",
              "        [ 69.82847143],\n",
              "        [-27.09022978]]),\n",
              " 'means': array([5.08589744e+00, 4.02335634e+01, 3.42657969e+02, 2.99448675e+03,\n",
              "        2.65821462e+04]),\n",
              " 'stds': array([3.79041036e+00, 3.70910653e+01, 3.48620545e+02, 3.31044296e+03,\n",
              "        3.18246297e+04]),\n",
              " 'lambda': 0}"
            ]
          },
          "execution_count": 181,
          "metadata": {},
          "output_type": "execute_result"
        }
      ],
      "source": [
        "models[0]"
      ]
    },
    {
      "cell_type": "markdown",
      "metadata": {
        "id": "c4VJE6sRty-o"
      },
      "source": [
        "Now we will apply all of the models to the test data."
      ]
    },
    {
      "cell_type": "code",
      "execution_count": null,
      "metadata": {
        "id": "emEMmeBFty-o"
      },
      "outputs": [],
      "source": [
        "YAll = [] # pronounced \"why all,\" but I grew up in a rural area so it's \"y'all\"\n",
        "for model in models:\n",
        "    YAll.append( use(model, Xtest) )"
      ]
    },
    {
      "cell_type": "code",
      "execution_count": null,
      "metadata": {
        "id": "zK9vJiJ4ty-o",
        "outputId": "5765d267-592a-4164-e7ae-017a483a530c"
      },
      "outputs": [
        {
          "data": {
            "text/plain": [
              "(100, 40, 1)"
            ]
          },
          "execution_count": 183,
          "metadata": {},
          "output_type": "execute_result"
        }
      ],
      "source": [
        "np.array(YAll).shape"
      ]
    },
    {
      "cell_type": "code",
      "execution_count": null,
      "metadata": {
        "id": "JzyUn8ZGty-o",
        "outputId": "a7527cfb-d542-48ba-dd5c-204232c6f6da"
      },
      "outputs": [
        {
          "data": {
            "text/plain": [
              "(100, 40)"
            ]
          },
          "execution_count": 184,
          "metadata": {},
          "output_type": "execute_result"
        }
      ],
      "source": [
        "np.array(YAll).squeeze().shape"
      ]
    },
    {
      "cell_type": "code",
      "execution_count": null,
      "metadata": {
        "id": "gug6O-Xhty-o"
      },
      "outputs": [],
      "source": [
        "YAll = np.array(YAll).squeeze().T\n",
        "Ytest = np.mean(YAll, axis=1)"
      ]
    },
    {
      "cell_type": "code",
      "execution_count": null,
      "metadata": {
        "id": "UNhmDDQtty-o",
        "outputId": "0c88fe6c-9e67-4d9d-fc32-e021ec46637f"
      },
      "outputs": [
        {
          "data": {
            "text/plain": [
              "(40,)"
            ]
          },
          "execution_count": 186,
          "metadata": {},
          "output_type": "execute_result"
        }
      ],
      "source": [
        "Ytest.shape"
      ]
    },
    {
      "cell_type": "code",
      "execution_count": null,
      "metadata": {
        "id": "NUPuGsNNty-o",
        "outputId": "51f56fe0-a4bc-4ad6-a8fd-235a4212f026"
      },
      "outputs": [
        {
          "name": "stdout",
          "output_type": "stream",
          "text": [
            "Test RMSE is 3.4940\n"
          ]
        }
      ],
      "source": [
        "RMSEtest = np.sqrt(np.mean((Ytest - Ttest)**2))\n",
        "print('Test RMSE is {:.4f}'.format(RMSEtest))"
      ]
    },
    {
      "cell_type": "markdown",
      "metadata": {
        "id": "zuQ7gWd9ty-o"
      },
      "source": [
        "Now let's look at some of the methods we're going to put to use next.\n",
        "\n",
        "* `np.linspace(a,b,n)` returns *n* evenly spaced numbers over an interval from *a* to *b*.\n",
        "* `np.reshape((dim))` gives a new dimensionality *dim* to an array without changing its data"
      ]
    },
    {
      "cell_type": "code",
      "execution_count": null,
      "metadata": {
        "id": "HdJBtQRlty-p"
      },
      "outputs": [],
      "source": [
        "np.linspace?"
      ]
    },
    {
      "cell_type": "code",
      "execution_count": null,
      "metadata": {
        "id": "Q2or0zfaty-p",
        "outputId": "67038ff1-cd26-47f1-a078-76abaab33461"
      },
      "outputs": [
        {
          "name": "stdout",
          "output_type": "stream",
          "text": [
            "100\n"
          ]
        },
        {
          "data": {
            "text/plain": [
              "array([ 0.        ,  0.12626263,  0.25252525,  0.37878788,  0.50505051,\n",
              "        0.63131313,  0.75757576,  0.88383838,  1.01010101,  1.13636364,\n",
              "        1.26262626,  1.38888889,  1.51515152,  1.64141414,  1.76767677,\n",
              "        1.89393939,  2.02020202,  2.14646465,  2.27272727,  2.3989899 ,\n",
              "        2.52525253,  2.65151515,  2.77777778,  2.9040404 ,  3.03030303,\n",
              "        3.15656566,  3.28282828,  3.40909091,  3.53535354,  3.66161616,\n",
              "        3.78787879,  3.91414141,  4.04040404,  4.16666667,  4.29292929,\n",
              "        4.41919192,  4.54545455,  4.67171717,  4.7979798 ,  4.92424242,\n",
              "        5.05050505,  5.17676768,  5.3030303 ,  5.42929293,  5.55555556,\n",
              "        5.68181818,  5.80808081,  5.93434343,  6.06060606,  6.18686869,\n",
              "        6.31313131,  6.43939394,  6.56565657,  6.69191919,  6.81818182,\n",
              "        6.94444444,  7.07070707,  7.1969697 ,  7.32323232,  7.44949495,\n",
              "        7.57575758,  7.7020202 ,  7.82828283,  7.95454545,  8.08080808,\n",
              "        8.20707071,  8.33333333,  8.45959596,  8.58585859,  8.71212121,\n",
              "        8.83838384,  8.96464646,  9.09090909,  9.21717172,  9.34343434,\n",
              "        9.46969697,  9.5959596 ,  9.72222222,  9.84848485,  9.97474747,\n",
              "       10.1010101 , 10.22727273, 10.35353535, 10.47979798, 10.60606061,\n",
              "       10.73232323, 10.85858586, 10.98484848, 11.11111111, 11.23737374,\n",
              "       11.36363636, 11.48989899, 11.61616162, 11.74242424, 11.86868687,\n",
              "       11.99494949, 12.12121212, 12.24747475, 12.37373737, 12.5       ])"
            ]
          },
          "execution_count": 55,
          "metadata": {},
          "output_type": "execute_result"
        }
      ],
      "source": [
        "nPlot = 100\n",
        "print(nPlot)\n",
        "evenDistrib = np.linspace(0,12.5,nPlot)\n",
        "evenDistrib"
      ]
    },
    {
      "cell_type": "code",
      "execution_count": null,
      "metadata": {
        "id": "vD3uy8Wdty-p"
      },
      "outputs": [],
      "source": [
        "np.reshape?"
      ]
    },
    {
      "cell_type": "code",
      "execution_count": null,
      "metadata": {
        "id": "i1bLPT6nty-p",
        "outputId": "5f14dee7-da08-4c17-f0f8-1e674b076f77"
      },
      "outputs": [
        {
          "data": {
            "text/plain": [
              "(100,)"
            ]
          },
          "execution_count": 57,
          "metadata": {},
          "output_type": "execute_result"
        }
      ],
      "source": [
        "evenDistrib.shape"
      ]
    },
    {
      "cell_type": "code",
      "execution_count": null,
      "metadata": {
        "id": "X3FV3xZ5ty-p",
        "outputId": "243bf1c2-1cc2-48d7-dde4-c43a7bd025f9"
      },
      "outputs": [
        {
          "data": {
            "text/plain": [
              "array([[ 0.        ],\n",
              "       [ 0.12626263],\n",
              "       [ 0.25252525],\n",
              "       [ 0.37878788],\n",
              "       [ 0.50505051],\n",
              "       [ 0.63131313],\n",
              "       [ 0.75757576],\n",
              "       [ 0.88383838],\n",
              "       [ 1.01010101],\n",
              "       [ 1.13636364],\n",
              "       [ 1.26262626],\n",
              "       [ 1.38888889],\n",
              "       [ 1.51515152],\n",
              "       [ 1.64141414],\n",
              "       [ 1.76767677],\n",
              "       [ 1.89393939],\n",
              "       [ 2.02020202],\n",
              "       [ 2.14646465],\n",
              "       [ 2.27272727],\n",
              "       [ 2.3989899 ],\n",
              "       [ 2.52525253],\n",
              "       [ 2.65151515],\n",
              "       [ 2.77777778],\n",
              "       [ 2.9040404 ],\n",
              "       [ 3.03030303],\n",
              "       [ 3.15656566],\n",
              "       [ 3.28282828],\n",
              "       [ 3.40909091],\n",
              "       [ 3.53535354],\n",
              "       [ 3.66161616],\n",
              "       [ 3.78787879],\n",
              "       [ 3.91414141],\n",
              "       [ 4.04040404],\n",
              "       [ 4.16666667],\n",
              "       [ 4.29292929],\n",
              "       [ 4.41919192],\n",
              "       [ 4.54545455],\n",
              "       [ 4.67171717],\n",
              "       [ 4.7979798 ],\n",
              "       [ 4.92424242],\n",
              "       [ 5.05050505],\n",
              "       [ 5.17676768],\n",
              "       [ 5.3030303 ],\n",
              "       [ 5.42929293],\n",
              "       [ 5.55555556],\n",
              "       [ 5.68181818],\n",
              "       [ 5.80808081],\n",
              "       [ 5.93434343],\n",
              "       [ 6.06060606],\n",
              "       [ 6.18686869],\n",
              "       [ 6.31313131],\n",
              "       [ 6.43939394],\n",
              "       [ 6.56565657],\n",
              "       [ 6.69191919],\n",
              "       [ 6.81818182],\n",
              "       [ 6.94444444],\n",
              "       [ 7.07070707],\n",
              "       [ 7.1969697 ],\n",
              "       [ 7.32323232],\n",
              "       [ 7.44949495],\n",
              "       [ 7.57575758],\n",
              "       [ 7.7020202 ],\n",
              "       [ 7.82828283],\n",
              "       [ 7.95454545],\n",
              "       [ 8.08080808],\n",
              "       [ 8.20707071],\n",
              "       [ 8.33333333],\n",
              "       [ 8.45959596],\n",
              "       [ 8.58585859],\n",
              "       [ 8.71212121],\n",
              "       [ 8.83838384],\n",
              "       [ 8.96464646],\n",
              "       [ 9.09090909],\n",
              "       [ 9.21717172],\n",
              "       [ 9.34343434],\n",
              "       [ 9.46969697],\n",
              "       [ 9.5959596 ],\n",
              "       [ 9.72222222],\n",
              "       [ 9.84848485],\n",
              "       [ 9.97474747],\n",
              "       [10.1010101 ],\n",
              "       [10.22727273],\n",
              "       [10.35353535],\n",
              "       [10.47979798],\n",
              "       [10.60606061],\n",
              "       [10.73232323],\n",
              "       [10.85858586],\n",
              "       [10.98484848],\n",
              "       [11.11111111],\n",
              "       [11.23737374],\n",
              "       [11.36363636],\n",
              "       [11.48989899],\n",
              "       [11.61616162],\n",
              "       [11.74242424],\n",
              "       [11.86868687],\n",
              "       [11.99494949],\n",
              "       [12.12121212],\n",
              "       [12.24747475],\n",
              "       [12.37373737],\n",
              "       [12.5       ]])"
            ]
          },
          "execution_count": 58,
          "metadata": {},
          "output_type": "execute_result"
        }
      ],
      "source": [
        "evenDistrib = evenDistrib.reshape((nPlot,1))\n",
        "evenDistrib"
      ]
    },
    {
      "cell_type": "code",
      "execution_count": null,
      "metadata": {
        "id": "pYnjPkmSty-z",
        "outputId": "604911a3-1979-495b-c57f-ed6c973fa57f"
      },
      "outputs": [
        {
          "data": {
            "text/plain": [
              "(100, 1)"
            ]
          },
          "execution_count": 59,
          "metadata": {},
          "output_type": "execute_result"
        }
      ],
      "source": [
        "evenDistrib.shape"
      ]
    },
    {
      "cell_type": "code",
      "execution_count": null,
      "metadata": {
        "id": "sYcuBznBty-z",
        "outputId": "8652bd6c-681c-46ee-a0d0-b25959f46da3"
      },
      "outputs": [
        {
          "data": {
            "text/plain": [
              "array([[ 0.        ,  0.12626263],\n",
              "       [ 0.25252525,  0.37878788],\n",
              "       [ 0.50505051,  0.63131313],\n",
              "       [ 0.75757576,  0.88383838],\n",
              "       [ 1.01010101,  1.13636364],\n",
              "       [ 1.26262626,  1.38888889],\n",
              "       [ 1.51515152,  1.64141414],\n",
              "       [ 1.76767677,  1.89393939],\n",
              "       [ 2.02020202,  2.14646465],\n",
              "       [ 2.27272727,  2.3989899 ],\n",
              "       [ 2.52525253,  2.65151515],\n",
              "       [ 2.77777778,  2.9040404 ],\n",
              "       [ 3.03030303,  3.15656566],\n",
              "       [ 3.28282828,  3.40909091],\n",
              "       [ 3.53535354,  3.66161616],\n",
              "       [ 3.78787879,  3.91414141],\n",
              "       [ 4.04040404,  4.16666667],\n",
              "       [ 4.29292929,  4.41919192],\n",
              "       [ 4.54545455,  4.67171717],\n",
              "       [ 4.7979798 ,  4.92424242],\n",
              "       [ 5.05050505,  5.17676768],\n",
              "       [ 5.3030303 ,  5.42929293],\n",
              "       [ 5.55555556,  5.68181818],\n",
              "       [ 5.80808081,  5.93434343],\n",
              "       [ 6.06060606,  6.18686869],\n",
              "       [ 6.31313131,  6.43939394],\n",
              "       [ 6.56565657,  6.69191919],\n",
              "       [ 6.81818182,  6.94444444],\n",
              "       [ 7.07070707,  7.1969697 ],\n",
              "       [ 7.32323232,  7.44949495],\n",
              "       [ 7.57575758,  7.7020202 ],\n",
              "       [ 7.82828283,  7.95454545],\n",
              "       [ 8.08080808,  8.20707071],\n",
              "       [ 8.33333333,  8.45959596],\n",
              "       [ 8.58585859,  8.71212121],\n",
              "       [ 8.83838384,  8.96464646],\n",
              "       [ 9.09090909,  9.21717172],\n",
              "       [ 9.34343434,  9.46969697],\n",
              "       [ 9.5959596 ,  9.72222222],\n",
              "       [ 9.84848485,  9.97474747],\n",
              "       [10.1010101 , 10.22727273],\n",
              "       [10.35353535, 10.47979798],\n",
              "       [10.60606061, 10.73232323],\n",
              "       [10.85858586, 10.98484848],\n",
              "       [11.11111111, 11.23737374],\n",
              "       [11.36363636, 11.48989899],\n",
              "       [11.61616162, 11.74242424],\n",
              "       [11.86868687, 11.99494949],\n",
              "       [12.12121212, 12.24747475],\n",
              "       [12.37373737, 12.5       ]])"
            ]
          },
          "execution_count": 60,
          "metadata": {},
          "output_type": "execute_result"
        }
      ],
      "source": [
        "# the new shape must be compatible with the old shape\n",
        "evenDistrib.reshape((50,2))"
      ]
    },
    {
      "cell_type": "code",
      "execution_count": null,
      "metadata": {
        "id": "QgbZIJELty-z",
        "outputId": "060b6a71-5a09-4648-bd1f-63db9d1bddfa"
      },
      "outputs": [
        {
          "data": {
            "text/plain": [
              "array([[[[ 0.        ,  0.12626263]],\n",
              "\n",
              "        [[ 0.25252525,  0.37878788]]],\n",
              "\n",
              "\n",
              "       [[[ 0.50505051,  0.63131313]],\n",
              "\n",
              "        [[ 0.75757576,  0.88383838]]],\n",
              "\n",
              "\n",
              "       [[[ 1.01010101,  1.13636364]],\n",
              "\n",
              "        [[ 1.26262626,  1.38888889]]],\n",
              "\n",
              "\n",
              "       [[[ 1.51515152,  1.64141414]],\n",
              "\n",
              "        [[ 1.76767677,  1.89393939]]],\n",
              "\n",
              "\n",
              "       [[[ 2.02020202,  2.14646465]],\n",
              "\n",
              "        [[ 2.27272727,  2.3989899 ]]],\n",
              "\n",
              "\n",
              "       [[[ 2.52525253,  2.65151515]],\n",
              "\n",
              "        [[ 2.77777778,  2.9040404 ]]],\n",
              "\n",
              "\n",
              "       [[[ 3.03030303,  3.15656566]],\n",
              "\n",
              "        [[ 3.28282828,  3.40909091]]],\n",
              "\n",
              "\n",
              "       [[[ 3.53535354,  3.66161616]],\n",
              "\n",
              "        [[ 3.78787879,  3.91414141]]],\n",
              "\n",
              "\n",
              "       [[[ 4.04040404,  4.16666667]],\n",
              "\n",
              "        [[ 4.29292929,  4.41919192]]],\n",
              "\n",
              "\n",
              "       [[[ 4.54545455,  4.67171717]],\n",
              "\n",
              "        [[ 4.7979798 ,  4.92424242]]],\n",
              "\n",
              "\n",
              "       [[[ 5.05050505,  5.17676768]],\n",
              "\n",
              "        [[ 5.3030303 ,  5.42929293]]],\n",
              "\n",
              "\n",
              "       [[[ 5.55555556,  5.68181818]],\n",
              "\n",
              "        [[ 5.80808081,  5.93434343]]],\n",
              "\n",
              "\n",
              "       [[[ 6.06060606,  6.18686869]],\n",
              "\n",
              "        [[ 6.31313131,  6.43939394]]],\n",
              "\n",
              "\n",
              "       [[[ 6.56565657,  6.69191919]],\n",
              "\n",
              "        [[ 6.81818182,  6.94444444]]],\n",
              "\n",
              "\n",
              "       [[[ 7.07070707,  7.1969697 ]],\n",
              "\n",
              "        [[ 7.32323232,  7.44949495]]],\n",
              "\n",
              "\n",
              "       [[[ 7.57575758,  7.7020202 ]],\n",
              "\n",
              "        [[ 7.82828283,  7.95454545]]],\n",
              "\n",
              "\n",
              "       [[[ 8.08080808,  8.20707071]],\n",
              "\n",
              "        [[ 8.33333333,  8.45959596]]],\n",
              "\n",
              "\n",
              "       [[[ 8.58585859,  8.71212121]],\n",
              "\n",
              "        [[ 8.83838384,  8.96464646]]],\n",
              "\n",
              "\n",
              "       [[[ 9.09090909,  9.21717172]],\n",
              "\n",
              "        [[ 9.34343434,  9.46969697]]],\n",
              "\n",
              "\n",
              "       [[[ 9.5959596 ,  9.72222222]],\n",
              "\n",
              "        [[ 9.84848485,  9.97474747]]],\n",
              "\n",
              "\n",
              "       [[[10.1010101 , 10.22727273]],\n",
              "\n",
              "        [[10.35353535, 10.47979798]]],\n",
              "\n",
              "\n",
              "       [[[10.60606061, 10.73232323]],\n",
              "\n",
              "        [[10.85858586, 10.98484848]]],\n",
              "\n",
              "\n",
              "       [[[11.11111111, 11.23737374]],\n",
              "\n",
              "        [[11.36363636, 11.48989899]]],\n",
              "\n",
              "\n",
              "       [[[11.61616162, 11.74242424]],\n",
              "\n",
              "        [[11.86868687, 11.99494949]]],\n",
              "\n",
              "\n",
              "       [[[12.12121212, 12.24747475]],\n",
              "\n",
              "        [[12.37373737, 12.5       ]]]])"
            ]
          },
          "execution_count": 61,
          "metadata": {},
          "output_type": "execute_result"
        }
      ],
      "source": [
        "evenDistrib.reshape((25,2,1,2)) # even this would work"
      ]
    },
    {
      "cell_type": "code",
      "execution_count": null,
      "metadata": {
        "id": "yftkK8XLty-z",
        "outputId": "1a9a9948-6744-4347-f510-e38224e4e544"
      },
      "outputs": [
        {
          "ename": "ValueError",
          "evalue": "cannot reshape array of size 100 into shape (101,1)",
          "output_type": "error",
          "traceback": [
            "\u001b[1;31m---------------------------------------------------------------------------\u001b[0m",
            "\u001b[1;31mValueError\u001b[0m                                Traceback (most recent call last)",
            "\u001b[1;32m<ipython-input-62-7843f86448a7>\u001b[0m in \u001b[0;36m<module>\u001b[1;34m\u001b[0m\n\u001b[1;32m----> 1\u001b[1;33m \u001b[0mevenDistrib\u001b[0m\u001b[1;33m.\u001b[0m\u001b[0mreshape\u001b[0m\u001b[1;33m(\u001b[0m\u001b[1;33m(\u001b[0m\u001b[1;36m101\u001b[0m\u001b[1;33m,\u001b[0m\u001b[1;36m1\u001b[0m\u001b[1;33m)\u001b[0m\u001b[1;33m)\u001b[0m \u001b[1;31m# this does not work\u001b[0m\u001b[1;33m\u001b[0m\u001b[1;33m\u001b[0m\u001b[0m\n\u001b[0m",
            "\u001b[1;31mValueError\u001b[0m: cannot reshape array of size 100 into shape (101,1)"
          ]
        }
      ],
      "source": [
        "evenDistrib.reshape((101,1)) # this does not work"
      ]
    },
    {
      "cell_type": "code",
      "execution_count": null,
      "metadata": {
        "id": "-eAYiIRQty-z",
        "outputId": "4cd81d26-47c2-49f5-da58-12ea853727ac"
      },
      "outputs": [
        {
          "data": {
            "text/plain": [
              "array([[0.00000000e+00, 0.00000000e+00, 0.00000000e+00, 0.00000000e+00,\n",
              "        0.00000000e+00],\n",
              "       [1.26262626e-01, 1.59422508e-02, 2.01291045e-03, 2.54155360e-04,\n",
              "        3.20903233e-05],\n",
              "       [2.52525253e-01, 6.37690032e-02, 1.61032836e-02, 4.06648576e-03,\n",
              "        1.02689034e-03],\n",
              "       [3.78787879e-01, 1.43480257e-01, 5.43485822e-02, 2.05865842e-02,\n",
              "        7.79794855e-03],\n",
              "       [5.05050505e-01, 2.55076013e-01, 1.28826269e-01, 6.50637722e-02,\n",
              "        3.28604910e-02],\n",
              "       [6.31313131e-01, 3.98556270e-01, 2.51613807e-01, 1.58847100e-01,\n",
              "        1.00282260e-01],\n",
              "       [7.57575758e-01, 5.73921028e-01, 4.34788658e-01, 3.29385347e-01,\n",
              "        2.49534354e-01],\n",
              "       [8.83838384e-01, 7.81170289e-01, 6.90428286e-01, 6.10227020e-01,\n",
              "        5.39342063e-01],\n",
              "       [1.01010101e+00, 1.02030405e+00, 1.03061015e+00, 1.04102036e+00,\n",
              "        1.05153571e+00],\n",
              "       [1.13636364e+00, 1.29132231e+00, 1.46741172e+00, 1.66751332e+00,\n",
              "        1.89490150e+00],\n",
              "       [1.26262626e+00, 1.59422508e+00, 2.01291045e+00, 2.54155360e+00,\n",
              "        3.20903233e+00],\n",
              "       [1.38888889e+00, 1.92901235e+00, 2.67918381e+00, 3.72108863e+00,\n",
              "        5.16817865e+00],\n",
              "       [1.51515152e+00, 2.29568411e+00, 3.47830926e+00, 5.27016555e+00,\n",
              "        7.98509932e+00],\n",
              "       [1.64141414e+00, 2.69424038e+00, 4.42236427e+00, 7.25893124e+00,\n",
              "        1.19149124e+01],\n",
              "       [1.76767677e+00, 3.12468115e+00, 5.52342628e+00, 9.76363232e+00,\n",
              "        1.72589460e+01],\n",
              "       [1.89393939e+00, 3.58700643e+00, 6.79357278e+00, 1.28666151e+01,\n",
              "        2.43685892e+01],\n",
              "       [2.02020202e+00, 4.08121620e+00, 8.24488122e+00, 1.66563257e+01,\n",
              "        3.36491428e+01],\n",
              "       [2.14646465e+00, 4.60731048e+00, 9.88942906e+00, 2.12273098e+01,\n",
              "        4.55636701e+01],\n",
              "       [2.27272727e+00, 5.16528926e+00, 1.17392938e+01, 2.66802131e+01,\n",
              "        6.06368480e+01],\n",
              "       [2.39898990e+00, 5.75515254e+00, 1.38065528e+01, 3.31217807e+01,\n",
              "        7.94588174e+01],\n",
              "       [2.52525253e+00, 6.37690032e+00, 1.61032836e+01, 4.06648576e+01,\n",
              "        1.02689034e+02],\n",
              "       [2.65151515e+00, 7.03053260e+00, 1.86415637e+01, 4.94283886e+01,\n",
              "        1.31060121e+02],\n",
              "       [2.77777778e+00, 7.71604938e+00, 2.14334705e+01, 5.95374181e+01,\n",
              "        1.65381717e+02],\n",
              "       [2.90404040e+00, 8.43345067e+00, 2.44910815e+01, 7.11230902e+01,\n",
              "        2.06544328e+02],\n",
              "       [3.03030303e+00, 9.18273646e+00, 2.78264741e+01, 8.43226488e+01,\n",
              "        2.55523178e+02],\n",
              "       [3.15656566e+00, 9.96390674e+00, 3.14517258e+01, 9.92794376e+01,\n",
              "        3.13382063e+02],\n",
              "       [3.28282828e+00, 1.07769615e+01, 3.53789141e+01, 1.16142900e+02,\n",
              "        3.81277197e+02],\n",
              "       [3.40909091e+00, 1.16219008e+01, 3.96201165e+01, 1.35068579e+02,\n",
              "        4.60461064e+02],\n",
              "       [3.53535354e+00, 1.24987246e+01, 4.41874103e+01, 1.56218117e+02,\n",
              "        5.52286273e+02],\n",
              "       [3.66161616e+00, 1.34074329e+01, 4.90928730e+01, 1.79759257e+02,\n",
              "        6.58209402e+02],\n",
              "       [3.78787879e+00, 1.43480257e+01, 5.43485822e+01, 2.05865842e+02,\n",
              "        7.79794855e+02],\n",
              "       [3.91414141e+00, 1.53205030e+01, 5.99666153e+01, 2.34717812e+02,\n",
              "        9.18718710e+02],\n",
              "       [4.04040404e+00, 1.63248648e+01, 6.59590497e+01, 2.66501211e+02,\n",
              "        1.07677257e+03],\n",
              "       [4.16666667e+00, 1.73611111e+01, 7.23379630e+01, 3.01408179e+02,\n",
              "        1.25586741e+03],\n",
              "       [4.29292929e+00, 1.84292419e+01, 7.91154325e+01, 3.39636958e+02,\n",
              "        1.45803744e+03],\n",
              "       [4.41919192e+00, 1.95292572e+01, 8.63035357e+01, 3.81391888e+02,\n",
              "        1.68544395e+03],\n",
              "       [4.54545455e+00, 2.06611570e+01, 9.39143501e+01, 4.26883410e+02,\n",
              "        1.94037913e+03],\n",
              "       [4.67171717e+00, 2.18249413e+01, 1.01959953e+02, 4.76328064e+02,\n",
              "        2.22527000e+03],\n",
              "       [4.79797980e+00, 2.30206101e+01, 1.10452422e+02, 5.29948491e+02,\n",
              "        2.54268216e+03],\n",
              "       [4.92424242e+00, 2.42481635e+01, 1.19403835e+02, 5.87973431e+02,\n",
              "        2.89532371e+03],\n",
              "       [5.05050505e+00, 2.55076013e+01, 1.28826269e+02, 6.50637722e+02,\n",
              "        3.28604910e+03],\n",
              "       [5.17676768e+00, 2.67989236e+01, 1.38731801e+02, 7.18182305e+02,\n",
              "        3.71786294e+03],\n",
              "       [5.30303030e+00, 2.81221304e+01, 1.49132510e+02, 7.90854218e+02,\n",
              "        4.19392388e+03],\n",
              "       [5.42929293e+00, 2.94772217e+01, 1.60040471e+02, 8.68906600e+02,\n",
              "        4.71754846e+03],\n",
              "       [5.55555556e+00, 3.08641975e+01, 1.71467764e+02, 9.52598689e+02,\n",
              "        5.29221494e+03],\n",
              "       [5.68181818e+00, 3.22830579e+01, 1.83426465e+02, 1.04219582e+03,\n",
              "        5.92156718e+03],\n",
              "       [5.80808081e+00, 3.37338027e+01, 1.95928652e+02, 1.13796944e+03,\n",
              "        6.60941848e+03],\n",
              "       [5.93434343e+00, 3.52164320e+01, 2.08986402e+02, 1.24019708e+03,\n",
              "        7.35975541e+03],\n",
              "       [6.06060606e+00, 3.67309458e+01, 2.22611793e+02, 1.34916238e+03,\n",
              "        8.17674170e+03],\n",
              "       [6.18686869e+00, 3.82773441e+01, 2.36816902e+02, 1.46515508e+03,\n",
              "        9.06472206e+03],\n",
              "       [6.31313131e+00, 3.98556270e+01, 2.51613807e+02, 1.58847100e+03,\n",
              "        1.00282260e+04],\n",
              "       [6.43939394e+00, 4.14657943e+01, 2.67014585e+02, 1.71941210e+03,\n",
              "        1.10719718e+04],\n",
              "       [6.56565657e+00, 4.31078461e+01, 2.83031313e+02, 1.85828640e+03,\n",
              "        1.22008703e+04],\n",
              "       [6.69191919e+00, 4.47817825e+01, 2.99676070e+02, 2.00540804e+03,\n",
              "        1.34200286e+04],\n",
              "       [6.81818182e+00, 4.64876033e+01, 3.16960932e+02, 2.16109726e+03,\n",
              "        1.47347541e+04],\n",
              "       [6.94444444e+00, 4.82253086e+01, 3.34897977e+02, 2.32568039e+03,\n",
              "        1.61505583e+04],\n",
              "       [7.07070707e+00, 4.99948985e+01, 3.53499282e+02, 2.49948987e+03,\n",
              "        1.76731607e+04],\n",
              "       [7.19696970e+00, 5.17963728e+01, 3.72776926e+02, 2.68286424e+03,\n",
              "        1.93084926e+04],\n",
              "       [7.32323232e+00, 5.36297317e+01, 3.92742984e+02, 2.87614812e+03,\n",
              "        2.10627009e+04],\n",
              "       [7.44949495e+00, 5.54949750e+01, 4.13409536e+02, 3.07969225e+03,\n",
              "        2.29421519e+04],\n",
              "       [7.57575758e+00, 5.73921028e+01, 4.34788658e+02, 3.29385347e+03,\n",
              "        2.49534354e+04],\n",
              "       [7.70202020e+00, 5.93211152e+01, 4.56892428e+02, 3.51899471e+03,\n",
              "        2.71033683e+04],\n",
              "       [7.82828283e+00, 6.12820120e+01, 4.79732923e+02, 3.75548500e+03,\n",
              "        2.93989987e+04],\n",
              "       [7.95454545e+00, 6.32747934e+01, 5.03322220e+02, 4.00369948e+03,\n",
              "        3.18476095e+04],\n",
              "       [8.08080808e+00, 6.52994592e+01, 5.27672398e+02, 4.26401938e+03,\n",
              "        3.44567222e+04],\n",
              "       [8.20707071e+00, 6.73560096e+01, 5.52795533e+02, 4.53683203e+03,\n",
              "        3.72341012e+04],\n",
              "       [8.33333333e+00, 6.94444444e+01, 5.78703704e+02, 4.82253086e+03,\n",
              "        4.01877572e+04],\n",
              "       [8.45959596e+00, 7.15647638e+01, 6.05408987e+02, 5.12151542e+03,\n",
              "        4.33259511e+04],\n",
              "       [8.58585859e+00, 7.37169677e+01, 6.32923460e+02, 5.43419132e+03,\n",
              "        4.66571982e+04],\n",
              "       [8.71212121e+00, 7.59010560e+01, 6.61259200e+02, 5.76097030e+03,\n",
              "        5.01902716e+04],\n",
              "       [8.83838384e+00, 7.81170289e+01, 6.90428286e+02, 6.10227020e+03,\n",
              "        5.39342063e+04],\n",
              "       [8.96464646e+00, 8.03648862e+01, 7.20442793e+02, 6.45851494e+03,\n",
              "        5.78983031e+04],\n",
              "       [9.09090909e+00, 8.26446281e+01, 7.51314801e+02, 6.83013455e+03,\n",
              "        6.20921323e+04],\n",
              "       [9.21717172e+00, 8.49562545e+01, 7.83056386e+02, 7.21756517e+03,\n",
              "        6.65255376e+04],\n",
              "       [9.34343434e+00, 8.72997653e+01, 8.15679626e+02, 7.62124903e+03,\n",
              "        7.12086399e+04],\n",
              "       [9.46969697e+00, 8.96751607e+01, 8.49196598e+02, 8.04163445e+03,\n",
              "        7.61518413e+04],\n",
              "       [9.59595960e+00, 9.20824406e+01, 8.83619379e+02, 8.47917586e+03,\n",
              "        8.13658290e+04],\n",
              "       [9.72222222e+00, 9.45216049e+01, 9.18960048e+02, 8.93433380e+03,\n",
              "        8.68615786e+04],\n",
              "       [9.84848485e+00, 9.69926538e+01, 9.55230681e+02, 9.40757489e+03,\n",
              "        9.26503588e+04],\n",
              "       [9.97474747e+00, 9.94955872e+01, 9.92443357e+02, 9.89937187e+03,\n",
              "        9.87437346e+04],\n",
              "       [1.01010101e+01, 1.02030405e+02, 1.03061015e+03, 1.04102036e+04,\n",
              "        1.05153571e+05],\n",
              "       [1.02272727e+01, 1.04597107e+02, 1.06974314e+03, 1.09405549e+04,\n",
              "        1.11892039e+05],\n",
              "       [1.03535354e+01, 1.07195694e+02, 1.10985441e+03, 1.14909169e+04,\n",
              "        1.18971614e+05],\n",
              "       [1.04797980e+01, 1.09826166e+02, 1.15095603e+03, 1.20617867e+04,\n",
              "        1.26405088e+05],\n",
              "       [1.06060606e+01, 1.12488522e+02, 1.19306008e+03, 1.26536675e+04,\n",
              "        1.34205564e+05],\n",
              "       [1.07323232e+01, 1.15182762e+02, 1.23617863e+03, 1.32670687e+04,\n",
              "        1.42386469e+05],\n",
              "       [1.08585859e+01, 1.17908887e+02, 1.28032377e+03, 1.39025056e+04,\n",
              "        1.50961551e+05],\n",
              "       [1.09848485e+01, 1.20666896e+02, 1.32550757e+03, 1.45604998e+04,\n",
              "        1.59944885e+05],\n",
              "       [1.11111111e+01, 1.23456790e+02, 1.37174211e+03, 1.52415790e+04,\n",
              "        1.69350878e+05],\n",
              "       [1.12373737e+01, 1.26278569e+02, 1.41903947e+03, 1.59462769e+04,\n",
              "        1.79194273e+05],\n",
              "       [1.13636364e+01, 1.29132231e+02, 1.46741172e+03, 1.66751332e+04,\n",
              "        1.89490150e+05],\n",
              "       [1.14898990e+01, 1.32017779e+02, 1.51687094e+03, 1.74286939e+04,\n",
              "        2.00253933e+05],\n",
              "       [1.16161616e+01, 1.34935211e+02, 1.56742922e+03, 1.82075111e+04,\n",
              "        2.11501391e+05],\n",
              "       [1.17424242e+01, 1.37884527e+02, 1.61909861e+03, 1.90121428e+04,\n",
              "        2.23248647e+05],\n",
              "       [1.18686869e+01, 1.40865728e+02, 1.67189122e+03, 1.98431533e+04,\n",
              "        2.35512173e+05],\n",
              "       [1.19949495e+01, 1.43878813e+02, 1.72581910e+03, 2.07011129e+04,\n",
              "        2.48308804e+05],\n",
              "       [1.21212121e+01, 1.46923783e+02, 1.78089434e+03, 2.15865981e+04,\n",
              "        2.61655734e+05],\n",
              "       [1.22474747e+01, 1.50000638e+02, 1.83712902e+03, 2.25001913e+04,\n",
              "        2.75570525e+05],\n",
              "       [1.23737374e+01, 1.53109377e+02, 1.89453522e+03, 2.34424812e+04,\n",
              "        2.90071106e+05],\n",
              "       [1.25000000e+01, 1.56250000e+02, 1.95312500e+03, 2.44140625e+04,\n",
              "        3.05175781e+05]])"
            ]
          },
          "execution_count": 63,
          "metadata": {},
          "output_type": "execute_result"
        }
      ],
      "source": [
        "nPlot = 100\n",
        "Xplot = np.linspace(0, 12.5, nPlot).reshape((nPlot ,1)) # <-- np.linspace and np.reshape\n",
        "# for each value (\"feature\") in Xplot, square it, cube it, etc.\n",
        "Xplotf = np.hstack((Xplot, Xplot**2, Xplot**3, Xplot**4, Xplot**5))\n",
        "Xplotf"
      ]
    },
    {
      "cell_type": "code",
      "execution_count": null,
      "metadata": {
        "id": "v3PLTnXYty-z",
        "outputId": "868c24ec-75cb-4e35-ff15-ba863c153d83"
      },
      "outputs": [
        {
          "data": {
            "text/plain": [
              "(100, 100)"
            ]
          },
          "execution_count": 64,
          "metadata": {},
          "output_type": "execute_result"
        }
      ],
      "source": [
        "Ys = []\n",
        "for model in models:\n",
        "    Yplot = use(model, Xplotf) # evaluate method\n",
        "    Ys.append(Yplot.flatten())\n",
        "Ys = np.array(Ys).T\n",
        "Ys.shape"
      ]
    },
    {
      "cell_type": "code",
      "execution_count": null,
      "metadata": {
        "id": "MAqAjpE2ty-0",
        "outputId": "9f098b87-ccb8-4d97-9b43-0b1a9b27b2b1"
      },
      "outputs": [
        {
          "data": {
            "image/png": "[encoded data removed]",
            "text/plain": [
              "<Figure size 720x720 with 1 Axes>"
            ]
          },
          "metadata": {
            "needs_background": "light"
          },
          "output_type": "display_data"
        }
      ],
      "source": [
        "plt.figure(figsize=(10, 10))\n",
        "plt.plot(Xtrain[:, 0], Ttrain, 'o')\n",
        "plt.plot(Xtest[:, 0], Ttest, 'ro')\n",
        "plt.plot(Xplotf[:, 0], Ys, alpha=0.2);\n",
        "plt.ylim(-14,2);"
      ]
    },
    {
      "cell_type": "markdown",
      "metadata": {
        "collapsed": true,
        "id": "3gAoYXxtty-0"
      },
      "source": [
        "Now let's try some other data.  Here is some data related to the design of hulls on yachts."
      ]
    },
    {
      "cell_type": "code",
      "execution_count": null,
      "metadata": {
        "id": "_kDj4SVNty-0",
        "outputId": "862e2e64-e7fe-4807-90a3-22ed38717335"
      },
      "outputs": [
        {
          "name": "stderr",
          "output_type": "stream",
          "text": [
            "  % Total    % Received % Xferd  Average Speed   Time    Time     Time  Current\n",
            "                                 Dload  Upload   Total   Spent    Left  Speed\n",
            "\n",
            "  0     0    0     0    0     0      0      0 --:--:-- --:--:-- --:--:--     0\n",
            "  0     0    0     0    0     0      0      0 --:--:-- --:--:-- --:--:--     0\n",
            "100 11487  100 11487    0     0  11487      0  0:00:01 --:--:--  0:00:01 24492\n"
          ]
        }
      ],
      "source": [
        "!curl -O https://archive.ics.uci.edu/ml/machine-learning-databases/00243/yacht_hydrodynamics.data"
      ]
    },
    {
      "cell_type": "code",
      "execution_count": null,
      "metadata": {
        "id": "8tRc1dCpty-0",
        "outputId": "47e27a4d-3cad-47e2-c2be-813f11eb6889"
      },
      "outputs": [
        {
          "name": "stderr",
          "output_type": "stream",
          "text": [
            "'head' is not recognized as an internal or external command,\n",
            "operable program or batch file.\n"
          ]
        }
      ],
      "source": [
        "# use with *nix\n",
        "!head yacht_hydrodynamics.data"
      ]
    },
    {
      "cell_type": "code",
      "execution_count": null,
      "metadata": {
        "id": "d97AhoGYty-0",
        "outputId": "e9e4897b-3703-4821-fed7-fd35f415a765"
      },
      "outputs": [
        {
          "name": "stdout",
          "output_type": "stream",
          "text": [
            "-2.3 0.568 4.78 3.99 3.17 0.125 0.11\n",
            "-2.3 0.568 4.78 3.99 3.17 0.150 0.27\n",
            "-2.3 0.568 4.78 3.99 3.17 0.175 0.47\n",
            "-2.3 0.568 4.78 3.99 3.17 0.200 0.78\n",
            "-2.3 0.568 4.78 3.99 3.17 0.225 1.18\n",
            "-2.3 0.568 4.78 3.99 3.17 0.250 1.82\n",
            "-2.3 0.568 4.78 3.99 3.17 0.275 2.61\n",
            "-2.3 0.568 4.78 3.99 3.17 0.300 3.76\n",
            "-2.3 0.568 4.78 3.99 3.17 0.325 4.99\n",
            "-2.3 0.568 4.78 3.99 3.17 0.350 7.16\n",
            "-2.3 0.568 4.78 3.99 3.17 0.375 11.93\n",
            "-2.3 0.568 4.78 3.99 3.17 0.400 20.11\n",
            "-2.3 0.568 4.78 3.99 3.17 0.425 32.75\n",
            "-2.3 0.568 4.78 3.99 3.17 0.450 49.49\n",
            "-2.3 0.569 4.78 3.04 3.64 0.125 0.04\n",
            "-2.3 0.569 4.78 3.04 3.64 0.150 0.17\n",
            "-2.3 0.569 4.78 3.04 3.64 0.175 0.37\n",
            "-2.3 0.569 4.78 3.04 3.64 0.200 0.66\n",
            "-2.3 0.569 4.78 3.04 3.64 0.225 1.06\n",
            "-2.3 0.569 4.78 3.04 3.64 0.250 1.59\n",
            "-2.3 0.569 4.78 3.04 3.64 0.275 2.33\n",
            "-2.3 0.569 4.78 3.04 3.64 0.300 3.29\n",
            "-2.3 0.569 4.78 3.04 3.64 0.325 4.61\n",
            "-2.3 0.569 4.78 3.04 3.64 0.350 7.11\n",
            "-2.3 0.569 4.78 3.04 3.64 0.375 11.99\n",
            "-2.3 0.569 4.78 3.04 3.64 0.400 21.09\n",
            "-2.3 0.569 4.78 3.04 3.64 0.425 35.01\n",
            "-2.3 0.569 4.78 3.04 3.64 0.450 51.80\n",
            "-2.3 0.565 4.78 5.35 2.76 0.125 0.09\n",
            "-2.3 0.565 4.78 5.35 2.76 0.150 0.29\n",
            "-2.3 0.565 4.78 5.35 2.76 0.175 0.56\n",
            "-2.3 0.565 4.78 5.35 2.76 0.200 0.86\n",
            "-2.3 0.565 4.78 5.35 2.76 0.225 1.31\n",
            "-2.3 0.565 4.78 5.35 2.76 0.250 1.99\n",
            "-2.3 0.565 4.78 5.35 2.76 0.275 2.94\n",
            "-2.3 0.565 4.78 5.35 2.76 0.300 4.21\n",
            "-2.3 0.565 4.78 5.35 2.76 0.325 5.54\n",
            "-2.3 0.565 4.78 5.35 2.76 0.350 8.25\n",
            "-2.3 0.565 4.78 5.35 2.76 0.375 13.08\n",
            "-2.3 0.565 4.78 5.35 2.76 0.400 21.40\n",
            "-2.3 0.565 4.78 5.35 2.76 0.425 33.14\n",
            "-2.3 0.565 4.78 5.35 2.76 0.450 50.14\n",
            "-2.3 0.564 5.10 3.95 3.53 0.125 0.20\n",
            "-2.3 0.564 5.10 3.95 3.53 0.150 0.35\n",
            "-2.3 0.564 5.10 3.95 3.53 0.175 0.65\n",
            "-2.3 0.564 5.10 3.95 3.53 0.200 0.93\n",
            "-2.3 0.564 5.10 3.95 3.53 0.225 1.37\n",
            "-2.3 0.564 5.10 3.95 3.53 0.250 1.97\n",
            "-2.3 0.564 5.10 3.95 3.53 0.275 2.83\n",
            "-2.3 0.564 5.10 3.95 3.53 0.300 3.99\n",
            "-2.3 0.564 5.10 3.95 3.53 0.325 5.19\n",
            "-2.3 0.564 5.10 3.95 3.53 0.350 8.03\n",
            "-2.3 0.564 5.10 3.95 3.53 0.375 12.86\n",
            "-2.3 0.564 5.10 3.95 3.53 0.400 21.51\n",
            "-2.3 0.564 5.10 3.95 3.53 0.425 33.97\n",
            "-2.3 0.564 5.10 3.95 3.53 0.450 50.36\n",
            "-2.4 0.574 4.36 3.96 2.76 0.125 0.20\n",
            "-2.4 0.574 4.36 3.96 2.76 0.150 0.35\n",
            "-2.4 0.574 4.36 3.96 2.76 0.175 0.65\n",
            "-2.4 0.574 4.36 3.96 2.76 0.200 0.93\n",
            "-2.4 0.574 4.36 3.96 2.76 0.225 1.37\n",
            "-2.4 0.574 4.36 3.96 2.76 0.250 1.97\n",
            "-2.4 0.574 4.36 3.96 2.76 0.275 2.83\n",
            "-2.4 0.574 4.36 3.96 2.76 0.300 3.99\n",
            "-2.4 0.574 4.36 3.96 2.76 0.325 5.19\n",
            "-2.4 0.574 4.36 3.96 2.76 0.350 8.03\n",
            "-2.4 0.574 4.36 3.96 2.76 0.375 12.86\n",
            "-2.4 0.574 4.36 3.96 2.76 0.400 21.51\n",
            "-2.4 0.574 4.36 3.96 2.76 0.425 33.97\n",
            "-2.4 0.574 4.36 3.96 2.76 0.450 50.36\n",
            "-2.4 0.568 4.34 2.98 3.15 0.125 0.12\n",
            "-2.4 0.568 4.34 2.98 3.15 0.150 0.26\n",
            "-2.4 0.568 4.34 2.98 3.15 0.175 0.43\n",
            "-2.4 0.568 4.34 2.98 3.15 0.200 0.69\n",
            "-2.4 0.568 4.34 2.98 3.15 0.225 1.09\n",
            "-2.4 0.568 4.34 2.98 3.15 0.250 1.67\n",
            "-2.4 0.568 4.34 2.98 3.15 0.275 2.46\n",
            "-2.4 0.568 4.34 2.98 3.15 0.300 3.43\n",
            "-2.4 0.568 4.34 2.98 3.15 0.325 4.62\n",
            "-2.4 0.568 4.34 2.98 3.15 0.350 6.86\n",
            "-2.4 0.568 4.34 2.98 3.15 0.375 11.56\n",
            "-2.4 0.568 4.34 2.98 3.15 0.400 20.63\n",
            "-2.4 0.568 4.34 2.98 3.15 0.425 34.50\n",
            "-2.4 0.568 4.34 2.98 3.15 0.450 54.23\n",
            "-2.3 0.562 5.14 4.95 3.17 0.125 0.28\n",
            "-2.3 0.562 5.14 4.95 3.17 0.150 0.44\n",
            "-2.3 0.562 5.14 4.95 3.17 0.175 0.70\n",
            "-2.3 0.562 5.14 4.95 3.17 0.200 1.07\n",
            "-2.3 0.562 5.14 4.95 3.17 0.225 1.57\n",
            "-2.3 0.562 5.14 4.95 3.17 0.250 2.23\n",
            "-2.3 0.562 5.14 4.95 3.17 0.275 3.09\n",
            "-2.3 0.562 5.14 4.95 3.17 0.300 4.09\n",
            "-2.3 0.562 5.14 4.95 3.17 0.325 5.82\n",
            "-2.3 0.562 5.14 4.95 3.17 0.350 8.28\n",
            "-2.3 0.562 5.14 4.95 3.17 0.375 12.80\n",
            "-2.3 0.562 5.14 4.95 3.17 0.400 20.41\n",
            "-2.3 0.562 5.14 4.95 3.17 0.425 32.34\n",
            "-2.3 0.562 5.14 4.95 3.17 0.450 47.29\n",
            "-2.4 0.585 4.78 3.84 3.32 0.125 0.20\n",
            "-2.4 0.585 4.78 3.84 3.32 0.150 0.38\n",
            "-2.4 0.585 4.78 3.84 3.32 0.175 0.64\n",
            "-2.4 0.585 4.78 3.84 3.32 0.200 0.97\n",
            "-2.4 0.585 4.78 3.84 3.32 0.225 1.36\n",
            "-2.4 0.585 4.78 3.84 3.32 0.250 1.98\n",
            "-2.4 0.585 4.78 3.84 3.32 0.275 2.91\n",
            "-2.4 0.585 4.78 3.84 3.32 0.300 4.35\n",
            "-2.4 0.585 4.78 3.84 3.32 0.325 5.79\n",
            "-2.4 0.585 4.78 3.84 3.32 0.350 8.04\n",
            "-2.4 0.585 4.78 3.84 3.32 0.375 12.15\n",
            "-2.4 0.585 4.78 3.84 3.32 0.400 19.18\n",
            "-2.4 0.585 4.78 3.84 3.32 0.425 30.09\n",
            "-2.4 0.585 4.78 3.84 3.32 0.450 44.38\n",
            "-2.2 0.546 4.78 4.13 3.07 0.125 0.15 \n",
            "-2.2 0.546 4.78 4.13 3.07 0.150 0.32\n",
            "-2.2 0.546 4.78 4.13 3.07 0.175 0.55\n",
            "-2.2 0.546 4.78 4.13 3.07 0.200 0.86\n",
            "-2.2 0.546 4.78 4.13 3.07 0.225 1.24\n",
            "-2.2 0.546 4.78 4.13 3.07 0.250 1.76\n",
            "-2.2 0.546 4.78 4.13 3.07 0.275 2.49\n",
            "-2.2 0.546 4.78 4.13 3.07 0.300 3.45\n",
            "-2.2 0.546 4.78 4.13 3.07 0.325 4.83\n",
            "-2.2 0.546 4.78 4.13 3.07 0.350 7.37\n",
            "-2.2 0.546 4.78 4.13 3.07 0.375 12.76\n",
            "-2.2 0.546 4.78 4.13 3.07 0.400 21.99\n",
            "-2.2 0.546 4.78 4.13 3.07 0.425 35.64\n",
            "-2.2 0.546 4.78 4.13 3.07 0.450 53.07\n",
            "0.0  0.565 4.77 3.99 3.15 0.125 0.11\n",
            "0.0  0.565 4.77 3.99 3.15 0.150 0.24\n",
            "0.0  0.565 4.77 3.99 3.15 0.175 0.49\n",
            "0.0  0.565 4.77 3.99 3.15 0.200 0.79\n",
            "0.0  0.565 4.77 3.99 3.15 0.225 1.28\n",
            "0.0  0.565 4.77 3.99 3.15 0.250 1.96\n",
            "0.0  0.565 4.77 3.99 3.15 0.275 2.88\n",
            "0.0  0.565 4.77 3.99 3.15 0.300 4.14\n",
            "0.0  0.565 4.77 3.99 3.15 0.325 5.96\n",
            "0.0  0.565 4.77 3.99 3.15 0.350 9.07\n",
            "0.0  0.565 4.77 3.99 3.15 0.375 14.93\n",
            "0.0  0.565 4.77 3.99 3.15 0.400 24.13\n",
            "0.0  0.565 4.77 3.99 3.15 0.425 38.12\n",
            "0.0  0.565 4.77 3.99 3.15 0.450 55.44\n",
            "-5.0 0.565 4.77 3.99 3.15 0.125 0.07\n",
            "-5.0 0.565 4.77 3.99 3.15 0.150 0.18\n",
            "-5.0 0.565 4.77 3.99 3.15 0.175 0.40\n",
            "-5.0 0.565 4.77 3.99 3.15 0.200 0.70\n",
            "-5.0 0.565 4.77 3.99 3.15 0.225 1.14\n",
            "-5.0 0.565 4.77 3.99 3.15 0.250 1.83\n",
            "-5.0 0.565 4.77 3.99 3.15 0.275 2.77\n",
            "-5.0 0.565 4.77 3.99 3.15 0.300 4.12\n",
            "-5.0 0.565 4.77 3.99 3.15 0.325 5.41\n",
            "-5.0 0.565 4.77 3.99 3.15 0.350 7.87\n",
            "-5.0 0.565 4.77 3.99 3.15 0.375 12.71\n",
            "-5.0 0.565 4.77 3.99 3.15 0.400 21.02\n",
            "-5.0 0.565 4.77 3.99 3.15 0.425 34.58\n",
            "-5.0 0.565 4.77 3.99 3.15 0.450 51.77\n",
            "0.0  0.565 5.10 3.94 3.51 0.125 0.08\n",
            "0.0  0.565 5.10 3.94 3.51 0.150 0.26\n",
            "0.0  0.565 5.10 3.94 3.51 0.175 0.50\n",
            "0.0  0.565 5.10 3.94 3.51 0.200 0.83\n",
            "0.0  0.565 5.10 3.94 3.51 0.225 1.28\n",
            "0.0  0.565 5.10 3.94 3.51 0.250 1.90\n",
            "0.0  0.565 5.10 3.94 3.51 0.275 2.68\n",
            "0.0  0.565 5.10 3.94 3.51 0.300 3.76\n",
            "0.0  0.565 5.10 3.94 3.51 0.325 5.57\n",
            "0.0  0.565 5.10 3.94 3.51 0.350 8.76\n",
            "0.0  0.565 5.10 3.94 3.51 0.375 14.24\n",
            "0.0  0.565 5.10 3.94 3.51 0.400 23.05\n",
            "0.0  0.565 5.10 3.94 3.51 0.425 35.46\n",
            "0.0  0.565 5.10 3.94 3.51 0.450 51.99\n",
            "-5.0 0.565 5.10 3.94 3.51 0.125 0.08\n",
            "-5.0 0.565 5.10 3.94 3.51 0.150 0.24\n",
            "-5.0 0.565 5.10 3.94 3.51 0.175 0.45\n",
            "-5.0 0.565 5.10 3.94 3.51 0.200 0.77\n",
            "-5.0 0.565 5.10 3.94 3.51 0.225 1.19\n",
            "-5.0 0.565 5.10 3.94 3.51 0.250 1.76\n",
            "-5.0 0.565 5.10 3.94 3.51 0.275 2.59\n",
            "-5.0 0.565 5.10 3.94 3.51 0.300 3.85\n",
            "-5.0 0.565 5.10 3.94 3.51 0.325 5.27\n",
            "-5.0 0.565 5.10 3.94 3.51 0.350 7.74\n",
            "-5.0 0.565 5.10 3.94 3.51 0.375 12.40\n",
            "-5.0 0.565 5.10 3.94 3.51 0.400 20.91\n",
            "-5.0 0.565 5.10 3.94 3.51 0.425 33.23\n",
            "-5.0 0.565 5.10 3.94 3.51 0.450 49.14\n",
            "-2.3 0.530 5.11 3.69 3.51 0.125 0.08\n",
            "-2.3 0.530 5.11 3.69 3.51 0.150 0.25\n",
            "-2.3 0.530 5.11 3.69 3.51 0.175 0.46\n",
            "-2.3 0.530 5.11 3.69 3.51 0.200 0.75\n",
            "-2.3 0.530 5.11 3.69 3.51 0.225 1.11\n",
            "-2.3 0.530 5.11 3.69 3.51 0.250 1.57\n",
            "-2.3 0.530 5.11 3.69 3.51 0.275 2.17\n",
            "-2.3 0.530 5.11 3.69 3.51 0.300 2.98\n",
            "-2.3 0.530 5.11 3.69 3.51 0.325 4.42\n",
            "-2.3 0.530 5.11 3.69 3.51 0.350 7.84\n",
            "-2.3 0.530 5.11 3.69 3.51 0.375 14.11\n",
            "-2.3 0.530 5.11 3.69 3.51 0.400 24.14\n",
            "-2.3 0.530 5.11 3.69 3.51 0.425 37.95\n",
            "-2.3 0.530 5.11 3.69 3.51 0.450 55.17\n",
            "-2.3 0.530 4.76 3.68 3.16 0.125 0.10\n",
            "-2.3 0.530 4.76 3.68 3.16 0.150 0.23\n",
            "-2.3 0.530 4.76 3.68 3.16 0.175 0.47\n",
            "-2.3 0.530 4.76 3.68 3.16 0.200 0.76\n",
            "-2.3 0.530 4.76 3.68 3.16 0.225 1.15\n",
            "-2.3 0.530 4.76 3.68 3.16 0.250 1.65\n",
            "-2.3 0.530 4.76 3.68 3.16 0.275 2.28\n",
            "-2.3 0.530 4.76 3.68 3.16 0.300 3.09\n",
            "-2.3 0.530 4.76 3.68 3.16 0.325 4.41\n",
            "-2.3 0.530 4.76 3.68 3.16 0.350 7.51\n",
            "-2.3 0.530 4.76 3.68 3.16 0.375 13.77\n",
            "-2.3 0.530 4.76 3.68 3.16 0.400 23.96\n",
            "-2.3 0.530 4.76 3.68 3.16 0.425 37.38\n",
            "-2.3 0.530 4.76 3.68 3.16 0.450 56.46\n",
            "-2.3 0.530 4.34 2.81 3.15 0.125 0.05\n",
            "-2.3 0.530 4.34 2.81 3.15 0.150 0.17\n",
            "-2.3 0.530 4.34 2.81 3.15 0.175 0.35\n",
            "-2.3 0.530 4.34 2.81 3.15 0.200 0.63\n",
            "-2.3 0.530 4.34 2.81 3.15 0.225 1.01\n",
            "-2.3 0.530 4.34 2.81 3.15 0.250 1.43\n",
            "-2.3 0.530 4.34 2.81 3.15 0.275 2.05\n",
            "-2.3 0.530 4.34 2.81 3.15 0.300 2.73\n",
            "-2.3 0.530 4.34 2.81 3.15 0.325 3.87\n",
            "-2.3 0.530 4.34 2.81 3.15 0.350 7.19\n",
            "-2.3 0.530 4.34 2.81 3.15 0.375 13.96\n",
            "-2.3 0.530 4.34 2.81 3.15 0.400 25.18\n",
            "-2.3 0.530 4.34 2.81 3.15 0.425 41.34\n",
            "-2.3 0.530 4.34 2.81 3.15 0.450 62.42\n",
            "0.0  0.600 4.78 4.24 3.15 0.125 0.03\n",
            "0.0  0.600 4.78 4.24 3.15 0.150 0.18\n",
            "0.0  0.600 4.78 4.24 3.15 0.175 0.40\n",
            "0.0  0.600 4.78 4.24 3.15 0.200 0.73\n",
            "0.0  0.600 4.78 4.24 3.15 0.225 1.30\n",
            "0.0  0.600 4.78 4.24 3.15 0.250 2.16\n",
            "0.0  0.600 4.78 4.24 3.15 0.275 3.35\n",
            "0.0  0.600 4.78 4.24 3.15 0.300 5.06\n",
            "0.0  0.600 4.78 4.24 3.15 0.325 7.14\n",
            "0.0  0.600 4.78 4.24 3.15 0.350 10.36\n",
            "0.0  0.600 4.78 4.24 3.15 0.375 15.25\n",
            "0.0  0.600 4.78 4.24 3.15 0.400 23.15\n",
            "0.0  0.600 4.78 4.24 3.15 0.425 34.62\n",
            "0.0  0.600 4.78 4.24 3.15 0.450 51.50\n",
            "-5.0 0.600 4.78 4.24 3.15 0.125 0.06\n",
            "-5.0 0.600 4.78 4.24 3.15 0.150 0.15\n",
            "-5.0 0.600 4.78 4.24 3.15 0.175 0.34\n",
            "-5.0 0.600 4.78 4.24 3.15 0.200 0.63\n",
            "-5.0 0.600 4.78 4.24 3.15 0.225 1.13\n",
            "-5.0 0.600 4.78 4.24 3.15 0.250 1.85\n",
            "-5.0 0.600 4.78 4.24 3.15 0.275 2.84\n",
            "-5.0 0.600 4.78 4.24 3.15 0.300 4.34\n",
            "-5.0 0.600 4.78 4.24 3.15 0.325 6.20\n",
            "-5.0 0.600 4.78 4.24 3.15 0.350 8.62\n",
            "-5.0 0.600 4.78 4.24 3.15 0.375 12.49\n",
            "-5.0 0.600 4.78 4.24 3.15 0.400 20.41\n",
            "-5.0 0.600 4.78 4.24 3.15 0.425 32.46\n",
            "-5.0 0.600 4.78 4.24 3.15 0.450 50.94\n",
            "0.0  0.530 4.78 3.75 3.15 0.125 0.16\n",
            "0.0  0.530 4.78 3.75 3.15 0.150 0.32\n",
            "0.0  0.530 4.78 3.75 3.15 0.175 0.59\n",
            "0.0  0.530 4.78 3.75 3.15 0.200 0.92\n",
            "0.0  0.530 4.78 3.75 3.15 0.225 1.37\n",
            "0.0  0.530 4.78 3.75 3.15 0.250 1.94\n",
            "0.0  0.530 4.78 3.75 3.15 0.275 2.62\n",
            "0.0  0.530 4.78 3.75 3.15 0.300 3.70\n",
            "0.0  0.530 4.78 3.75 3.15 0.325 5.45\n",
            "0.0  0.530 4.78 3.75 3.15 0.350 9.45\n",
            "0.0  0.530 4.78 3.75 3.15 0.375 16.31\n",
            "0.0  0.530 4.78 3.75 3.15 0.400 27.34\n",
            "0.0  0.530 4.78 3.75 3.15 0.425 41.77\n",
            "0.0  0.530 4.78 3.75 3.15 0.450 60.85\n",
            "-5.0 0.530 4.78 3.75 3.15 0.125 0.09\n",
            "-5.0 0.530 4.78 3.75 3.15 0.150 0.24\n",
            "-5.0 0.530 4.78 3.75 3.15 0.175 0.47\n",
            "-5.0 0.530 4.78 3.75 3.15 0.200 0.78\n",
            "-5.0 0.530 4.78 3.75 3.15 0.225 1.21\n",
            "-5.0 0.530 4.78 3.75 3.15 0.250 1.85\n",
            "-5.0 0.530 4.78 3.75 3.15 0.275 2.62\n",
            "-5.0 0.530 4.78 3.75 3.15 0.300 3.69\n",
            "-5.0 0.530 4.78 3.75 3.15 0.325 5.07\n",
            "-5.0 0.530 4.78 3.75 3.15 0.350 7.95\n",
            "-5.0 0.530 4.78 3.75 3.15 0.375 13.73\n",
            "-5.0 0.530 4.78 3.75 3.15 0.400 23.55\n",
            "-5.0 0.530 4.78 3.75 3.15 0.425 37.14\n",
            "-5.0 0.530 4.78 3.75 3.15 0.450 55.87\n",
            "-2.3 0.600 5.10 4.17 3.51 0.125 0.01\n",
            "-2.3 0.600 5.10 4.17 3.51 0.150 0.16\n",
            "-2.3 0.600 5.10 4.17 3.51 0.175 0.39\n",
            "-2.3 0.600 5.10 4.17 3.51 0.200 0.73\n",
            "-2.3 0.600 5.10 4.17 3.51 0.225 1.24\n",
            "-2.3 0.600 5.10 4.17 3.51 0.250 1.96\n",
            "-2.3 0.600 5.10 4.17 3.51 0.275 3.04\n",
            "-2.3 0.600 5.10 4.17 3.51 0.300 4.46\n",
            "-2.3 0.600 5.10 4.17 3.51 0.325 6.31\n",
            "-2.3 0.600 5.10 4.17 3.51 0.350 8.68\n",
            "-2.3 0.600 5.10 4.17 3.51 0.375 12.39\n",
            "-2.3 0.600 5.10 4.17 3.51 0.400 20.14\n",
            "-2.3 0.600 5.10 4.17 3.51 0.425 31.77\n",
            "-2.3 0.600 5.10 4.17 3.51 0.450 47.13\n",
            "-2.3 0.600 4.34 4.23 2.73 0.125 0.04\n",
            "-2.3 0.600 4.34 4.23 2.73 0.150 0.17\n",
            "-2.3 0.600 4.34 4.23 2.73 0.175 0.36\n",
            "-2.3 0.600 4.34 4.23 2.73 0.200 0.64\n",
            "-2.3 0.600 4.34 4.23 2.73 0.225 1.02\n",
            "-2.3 0.600 4.34 4.23 2.73 0.250 1.62\n",
            "-2.3 0.600 4.34 4.23 2.73 0.275 2.63\n",
            "-2.3 0.600 4.34 4.23 2.73 0.300 4.15\n",
            "-2.3 0.600 4.34 4.23 2.73 0.325 6.00\n",
            "-2.3 0.600 4.34 4.23 2.73 0.350 8.47\n",
            "-2.3 0.600 4.34 4.23 2.73 0.375 12.27\n",
            "-2.3 0.600 4.34 4.23 2.73 0.400 19.59\n",
            "-2.3 0.600 4.34 4.23 2.73 0.425 30.48\n",
            "-2.3 0.600 4.34 4.23 2.73 0.450 46.66\n",
            "\n"
          ]
        }
      ],
      "source": [
        "# use with Windows\n",
        "!more yacht_hydrodynamics.data +0"
      ]
    },
    {
      "cell_type": "code",
      "execution_count": null,
      "metadata": {
        "id": "Kg0dKfCfty-0",
        "outputId": "d9af0d64-075f-4ce3-fbc7-abbb8c2c6e04"
      },
      "outputs": [
        {
          "data": {
            "text/plain": [
              "((308, 6),\n",
              " (308, 1),\n",
              " ['Center of Buoyancy',\n",
              "  'Prismatic coefficient',\n",
              "  'Length-displacement ratio',\n",
              "  'Beam-draught ratio',\n",
              "  'Length-beam ratio',\n",
              "  'Froude number'],\n",
              " 'Resistance')"
            ]
          },
          "execution_count": 72,
          "metadata": {},
          "output_type": "execute_result"
        }
      ],
      "source": [
        "data = np.loadtxt('yacht_hydrodynamics.data')\n",
        "\n",
        "# target values are the last column\n",
        "T = data[:, -1:]\n",
        "# everything else is (potential) explanatory variables\n",
        "X = data[:, :-1]\n",
        "Xnames = ['Center of Buoyancy', 'Prismatic coefficient', 'Length-displacement ratio', 'Beam-draught ratio',\n",
        "          'Length-beam ratio', 'Froude number']\n",
        "Tname = 'Resistance'\n",
        "X.shape, T.shape, Xnames, Tname"
      ]
    },
    {
      "cell_type": "code",
      "execution_count": null,
      "metadata": {
        "id": "zWcpLSiPty-0",
        "outputId": "8c25a0ba-a886-43eb-e958-3bc1167009fb"
      },
      "outputs": [
        {
          "data": {
            "text/html": [
              "<div>\n",
              "<style scoped>\n",
              "    .dataframe tbody tr th:only-of-type {\n",
              "        vertical-align: middle;\n",
              "    }\n",
              "\n",
              "    .dataframe tbody tr th {\n",
              "        vertical-align: top;\n",
              "    }\n",
              "\n",
              "    .dataframe thead th {\n",
              "        text-align: right;\n",
              "    }\n",
              "</style>\n",
              "<table border=\"1\" class=\"dataframe\">\n",
              "  <thead>\n",
              "    <tr style=\"text-align: right;\">\n",
              "      <th></th>\n",
              "      <th>Center of Buoyancy</th>\n",
              "      <th>Prismatic coefficient</th>\n",
              "      <th>Length-displacement ratio</th>\n",
              "      <th>Beam-draught ratio</th>\n",
              "      <th>Length-beam ratio</th>\n",
              "      <th>Froude number</th>\n",
              "      <th>Resistance</th>\n",
              "    </tr>\n",
              "  </thead>\n",
              "  <tbody>\n",
              "    <tr>\n",
              "      <th>0</th>\n",
              "      <td>-2.3</td>\n",
              "      <td>0.568</td>\n",
              "      <td>4.78</td>\n",
              "      <td>3.99</td>\n",
              "      <td>3.17</td>\n",
              "      <td>0.125</td>\n",
              "      <td>0.11</td>\n",
              "    </tr>\n",
              "    <tr>\n",
              "      <th>1</th>\n",
              "      <td>-2.3</td>\n",
              "      <td>0.568</td>\n",
              "      <td>4.78</td>\n",
              "      <td>3.99</td>\n",
              "      <td>3.17</td>\n",
              "      <td>0.150</td>\n",
              "      <td>0.27</td>\n",
              "    </tr>\n",
              "    <tr>\n",
              "      <th>2</th>\n",
              "      <td>-2.3</td>\n",
              "      <td>0.568</td>\n",
              "      <td>4.78</td>\n",
              "      <td>3.99</td>\n",
              "      <td>3.17</td>\n",
              "      <td>0.175</td>\n",
              "      <td>0.47</td>\n",
              "    </tr>\n",
              "    <tr>\n",
              "      <th>3</th>\n",
              "      <td>-2.3</td>\n",
              "      <td>0.568</td>\n",
              "      <td>4.78</td>\n",
              "      <td>3.99</td>\n",
              "      <td>3.17</td>\n",
              "      <td>0.200</td>\n",
              "      <td>0.78</td>\n",
              "    </tr>\n",
              "    <tr>\n",
              "      <th>4</th>\n",
              "      <td>-2.3</td>\n",
              "      <td>0.568</td>\n",
              "      <td>4.78</td>\n",
              "      <td>3.99</td>\n",
              "      <td>3.17</td>\n",
              "      <td>0.225</td>\n",
              "      <td>1.18</td>\n",
              "    </tr>\n",
              "    <tr>\n",
              "      <th>...</th>\n",
              "      <td>...</td>\n",
              "      <td>...</td>\n",
              "      <td>...</td>\n",
              "      <td>...</td>\n",
              "      <td>...</td>\n",
              "      <td>...</td>\n",
              "      <td>...</td>\n",
              "    </tr>\n",
              "    <tr>\n",
              "      <th>303</th>\n",
              "      <td>-2.3</td>\n",
              "      <td>0.600</td>\n",
              "      <td>4.34</td>\n",
              "      <td>4.23</td>\n",
              "      <td>2.73</td>\n",
              "      <td>0.350</td>\n",
              "      <td>8.47</td>\n",
              "    </tr>\n",
              "    <tr>\n",
              "      <th>304</th>\n",
              "      <td>-2.3</td>\n",
              "      <td>0.600</td>\n",
              "      <td>4.34</td>\n",
              "      <td>4.23</td>\n",
              "      <td>2.73</td>\n",
              "      <td>0.375</td>\n",
              "      <td>12.27</td>\n",
              "    </tr>\n",
              "    <tr>\n",
              "      <th>305</th>\n",
              "      <td>-2.3</td>\n",
              "      <td>0.600</td>\n",
              "      <td>4.34</td>\n",
              "      <td>4.23</td>\n",
              "      <td>2.73</td>\n",
              "      <td>0.400</td>\n",
              "      <td>19.59</td>\n",
              "    </tr>\n",
              "    <tr>\n",
              "      <th>306</th>\n",
              "      <td>-2.3</td>\n",
              "      <td>0.600</td>\n",
              "      <td>4.34</td>\n",
              "      <td>4.23</td>\n",
              "      <td>2.73</td>\n",
              "      <td>0.425</td>\n",
              "      <td>30.48</td>\n",
              "    </tr>\n",
              "    <tr>\n",
              "      <th>307</th>\n",
              "      <td>-2.3</td>\n",
              "      <td>0.600</td>\n",
              "      <td>4.34</td>\n",
              "      <td>4.23</td>\n",
              "      <td>2.73</td>\n",
              "      <td>0.450</td>\n",
              "      <td>46.66</td>\n",
              "    </tr>\n",
              "  </tbody>\n",
              "</table>\n",
              "<p>308 rows Ã— 7 columns</p>\n",
              "</div>"
            ],
            "text/plain": [
              "     Center of Buoyancy  Prismatic coefficient  Length-displacement ratio  \\\n",
              "0                  -2.3                  0.568                       4.78   \n",
              "1                  -2.3                  0.568                       4.78   \n",
              "2                  -2.3                  0.568                       4.78   \n",
              "3                  -2.3                  0.568                       4.78   \n",
              "4                  -2.3                  0.568                       4.78   \n",
              "..                  ...                    ...                        ...   \n",
              "303                -2.3                  0.600                       4.34   \n",
              "304                -2.3                  0.600                       4.34   \n",
              "305                -2.3                  0.600                       4.34   \n",
              "306                -2.3                  0.600                       4.34   \n",
              "307                -2.3                  0.600                       4.34   \n",
              "\n",
              "     Beam-draught ratio  Length-beam ratio  Froude number  Resistance  \n",
              "0                  3.99               3.17          0.125        0.11  \n",
              "1                  3.99               3.17          0.150        0.27  \n",
              "2                  3.99               3.17          0.175        0.47  \n",
              "3                  3.99               3.17          0.200        0.78  \n",
              "4                  3.99               3.17          0.225        1.18  \n",
              "..                  ...                ...            ...         ...  \n",
              "303                4.23               2.73          0.350        8.47  \n",
              "304                4.23               2.73          0.375       12.27  \n",
              "305                4.23               2.73          0.400       19.59  \n",
              "306                4.23               2.73          0.425       30.48  \n",
              "307                4.23               2.73          0.450       46.66  \n",
              "\n",
              "[308 rows x 7 columns]"
            ]
          },
          "execution_count": 73,
          "metadata": {},
          "output_type": "execute_result"
        }
      ],
      "source": [
        "# it would be neater to view it in chart form\n",
        "import pandas\n",
        "df = pandas.read_csv('yacht_hydrodynamics.data', header=None, delim_whitespace=True, na_values='?')\n",
        "df.columns = Xnames+[Tname]\n",
        "df"
      ]
    },
    {
      "cell_type": "code",
      "execution_count": null,
      "metadata": {
        "id": "KJ2ONi1Lty-0",
        "outputId": "b5aed697-86b5-4ecb-b38d-a513c50b0827"
      },
      "outputs": [
        {
          "data": {
            "image/png": "[encoded data removed]",
            "text/plain": [
              "<Figure size 720x720 with 6 Axes>"
            ]
          },
          "metadata": {
            "needs_background": "light"
          },
          "output_type": "display_data"
        }
      ],
      "source": [
        "plt.figure(figsize=(10, 10))\n",
        "for i in range(6):\n",
        "    plt.subplot(2, 3, i+1)\n",
        "    plt.plot(X[:, i] ,T, '.')\n",
        "    plt.ylabel(Tname)\n",
        "    plt.xlabel(Xnames[i])\n",
        "plt.tight_layout()"
      ]
    },
    {
      "cell_type": "code",
      "execution_count": null,
      "metadata": {
        "id": "8yHu2T_jty-0",
        "outputId": "985074e6-bf64-472d-982d-c2dfb9b87c5d"
      },
      "outputs": [
        {
          "data": {
            "text/plain": [
              "[<matplotlib.lines.Line2D at 0x2245ae94748>]"
            ]
          },
          "execution_count": 75,
          "metadata": {},
          "output_type": "execute_result"
        },
        {
          "data": {
            "image/png": "[encoded data removed]",
            "text/plain": [
              "<Figure size 432x288 with 1 Axes>"
            ]
          },
          "metadata": {
            "needs_background": "light"
          },
          "output_type": "display_data"
        }
      ],
      "source": [
        "plt.plot(X[:100, :])\n",
        "plt.plot(T[:100, :])"
      ]
    },
    {
      "cell_type": "code",
      "execution_count": null,
      "metadata": {
        "id": "SZlVwfxety-0",
        "outputId": "4e7f1f49-87d7-41ff-8e7d-1c09b3302684"
      },
      "outputs": [
        {
          "name": "stdout",
          "output_type": "stream",
          "text": [
            "RSME = 8.857208839069159\n"
          ]
        }
      ],
      "source": [
        "# now, let's train a model to predict T from X\n",
        "model = train(X, T)\n",
        "predict = use(model, X)\n",
        "print(\"RSME =\",rmse(predict, T))"
      ]
    },
    {
      "cell_type": "code",
      "execution_count": null,
      "metadata": {
        "id": "kljMb-p9ty-0",
        "outputId": "0b9cfadf-7178-4dc9-cfc9-1f770900fca0"
      },
      "outputs": [
        {
          "data": {
            "text/plain": [
              "[<matplotlib.lines.Line2D at 0x2245ae9d1c8>]"
            ]
          },
          "execution_count": 77,
          "metadata": {},
          "output_type": "execute_result"
        },
        {
          "data": {
            "image/png": "[encoded data removed]",
            "text/plain": [
              "<Figure size 432x288 with 1 Axes>"
            ]
          },
          "metadata": {
            "needs_background": "light"
          },
          "output_type": "display_data"
        }
      ],
      "source": [
        "plt.plot(T)\n",
        "plt.plot(predict)"
      ]
    },
    {
      "cell_type": "code",
      "execution_count": null,
      "metadata": {
        "id": "axZA7D54ty-0",
        "outputId": "dc052388-4424-49aa-e6ed-0a53df86a33d"
      },
      "outputs": [
        {
          "data": {
            "text/plain": [
              "Text(0, 0.5, 'predicted')"
            ]
          },
          "execution_count": 78,
          "metadata": {},
          "output_type": "execute_result"
        },
        {
          "data": {
            "image/png": "[encoded data removed]",
            "text/plain": [
              "<Figure size 432x288 with 1 Axes>"
            ]
          },
          "metadata": {
            "needs_background": "light"
          },
          "output_type": "display_data"
        }
      ],
      "source": [
        "# now plot our predictions vs. actual values (T)\n",
        "# remember, pyplot.plot takes the X axis values first, which here are the actual values\n",
        "plt.plot(T, predict, 'o')\n",
        "plt.plot([0, 50], [0, 50],  'r-') # y = x for reference\n",
        "plt.xlabel('actual')\n",
        "plt.ylabel('predicted')"
      ]
    },
    {
      "cell_type": "markdown",
      "metadata": {
        "id": "lP3TYSkwty-0"
      },
      "source": [
        "Humm...that last variable, the Froude number, looks like its square root might be more linearly related to resistance."
      ]
    },
    {
      "cell_type": "code",
      "execution_count": null,
      "metadata": {
        "id": "cctF7zDYty-1",
        "outputId": "cd6ca646-df6e-49eb-bfb9-b0185c921435"
      },
      "outputs": [
        {
          "data": {
            "text/plain": [
              "[<matplotlib.lines.Line2D at 0x2245b24dfc8>]"
            ]
          },
          "execution_count": 79,
          "metadata": {},
          "output_type": "execute_result"
        },
        {
          "data": {
            "image/png": "[encoded data removed]",
            "text/plain": [
              "<Figure size 432x288 with 1 Axes>"
            ]
          },
          "metadata": {
            "needs_background": "light"
          },
          "output_type": "display_data"
        }
      ],
      "source": [
        "plt.plot(X[:,-1], T, 'o') # plot resistance vs. Froude number"
      ]
    },
    {
      "cell_type": "markdown",
      "metadata": {
        "id": "ygTs5KB1ty-1"
      },
      "source": [
        "Steep non-linear curve!"
      ]
    },
    {
      "cell_type": "code",
      "execution_count": null,
      "metadata": {
        "id": "dZFGERVkty-1",
        "outputId": "16b6d712-6dec-4f30-dc65-925c1d795756"
      },
      "outputs": [
        {
          "data": {
            "text/plain": [
              "[<matplotlib.lines.Line2D at 0x2245b28b208>]"
            ]
          },
          "execution_count": 80,
          "metadata": {},
          "output_type": "execute_result"
        },
        {
          "data": {
            "image/png": "[encoded data removed]",
            "text/plain": [
              "<Figure size 432x288 with 1 Axes>"
            ]
          },
          "metadata": {
            "needs_background": "light"
          },
          "output_type": "display_data"
        }
      ],
      "source": [
        "plt.plot(X[:,-1]**2, T, 'o')"
      ]
    },
    {
      "cell_type": "markdown",
      "metadata": {
        "id": "j3en_xTzty-1"
      },
      "source": [
        "Getting shallower..."
      ]
    },
    {
      "cell_type": "code",
      "execution_count": null,
      "metadata": {
        "id": "gCWZw6MQty-1",
        "outputId": "04cd608e-f7f7-4340-afff-556fbdaac78f"
      },
      "outputs": [
        {
          "data": {
            "text/plain": [
              "[<matplotlib.lines.Line2D at 0x2245b2fc6c8>]"
            ]
          },
          "execution_count": 81,
          "metadata": {},
          "output_type": "execute_result"
        },
        {
          "data": {
            "image/png": "[encoded data removed]",
            "text/plain": [
              "<Figure size 432x288 with 1 Axes>"
            ]
          },
          "metadata": {
            "needs_background": "light"
          },
          "output_type": "display_data"
        }
      ],
      "source": [
        "plt.plot(X[:,-1]**4, T, 'o')"
      ]
    },
    {
      "cell_type": "markdown",
      "metadata": {
        "id": "P76poxLWty-1"
      },
      "source": [
        "Almost but not quite..."
      ]
    },
    {
      "cell_type": "code",
      "execution_count": null,
      "metadata": {
        "id": "-fcxwafMty-1",
        "outputId": "1bede02d-4a43-422e-f2ce-31e7ce58492f"
      },
      "outputs": [
        {
          "data": {
            "text/plain": [
              "[<matplotlib.lines.Line2D at 0x2245b371408>]"
            ]
          },
          "execution_count": 82,
          "metadata": {},
          "output_type": "execute_result"
        },
        {
          "data": {
            "image/png": "[encoded data removed]",
            "text/plain": [
              "<Figure size 432x288 with 1 Axes>"
            ]
          },
          "metadata": {
            "needs_background": "light"
          },
          "output_type": "display_data"
        }
      ],
      "source": [
        "plt.plot(X[:,-1]**8, T, 'o')"
      ]
    },
    {
      "cell_type": "markdown",
      "metadata": {
        "id": "uG19MRJwty-1"
      },
      "source": [
        "This looks linear-ish.  Let's try it."
      ]
    },
    {
      "cell_type": "code",
      "execution_count": null,
      "metadata": {
        "id": "roPFZ9GDty-1",
        "outputId": "d11dcdc2-7c28-4f9f-808d-7cee5c056a47"
      },
      "outputs": [
        {
          "data": {
            "text/plain": [
              "array([[-2.30000000e+00,  5.68000000e-01,  4.78000000e+00, ...,\n",
              "         3.17000000e+00,  1.25000000e-01,  5.96046448e-08],\n",
              "       [-2.30000000e+00,  5.68000000e-01,  4.78000000e+00, ...,\n",
              "         3.17000000e+00,  1.50000000e-01,  2.56289062e-07],\n",
              "       [-2.30000000e+00,  5.68000000e-01,  4.78000000e+00, ...,\n",
              "         3.17000000e+00,  1.75000000e-01,  8.79638824e-07],\n",
              "       ...,\n",
              "       [-2.30000000e+00,  6.00000000e-01,  4.34000000e+00, ...,\n",
              "         2.73000000e+00,  4.00000000e-01,  6.55360000e-04],\n",
              "       [-2.30000000e+00,  6.00000000e-01,  4.34000000e+00, ...,\n",
              "         2.73000000e+00,  4.25000000e-01,  1.06441611e-03],\n",
              "       [-2.30000000e+00,  6.00000000e-01,  4.34000000e+00, ...,\n",
              "         2.73000000e+00,  4.50000000e-01,  1.68151254e-03]])"
            ]
          },
          "execution_count": 83,
          "metadata": {},
          "output_type": "execute_result"
        }
      ],
      "source": [
        "Xf = np.hstack([X, X[:,-1:]**8])\n",
        "Xf"
      ]
    },
    {
      "cell_type": "code",
      "execution_count": null,
      "metadata": {
        "id": "K7qH1xfpty-1",
        "outputId": "ede57387-1b17-47f3-9bcf-6afaf2d1b57c"
      },
      "outputs": [
        {
          "name": "stdout",
          "output_type": "stream",
          "text": [
            "RSME = 1.5139520615335451\n"
          ]
        }
      ],
      "source": [
        "model = train(Xf, T)\n",
        "predict = use(model, Xf)\n",
        "print(\"RSME =\",rmse(predict, T))"
      ]
    },
    {
      "cell_type": "code",
      "execution_count": null,
      "metadata": {
        "id": "bL9vkDs8ty-1",
        "outputId": "3efba624-cf79-47a8-b112-8cb03e50a73b"
      },
      "outputs": [
        {
          "data": {
            "text/plain": [
              "[<matplotlib.lines.Line2D at 0x2245b3e5b48>]"
            ]
          },
          "execution_count": 85,
          "metadata": {},
          "output_type": "execute_result"
        },
        {
          "data": {
            "image/png": "[encoded data removed]",
            "text/plain": [
              "<Figure size 432x288 with 1 Axes>"
            ]
          },
          "metadata": {
            "needs_background": "light"
          },
          "output_type": "display_data"
        }
      ],
      "source": [
        "plt.plot(T)\n",
        "plt.plot(predict)"
      ]
    },
    {
      "cell_type": "code",
      "execution_count": null,
      "metadata": {
        "id": "kzK2qiRfty-1",
        "outputId": "604f7d17-163e-4dc4-f437-557f541b8b32"
      },
      "outputs": [
        {
          "data": {
            "text/plain": [
              "[<matplotlib.lines.Line2D at 0x2245b457588>]"
            ]
          },
          "execution_count": 86,
          "metadata": {},
          "output_type": "execute_result"
        },
        {
          "data": {
            "image/png": "[encoded data removed]",
            "text/plain": [
              "<Figure size 432x288 with 1 Axes>"
            ]
          },
          "metadata": {
            "needs_background": "light"
          },
          "output_type": "display_data"
        }
      ],
      "source": [
        "plt.plot(T, predict, 'o')\n",
        "plt.plot([0, 50], [0, 50])"
      ]
    },
    {
      "cell_type": "code",
      "execution_count": null,
      "metadata": {
        "id": "51Etgo5Pty-1",
        "outputId": "8e8cdfe4-6f93-40e7-faf1-d7cfc0a77ffd"
      },
      "outputs": [
        {
          "data": {
            "text/plain": [
              "[<matplotlib.lines.Line2D at 0x2245b2f11c8>]"
            ]
          },
          "execution_count": 87,
          "metadata": {},
          "output_type": "execute_result"
        },
        {
          "data": {
            "image/png": "[encoded data removed]",
            "text/plain": [
              "<Figure size 432x288 with 1 Axes>"
            ]
          },
          "metadata": {
            "needs_background": "light"
          },
          "output_type": "display_data"
        }
      ],
      "source": [
        "# let's zoom in on the first 50 samples\n",
        "n = 50\n",
        "plt.plot(T[:n])\n",
        "plt.plot(predict[:n])"
      ]
    },
    {
      "cell_type": "markdown",
      "metadata": {
        "id": "x9izDiejty-1"
      },
      "source": [
        "Maybe higher powers would work better.  Let's visualize how our model does in terms of RMSE vs. exponent of X."
      ]
    },
    {
      "cell_type": "code",
      "execution_count": null,
      "metadata": {
        "id": "WyN9erCpty-1",
        "outputId": "0d48e215-6541-4ee2-faf2-944a24c637ad"
      },
      "outputs": [
        {
          "data": {
            "text/plain": [
              "array([[ 1.        ,  8.85720884],\n",
              "       [ 2.        ,  4.08386993],\n",
              "       [ 3.        ,  1.82254966],\n",
              "       [ 4.        ,  1.43492952],\n",
              "       [ 5.        ,  1.43492932],\n",
              "       [ 6.        ,  1.41844046],\n",
              "       [ 7.        ,  1.41571184],\n",
              "       [ 8.        ,  1.41585891],\n",
              "       [ 9.        ,  1.41534202],\n",
              "       [10.        ,  1.4152596 ],\n",
              "       [11.        ,  1.41518172],\n",
              "       [12.        ,  1.41511394],\n",
              "       [13.        ,  1.41495994],\n",
              "       [14.        ,  1.41496023],\n",
              "       [15.        ,  1.41496212],\n",
              "       [16.        ,  1.41496388],\n",
              "       [17.        ,  1.41496521],\n",
              "       [18.        ,  1.41496602],\n",
              "       [19.        ,  1.41496633]])"
            ]
          },
          "execution_count": 88,
          "metadata": {},
          "output_type": "execute_result"
        }
      ],
      "source": [
        "result = []\n",
        "for deg in range(1, 20):\n",
        "    Xf = X # .copy()\n",
        "    for d in range(2, deg+1):\n",
        "        Xf = np.hstack((Xf, X**d))\n",
        "    err = rmse(use(train(Xf, T), Xf), T)\n",
        "    #print(deg, Xf.shape)\n",
        "    result.append([deg,err])\n",
        "result = np.array(result)\n",
        "result"
      ]
    },
    {
      "cell_type": "markdown",
      "metadata": {
        "id": "0fW9eM25ty-1"
      },
      "source": [
        "Seems to bottom out around 13 and more or less stay there..."
      ]
    },
    {
      "cell_type": "code",
      "execution_count": null,
      "metadata": {
        "id": "ZF7a_O3Bty-2",
        "outputId": "e260d489-cc7b-4837-c93a-777a23c272d9"
      },
      "outputs": [
        {
          "data": {
            "text/plain": [
              "Text(0, 0.5, 'RMSE')"
            ]
          },
          "execution_count": 89,
          "metadata": {},
          "output_type": "execute_result"
        },
        {
          "data": {
            "image/png": "[encoded data removed]",
            "text/plain": [
              "<Figure size 432x288 with 1 Axes>"
            ]
          },
          "metadata": {
            "needs_background": "light"
          },
          "output_type": "display_data"
        }
      ],
      "source": [
        "plt.plot(result[:,0],result[:,1],'o-')\n",
        "plt.xlabel('Exponent of X')\n",
        "plt.ylabel('RMSE')"
      ]
    },
    {
      "cell_type": "code",
      "execution_count": null,
      "metadata": {
        "id": "58H7MaN3ty-2",
        "outputId": "b23d748d-bf9d-4c12-d15c-5ec7c59a32c1"
      },
      "outputs": [
        {
          "data": {
            "text/plain": [
              "[<matplotlib.lines.Line2D at 0x2245a597748>]"
            ]
          },
          "execution_count": 94,
          "metadata": {},
          "output_type": "execute_result"
        },
        {
          "data": {
            "image/png": "[encoded data removed]",
            "text/plain": [
              "<Figure size 432x288 with 1 Axes>"
            ]
          },
          "metadata": {
            "needs_background": "light"
          },
          "output_type": "display_data"
        }
      ],
      "source": [
        "Xf = np.hstack([X, X**2, X**4, X**8, X**13, X**16])\n",
        "predict = use(train(Xf, T), Xf)\n",
        "\n",
        "plt.plot(T)\n",
        "plt.plot(predict)"
      ]
    },
    {
      "cell_type": "code",
      "execution_count": null,
      "metadata": {
        "id": "UxWPhsqPty-2",
        "outputId": "65ef5560-e233-42cd-8683-a0a7e7e8d441"
      },
      "outputs": [
        {
          "data": {
            "text/plain": [
              "array([[-5.31988278e-01],\n",
              "       [-4.77172847e-01],\n",
              "       [-2.43365876e-01],\n",
              "       [ 1.33106054e-01],\n",
              "       [ 6.23426363e-01],\n",
              "       [ 1.22126377e+00],\n",
              "       [ 1.97070903e+00],\n",
              "       [ 3.01522562e+00],\n",
              "       [ 4.67509414e+00],\n",
              "       [ 7.55040716e+00],\n",
              "       [ 1.26118665e+01],\n",
              "       [ 2.11551236e+01],\n",
              "       [ 3.43083570e+01],\n",
              "       [ 5.14179477e+01],\n",
              "       [-2.68416846e-01],\n",
              "       [-2.13601414e-01],\n",
              "       [ 2.02055568e-02],\n",
              "       [ 3.96677486e-01],\n",
              "       [ 8.86997795e-01],\n",
              "       [ 1.48483520e+00],\n",
              "       [ 2.23428047e+00],\n",
              "       [ 3.27879705e+00],\n",
              "       [ 4.93866557e+00],\n",
              "       [ 7.81397860e+00],\n",
              "       [ 1.28754380e+01],\n",
              "       [ 2.14186950e+01],\n",
              "       [ 3.45719284e+01],\n",
              "       [ 5.16815191e+01],\n",
              "       [-7.69882756e-02],\n",
              "       [-2.21728439e-02],\n",
              "       [ 2.11634127e-01],\n",
              "       [ 5.88106056e-01],\n",
              "       [ 1.07842637e+00],\n",
              "       [ 1.67626377e+00],\n",
              "       [ 2.42570904e+00],\n",
              "       [ 3.47022562e+00],\n",
              "       [ 5.13009414e+00],\n",
              "       [ 8.00540717e+00],\n",
              "       [ 1.30668665e+01],\n",
              "       [ 2.16101236e+01],\n",
              "       [ 3.47633570e+01],\n",
              "       [ 5.18729477e+01],\n",
              "       [-4.77025745e-02],\n",
              "       [ 7.11285718e-03],\n",
              "       [ 2.40919828e-01],\n",
              "       [ 6.17391757e-01],\n",
              "       [ 1.10771207e+00],\n",
              "       [ 1.70554947e+00],\n",
              "       [ 2.45499474e+00],\n",
              "       [ 3.49951132e+00],\n",
              "       [ 5.15937984e+00],\n",
              "       [ 8.03469287e+00],\n",
              "       [ 1.30961522e+01],\n",
              "       [ 2.16394093e+01],\n",
              "       [ 3.47926427e+01],\n",
              "       [ 5.19022334e+01],\n",
              "       [-4.77025646e-02],\n",
              "       [ 7.11286711e-03],\n",
              "       [ 2.40919838e-01],\n",
              "       [ 6.17391767e-01],\n",
              "       [ 1.10771208e+00],\n",
              "       [ 1.70554948e+00],\n",
              "       [ 2.45499475e+00],\n",
              "       [ 3.49951133e+00],\n",
              "       [ 5.15937985e+00],\n",
              "       [ 8.03469288e+00],\n",
              "       [ 1.30961523e+01],\n",
              "       [ 2.16394093e+01],\n",
              "       [ 3.47926427e+01],\n",
              "       [ 5.19022334e+01],\n",
              "       [-1.66273987e-01],\n",
              "       [-1.11458555e-01],\n",
              "       [ 1.22348416e-01],\n",
              "       [ 4.98820345e-01],\n",
              "       [ 9.89140655e-01],\n",
              "       [ 1.58697806e+00],\n",
              "       [ 2.33642333e+00],\n",
              "       [ 3.38093991e+00],\n",
              "       [ 5.04080843e+00],\n",
              "       [ 7.91612146e+00],\n",
              "       [ 1.29775808e+01],\n",
              "       [ 2.15208379e+01],\n",
              "       [ 3.46740713e+01],\n",
              "       [ 5.17836620e+01],\n",
              "       [-3.19131132e-01],\n",
              "       [-2.64315700e-01],\n",
              "       [-3.05087298e-02],\n",
              "       [ 3.45963200e-01],\n",
              "       [ 8.36283509e-01],\n",
              "       [ 1.43412091e+00],\n",
              "       [ 2.18356618e+00],\n",
              "       [ 3.22808276e+00],\n",
              "       [ 4.88795128e+00],\n",
              "       [ 7.76326431e+00],\n",
              "       [ 1.28247237e+01],\n",
              "       [ 2.13679807e+01],\n",
              "       [ 3.45212142e+01],\n",
              "       [ 5.16308049e+01],\n",
              "       [-8.89845414e-01],\n",
              "       [-8.35029982e-01],\n",
              "       [-6.01223011e-01],\n",
              "       [-2.24751082e-01],\n",
              "       [ 2.65569227e-01],\n",
              "       [ 8.63406632e-01],\n",
              "       [ 1.61285190e+00],\n",
              "       [ 2.65736848e+00],\n",
              "       [ 4.31723700e+00],\n",
              "       [ 7.19255003e+00],\n",
              "       [ 1.22540094e+01],\n",
              "       [ 2.07972664e+01],\n",
              "       [ 3.39504999e+01],\n",
              "       [ 5.10600906e+01],\n",
              "       [ 1.14440301e-01],\n",
              "       [ 1.69255733e-01],\n",
              "       [ 4.03062704e-01],\n",
              "       [ 7.79534633e-01],\n",
              "       [ 1.26985494e+00],\n",
              "       [ 1.86769235e+00],\n",
              "       [ 2.61713761e+00],\n",
              "       [ 3.66165420e+00],\n",
              "       [ 5.32152272e+00],\n",
              "       [ 8.19683574e+00],\n",
              "       [ 1.32582951e+01],\n",
              "       [ 2.18015521e+01],\n",
              "       [ 3.49547856e+01],\n",
              "       [ 5.20643763e+01],\n",
              "       [ 1.02167245e+00],\n",
              "       [ 1.07648789e+00],\n",
              "       [ 1.31029486e+00],\n",
              "       [ 1.68676679e+00],\n",
              "       [ 2.17708709e+00],\n",
              "       [ 2.77492450e+00],\n",
              "       [ 3.52436977e+00],\n",
              "       [ 4.56888635e+00],\n",
              "       [ 6.22875487e+00],\n",
              "       [ 9.10406790e+00],\n",
              "       [ 1.41655273e+01],\n",
              "       [ 2.27087843e+01],\n",
              "       [ 3.58620177e+01],\n",
              "       [ 5.29716084e+01],\n",
              "       [ 3.63673950e-03],\n",
              "       [ 5.84521712e-02],\n",
              "       [ 2.92259142e-01],\n",
              "       [ 6.68731071e-01],\n",
              "       [ 1.15905138e+00],\n",
              "       [ 1.75688879e+00],\n",
              "       [ 2.50633405e+00],\n",
              "       [ 3.55085064e+00],\n",
              "       [ 5.21071915e+00],\n",
              "       [ 8.08603218e+00],\n",
              "       [ 1.31474916e+01],\n",
              "       [ 2.16907486e+01],\n",
              "       [ 3.48439820e+01],\n",
              "       [ 5.19535727e+01],\n",
              "       [ 5.17029570e-01],\n",
              "       [ 5.71845002e-01],\n",
              "       [ 8.05651973e-01],\n",
              "       [ 1.18212390e+00],\n",
              "       [ 1.67244421e+00],\n",
              "       [ 2.27028162e+00],\n",
              "       [ 3.01972688e+00],\n",
              "       [ 4.06424347e+00],\n",
              "       [ 5.72411198e+00],\n",
              "       [ 8.59942501e+00],\n",
              "       [ 1.36608844e+01],\n",
              "       [ 2.22041414e+01],\n",
              "       [ 3.53573749e+01],\n",
              "       [ 5.24669656e+01],\n",
              "       [-5.01006144e-01],\n",
              "       [-4.46190712e-01],\n",
              "       [-2.12383742e-01],\n",
              "       [ 1.64088188e-01],\n",
              "       [ 6.54408497e-01],\n",
              "       [ 1.25224590e+00],\n",
              "       [ 2.00169117e+00],\n",
              "       [ 3.04620775e+00],\n",
              "       [ 4.70607627e+00],\n",
              "       [ 7.58138930e+00],\n",
              "       [ 1.26428487e+01],\n",
              "       [ 2.11861057e+01],\n",
              "       [ 3.43393391e+01],\n",
              "       [ 5.14489298e+01],\n",
              "       [ 5.80154596e-01],\n",
              "       [ 6.34970027e-01],\n",
              "       [ 8.68776998e-01],\n",
              "       [ 1.24524893e+00],\n",
              "       [ 1.73556924e+00],\n",
              "       [ 2.33340664e+00],\n",
              "       [ 3.08285191e+00],\n",
              "       [ 4.12736849e+00],\n",
              "       [ 5.78723701e+00],\n",
              "       [ 8.66255004e+00],\n",
              "       [ 1.37240094e+01],\n",
              "       [ 2.22672664e+01],\n",
              "       [ 3.54204999e+01],\n",
              "       [ 5.25300906e+01],\n",
              "       [ 5.95868837e-01],\n",
              "       [ 6.50684269e-01],\n",
              "       [ 8.84491240e-01],\n",
              "       [ 1.26096317e+00],\n",
              "       [ 1.75128348e+00],\n",
              "       [ 2.34912088e+00],\n",
              "       [ 3.09856615e+00],\n",
              "       [ 4.14308273e+00],\n",
              "       [ 5.80295125e+00],\n",
              "       [ 8.67826428e+00],\n",
              "       [ 1.37397237e+01],\n",
              "       [ 2.22829807e+01],\n",
              "       [ 3.54362141e+01],\n",
              "       [ 5.25458048e+01],\n",
              "       [ 1.25015458e+00],\n",
              "       [ 1.30497001e+00],\n",
              "       [ 1.53877698e+00],\n",
              "       [ 1.91524891e+00],\n",
              "       [ 2.40556922e+00],\n",
              "       [ 3.00340662e+00],\n",
              "       [ 3.75285189e+00],\n",
              "       [ 4.79736848e+00],\n",
              "       [ 6.45723699e+00],\n",
              "       [ 9.33255002e+00],\n",
              "       [ 1.43940094e+01],\n",
              "       [ 2.29372664e+01],\n",
              "       [ 3.60904999e+01],\n",
              "       [ 5.32000906e+01],\n",
              "       [ 7.92386712e-01],\n",
              "       [ 8.47202144e-01],\n",
              "       [ 1.08100911e+00],\n",
              "       [ 1.45748104e+00],\n",
              "       [ 1.94780135e+00],\n",
              "       [ 2.54563876e+00],\n",
              "       [ 3.29508402e+00],\n",
              "       [ 4.33960061e+00],\n",
              "       [ 5.99946913e+00],\n",
              "       [ 8.87478215e+00],\n",
              "       [ 1.39362415e+01],\n",
              "       [ 2.24794986e+01],\n",
              "       [ 3.56327320e+01],\n",
              "       [ 5.27423227e+01],\n",
              "       [-2.25649002e-01],\n",
              "       [-1.70833570e-01],\n",
              "       [ 6.29734006e-02],\n",
              "       [ 4.39445330e-01],\n",
              "       [ 9.29765639e-01],\n",
              "       [ 1.52760304e+00],\n",
              "       [ 2.27704831e+00],\n",
              "       [ 3.32156489e+00],\n",
              "       [ 4.98143341e+00],\n",
              "       [ 7.85674644e+00],\n",
              "       [ 1.29182058e+01],\n",
              "       [ 2.14614628e+01],\n",
              "       [ 3.46146963e+01],\n",
              "       [ 5.17242870e+01],\n",
              "       [ 1.84095816e+00],\n",
              "       [ 1.89577359e+00],\n",
              "       [ 2.12958056e+00],\n",
              "       [ 2.50605249e+00],\n",
              "       [ 2.99637280e+00],\n",
              "       [ 3.59421021e+00],\n",
              "       [ 4.34365547e+00],\n",
              "       [ 5.38817206e+00],\n",
              "       [ 7.04804058e+00],\n",
              "       [ 9.92335360e+00],\n",
              "       [ 1.49848130e+01],\n",
              "       [ 2.35280700e+01],\n",
              "       [ 3.66813035e+01],\n",
              "       [ 5.37908942e+01],\n",
              "       [ 8.22922447e-01],\n",
              "       [ 8.77737879e-01],\n",
              "       [ 1.11154485e+00],\n",
              "       [ 1.48801678e+00],\n",
              "       [ 1.97833709e+00],\n",
              "       [ 2.57617449e+00],\n",
              "       [ 3.32561976e+00],\n",
              "       [ 4.37013634e+00],\n",
              "       [ 6.03000486e+00],\n",
              "       [ 8.90531789e+00],\n",
              "       [ 1.39667773e+01],\n",
              "       [ 2.25100343e+01],\n",
              "       [ 3.56632677e+01],\n",
              "       [ 5.27728584e+01],\n",
              "       [-4.61988255e-01],\n",
              "       [-4.07172824e-01],\n",
              "       [-1.73365853e-01],\n",
              "       [ 2.03106077e-01],\n",
              "       [ 6.93426386e-01],\n",
              "       [ 1.29126379e+00],\n",
              "       [ 2.04070906e+00],\n",
              "       [ 3.08522564e+00],\n",
              "       [ 4.74509416e+00],\n",
              "       [ 7.62040719e+00],\n",
              "       [ 1.26818666e+01],\n",
              "       [ 2.12251236e+01],\n",
              "       [ 3.43783570e+01],\n",
              "       [ 5.14879477e+01],\n",
              "       [-7.69845416e-01],\n",
              "       [-7.15029984e-01],\n",
              "       [-4.81223013e-01],\n",
              "       [-1.04751084e-01],\n",
              "       [ 3.85569225e-01],\n",
              "       [ 9.83406630e-01],\n",
              "       [ 1.73285190e+00],\n",
              "       [ 2.77736848e+00],\n",
              "       [ 4.43723700e+00],\n",
              "       [ 7.31255003e+00],\n",
              "       [ 1.23740094e+01],\n",
              "       [ 2.09172664e+01],\n",
              "       [ 3.40704999e+01],\n",
              "       [ 5.11800906e+01]])"
            ]
          },
          "execution_count": 93,
          "metadata": {},
          "output_type": "execute_result"
        }
      ],
      "source": [
        "predict"
      ]
    },
    {
      "cell_type": "code",
      "execution_count": null,
      "metadata": {
        "id": "FpRuLZJXty-2",
        "outputId": "7167d2b5-68da-4242-cfe9-2ec62bcf15a1"
      },
      "outputs": [
        {
          "data": {
            "image/png": "[encoded data removed]",
            "text/plain": [
              "<Figure size 432x288 with 1 Axes>"
            ]
          },
          "metadata": {
            "needs_background": "light"
          },
          "output_type": "display_data"
        }
      ],
      "source": [
        "plt.plot(T, predict, 'o')\n",
        "plt.plot([0, 50], [0, 50])\n",
        "plt.xlabel('Actual')\n",
        "plt.ylabel('Predicted');"
      ]
    },
    {
      "cell_type": "markdown",
      "metadata": {
        "id": "WRzpOIJ4ty-2"
      },
      "source": [
        "## What is a Froude number anyway?\n",
        "\n",
        "In continuum mechanics, the Froude number ($Fr$) is a dimensionless number defined as the ratio of the flow inertia to the external field.\n",
        "\n",
        "In naval architecture **the Froude number is a significant figure used to determine the resistance of a partially submerged object moving through water.**\n",
        "\n",
        "### What's the relationship between Froude number and resistance?\n",
        "\n",
        "*  Â¯\\\\_(ãƒ„)_/Â¯\n",
        "* We don't know (I mean, someone does, go read this paper if you really want to find out: https://www.researchgate.net/publication/283051466_Drag_reduction_of_NPL_round_bilge_hull_forms_in_HYSUCAT_configuration_An_Analytical_Study).\n",
        "* *We* don't know.\n",
        "\n",
        "**But** we empirically discovered a relationship between Froude number and resistance on some sample data, and we did it with machine learning!"
      ]
    },
    {
      "cell_type": "code",
      "execution_count": null,
      "metadata": {
        "id": "II569ZEaty-2"
      },
      "outputs": [],
      "source": []
    }
  ],
  "metadata": {
    "kernelspec": {
      "display_name": "Python 3",
      "language": "python",
      "name": "python3"
    },
    "language_info": {
      "codemirror_mode": {
        "name": "ipython",
        "version": 3
      },
      "file_extension": ".py",
      "mimetype": "text/x-python",
      "name": "python",
      "nbconvert_exporter": "python",
      "pygments_lexer": "ipython3",
      "version": "3.7.7"
    },
    "colab": {
      "provenance": [],
      "include_colab_link": true
    }
  },
  "nbformat": 4,
  "nbformat_minor": 0
}