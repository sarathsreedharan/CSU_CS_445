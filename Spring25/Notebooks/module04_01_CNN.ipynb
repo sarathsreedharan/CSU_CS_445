{
 "cells": [
  {
   "cell_type": "markdown",
   "metadata": {},
   "source": [
    "# Convolutional Neural Networks"
   ]
  },
  {
   "cell_type": "markdown",
   "metadata": {},
   "source": [
    "## Introduction"
   ]
  },
  {
   "cell_type": "markdown",
   "metadata": {},
   "source": [
    "### First, meet MNIST\n",
    "\n",
    "<img src=\"http://www.cs.colostate.edu/~cs445/notebooks/MnistExamples.png\" width=500>\n",
    "\n",
    "The *Modified National Institute of Standards and Technology* database is a large database of handwritten digits.\n",
    "\n",
    "* Commonly used for training various image processing systems\n",
    "* A \"remix\" of the NIST database\n",
    "    * NIST database training data was taken from American Census Bureau employees;\n",
    "    * NIST testing data was taken from American high school students.\n",
    "* Black and white images from NIST were normalized to fit into a 28x28 pixel bounding box and anti-aliased, introducing grayscale"
   ]
  },
  {
   "cell_type": "markdown",
   "metadata": {},
   "source": [
    "MNIST is often a default dataset when teaching convolutional neural nets and other kinds of computer vision systems.  Lots of people use it and so will you!"
   ]
  },
  {
   "cell_type": "markdown",
   "metadata": {},
   "source": [
    "How many weights are in a fully-connected classification neural network for MNIST digits that has 20 units in one hidden layer and 10 units in the output layer?\n",
    "\n",
    "If each pixel has a weight in a hidden unit, each unit in hidden layer has 28 x 28 = 784 plus 1 weights, so the hidden layer has (784 + 1) x 20.  The output layer has (20 + 1) x 10 weights."
   ]
  },
  {
   "cell_type": "code",
   "execution_count": 238,
   "metadata": {},
   "outputs": [
    {
     "data": {
      "text/plain": [
       "15910"
      ]
     },
     "execution_count": 238,
     "metadata": {},
     "output_type": "execute_result"
    }
   ],
   "source": [
    "(((28*28)+1) * 20) + ((20+1) * 10)"
   ]
  },
  {
   "cell_type": "markdown",
   "metadata": {},
   "source": [
    "That's quite a few weights.  Can this number be reduced?  Remember, larger numbers of weights probably require more samples to train them.\n",
    "\n",
    "Well, we could provide each hidden unit with just part of the image, such as a 10 x 10 patch.  We could assign each unit a random patch.  Then we would have (100 + 1) x 20 + 21 * 10 weights."
   ]
  },
  {
   "cell_type": "code",
   "execution_count": 239,
   "metadata": {},
   "outputs": [
    {
     "data": {
      "text/plain": [
       "2230"
      ]
     },
     "execution_count": 239,
     "metadata": {},
     "output_type": "execute_result"
    }
   ],
   "source": [
    "(100+1) * 20 + 21 * 10"
   ]
  },
  {
   "cell_type": "code",
   "execution_count": 240,
   "metadata": {},
   "outputs": [
    {
     "data": {
      "text/plain": [
       "0.14016341923318668"
      ]
     },
     "execution_count": 240,
     "metadata": {},
     "output_type": "execute_result"
    }
   ],
   "source": [
    "2230 / 15910"
   ]
  },
  {
   "cell_type": "markdown",
   "metadata": {},
   "source": [
    "About $\\frac{1}{7}$ the number of weights!\n",
    "\n",
    "But this assignment of patches to each unit may end up missing parts of an image that are critical for correct classification.  We could add more units to cover more parts, but now our number of weights is growing.  Can we cover more parts of the image without increasing the number of weights in each unit and the number of units?"
   ]
  },
  {
   "cell_type": "markdown",
   "metadata": {},
   "source": [
    "The answer, no surprise, is yes!  We can create a hidden unit that receives 10 x 10 image patches and apply this unit to all to all 10 x 10 patches from a given image.  Imagine that a unit has a lens that only sees a 10 x 10 patch.  That lens can be shifted around an image, each time passing the viewed patch through the unit and producing a scalar output.  Each of these outputs can be assembled into another image.\n",
    "\n",
    "For our 10 x 10 unit, this would result in the following process.  Our 28 x 28 image of digits will result in a 2 x 2 set of 10 x 10 non-overlapping patches, with 8 pixels left over on right and bottom parts of the image.  Applying one hidden unit to these four patches produces four outputs that are arranged in a 2 x 2 matrix.  Each of these outputs represents how well the pattern encoded in the unit's weights match the intensities in each patch.\n",
    "\n",
    "This process of shifting the focus of a unit across an image is a [convolution](https://setosa.io/ev/image-kernels/).  The weights in a hidden unit are often called a kernel or a filter.\n",
    "\n",
    "With 20 units in the hidden layer, we will have 20 much smaller images produced.  The weights in one unit might be values that result in the largest output when the patch has a vertical edge.  The weights in a second unit might be values that result in the largest output when the patch has a curve like a smile or like the bottom of a hand-drawn digit 3."
   ]
  },
  {
   "cell_type": "markdown",
   "metadata": {},
   "source": [
    "We now have a network with 2230 weights that can process an entire image, at the cost of some processing time to do the convolution and some storage for storing the smaller images as the output of a convolutional layer. For our simple example the additional computation and storage cost is small.\n",
    "\n",
    "What if we allow overlapping patches?  Let's shift, or \"stride\", the lens of each unit by one pixel left-to-right, and top-to-bottom.  How many patches does this make?  Left-to-right gives us 28 - 10 + 1 = 19 patches, and similarly going top-to-bottom.  So each unit will be applied 19 x 19 times to produce a new image that is 19 x 19 = 361.  So, each hidden unit now produces 361 values. When we were not convolving, each unit produced 1 value, so the output layer received 20 values, one for each unit.  Now our output layer receives 361 values for each unit, or 361 x 20 = 7220 values.  "
   ]
  },
  {
   "cell_type": "markdown",
   "metadata": {},
   "source": [
    "Anyway, let's move on to some actual examples of images, patches, and convolutions."
   ]
  },
  {
   "cell_type": "code",
   "execution_count": 241,
   "metadata": {},
   "outputs": [],
   "source": [
    "import numpy as np\n",
    "import matplotlib.pyplot as plt\n",
    "\n",
    "import neuralnetworks_A5 as nn\n",
    "\n",
    "import pickle\n",
    "import gzip"
   ]
  },
  {
   "cell_type": "code",
   "execution_count": 242,
   "metadata": {},
   "outputs": [
    {
     "name": "stdout",
     "output_type": "stream",
     "text": [
      "(50000, 784) (50000, 1) (10000, 784) (10000, 1) (10000, 784) (10000, 1)\n"
     ]
    }
   ],
   "source": [
    "with gzip.open('mnist.pkl.gz', 'rb') as f:\n",
    "    train_set, valid_set, test_set = pickle.load(f, encoding='latin1')\n",
    "\n",
    "Xtrain = train_set[0]\n",
    "Ttrain = train_set[1].reshape(-1, 1)\n",
    "\n",
    "Xval = valid_set[0]\n",
    "Tval = valid_set[1].reshape(-1, 1)\n",
    "\n",
    "Xtest = test_set[0]\n",
    "Ttest = test_set[1].reshape(-1, 1)\n",
    "\n",
    "print(Xtrain.shape, Ttrain.shape,  Xval.shape, Tval.shape,  Xtest.shape, Ttest.shape)"
   ]
  },
  {
   "cell_type": "markdown",
   "metadata": {},
   "source": [
    "Decode these shapes for me.  How many samples are there total?  How are they represented?  What are the output classes?"
   ]
  },
  {
   "cell_type": "markdown",
   "metadata": {},
   "source": [
    "These images are grayscale.  How might the representation be different if they were RGB images?"
   ]
  },
  {
   "cell_type": "code",
   "execution_count": 243,
   "metadata": {},
   "outputs": [
    {
     "data": {
      "text/plain": [
       "array([[5],\n",
       "       [0],\n",
       "       [4],\n",
       "       [1],\n",
       "       [9],\n",
       "       [2],\n",
       "       [1],\n",
       "       [3],\n",
       "       [1],\n",
       "       [4]], dtype=int64)"
      ]
     },
     "execution_count": 243,
     "metadata": {},
     "output_type": "execute_result"
    }
   ],
   "source": [
    "Ttrain[:10]"
   ]
  },
  {
   "cell_type": "markdown",
   "metadata": {},
   "source": [
    "What does this mean?"
   ]
  },
  {
   "cell_type": "code",
   "execution_count": 244,
   "metadata": {},
   "outputs": [
    {
     "data": {
      "text/plain": [
       "array([3], dtype=int64)"
      ]
     },
     "execution_count": 244,
     "metadata": {},
     "output_type": "execute_result"
    }
   ],
   "source": [
    "Ttrain[7]"
   ]
  },
  {
   "cell_type": "markdown",
   "metadata": {},
   "source": [
    "How about this?"
   ]
  },
  {
   "cell_type": "code",
   "execution_count": 245,
   "metadata": {},
   "outputs": [],
   "source": [
    "three = Xtrain[7, :].reshape(28, 28)"
   ]
  },
  {
   "cell_type": "code",
   "execution_count": 246,
   "metadata": {},
   "outputs": [],
   "source": [
    "plt.imshow?"
   ]
  },
  {
   "cell_type": "code",
   "execution_count": 247,
   "metadata": {},
   "outputs": [],
   "source": [
    "def draw_image(image, label):\n",
    "    plt.imshow(image, cmap='gray')\n",
    "    plt.xticks([])\n",
    "    plt.yticks([])\n",
    "    plt.title(label)"
   ]
  },
  {
   "cell_type": "code",
   "execution_count": 248,
   "metadata": {
    "scrolled": true
   },
   "outputs": [
    {
     "data": {
      "image/png": "[encoded data removed]",
      "text/plain": [
       "<Figure size 432x288 with 1 Axes>"
      ]
     },
     "metadata": {},
     "output_type": "display_data"
    }
   ],
   "source": [
    "draw_image(three, 3)"
   ]
  },
  {
   "cell_type": "markdown",
   "metadata": {},
   "source": [
    "Let's invert the values, so the bright 3 is dark, like an actual pencil drawing."
   ]
  },
  {
   "cell_type": "code",
   "execution_count": 249,
   "metadata": {},
   "outputs": [],
   "source": [
    "def draw_neg_image(image, label):\n",
    "    plt.imshow(-image, cmap='gray')\n",
    "    plt.xticks([])\n",
    "    plt.yticks([])\n",
    "    plt.title(label)"
   ]
  },
  {
   "cell_type": "code",
   "execution_count": 250,
   "metadata": {
    "scrolled": true
   },
   "outputs": [
    {
     "data": {
      "image/png": "[encoded data removed]",
      "text/plain": [
       "<Figure size 432x288 with 1 Axes>"
      ]
     },
     "metadata": {},
     "output_type": "display_data"
    }
   ],
   "source": [
    "draw_neg_image(three, 3)"
   ]
  },
  {
   "cell_type": "markdown",
   "metadata": {},
   "source": [
    "Instead of 10 x 10 patches, let's extract non-overlapping 7 x 7 patches from this image (this is a 28 x 28 image so that will divide nicely).  We can use two for loops: an inner loop to step across columns left-to-right and an outer loop to step down the rows top-to-bottom, and collect each patch into a list called `patches`."
   ]
  },
  {
   "cell_type": "code",
   "execution_count": 251,
   "metadata": {},
   "outputs": [
    {
     "data": {
      "text/plain": [
       "16"
      ]
     },
     "execution_count": 251,
     "metadata": {},
     "output_type": "execute_result"
    }
   ],
   "source": [
    "patches = []\n",
    "for row in range(0, 28, 7):\n",
    "    for col in range(0, 28, 7):\n",
    "        patches.append(three[row:row + 7, col:col + 7])\n",
    "len(patches)"
   ]
  },
  {
   "cell_type": "code",
   "execution_count": 252,
   "metadata": {
    "scrolled": false
   },
   "outputs": [
    {
     "data": {
      "image/png": "[encoded data removed]",
      "text/plain": [
       "<Figure size 576x576 with 16 Axes>"
      ]
     },
     "metadata": {},
     "output_type": "display_data"
    }
   ],
   "source": [
    "plt.figure(figsize=(8, 8))\n",
    "ploti = 0\n",
    "for patch in patches:\n",
    "    ploti += 1\n",
    "    plt.subplot(4, 4, ploti)\n",
    "    draw_neg_image(patch, '')"
   ]
  },
  {
   "cell_type": "markdown",
   "metadata": {},
   "source": [
    "Whoops! Some of these patches are all black."
   ]
  },
  {
   "cell_type": "code",
   "execution_count": 253,
   "metadata": {},
   "outputs": [],
   "source": [
    "def draw_neg_image(image, label):\n",
    "    plt.imshow(-image, cmap='gray', vmin=-1, vmax=0)  # <-- New part\n",
    "    plt.xticks([])\n",
    "    plt.yticks([])\n",
    "    plt.title(label)"
   ]
  },
  {
   "cell_type": "code",
   "execution_count": 254,
   "metadata": {
    "scrolled": false
   },
   "outputs": [
    {
     "data": {
      "image/png": "[encoded data removed]",
      "text/plain": [
       "<Figure size 576x576 with 16 Axes>"
      ]
     },
     "metadata": {},
     "output_type": "display_data"
    }
   ],
   "source": [
    "plt.figure(figsize=(8, 8))\n",
    "ploti = 0\n",
    "for patch in patches:\n",
    "    ploti += 1\n",
    "    plt.subplot(4, 4, ploti)\n",
    "    draw_neg_image(patch, '')"
   ]
  },
  {
   "cell_type": "markdown",
   "metadata": {},
   "source": [
    "Those all black patches are because all intensities there are 0.  Fix this by specifying min and max values to coloring each image."
   ]
  },
  {
   "cell_type": "markdown",
   "metadata": {},
   "source": [
    "What if we want some overlap?  7 x 7 patches that shift by 2 columns and 2 rows."
   ]
  },
  {
   "cell_type": "code",
   "execution_count": 255,
   "metadata": {},
   "outputs": [
    {
     "data": {
      "text/plain": [
       "196"
      ]
     },
     "execution_count": 255,
     "metadata": {},
     "output_type": "execute_result"
    }
   ],
   "source": [
    "patches = []\n",
    "for row in range(0, 28, 2):\n",
    "    for col in range(0, 28, 2):\n",
    "        patches.append(three[row:row + 7, col:col + 7])\n",
    "len(patches)"
   ]
  },
  {
   "cell_type": "code",
   "execution_count": 256,
   "metadata": {},
   "outputs": [
    {
     "data": {
      "text/plain": [
       "14.0"
      ]
     },
     "execution_count": 256,
     "metadata": {},
     "output_type": "execute_result"
    }
   ],
   "source": [
    "np.sqrt(len(patches))"
   ]
  },
  {
   "cell_type": "code",
   "execution_count": 257,
   "metadata": {},
   "outputs": [
    {
     "data": {
      "image/png": "[encoded data removed]",
      "text/plain": [
       "<Figure size 576x576 with 196 Axes>"
      ]
     },
     "metadata": {},
     "output_type": "display_data"
    }
   ],
   "source": [
    "n_plot_rows = int(np.sqrt(len(patches)))\n",
    "plt.figure(figsize=(8, 8))\n",
    "ploti = 0\n",
    "for patch in patches:\n",
    "    ploti += 1\n",
    "    plt.subplot(n_plot_rows, n_plot_rows, ploti)\n",
    "    draw_neg_image(patch, '')"
   ]
  },
  {
   "cell_type": "markdown",
   "metadata": {},
   "source": [
    "We will need all patches to be the same size, so we must discard the smaller ones on the right and the bottom.  Alternatively, we can pad the original image to guarantee all patches are the same size."
   ]
  },
  {
   "cell_type": "code",
   "execution_count": 258,
   "metadata": {},
   "outputs": [
    {
     "data": {
      "text/plain": [
       "121"
      ]
     },
     "execution_count": 258,
     "metadata": {},
     "output_type": "execute_result"
    }
   ],
   "source": [
    "patches = []\n",
    "for row in range(0, 28, 2):\n",
    "    for col in range(0, 28, 2):\n",
    "        if row + 7 < 28 and col + 7 < 28: # cropping solution, not padding solution\n",
    "            patches.append(three[row:row + 7, col:col + 7])\n",
    "len(patches)"
   ]
  },
  {
   "cell_type": "code",
   "execution_count": 259,
   "metadata": {},
   "outputs": [
    {
     "data": {
      "text/plain": [
       "11.0"
      ]
     },
     "execution_count": 259,
     "metadata": {},
     "output_type": "execute_result"
    }
   ],
   "source": [
    "np.sqrt(len(patches))"
   ]
  },
  {
   "cell_type": "code",
   "execution_count": 260,
   "metadata": {},
   "outputs": [
    {
     "data": {
      "image/png": "[encoded data removed]",
      "text/plain": [
       "<Figure size 576x576 with 121 Axes>"
      ]
     },
     "metadata": {},
     "output_type": "display_data"
    }
   ],
   "source": [
    "n_plot_rows = int(np.sqrt(len(patches)))\n",
    "plt.figure(figsize=(8, 8))\n",
    "ploti = 0\n",
    "for patch in patches:\n",
    "    ploti += 1\n",
    "    plt.subplot(n_plot_rows, n_plot_rows, ploti)\n",
    "    draw_neg_image(patch, '')"
   ]
  },
  {
   "cell_type": "markdown",
   "metadata": {},
   "source": [
    "Are these patches using lots of storage, or are they just views onto the original image array?  Hopefully they are just views.  Test this by modifying the original image in the upper left corner and that redrawing the patches."
   ]
  },
  {
   "cell_type": "code",
   "execution_count": 261,
   "metadata": {},
   "outputs": [
    {
     "data": {
      "text/plain": [
       "array([[0., 0., 0., 0.],\n",
       "       [0., 0., 0., 0.],\n",
       "       [0., 0., 0., 0.],\n",
       "       [0., 0., 0., 0.]], dtype=float32)"
      ]
     },
     "execution_count": 261,
     "metadata": {},
     "output_type": "execute_result"
    }
   ],
   "source": [
    "three[0:4, 0:4] # look at the first 4 rows and columns of our \"three\" data matrix"
   ]
  },
  {
   "cell_type": "code",
   "execution_count": 262,
   "metadata": {},
   "outputs": [
    {
     "data": {
      "text/plain": [
       "array([[1., 1., 1., 1., 0.],\n",
       "       [1., 1., 1., 1., 0.],\n",
       "       [1., 1., 1., 1., 0.],\n",
       "       [1., 1., 1., 1., 0.],\n",
       "       [0., 0., 0., 0., 0.]], dtype=float32)"
      ]
     },
     "execution_count": 262,
     "metadata": {},
     "output_type": "execute_result"
    }
   ],
   "source": [
    "three[0:4, 0:4] = 1.0\n",
    "three[0:5, 0:5]"
   ]
  },
  {
   "cell_type": "code",
   "execution_count": 263,
   "metadata": {},
   "outputs": [
    {
     "data": {
      "image/png": "[encoded data removed]",
      "text/plain": [
       "<Figure size 576x576 with 121 Axes>"
      ]
     },
     "metadata": {},
     "output_type": "display_data"
    }
   ],
   "source": [
    "n_plot_rows = int(np.sqrt(len(patches)))\n",
    "plt.figure(figsize=(8, 8))\n",
    "ploti = 0\n",
    "for patch in patches:\n",
    "    ploti += 1\n",
    "    plt.subplot(n_plot_rows, n_plot_rows, ploti)\n",
    "    draw_neg_image(patch, '')"
   ]
  },
  {
   "cell_type": "markdown",
   "metadata": {},
   "source": [
    "Yep, just views. Good!\n",
    "\n",
    "Now let's reset those pixels."
   ]
  },
  {
   "cell_type": "code",
   "execution_count": 264,
   "metadata": {},
   "outputs": [],
   "source": [
    "three[0:4, 0:4] = 0.0"
   ]
  },
  {
   "cell_type": "markdown",
   "metadata": {},
   "source": [
    "## Weight matrix as kernel or filter"
   ]
  },
  {
   "cell_type": "markdown",
   "metadata": {},
   "source": [
    "Now, how would we create a unit as a kernel or filter and apply it to all patches?  \n",
    "\n",
    "It is just a 7 x 7 matrix.  Let's make one that detects diagonal edges from lower left to upper right."
   ]
  },
  {
   "cell_type": "code",
   "execution_count": 265,
   "metadata": {},
   "outputs": [
    {
     "data": {
      "text/plain": [
       "array([[-1, -1, -1, -1, -1, -1, -1],\n",
       "       [-1, -1, -1, -1, -1, -1,  1],\n",
       "       [-1, -1, -1, -1, -1,  1,  1],\n",
       "       [-1, -1, -1, -1,  1,  1,  1],\n",
       "       [-1, -1, -1,  1,  1,  1,  1],\n",
       "       [-1, -1,  1,  1,  1,  1,  1],\n",
       "       [-1,  1,  1,  1,  1,  1,  1]])"
      ]
     },
     "execution_count": 265,
     "metadata": {},
     "output_type": "execute_result"
    }
   ],
   "source": [
    "weights = np.array([[-1, -1, -1, -1, -1, -1, -1],\n",
    "                    [-1, -1, -1, -1, -1, -1,  1],\n",
    "                    [-1, -1, -1, -1, -1,  1,  1],\n",
    "                    [-1, -1, -1, -1,  1,  1,  1],\n",
    "                    [-1, -1, -1,  1,  1,  1,  1],\n",
    "                    [-1, -1,  1,  1,  1,  1,  1],\n",
    "                    [-1,  1,  1,  1,  1,  1,  1]])\n",
    "weights"
   ]
  },
  {
   "cell_type": "markdown",
   "metadata": {},
   "source": [
    "Let's talk about how this matrix (filter) detects edges.  Both this filter and the image patch are 7 x 7 matrices, so they'll multiply together. The -1s will negate or deemphasize the values on one (the \"negative\") side of the edge while the 1s emphasize the values on the \"positive\" side of the edge.  What if the patch is all 0s?"
   ]
  },
  {
   "cell_type": "code",
   "execution_count": 266,
   "metadata": {},
   "outputs": [],
   "source": [
    "imgs = [] # store these experiments for plotting"
   ]
  },
  {
   "cell_type": "code",
   "execution_count": 267,
   "metadata": {},
   "outputs": [
    {
     "data": {
      "image/png": "[encoded data removed]",
      "text/plain": [
       "<Figure size 432x288 with 1 Axes>"
      ]
     },
     "metadata": {},
     "output_type": "display_data"
    }
   ],
   "source": [
    "patch = np.array([[0, 0, 0, 0, 0, 0, 0],\n",
    "                  [0, 0, 0, 0, 0, 0, 0],\n",
    "                  [0, 0, 0, 0, 0, 0, 0],\n",
    "                  [0, 0, 0, 0, 0, 0, 0],\n",
    "                  [0, 0, 0, 0, 0, 0, 0],\n",
    "                  [0, 0, 0, 0, 0, 0, 0],\n",
    "                  [0, 0, 0, 0, 0, 0, 0]])\n",
    "imgs.append(patch)\n",
    "draw_neg_image(patch, 'patch')"
   ]
  },
  {
   "cell_type": "code",
   "execution_count": 268,
   "metadata": {},
   "outputs": [
    {
     "data": {
      "image/png": "[encoded data removed]",
      "text/plain": [
       "<Figure size 432x288 with 1 Axes>"
      ]
     },
     "metadata": {},
     "output_type": "display_data"
    }
   ],
   "source": [
    "imgs.append(patch @ weights)\n",
    "draw_neg_image(patch @ weights, 'patch @ weights')"
   ]
  },
  {
   "cell_type": "markdown",
   "metadata": {},
   "source": [
    "What about if the patch is all 1s?"
   ]
  },
  {
   "cell_type": "code",
   "execution_count": 269,
   "metadata": {},
   "outputs": [
    {
     "data": {
      "image/png": "[encoded data removed]",
      "text/plain": [
       "<Figure size 432x288 with 1 Axes>"
      ]
     },
     "metadata": {},
     "output_type": "display_data"
    }
   ],
   "source": [
    "patch = np.array([[1, 1, 1, 1, 1, 1, 1],\n",
    "                  [1, 1, 1, 1, 1, 1, 1],\n",
    "                  [1, 1, 1, 1, 1, 1, 1],\n",
    "                  [1, 1, 1, 1, 1, 1, 1],\n",
    "                  [1, 1, 1, 1, 1, 1, 1],\n",
    "                  [1, 1, 1, 1, 1, 1, 1],\n",
    "                  [1, 1, 1, 1, 1, 1, 1]])\n",
    "imgs.append(patch)\n",
    "draw_neg_image(patch, 'patch')"
   ]
  },
  {
   "cell_type": "code",
   "execution_count": 270,
   "metadata": {},
   "outputs": [
    {
     "data": {
      "image/png": "[encoded data removed]",
      "text/plain": [
       "<Figure size 432x288 with 1 Axes>"
      ]
     },
     "metadata": {},
     "output_type": "display_data"
    }
   ],
   "source": [
    "imgs.append(patch @ weights)\n",
    "draw_neg_image(patch @ weights, 'patch @ weights')"
   ]
  },
  {
   "cell_type": "markdown",
   "metadata": {},
   "source": [
    "How about this checkerboard pattern?"
   ]
  },
  {
   "cell_type": "code",
   "execution_count": 271,
   "metadata": {},
   "outputs": [
    {
     "data": {
      "image/png": "[encoded data removed]",
      "text/plain": [
       "<Figure size 432x288 with 1 Axes>"
      ]
     },
     "metadata": {},
     "output_type": "display_data"
    }
   ],
   "source": [
    "patch = np.array([[0, 1, 0, 1, 0, 1, 0],\n",
    "                  [1, 0, 1, 0, 1, 0, 1],\n",
    "                  [0, 1, 0, 1, 0, 1, 0],\n",
    "                  [1, 0, 1, 0, 1, 0, 1],\n",
    "                  [0, 1, 0, 1, 0, 1, 0],\n",
    "                  [1, 0, 1, 0, 1, 0, 1],\n",
    "                  [0, 1, 0, 1, 0, 1, 0]])\n",
    "imgs.append(patch)\n",
    "draw_neg_image(patch, 'patch')"
   ]
  },
  {
   "cell_type": "code",
   "execution_count": 272,
   "metadata": {},
   "outputs": [
    {
     "data": {
      "image/png": "[encoded data removed]",
      "text/plain": [
       "<Figure size 432x288 with 1 Axes>"
      ]
     },
     "metadata": {},
     "output_type": "display_data"
    }
   ],
   "source": [
    "imgs.append(patch @ weights)\n",
    "draw_neg_image(patch @ weights, 'patch @ weights')"
   ]
  },
  {
   "cell_type": "markdown",
   "metadata": {},
   "source": [
    "What if the patch actually contains an edge from bottom left to top right?"
   ]
  },
  {
   "cell_type": "code",
   "execution_count": 273,
   "metadata": {},
   "outputs": [
    {
     "data": {
      "image/png": "[encoded data removed]",
      "text/plain": [
       "<Figure size 432x288 with 1 Axes>"
      ]
     },
     "metadata": {},
     "output_type": "display_data"
    }
   ],
   "source": [
    "patch = np.array([[0, 0, 0, 0, 0, 0, 1],\n",
    "                  [0, 0, 0, 0, 0, 1, 1],\n",
    "                  [0, 0, 0, 0, 1, 1, 1],\n",
    "                  [0, 0, 0, 1, 1, 1, 1],\n",
    "                  [0, 0, 1, 1, 1, 1, 1],\n",
    "                  [0, 1, 1, 1, 1, 1, 1],\n",
    "                  [1, 1, 1, 1, 1, 1, 1]])\n",
    "imgs.append(patch)\n",
    "draw_neg_image(patch, 'patch')"
   ]
  },
  {
   "cell_type": "code",
   "execution_count": 274,
   "metadata": {},
   "outputs": [
    {
     "data": {
      "image/png": "[encoded data removed]",
      "text/plain": [
       "<Figure size 432x288 with 1 Axes>"
      ]
     },
     "metadata": {},
     "output_type": "display_data"
    }
   ],
   "source": [
    "imgs.append(patch @ weights)\n",
    "draw_neg_image(patch @ weights, 'patch @ weights')"
   ]
  },
  {
   "cell_type": "markdown",
   "metadata": {},
   "source": [
    "What about the reverse?"
   ]
  },
  {
   "cell_type": "code",
   "execution_count": 275,
   "metadata": {},
   "outputs": [
    {
     "data": {
      "image/png": "[encoded data removed]",
      "text/plain": [
       "<Figure size 432x288 with 1 Axes>"
      ]
     },
     "metadata": {},
     "output_type": "display_data"
    }
   ],
   "source": [
    "patch = np.array([[1, 1, 1, 1, 1, 1, 0],\n",
    "                  [1, 1, 1, 1, 1, 0, 0],\n",
    "                  [1, 1, 1, 1, 0, 0, 0],\n",
    "                  [1, 1, 1, 0, 0, 0, 0],\n",
    "                  [1, 1, 0, 0, 0, 0, 0],\n",
    "                  [1, 0, 0, 0, 0, 0, 0],\n",
    "                  [0, 0, 0, 0, 0, 0, 0]])\n",
    "imgs.append(patch)\n",
    "draw_neg_image(patch, 'patch')"
   ]
  },
  {
   "cell_type": "code",
   "execution_count": 276,
   "metadata": {},
   "outputs": [
    {
     "data": {
      "image/png": "[encoded data removed]",
      "text/plain": [
       "<Figure size 432x288 with 1 Axes>"
      ]
     },
     "metadata": {},
     "output_type": "display_data"
    }
   ],
   "source": [
    "imgs.append(patch @ weights)\n",
    "draw_neg_image(patch @ weights, 'patch @ weights')"
   ]
  },
  {
   "cell_type": "markdown",
   "metadata": {},
   "source": [
    "OK, one more."
   ]
  },
  {
   "cell_type": "code",
   "execution_count": 277,
   "metadata": {},
   "outputs": [
    {
     "data": {
      "image/png": "[encoded data removed]",
      "text/plain": [
       "<Figure size 432x288 with 1 Axes>"
      ]
     },
     "metadata": {},
     "output_type": "display_data"
    }
   ],
   "source": [
    "patch = np.array([[1, 0, 0, 1, 0, 0, 0.5],\n",
    "                  [0, 1, 0, 1, 0, 0.5, 1],\n",
    "                  [0, 0, 1, 1, 0.5, 1, 1],\n",
    "                  [1, 1, 1, 0.5, 1, 1, 1],\n",
    "                  [0, 0, 0.5, 1, 1, 1, 1],\n",
    "                  [0, 0.5, 1, 1, 1, 1, 1],\n",
    "                  [0.5, 1, 1, 1, 1, 1, 1]])\n",
    "imgs.append(patch)\n",
    "draw_neg_image(patch, 'patch')"
   ]
  },
  {
   "cell_type": "code",
   "execution_count": 278,
   "metadata": {},
   "outputs": [
    {
     "data": {
      "image/png": "[encoded data removed]",
      "text/plain": [
       "<Figure size 432x288 with 1 Axes>"
      ]
     },
     "metadata": {},
     "output_type": "display_data"
    }
   ],
   "source": [
    "imgs.append(patch @ weights)\n",
    "draw_neg_image(patch @ weights, 'patch @ weights')"
   ]
  },
  {
   "cell_type": "code",
   "execution_count": 282,
   "metadata": {},
   "outputs": [
    {
     "data": {
      "image/png": "[encoded data removed]",
      "text/plain": [
       "<Figure size 576x576 with 12 Axes>"
      ]
     },
     "metadata": {},
     "output_type": "display_data"
    }
   ],
   "source": [
    "plt.figure(figsize=(8, 8))\n",
    "ploti = 0\n",
    "for img in imgs:\n",
    "    ploti += 1\n",
    "    plt.subplot(int(len(imgs)/2), 2, ploti)\n",
    "    draw_neg_image(img, '')"
   ]
  },
  {
   "cell_type": "markdown",
   "metadata": {},
   "source": [
    "`patch @ weights` here isn't in and of itself meaningful, but the more positive values in the matrix that's created when you multiply the patch by the filter (i.e., the more black in the image in the right column), the greater positive value that patch will output when multiplied by the filter.\n",
    "\n",
    "If the filter defines a bottom left-to-top right edge, only one of those patches looks like it should produce a very positive value (i.e., `patch @ weights` here is mostly black).  Which one is that?"
   ]
  },
  {
   "cell_type": "code",
   "execution_count": 283,
   "metadata": {},
   "outputs": [
    {
     "data": {
      "image/png": "[encoded data removed]",
      "text/plain": [
       "<Figure size 576x576 with 2 Axes>"
      ]
     },
     "metadata": {},
     "output_type": "display_data"
    }
   ],
   "source": [
    "plt.figure(figsize=(8, 8))\n",
    "ploti = 0\n",
    "for img in imgs[6:8]:\n",
    "    ploti += 1\n",
    "    plt.subplot(1, 2, ploti)\n",
    "    draw_neg_image(img, '')"
   ]
  },
  {
   "cell_type": "markdown",
   "metadata": {},
   "source": [
    "This patch has a well-defined edge.  When multiplied by our \"edge\" filter, it should output a very positive value (sum all the values in `patch @ weights` to get a single value)."
   ]
  },
  {
   "cell_type": "markdown",
   "metadata": {},
   "source": [
    "Let's look at our \"3\" patches again."
   ]
  },
  {
   "cell_type": "code",
   "execution_count": 284,
   "metadata": {},
   "outputs": [
    {
     "data": {
      "image/png": "[encoded data removed]",
      "text/plain": [
       "<Figure size 576x576 with 121 Axes>"
      ]
     },
     "metadata": {},
     "output_type": "display_data"
    }
   ],
   "source": [
    "n_plot_rows = int(np.sqrt(len(patches)))\n",
    "plt.figure(figsize=(8, 8))\n",
    "ploti = 0\n",
    "for patch in patches:\n",
    "    ploti += 1\n",
    "    plt.subplot(n_plot_rows, n_plot_rows, ploti)\n",
    "    draw_neg_image(patch, '')"
   ]
  },
  {
   "cell_type": "markdown",
   "metadata": {},
   "source": [
    "OK, so which of the above patches do you think will result in large positive values and large negative values when we apply our \"edge\" filter.\n",
    "\n",
    "Let's apply this filter to all of the patches.  To do this, we just need to multiply the intensities in a patch by the corresponding weight and sum them up."
   ]
  },
  {
   "cell_type": "code",
   "execution_count": 285,
   "metadata": {},
   "outputs": [
    {
     "data": {
      "text/plain": [
       "array([  0.        ,   0.        ,   0.7109375 ,   2.78515625,\n",
       "         6.1640625 ,   8.55859375,   9.3984375 ,   7.56640625,\n",
       "         4.328125  ,   0.3828125 ,  -1.015625  ,   0.        ,\n",
       "         0.        ,   3.80078125,   9.7265625 ,  13.00390625,\n",
       "         9.80859375,   7.33203125,   6.828125  ,   3.02734375,\n",
       "        -2.53125   ,  -3.8671875 ,   0.        ,   0.        ,\n",
       "         3.9296875 ,   6.953125  ,   1.87890625,  -5.94140625,\n",
       "        -4.44921875,  -0.90625   ,  -2.390625  , -10.3515625 ,\n",
       "        -8.80859375,   0.        ,   0.        ,   1.1171875 ,\n",
       "        -3.37109375, -10.13671875, -11.8671875 ,  -4.65234375,\n",
       "         2.14453125,  -8.50390625, -17.91015625, -11.0859375 ,\n",
       "         0.        ,   0.17578125,   1.328125  ,   2.67578125,\n",
       "         4.921875  ,   5.38671875,  10.796875  ,   2.0703125 ,\n",
       "       -14.62890625, -18.84765625,  -7.41015625,   0.        ,\n",
       "         0.3515625 ,   5.27734375,  10.50390625,   8.62109375,\n",
       "         6.91796875,   4.390625  ,  -7.3515625 , -17.4296875 ,\n",
       "       -13.390625  ,  -3.52734375,   0.        ,   0.3515625 ,\n",
       "         4.67578125,   2.22265625,  -4.19921875,  -9.2109375 ,\n",
       "        -6.3671875 , -12.109375  , -14.15625   ,  -9.44921875,\n",
       "        -0.94140625,   0.97265625,   2.3984375 ,   0.9140625 ,\n",
       "        -6.15234375, -10.32421875,  -8.2421875 ,   1.08203125,\n",
       "        -3.734375  , -12.515625  ,  -7.7578125 ,   0.        ,\n",
       "         4.56640625,   9.51953125,   7.77734375,   2.484375  ,\n",
       "         6.140625  ,   9.8203125 ,   9.52734375,  -8.01171875,\n",
       "       -15.5546875 ,  -6.62109375,   0.        ,   5.3984375 ,\n",
       "         9.484375  ,   5.9453125 ,   3.9609375 ,   4.890625  ,\n",
       "         3.08203125,  -7.7265625 , -16.703125  , -11.640625  ,\n",
       "        -4.07421875,   0.        ,   1.84765625,  -0.34765625,\n",
       "        -3.08984375,  -8.30078125,  -9.75390625, -13.17578125,\n",
       "       -15.8828125 , -11.7421875 ,  -5.84375   ,  -1.52734375,\n",
       "         0.        ])"
      ]
     },
     "execution_count": 285,
     "metadata": {},
     "output_type": "execute_result"
    }
   ],
   "source": [
    "new_image = []\n",
    "for patch in patches:\n",
    "    new_image.append(np.sum(patch * weights))\n",
    "new_image = np.array(new_image)\n",
    "new_image"
   ]
  },
  {
   "cell_type": "markdown",
   "metadata": {},
   "source": [
    "Bleech.  Can't understand that.  Let's make it into an image and draw it."
   ]
  },
  {
   "cell_type": "code",
   "execution_count": 286,
   "metadata": {},
   "outputs": [
    {
     "data": {
      "text/plain": [
       "11"
      ]
     },
     "execution_count": 286,
     "metadata": {},
     "output_type": "execute_result"
    }
   ],
   "source": [
    "new_image_dim = int(np.sqrt(len(new_image)))\n",
    "new_image_dim"
   ]
  },
  {
   "cell_type": "markdown",
   "metadata": {},
   "source": [
    "Recall, there are 121 patches in our 28 x 28 images using 7 x 7 patch size with a stride length of 2, after cropping all non 7 x 7 patches, so we have 11 patches x 11 patches."
   ]
  },
  {
   "cell_type": "code",
   "execution_count": 287,
   "metadata": {},
   "outputs": [
    {
     "data": {
      "image/png": "[encoded data removed]",
      "text/plain": [
       "<Figure size 432x288 with 2 Axes>"
      ]
     },
     "metadata": {
      "needs_background": "light"
     },
     "output_type": "display_data"
    }
   ],
   "source": [
    "new_image = new_image.reshape(new_image_dim, new_image_dim)\n",
    "draw_image(new_image, '')\n",
    "plt.colorbar();"
   ]
  },
  {
   "cell_type": "markdown",
   "metadata": {},
   "source": [
    "We can apply our weights filter to all of the patches with one matrix multiplication!"
   ]
  },
  {
   "cell_type": "code",
   "execution_count": 288,
   "metadata": {},
   "outputs": [
    {
     "data": {
      "text/plain": [
       "(11, 11)"
      ]
     },
     "execution_count": 288,
     "metadata": {},
     "output_type": "execute_result"
    }
   ],
   "source": [
    "new_image.shape"
   ]
  },
  {
   "cell_type": "code",
   "execution_count": 289,
   "metadata": {},
   "outputs": [
    {
     "data": {
      "text/plain": [
       "(121, (7, 7))"
      ]
     },
     "execution_count": 289,
     "metadata": {},
     "output_type": "execute_result"
    }
   ],
   "source": [
    "len(patches), patches[0].shape"
   ]
  },
  {
   "cell_type": "code",
   "execution_count": 290,
   "metadata": {},
   "outputs": [
    {
     "data": {
      "text/plain": [
       "(121, 7, 7)"
      ]
     },
     "execution_count": 290,
     "metadata": {},
     "output_type": "execute_result"
    }
   ],
   "source": [
    "patches_array = np.array(patches)\n",
    "patches_array.shape"
   ]
  },
  {
   "cell_type": "code",
   "execution_count": 291,
   "metadata": {},
   "outputs": [
    {
     "data": {
      "text/plain": [
       "(7, 7)"
      ]
     },
     "execution_count": 291,
     "metadata": {},
     "output_type": "execute_result"
    }
   ],
   "source": [
    "weights.shape"
   ]
  },
  {
   "cell_type": "code",
   "execution_count": 292,
   "metadata": {},
   "outputs": [
    {
     "data": {
      "text/plain": [
       "(121, 49)"
      ]
     },
     "execution_count": 292,
     "metadata": {},
     "output_type": "execute_result"
    }
   ],
   "source": [
    "patches_array.reshape(121, -1).shape"
   ]
  },
  {
   "cell_type": "code",
   "execution_count": 293,
   "metadata": {},
   "outputs": [
    {
     "data": {
      "text/plain": [
       "(49, 1)"
      ]
     },
     "execution_count": 293,
     "metadata": {},
     "output_type": "execute_result"
    }
   ],
   "source": [
    "weights.reshape(-1, 1).shape"
   ]
  },
  {
   "cell_type": "code",
   "execution_count": 294,
   "metadata": {},
   "outputs": [
    {
     "data": {
      "text/plain": [
       "(121, 1)"
      ]
     },
     "execution_count": 294,
     "metadata": {},
     "output_type": "execute_result"
    }
   ],
   "source": [
    "new_image = patches_array.reshape(121, -1) @ weights.reshape(-1, 1)\n",
    "new_image.shape"
   ]
  },
  {
   "cell_type": "code",
   "execution_count": 295,
   "metadata": {},
   "outputs": [
    {
     "data": {
      "image/png": "[encoded data removed]",
      "text/plain": [
       "<Figure size 432x288 with 2 Axes>"
      ]
     },
     "metadata": {
      "needs_background": "light"
     },
     "output_type": "display_data"
    }
   ],
   "source": [
    "new_image = new_image.reshape(new_image_dim, new_image_dim)\n",
    "draw_image(new_image, '')\n",
    "plt.colorbar();"
   ]
  },
  {
   "cell_type": "markdown",
   "metadata": {},
   "source": [
    "Now, the idea is to come up with a number of such weight matrices to use as filters that extract the features of the image that are useful for classifying the digit.  How can we do this?\n",
    "\n",
    "Above we defined a filter that would detect bottom left-top right edges. But how could we *learn* this weight matrix?\n",
    "\n",
    "Each unit in the hidden layer is a convolutional unit with a 7 x 7 weight matrix, plus 1 weight for the constant 1 input.  We can just backpropagate an error from the output layer through the hidden convolutional layer to update each unit's weights, as we have been doing all along!\n",
    "\n",
    "Backpropagation through a convolutional layer is tricky, because each unit is applied multiple times to all of the patches and we must sum up all of the resulting weight changes resulting from applying a unit to each patch.  This sum is then used to make the update to the weights.\n",
    "\n",
    "Before we jump into code for doing this, let's revisit the method for dividing an image up into patches. We used two nested for loops, and we know for loops in Python are slow.  Since convolution is a common procedure for many signal and image processing applications, the `numpy` function `np.lib.as_strided` function is available to do this. Thank the numpy developers! See [Using stride tricks with NumPy](https://ipython-books.github.io/46-using-stride-tricks-with-numpy/) for an example use."
   ]
  },
  {
   "cell_type": "code",
   "execution_count": 296,
   "metadata": {},
   "outputs": [],
   "source": [
    "import numpy.lib.stride_tricks\n",
    "\n",
    "def make_patches(X, patch_size, stride=1):\n",
    "    '''X: n_samples x n_pixels  (flattened square images)'''\n",
    "    X = np.ascontiguousarray(X)  # make sure X values are contiguous in memory\n",
    "    \n",
    "    n_samples = X.shape[0]\n",
    "    image_size = int(np.sqrt(X.shape[1]))\n",
    "    n_patches = (image_size - patch_size ) // stride + 1\n",
    "    \n",
    "    nb = X.itemsize  # number of bytes each value\n",
    "\n",
    "    new_shape = [n_samples, n_patches, n_patches, patch_size, patch_size]\n",
    "    new_strides = [image_size * image_size * nb,\n",
    "                   image_size * stride * nb,\n",
    "                   stride * nb,\n",
    "                   image_size * nb,\n",
    "                   nb]\n",
    "    X = np.lib.stride_tricks.as_strided(X, shape=new_shape, strides=new_strides)\n",
    "    X = X.reshape(n_samples, n_patches * n_patches, patch_size * patch_size)\n",
    "    return X"
   ]
  },
  {
   "cell_type": "code",
   "execution_count": 297,
   "metadata": {},
   "outputs": [
    {
     "data": {
      "text/plain": [
       "(50000, 784)"
      ]
     },
     "execution_count": 297,
     "metadata": {},
     "output_type": "execute_result"
    }
   ],
   "source": [
    "Xtrain.shape"
   ]
  },
  {
   "cell_type": "code",
   "execution_count": 298,
   "metadata": {},
   "outputs": [],
   "source": [
    "patches = make_patches(Xtrain[:2], 7, 2)"
   ]
  },
  {
   "cell_type": "code",
   "execution_count": 299,
   "metadata": {},
   "outputs": [
    {
     "data": {
      "text/plain": [
       "(2, 121, 49)"
      ]
     },
     "execution_count": 299,
     "metadata": {},
     "output_type": "execute_result"
    }
   ],
   "source": [
    "patches.shape"
   ]
  },
  {
   "cell_type": "code",
   "execution_count": 300,
   "metadata": {},
   "outputs": [
    {
     "name": "stdout",
     "output_type": "stream",
     "text": [
      "[5]\n",
      "[0]\n"
     ]
    },
    {
     "data": {
      "image/png": "[encoded data removed]",
      "text/plain": [
       "<Figure size 576x576 with 121 Axes>"
      ]
     },
     "metadata": {},
     "output_type": "display_data"
    },
    {
     "data": {
      "image/png": "[encoded data removed]",
      "text/plain": [
       "<Figure size 576x576 with 121 Axes>"
      ]
     },
     "metadata": {},
     "output_type": "display_data"
    }
   ],
   "source": [
    "n_plot_rows = int(np.sqrt(patches.shape[1]))\n",
    "patch_size = int(np.sqrt(patches.shape[2]))\n",
    "\n",
    "for patchi in range(patches.shape[0]):\n",
    "    print(Ttrain[patchi])\n",
    "    plt.figure(figsize=(8, 8))\n",
    "    ploti = 0\n",
    "    for patch in patches[patchi, :, :]:\n",
    "        ploti += 1\n",
    "        plt.subplot(n_plot_rows, n_plot_rows, ploti)\n",
    "        draw_neg_image(patch.reshape(patch_size, patch_size), '')"
   ]
  },
  {
   "cell_type": "code",
   "execution_count": 301,
   "metadata": {},
   "outputs": [
    {
     "data": {
      "text/plain": [
       "(7, 7)"
      ]
     },
     "execution_count": 301,
     "metadata": {},
     "output_type": "execute_result"
    }
   ],
   "source": [
    "weights.shape"
   ]
  },
  {
   "cell_type": "code",
   "execution_count": 302,
   "metadata": {},
   "outputs": [
    {
     "data": {
      "text/plain": [
       "(49, 1)"
      ]
     },
     "execution_count": 302,
     "metadata": {},
     "output_type": "execute_result"
    }
   ],
   "source": [
    "weights = weights.reshape((49, 1))\n",
    "weights.shape"
   ]
  },
  {
   "cell_type": "code",
   "execution_count": 303,
   "metadata": {},
   "outputs": [
    {
     "data": {
      "text/plain": [
       "(2, 121, 49)"
      ]
     },
     "execution_count": 303,
     "metadata": {},
     "output_type": "execute_result"
    }
   ],
   "source": [
    "patches.shape"
   ]
  },
  {
   "cell_type": "markdown",
   "metadata": {},
   "source": [
    "Let's make two filters!  One will detect bottom left-to-top right edges.  The other will detect top left-to-bottom right edges."
   ]
  },
  {
   "cell_type": "code",
   "execution_count": 304,
   "metadata": {},
   "outputs": [],
   "source": [
    "weights = np.hstack((weights, weights)) # copy the weights into two identical columns"
   ]
  },
  {
   "cell_type": "code",
   "execution_count": 305,
   "metadata": {},
   "outputs": [
    {
     "data": {
      "text/plain": [
       "array([[-1, -1, -1, -1, -1, -1, -1],\n",
       "       [-1, -1, -1, -1, -1, -1,  1],\n",
       "       [-1, -1, -1, -1, -1,  1,  1],\n",
       "       [-1, -1, -1, -1,  1,  1,  1],\n",
       "       [-1, -1, -1,  1,  1,  1,  1],\n",
       "       [-1, -1,  1,  1,  1,  1,  1],\n",
       "       [-1,  1,  1,  1,  1,  1,  1]])"
      ]
     },
     "execution_count": 305,
     "metadata": {},
     "output_type": "execute_result"
    }
   ],
   "source": [
    "weights[:, 0].reshape(7,7)"
   ]
  },
  {
   "cell_type": "code",
   "execution_count": 306,
   "metadata": {},
   "outputs": [],
   "source": [
    "# redefine the second column to represent the new filter\n",
    "weights[:, 1] = np.array([[-1, 1, 1, 1, 1, 1, 1],\n",
    "                          [-1, -1, 1, 1, 1, 1, 1],\n",
    "                          [-1, -1, -1, 1, 1, 1, 1],\n",
    "                          [-1, -1, -1, -1, 1, 1, 1],\n",
    "                          [-1, -1, -1, -1, -1, 1, 1],\n",
    "                          [-1, -1, -1, -1, -1, -1, 1],\n",
    "                          [-1, -1, -1, -1, -1, -1, -1]]).reshape(49)"
   ]
  },
  {
   "cell_type": "code",
   "execution_count": 307,
   "metadata": {},
   "outputs": [
    {
     "data": {
      "text/plain": [
       "array([[-1,  1,  1,  1,  1,  1,  1],\n",
       "       [-1, -1,  1,  1,  1,  1,  1],\n",
       "       [-1, -1, -1,  1,  1,  1,  1],\n",
       "       [-1, -1, -1, -1,  1,  1,  1],\n",
       "       [-1, -1, -1, -1, -1,  1,  1],\n",
       "       [-1, -1, -1, -1, -1, -1,  1],\n",
       "       [-1, -1, -1, -1, -1, -1, -1]])"
      ]
     },
     "execution_count": 307,
     "metadata": {},
     "output_type": "execute_result"
    }
   ],
   "source": [
    "weights[:, 1].reshape(7,7)"
   ]
  },
  {
   "cell_type": "code",
   "execution_count": 308,
   "metadata": {},
   "outputs": [
    {
     "data": {
      "text/plain": [
       "(2, 121, 2)"
      ]
     },
     "execution_count": 308,
     "metadata": {},
     "output_type": "execute_result"
    }
   ],
   "source": [
    "output = patches @ weights\n",
    "output.shape"
   ]
  },
  {
   "cell_type": "code",
   "execution_count": 309,
   "metadata": {},
   "outputs": [
    {
     "data": {
      "image/png": "[encoded data removed]",
      "text/plain": [
       "<Figure size 432x288 with 3 Axes>"
      ]
     },
     "metadata": {},
     "output_type": "display_data"
    },
    {
     "data": {
      "image/png": "[encoded data removed]",
      "text/plain": [
       "<Figure size 432x288 with 3 Axes>"
      ]
     },
     "metadata": {},
     "output_type": "display_data"
    }
   ],
   "source": [
    "for i in range(2):\n",
    "    plt.figure()\n",
    "    for j in range(3):\n",
    "        plt.subplot(1, 3, j+1)\n",
    "        if (j < 1):\n",
    "            draw_neg_image(Xtrain[i].reshape(28, 28)[3:25,3:25], '') # draw the original image (crop to fit)\n",
    "        else:\n",
    "            output_image = output[i, :, j-1].reshape(11, 11)\n",
    "            draw_image(output_image, '') # draw the patches @ filters"
   ]
  },
  {
   "cell_type": "code",
   "execution_count": null,
   "metadata": {},
   "outputs": [],
   "source": []
  }
 ],
 "metadata": {
  "kernelspec": {
   "display_name": "Python 3",
   "language": "python",
   "name": "python3"
  },
  "language_info": {
   "codemirror_mode": {
    "name": "ipython",
    "version": 3
   },
   "file_extension": ".py",
   "mimetype": "text/x-python",
   "name": "python",
   "nbconvert_exporter": "python",
   "pygments_lexer": "ipython3",
   "version": "3.7.7"
  },
  "toc": {
   "base_numbering": 1,
   "nav_menu": {},
   "number_sections": true,
   "sideBar": true,
   "skip_h1_title": false,
   "title_cell": "Table of Contents",
   "title_sidebar": "Contents",
   "toc_cell": false,
   "toc_position": {},
   "toc_section_display": true,
   "toc_window_display": false
  }
 },
 "nbformat": 4,
 "nbformat_minor": 4
}
