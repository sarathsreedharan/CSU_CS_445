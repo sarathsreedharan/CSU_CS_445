{
 "cells": [
  {
   "cell_type": "markdown",
   "metadata": {},
   "source": [
    "# Introduction to Neural Networks"
   ]
  },
  {
   "cell_type": "code",
   "execution_count": 3,
   "metadata": {},
   "outputs": [],
   "source": [
    "import numpy as np"
   ]
  },
  {
   "cell_type": "markdown",
   "metadata": {},
   "source": [
    "If you remember from notebook 03 (intro to SGD): linear models can't solve the XOR problem."
   ]
  },
  {
   "cell_type": "markdown",
   "metadata": {},
   "source": [
    "**What is XOR?**"
   ]
  },
  {
   "cell_type": "code",
   "execution_count": 4,
   "metadata": {},
   "outputs": [
    {
     "name": "stdout",
     "output_type": "stream",
     "text": [
      "x\ty\tAND\tOR\tXOR\n",
      "-----------------------------------\n",
      "0\t0\t0\t0\t0\n",
      "0\t1\t0\t1\t1\n",
      "1\t0\t0\t1\t1\n",
      "1\t1\t1\t1\t0\n"
     ]
    }
   ],
   "source": [
    "print(\"x\\ty\\tAND\\tOR\\tXOR\\n-----------------------------------\")\n",
    "for x in [0,1]:\n",
    "    for y in [0,1]:\n",
    "        print(\"%s\\t%s\\t%s\\t%s\\t%s\" % (x, y, x & y, x | y, x ^ y))"
   ]
  },
  {
   "cell_type": "markdown",
   "metadata": {},
   "source": [
    "Below: black O where $X \\veebar Y = 0$, blue X where $X \\veebar Y = 1$"
   ]
  },
  {
   "cell_type": "markdown",
   "metadata": {},
   "source": [
    "\n",
    "<img src=\"http://www.cs.colostate.edu/~cs445/notebooks/xor.png\">\n"
   ]
  },
  {
   "cell_type": "markdown",
   "metadata": {},
   "source": [
    " Here is the solution to the XOR problem:\n",
    " \n",
    " ${\\bf W} = \\begin{bmatrix}\n",
    "    1 & 1 \\\\\n",
    "    1 & 1 \\\\\n",
    "  \\end{bmatrix}$\n",
    "  \n",
    "$c = \\begin{bmatrix}\n",
    "    0 \\\\\n",
    "    -1 \\\\\n",
    "  \\end{bmatrix}$\n",
    "  \n",
    "$w = \\begin{bmatrix}\n",
    "    1 \\\\\n",
    "    -2 \\\\\n",
    "  \\end{bmatrix}$\n",
    "  \n",
    "$b = 0$\n"
   ]
  },
  {
   "cell_type": "code",
   "execution_count": 5,
   "metadata": {},
   "outputs": [],
   "source": [
    "W = np.array([[1,1],[1,1]])\n",
    "c = np.array([0,-1])\n",
    "w = np.array([1,-2])\n",
    "b = 0"
   ]
  },
  {
   "cell_type": "markdown",
   "metadata": {},
   "source": [
    "Let $X$ be the design matrix containing all four points in the binary input space:\n",
    "\n",
    "$X = \\begin{bmatrix}\n",
    "    0 & 0 \\\\\n",
    "    0 & 1 \\\\\n",
    "    1 & 0 \\\\\n",
    "    1 & 1 \\\\\n",
    "\\end{bmatrix}$"
   ]
  },
  {
   "cell_type": "code",
   "execution_count": 6,
   "metadata": {},
   "outputs": [],
   "source": [
    "X = np.array([[0,0],[0,1],[1,0],[1,1]])"
   ]
  },
  {
   "cell_type": "markdown",
   "metadata": {},
   "source": [
    "First, multiply the input matrix by the first layer's weight matrix:\n",
    "\n",
    "$XW = \\begin{bmatrix}\n",
    "    0 & 0 \\\\\n",
    "    1 & 1 \\\\\n",
    "    1 & 1 \\\\\n",
    "    2 & 2 \\\\\n",
    "\\end{bmatrix}$"
   ]
  },
  {
   "cell_type": "code",
   "execution_count": 7,
   "metadata": {},
   "outputs": [
    {
     "data": {
      "text/plain": [
       "array([[0, 0],\n",
       "       [1, 1],\n",
       "       [1, 1],\n",
       "       [2, 2]])"
      ]
     },
     "execution_count": 7,
     "metadata": {},
     "output_type": "execute_result"
    }
   ],
   "source": [
    "X @ W"
   ]
  },
  {
   "cell_type": "markdown",
   "metadata": {},
   "source": [
    "Next, add the bias vector $c$:\n",
    "\n",
    "$z = \\begin{bmatrix}\n",
    "    0 & -1 \\\\\n",
    "    1 & 0 \\\\\n",
    "    1 & 0 \\\\\n",
    "    2 & 1 \\\\\n",
    "\\end{bmatrix}$"
   ]
  },
  {
   "cell_type": "code",
   "execution_count": 8,
   "metadata": {},
   "outputs": [
    {
     "data": {
      "text/plain": [
       "array([[ 0, -1],\n",
       "       [ 1,  0],\n",
       "       [ 1,  0],\n",
       "       [ 2,  1]])"
      ]
     },
     "execution_count": 8,
     "metadata": {},
     "output_type": "execute_result"
    }
   ],
   "source": [
    "(X @ W) + c"
   ]
  },
  {
   "cell_type": "markdown",
   "metadata": {},
   "source": [
    "Now, the nonlinear step: The output needs to begin at 0, then rise to 1, then drop back down to 0. Apply non-linear transformation: if $z$ < 0, 0; else $z$ (a.k.a. max{0,$z$})"
   ]
  },
  {
   "cell_type": "code",
   "execution_count": 9,
   "metadata": {},
   "outputs": [],
   "source": [
    "def f(z):\n",
    "    return np.where(z < 0, 0, z)"
   ]
  },
  {
   "cell_type": "markdown",
   "metadata": {},
   "source": [
    "$f(z) = \\begin{bmatrix}\n",
    "    0 & 0 \\\\\n",
    "    1 & 0 \\\\\n",
    "    1 & 0 \\\\\n",
    "    2 & 1 \\\\\n",
    "\\end{bmatrix}$"
   ]
  },
  {
   "cell_type": "code",
   "execution_count": 23,
   "metadata": {},
   "outputs": [
    {
     "data": {
      "text/plain": [
       "array([[0, 0],\n",
       "       [1, 0],\n",
       "       [1, 0],\n",
       "       [2, 1]])"
      ]
     },
     "execution_count": 23,
     "metadata": {},
     "output_type": "execute_result"
    }
   ],
   "source": [
    "z = (X @ W) + c\n",
    "f(z)"
   ]
  },
  {
   "cell_type": "markdown",
   "metadata": {},
   "source": [
    "\n",
    "<img src=\"http://www.cs.colostate.edu/~cs445/notebooks/xor-learnedspace.png\">"
   ]
  },
  {
   "cell_type": "markdown",
   "metadata": {},
   "source": [
    "The solution is now mapped to a learned space. Finally, multiply the weight vector ${\\bf w}$:\n",
    "\n",
    "$\\begin{bmatrix}\n",
    "    0 \\\\\n",
    "    1 \\\\\n",
    "    1 \\\\\n",
    "    0 \\\\\n",
    "\\end{bmatrix}$"
   ]
  },
  {
   "cell_type": "code",
   "execution_count": 28,
   "metadata": {},
   "outputs": [
    {
     "data": {
      "text/plain": [
       "array([0, 1, 1, 0])"
      ]
     },
     "execution_count": 28,
     "metadata": {},
     "output_type": "execute_result"
    }
   ],
   "source": [
    "f(z) @ w"
   ]
  },
  {
   "cell_type": "markdown",
   "metadata": {},
   "source": [
    "Now, all in one function:"
   ]
  },
  {
   "cell_type": "code",
   "execution_count": 29,
   "metadata": {},
   "outputs": [],
   "source": [
    "def xor_nn(x):\n",
    "    return (f((x @ W) + c) @ w)"
   ]
  },
  {
   "cell_type": "code",
   "execution_count": 30,
   "metadata": {},
   "outputs": [
    {
     "data": {
      "text/plain": [
       "(array([[0, 0],\n",
       "        [0, 1],\n",
       "        [1, 0],\n",
       "        [1, 1]]),\n",
       " array([0, 1, 1, 0]))"
      ]
     },
     "execution_count": 30,
     "metadata": {},
     "output_type": "execute_result"
    }
   ],
   "source": [
    "X, xor_nn(X)"
   ]
  },
  {
   "cell_type": "markdown",
   "metadata": {},
   "source": [
    "Once more, more legibly."
   ]
  },
  {
   "cell_type": "code",
   "execution_count": 31,
   "metadata": {},
   "outputs": [],
   "source": [
    "def xor_nn(x):\n",
    "    hidden_weights = (x @ W) + c\n",
    "    activ = f(hidden_weights)\n",
    "    output = activ @ w\n",
    "    return output"
   ]
  },
  {
   "cell_type": "code",
   "execution_count": 32,
   "metadata": {},
   "outputs": [
    {
     "data": {
      "text/plain": [
       "(array([[0, 0],\n",
       "        [0, 1],\n",
       "        [1, 0],\n",
       "        [1, 1]]),\n",
       " array([0, 1, 1, 0]))"
      ]
     },
     "execution_count": 32,
     "metadata": {},
     "output_type": "execute_result"
    }
   ],
   "source": [
    "X, xor_nn(X)"
   ]
  },
  {
   "cell_type": "markdown",
   "metadata": {},
   "source": [
    "This example involved no training.  We were supplied the right weights and bias.  Here's an example of solving XOR by training over lots of data: https://towardsdatascience.com/how-neural-networks-solve-the-xor-problem-59763136bdd7"
   ]
  },
  {
   "cell_type": "markdown",
   "metadata": {},
   "source": [
    "## All neural networks have this same basic form\n",
    "\n",
    "$y = f({\\bf W}X + b)$\n",
    "\n",
    "Where $X$ is your input vectors, ${\\bf W}$ is your weights, $b$ is the bias vector, and $f$ is some non-linear function."
   ]
  },
  {
   "cell_type": "markdown",
   "metadata": {},
   "source": [
    "## Activation Functions"
   ]
  },
  {
   "cell_type": "markdown",
   "metadata": {},
   "source": [
    "Last time we saw how transforming the inputs using fixed nonlinear functions does result in models that are nonlinear in the inputs (e.g., $x^{13}$).  However, there is no general way to know which nonlinear functions to use.\n",
    "\n",
    "A more general approach is to pick the form of a nonlinear function that is controlled by parameters, or weights,  whose values control the actual shape of the function. There are many possibilities for constructing such functions. Let's add some desireable properties:\n",
    "\n",
    "   1. Computationally simple.\n",
    "   2. For initial, small, weight values the function is close to linear.  As the weight magnitudes grow, the function becomes increasingly nonlinear.\n",
    "   3. The derivative of the function is computationally simple.\n",
    "   4. The magnitude of the derivative decreases as the weight magnitudes grows, perhaps asymptotically.\n",
    "   5. The maximum value of the magnitude of the derivative is limited."
   ]
  },
  {
   "cell_type": "code",
   "execution_count": 33,
   "metadata": {},
   "outputs": [],
   "source": [
    "import numpy as np\n",
    "import matplotlib.pyplot as plt"
   ]
  },
  {
   "cell_type": "markdown",
   "metadata": {},
   "source": [
    "Let's start with a linear weighted sum, $s = {\\bf w}^T {\\bf x}$.  So, for a particular input sample ${\\bf x}$, $s$ is small if the magnitudes of the weights of ${\\bf w}$ are near zero.  As the weight magnitudes increase, the magnitude of $s$ increases.  "
   ]
  },
  {
   "cell_type": "code",
   "execution_count": 53,
   "metadata": {},
   "outputs": [
    {
     "data": {
      "text/plain": [
       "array([[0.1506]])"
      ]
     },
     "execution_count": 53,
     "metadata": {},
     "output_type": "execute_result"
    }
   ],
   "source": [
    "w = np.array([[0.1],[0.02],[0.003],[0.0004]]) # change these values and see what happens to s\n",
    "x = np.array([[1],[2],[3],[4]])\n",
    "s = w.T @ x\n",
    "s"
   ]
  },
  {
   "cell_type": "markdown",
   "metadata": {},
   "source": [
    "So let's try to construct a function of $s$ in the shape of the *derivative* that we want.\n",
    "\n",
    "Using $-s$ as an exponent can make functions asymptotically decrease to zero, which we want (see #4 above).  Let's use base $e$, in case we deal with natural logarithms in the future."
   ]
  },
  {
   "cell_type": "code",
   "execution_count": 95,
   "metadata": {},
   "outputs": [
    {
     "data": {
      "text/plain": [
       "[<matplotlib.lines.Line2D at 0x1a0c5e2a448>]"
      ]
     },
     "execution_count": 95,
     "metadata": {},
     "output_type": "execute_result"
    },
    {
     "data": {
      "image/png": "[encoded data removed]",
      "text/plain": [
       "<Figure size 432x288 with 1 Axes>"
      ]
     },
     "metadata": {
      "needs_background": "light"
     },
     "output_type": "display_data"
    }
   ],
   "source": [
    "s = np.linspace(-10, 10, 50)\n",
    "plt.plot(s, np.exp(-s))\n",
    "plt.plot(s, np.exp(-s), 'ro')"
   ]
  },
  {
   "cell_type": "markdown",
   "metadata": {},
   "source": [
    "Remember, we are constructing a derivative, and we want to limit the maximum value of the derivative (#5)."
   ]
  },
  {
   "cell_type": "code",
   "execution_count": 96,
   "metadata": {},
   "outputs": [
    {
     "data": {
      "image/png": "[encoded data removed]",
      "text/plain": [
       "<Figure size 432x288 with 1 Axes>"
      ]
     },
     "metadata": {
      "needs_background": "light"
     },
     "output_type": "display_data"
    }
   ],
   "source": [
    "plt.plot(s, 1/(1+np.exp(-s)))\n",
    "plt.plot(s, 1/(1+np.exp(-s)), 'ro');"
   ]
  },
  {
   "cell_type": "markdown",
   "metadata": {},
   "source": [
    "Looking good.  Does what we want as $s$ grows more negative, but we also want to bring this function down to zero as $s$ becomes more positive (#4)."
   ]
  },
  {
   "cell_type": "code",
   "execution_count": 97,
   "metadata": {},
   "outputs": [
    {
     "data": {
      "image/png": "[encoded data removed]",
      "text/plain": [
       "<Figure size 432x288 with 1 Axes>"
      ]
     },
     "metadata": {
      "needs_background": "light"
     },
     "output_type": "display_data"
    }
   ],
   "source": [
    "plt.plot(s, 1 - 1/(1+np.exp(-s)));\n",
    "plt.plot(s, 1 - 1/(1+np.exp(-s)), 'ro');"
   ]
  },
  {
   "cell_type": "markdown",
   "metadata": {},
   "source": [
    "Okay.  Now how can we combine these.  How about just multiply them?"
   ]
  },
  {
   "cell_type": "code",
   "execution_count": 98,
   "metadata": {},
   "outputs": [
    {
     "data": {
      "image/png": "[encoded data removed]",
      "text/plain": [
       "<Figure size 432x288 with 1 Axes>"
      ]
     },
     "metadata": {
      "needs_background": "light"
     },
     "output_type": "display_data"
    }
   ],
   "source": [
    "y = 1  / (1 + np.exp(-s))\n",
    "plt.plot(s, y * (1 - y));\n",
    "plt.plot(s, y * (1 - y), 'ro');"
   ]
  },
  {
   "cell_type": "markdown",
   "metadata": {},
   "source": [
    "Hey!  Looks great.  It asymptotes to zero as the magnitude of $s$ grows and the maximum value is limited at 0.25.\n",
    "\n",
    "How simple is it?  Well, there are common terms."
   ]
  },
  {
   "cell_type": "code",
   "execution_count": 101,
   "metadata": {},
   "outputs": [
    {
     "data": {
      "image/png": "[encoded data removed]",
      "text/plain": [
       "<Figure size 432x288 with 1 Axes>"
      ]
     },
     "metadata": {
      "needs_background": "light"
     },
     "output_type": "display_data"
    }
   ],
   "source": [
    "s = np.linspace(-10, 10, 200) # create more points for a smoother line\n",
    "y = 1  / (1 + np.exp(-s)) # need to recompute because y is computed in terms of s and we resampled s\n",
    "plt.plot(s, y * (1 - y));"
   ]
  },
  {
   "cell_type": "code",
   "execution_count": 102,
   "metadata": {},
   "outputs": [],
   "source": [
    "import sympy\n",
    "sympy.init_printing?\n",
    "sympy.init_printing(use_unicode=True)"
   ]
  },
  {
   "cell_type": "code",
   "execution_count": 105,
   "metadata": {},
   "outputs": [
    {
     "data": {
      "image/png": "[encoded data removed]",
      "text/latex": [
       "$\\displaystyle s$"
      ],
      "text/plain": [
       "s"
      ]
     },
     "execution_count": 105,
     "metadata": {},
     "output_type": "execute_result"
    }
   ],
   "source": [
    "sS = sympy.Symbol('s')\n",
    "sS"
   ]
  },
  {
   "cell_type": "code",
   "execution_count": 110,
   "metadata": {},
   "outputs": [],
   "source": [
    "sympy.diff?"
   ]
  },
  {
   "cell_type": "code",
   "execution_count": 121,
   "metadata": {},
   "outputs": [
    {
     "data": {
      "image/png": "[encoded data removed]",
      "text/latex": [
       "$\\displaystyle 4 s^{3}$"
      ],
      "text/plain": [
       "   3\n",
       "4⋅s "
      ]
     },
     "execution_count": 121,
     "metadata": {},
     "output_type": "execute_result"
    }
   ],
   "source": [
    "sympy.diff(sS**4, sS)"
   ]
  },
  {
   "cell_type": "code",
   "execution_count": 122,
   "metadata": {},
   "outputs": [],
   "source": [
    "sympy.integrate?"
   ]
  },
  {
   "cell_type": "code",
   "execution_count": 123,
   "metadata": {},
   "outputs": [
    {
     "data": {
      "image/png": "[encoded data removed]",
      "text/latex": [
       "$\\displaystyle \\frac{1}{1 + e^{- s}}$"
      ],
      "text/plain": [
       "   1   \n",
       "───────\n",
       "     -s\n",
       "1 + ℯ  "
      ]
     },
     "execution_count": 123,
     "metadata": {},
     "output_type": "execute_result"
    }
   ],
   "source": [
    "y = 1  / (1 + sympy.exp(-sS))\n",
    "sympy.integrate(y * (1 - y), sS)"
   ]
  },
  {
   "cell_type": "markdown",
   "metadata": {},
   "source": [
    "Hey!  So, if $f(s)=\\frac{1}{1+e^{-s}}$, the derivative of $f(s)$ is $f(s) (1-f(s))$. \n",
    "\n",
    "Ta-da!  We just arrived at the common sigmoid function used in neural networks. Remembering what $s={\\bf x}^T {\\bf w}$ is, we get\n",
    "\n",
    "$$\n",
    "f({\\bf x};{\\bf w}) = \\frac{1}{1 + e^{-{\\bf x}^T {\\bf w}}}\n",
    "$$"
   ]
  },
  {
   "cell_type": "code",
   "execution_count": 124,
   "metadata": {},
   "outputs": [
    {
     "data": {
      "image/png": "[encoded data removed]",
      "text/plain": [
       "<Figure size 432x288 with 1 Axes>"
      ]
     },
     "metadata": {
      "needs_background": "light"
     },
     "output_type": "display_data"
    }
   ],
   "source": [
    "# define f(s)\n",
    "def f(s):\n",
    "    return 1 / (1 + np.exp(-s))\n",
    "\n",
    "# define the f'(s) (d/ds f)\n",
    "def df(f_value):\n",
    "    return f_value * (1 - f_value)\n",
    "\n",
    "# plot f(s) vs s (blue)\n",
    "# plot d/ds f vs s (orange)\n",
    "plt.plot(s, f(s))\n",
    "plt.plot(s, df(f(s)))\n",
    "plt.legend(('f(s)', 'df(s)/ds'))\n",
    "plt.grid(True);"
   ]
  },
  {
   "cell_type": "markdown",
   "metadata": {},
   "source": [
    "Let's try using stochastic gradient descent (SGD) to fit this \"sigmoid\" function to some data.  Find weight values that minimize the sum of squared errors in the output of this function."
   ]
  },
  {
   "cell_type": "code",
   "execution_count": 165,
   "metadata": {},
   "outputs": [
    {
     "data": {
      "image/png": "[encoded data removed]",
      "text/plain": [
       "<Figure size 432x288 with 1 Axes>"
      ]
     },
     "metadata": {
      "needs_background": "light"
     },
     "output_type": "display_data"
    }
   ],
   "source": [
    "X = np.linspace(0, 10, 20).reshape((-1,1)) # sneaky python trick\n",
    "T = X * 0.1 + np.random.uniform(-0.4, 0.4, size=(20, 1)) # include noise sampled from a uniform distribution\n",
    "plt.plot(X, T, 'o');"
   ]
  },
  {
   "cell_type": "markdown",
   "metadata": {},
   "source": [
    "What does this data represent?  What are the values in X?  What are the values in T?"
   ]
  },
  {
   "cell_type": "code",
   "execution_count": 166,
   "metadata": {
    "scrolled": true
   },
   "outputs": [
    {
     "data": {
      "text/plain": [
       "array([[-2.38961544],\n",
       "       [ 0.44671857]])"
      ]
     },
     "execution_count": 166,
     "metadata": {},
     "output_type": "execute_result"
    },
    {
     "data": {
      "image/png": "[encoded data removed]",
      "text/plain": [
       "<Figure size 432x288 with 1 Axes>"
      ]
     },
     "metadata": {
      "needs_background": "light"
     },
     "output_type": "display_data"
    }
   ],
   "source": [
    "def train(X, T, learning_rate, epochs):\n",
    "    w = np.zeros((2, 1)) # init weights\n",
    "    rho = learning_rate\n",
    "    X1 = np.insert(X, 0, 1, 1) # insert a constant column of 1s into our input\n",
    "    for iter in range(epochs): # train for t epochs\n",
    "        for n in range(X.shape[0]): # for each input\n",
    "            Xn = X1[n:n + 1, :] # get the nth x (preserving the dimensional stucture by slicing across each ro)\n",
    "            Tn = T[n:n + 1, :] # get the nth target\n",
    "            yn = f(Xn @ w) # predict an output value by multiplying the input x by the weights w and applying a nonlinear function y\n",
    "            # now update our weights\n",
    "            # take the difference between the predicted value and the actual value (Tn - yn)\n",
    "            # multiply this by the transpose of the input (Xn.T * {})\n",
    "            # scale this by the learning rate and the derivative of f at yn (rho * {} * df(yn))\n",
    "            w += rho * Xn.T * (Tn - yn) * df(yn)\n",
    "    return w\n",
    "            \n",
    "weights = train(X,T,0.1,100)\n",
    "plt.plot(X, T, 'o')\n",
    "plt.plot(X, f(X1 @ weights))\n",
    "weights"
   ]
  },
  {
   "cell_type": "markdown",
   "metadata": {},
   "source": [
    "Let's create some other data."
   ]
  },
  {
   "cell_type": "code",
   "execution_count": 167,
   "metadata": {},
   "outputs": [
    {
     "data": {
      "image/png": "[encoded data removed]",
      "text/plain": [
       "<Figure size 432x288 with 1 Axes>"
      ]
     },
     "metadata": {
      "needs_background": "light"
     },
     "output_type": "display_data"
    }
   ],
   "source": [
    "X = np.linspace(0, 10, 20).reshape((-1, 1))\n",
    "T = 1 + -X * 0.1 + np.random.uniform(-0.2, 0.2, size=(20, 1))\n",
    "plt.plot(X, T, 'o');"
   ]
  },
  {
   "cell_type": "code",
   "execution_count": 168,
   "metadata": {
    "scrolled": true
   },
   "outputs": [
    {
     "data": {
      "text/plain": [
       "array([[ 2.10927095],\n",
       "       [-0.42925005]])"
      ]
     },
     "execution_count": 168,
     "metadata": {},
     "output_type": "execute_result"
    },
    {
     "data": {
      "image/png": "[encoded data removed]",
      "text/plain": [
       "<Figure size 432x288 with 1 Axes>"
      ]
     },
     "metadata": {
      "needs_background": "light"
     },
     "output_type": "display_data"
    }
   ],
   "source": [
    "weights = train(X,T,0.1,100)\n",
    "plt.plot(X, T, 'o')\n",
    "plt.plot(X, f(X1 @ weights))\n",
    "weights"
   ]
  },
  {
   "cell_type": "markdown",
   "metadata": {},
   "source": [
    "How would you use this function to fit this data?"
   ]
  },
  {
   "cell_type": "code",
   "execution_count": 172,
   "metadata": {},
   "outputs": [
    {
     "data": {
      "image/png": "[encoded data removed]",
      "text/plain": [
       "<Figure size 432x288 with 1 Axes>"
      ]
     },
     "metadata": {
      "needs_background": "light"
     },
     "output_type": "display_data"
    }
   ],
   "source": [
    "X = np.linspace(-10, 10, 20).reshape((-1, 1))\n",
    "T = X**2 * 0.01 + np.random.uniform(-0.2, 0.2, size=(20, 1))\n",
    "plt.plot(X, T, 'o');"
   ]
  },
  {
   "cell_type": "code",
   "execution_count": 173,
   "metadata": {},
   "outputs": [
    {
     "data": {
      "text/plain": [
       "array([[-0.66344256],\n",
       "       [ 0.21915987]])"
      ]
     },
     "execution_count": 173,
     "metadata": {},
     "output_type": "execute_result"
    },
    {
     "data": {
      "image/png": "[encoded data removed]",
      "text/plain": [
       "<Figure size 432x288 with 1 Axes>"
      ]
     },
     "metadata": {
      "needs_background": "light"
     },
     "output_type": "display_data"
    }
   ],
   "source": [
    "weights = train(X,T,0.1,100)\n",
    "plt.plot(X, T, 'o')\n",
    "plt.plot(X, f(X1 @ weights));\n",
    "weights"
   ]
  },
  {
   "cell_type": "markdown",
   "metadata": {},
   "source": [
    "That didn't work very well."
   ]
  },
  {
   "cell_type": "markdown",
   "metadata": {},
   "source": [
    "There seems to be an inflection point around $x = 0$ ($-2.5 < x < 2.5$).  What kind of weights make a sigmoid function goes down from $(-inf, 0)$ and then goes up from $(0,inf)$?"
   ]
  },
  {
   "cell_type": "markdown",
   "metadata": {},
   "source": [
    "They certainly aren't be easy to find."
   ]
  },
  {
   "cell_type": "markdown",
   "metadata": {},
   "source": [
    "We could use two of these functions and add their outputs together.\n",
    "\n",
    "What if there were one set of weights ${\\bf w}$ that caused $f({\\bf x}^T {\\bf w})$ to decrease until about 0 and then remain roughly flat, and another set of weights ${\\bf v}$ such that $f({\\bf x}^T {\\bf v})$ is roughly flat until about 0 and then starts to increase?"
   ]
  },
  {
   "cell_type": "markdown",
   "metadata": {},
   "source": [
    "Now we are talking multilayered neural networks!  One layer has two units that output $f({\\bf x}^T {\\bf w})$ each with their own ${\\bf w}$.  The second layer has one linear unit with its own ${\\bf w}$."
   ]
  },
  {
   "cell_type": "markdown",
   "metadata": {},
   "source": [
    "## Linear Models as Neural Networks"
   ]
  },
  {
   "cell_type": "markdown",
   "metadata": {},
   "source": [
    "Given $X$ and $T$, find ${\\bf w}_k$ that minimizes squared error in\n",
    "the $k^{th}$ output, then use it to make predictions.\n",
    "Collect all ${\\bf w}_k$ as columns in ${\\bf W}$.\n",
    "$\\tilde{\\bf X}$ denotes ${\\bf X}$ with  constant 1 column.  The target value\n",
    "for the $k^{th}$ output for the $n^{th}$ sample is $t_{n,k}$.\n",
    "\n",
    "$$\n",
    "\\begin{align*}\n",
    "  E({\\bf W}) &= \\sum_{n=1}^N \\sum_{k=1}^K (t_{n,k} - \\tilde{\\bf x}_n^T {\\bf w}_k)^2\\\\\n",
    "   {\\bf W} &= (\\tilde{\\bf X}^T \\tilde{\\bf X})^{-1} \\tilde{\\bf X}^T {\\bf T}\\\\\n",
    "   \\end{align*}$$\n",
    "   \n",
    "   (Compare this to solving for the value of ${\\bf w}$ in notebook 03.)\n",
    "   \n",
    " $$\n",
    " \\begin{align*}\n",
    "~\\\\\n",
    "  {\\bf W} &= \\begin{bmatrix}\n",
    "    w_{0,1} & w_{0,2} & \\cdots & w_{0,K}\\\\\n",
    "    w_{1,1} & w_{1,2} & \\cdots & w_{1,K}\\\\\n",
    "    \\vdots\\\\\n",
    "    w_{D,1} & w_{D,2} & \\cdots & w_{D,K}\n",
    "  \\end{bmatrix}\\\\\n",
    " ~\\\\\n",
    "  {\\bf Y} &= \\tilde{\\bf X} {\\bf W}\\\\\n",
    "  ~\\\\\n",
    "\\tilde{\\bf X} & \\text{ is } N \\times (D+1)\\\\\n",
    "{\\bf W} & \\text{ is } (D+1) \\times K\\\\\n",
    "{\\bf Y} & \\text{ is } N \\times K\n",
    "\\end{align*}\n",
    "$$\n",
    "\n",
    "The calculation of $y_{n,k} = \\tilde{{\\bf x}_n} {\\bf w}_k$ can be drawn as"
   ]
  },
  {
   "cell_type": "markdown",
   "metadata": {},
   "source": [
    "\n",
    "<img src=\"http://www.cs.colostate.edu/~cs445/notebooks/linear_model_as_nn.png\">\n"
   ]
  },
  {
   "cell_type": "markdown",
   "metadata": {},
   "source": [
    "## Adding Nonlinear Combinations of Inputs"
   ]
  },
  {
   "cell_type": "markdown",
   "metadata": {},
   "source": [
    "Transform $X$ into $\\Phi(X)$.  For example, \n",
    "\n",
    "$$\n",
    "\\Phi(X) = \\Phi\\left ( \n",
    "\\begin{bmatrix}\n",
    "    x_{0,1} & x_{0,2} & \\cdots \\\\\n",
    "    x_{1,1} & x_{1,2} & \\cdots \\\\\n",
    "    \\vdots\\\\\n",
    "    x_{N-1,1} & x_{N-1,2} & \\cdots\n",
    "  \\end{bmatrix}\n",
    "\\right ) = \n",
    "\\begin{bmatrix}\n",
    "    x_{0,1} & x_{0,2}^5  & x_{0,2}^3 x_{0,4}^2 & \\cdots \\\\\n",
    "    x_{1,1} & x_{1,2}^5  & x_{1,2}^3 x_{1,4}^2 & \\cdots\\\\\n",
    "    \\vdots\\\\\n",
    "    x_{N-1,1} & x_{N-1,2}^5 & x_{N-1,2}^3 x_{N-1,4}^2 & \\cdots\n",
    "  \\end{bmatrix}\n",
    "$$\n",
    "\n",
    "Now we just replace ${\\bf X}$ by $\\Phi$ (which we use to represent\n",
    "$\\Phi(X)$, and $\\Phi_n = \\Phi({\\bf x}_n)$) and proceed. \n",
    "We do our derivation to minimize\n",
    "\n",
    "$$\n",
    "  E_k = \\sum_{n=1}^N (t_{n,k} - \\tilde\\Phi_n^T {\\bf w}_k))^2\n",
    "$$\n",
    "\n",
    "from which we find that \n",
    "\n",
    "$$\n",
    "  {\\bf W} = (\\tilde{\\Phi}^T \\tilde{\\Phi})^{-1} \\tilde{\\Phi}^T T\n",
    "$$\n",
    "\n",
    "and use it like\n",
    "\n",
    "$$\n",
    "\\begin{align*}\n",
    "  {\\bf Y} = \\tilde{\\Phi} {\\bf W}\n",
    "\\end{align*}\n",
    "$$"
   ]
  },
  {
   "cell_type": "markdown",
   "metadata": {},
   "source": [
    "<img src=\"http://www.cs.colostate.edu/~cs445/notebooks/whatnonlinearmap.png\">"
   ]
  },
  {
   "cell_type": "markdown",
   "metadata": {},
   "source": [
    "Now ${\\bf X}$ is being passed through some nonlinear function $\\Phi$ and the output of that is multiplied by ${\\bf W}$ to get output ${\\bf Y}$.\n",
    "\n",
    "What should we put in the yellow box?  \n",
    "\n",
    "Can we use the training data to figure this out?"
   ]
  },
  {
   "cell_type": "markdown",
   "metadata": {},
   "source": [
    "## Structure of a Two Layer Neural Network"
   ]
  },
  {
   "cell_type": "markdown",
   "metadata": {},
   "source": [
    "We have just entered the world of neural networks, with $\\phi({\\bf x})$ being the output of another layer of adaptive units, or $\\phi({\\bf x}) = h({\\bf x})$. "
   ]
  },
  {
   "cell_type": "markdown",
   "metadata": {},
   "source": [
    "<img src=\"http://www.cs.colostate.edu/~cs445/notebooks/two-layer-nn.png\">"
   ]
  },
  {
   "cell_type": "markdown",
   "metadata": {},
   "source": [
    "Dimensionalities at each step, where $N$ is the number of samples, $D$ is the number of dimensions to each sample (things you measure about $N$):\n",
    "\n",
    "$\\;\\;\\;\\; \\tilde{\\bf X} \\;\\;\\;\\;\\;\\;\\;\\;\\;\\;\\;\\;\\;\\;\\;\\;\\;\\;\\;\\;\\;\\;\\;\\;$ \n",
    "$\\;\\;\\;\\;\\;\\;\\;\\; {\\bf V} \\;\\;\\;\\;\\;\\;\\;\\;\\;\\;\\;\\;\\;\\;\\;\\;\\;\\;\\;\\;\\;\\;\\;\\;$\n",
    "$ \\;\\;\\; \\tilde{\\bf Z} \\;\\;\\;\\;\\;\\;\\;\\;\\;\\;\\;\\;\\;\\;\\;\\;\\;\\;\\;\\;\\;\\;\\;\\;$ \n",
    "$\\;\\;\\;\\;\\;\\;\\;\\; {\\bf W} \\;\\;\\;\\;\\;\\;\\;\\;\\;\\;\\;\\;\\;\\;\\;\\;\\;\\;\\;\\;\\;\\;\\;\\;$ \n",
    "$\\; {\\bf Y} \\;\\;\\;\\;\\;\\;\\;\\;\\;\\;\\;\\;$\n",
    "\n",
    "$ N \\times (D+1) \\;\\;\\;\\;\\;\\;\\;\\;\\;\\;\\;\\;~~$\n",
    "$(D+1) \\times M \\;\\;\\;\\;\\;\\;\\;\\;\\;\\;\\;\\;\\;~~$\n",
    "$ N \\times (M+1) \\;\\;\\;\\;\\;\\;\\;\\;\\;\\;\\;\\;\\;~~$\n",
    "$(M+1)\\times K \\;\\;\\;\\;\\;\\;\\;\\;\\;\\;\\;\\;\\;~~$\n",
    "$ N \\times K$\n",
    "\n",
    "$$\n",
    "\\begin{align*}\n",
    "\\tilde{\\bf Z} & = h(\\tilde{\\bf X} {\\bf V}),\\\\\n",
    "{\\bf Y} & = \\tilde{\\bf Z} {\\bf W}, \\text{ or }\\\\\n",
    "{\\bf Y} & = \\tilde{h}(\\tilde{\\bf X} {\\bf V}) {\\bf W} \n",
    "\\end{align*}\n",
    "$$\n",
    "\n",
    "The two layers are called the **hidden** and **output** layer.\n",
    "\n",
    "$h$ is the **activation function** for the units in the hidden layer.\n",
    "\n",
    "We will be doing gradient descent in the squared error, so want\n",
    "an $h$ whose derivative doesn't grow out of control as ${\\bf v}$ grows, and whose\n",
    "derivative is easy to calculate.\n",
    "\n",
    "What about a polynomial function?"
   ]
  },
  {
   "cell_type": "code",
   "execution_count": 175,
   "metadata": {},
   "outputs": [
    {
     "data": {
      "image/png": "[encoded data removed]",
      "text/plain": [
       "<Figure size 576x360 with 1 Axes>"
      ]
     },
     "metadata": {
      "needs_background": "light"
     },
     "output_type": "display_data"
    }
   ],
   "source": [
    "# Let's plot a polynomial and its derivative to see if it satisfies the properties we want\n",
    "\n",
    "def h(x):\n",
    "    return 3 + 2 * x + 1 * x**2 + 3 * x**5\n",
    "\n",
    "def dh(x):\n",
    "    return 2 + 2 * x + 15 * x**4\n",
    "\n",
    "plt.figure(figsize=(8,5))\n",
    "xs = np.linspace(-5,5,100)\n",
    "plt.plot(xs,h(xs),'b-',linewidth=3, label='$h_1(a)$')\n",
    "plt.plot(xs,dh(xs),'b--',linewidth=3, label='$d h_1(a)/da$')\n",
    "\n",
    "plt.plot((-6,6),(0,0),'k')\n",
    "plt.plot((0,0),(-10000,10000),'k')\n",
    "plt.plot([0,0],[-1,1],'r--',linewidth=3,alpha=0.5,)\n",
    "plt.legend(loc='best');"
   ]
  },
  {
   "cell_type": "markdown",
   "metadata": {},
   "source": [
    "Does this look like a well-behaved derivative (e.g., the sigmoid we were playing with earlier?)  Why or why not?\n",
    "\n",
    "A gradient descent procedure takes steps of size proportional to the derivative.  This derivative gets huge---high positive as $a$ increases and high negative as $a$ decreases---so gradient descent if very unstable.  Such huge steps will shoot the gradient descent far away from a close local minimum."
   ]
  },
  {
   "cell_type": "markdown",
   "metadata": {},
   "source": [
    "Two common choices for functions with well-behaved derivatives are, where $a = \\tilde{\\bf x}^T {\\bf v}$:\n",
    "  * sigmoid (asymmetric)\n",
    "  \n",
    "$$\n",
    "        \\begin{align*}\n",
    "          h_1(a) & = \\frac{1}{1+e^{-a}}\n",
    "        \\end{align*}\n",
    "$$\n",
    "\n",
    "  * tanh (symmetric)\n",
    "  \n",
    "$$\n",
    "        \\begin{align*}\n",
    "          h_2(a) & = \\tanh(a) = \\frac{e^{a} - e^{-a}}{e^{a} + e^{-a}}\n",
    "        \\end{align*}\n",
    "$$\n",
    "\n",
    "Work out their derivatives:"
   ]
  },
  {
   "cell_type": "code",
   "execution_count": 176,
   "metadata": {},
   "outputs": [
    {
     "data": {
      "image/png": "[encoded data removed]",
      "text/plain": [
       "<Figure size 576x360 with 1 Axes>"
      ]
     },
     "metadata": {
      "needs_background": "light"
     },
     "output_type": "display_data"
    }
   ],
   "source": [
    "def h1(a):\n",
    "    return 1 / (1 + np.exp(-a))\n",
    "\n",
    "def h2(a):\n",
    "    return np.tanh(a)\n",
    "\n",
    "def dh1(a):\n",
    "    y = h1(a)\n",
    "    return y * (1 - y)\n",
    "\n",
    "def dh2(a):\n",
    "    y = h2(a)\n",
    "    return 1 - y*y\n",
    "\n",
    "plt.figure(figsize=(8,5))\n",
    "xs = np.linspace(-5, 5, 100)\n",
    "plt.plot(xs, h1(xs), 'b-', linewidth=3, label='$h_1(a)$')\n",
    "plt.plot(xs, dh1(xs), 'b--', linewidth=3, label='$d h_1(a)/da$')\n",
    "\n",
    "plt.plot(xs, h2(xs), 'r-', linewidth=3, label='$h_2(a)$')\n",
    "plt.plot(xs, dh2(xs), 'r--', linewidth=3, label='$d h_2(a)/da$')\n",
    "\n",
    "plt.plot((-6, 6), (0, 0), 'k')\n",
    "plt.plot((0, 0), (-1, 1), 'k')\n",
    "plt.plot([0, 0], [-1, 1], 'r--', linewidth=3, alpha=0.5)\n",
    "plt.legend(loc='best');"
   ]
  },
  {
   "cell_type": "markdown",
   "metadata": {},
   "source": [
    "This looks better.  These derivatives:\n",
    "\n",
    "   1. Are computationally simple, and so are their antidifferentiations.\n",
    "   2. Decreases in magnitude as the weight magnitudes grows, perhaps asymptotically.\n",
    "   3. Are limited in maximum values."
   ]
  },
  {
   "cell_type": "markdown",
   "metadata": {},
   "source": [
    "## Training by Gradient Descent"
   ]
  },
  {
   "cell_type": "markdown",
   "metadata": {},
   "source": [
    "The mean squared error between each target value $t_{n,k}$ and\n",
    "output (predicted) value $y_{n,k}$ is\n",
    "\n",
    "$$\n",
    "\\begin{align*}\n",
    "  E &= \\frac{1}{N} \\frac{1}{K} \\sum_{n=1}^N \\sum_{k=1}^K ( t_{n,k} - y_{n,k})^2\n",
    "\\end{align*}\n",
    "$$\n",
    "\n",
    "Since $E$ is no longer a linear function of the parameters (weights), we cannot set the derivative equal to zero and solve for the parameters.  Instead, we can do \n",
    "gradient descent in $E$ by making small changes to weights $v_{j,m}$ and $w_{m,k}$ in the negative gradient direction. \n",
    "\n",
    "$$\n",
    "\\begin{align*}\n",
    "  v_{j,m} &\\leftarrow v_{j,m} - \\rho_h \\frac{\\partial E}{\\partial v_{j,m}}\\\\\n",
    "  w_{m,k} &\\leftarrow w_{m,k} - \\rho_o \\frac{\\partial E}{\\partial w_{m,k}}\n",
    "\\end{align*}\n",
    "$$\n",
    "\n",
    "This is often presented as $\\rho_h = \\rho_o$, but having different\n",
    "rates in the two layers often helps convergence rate.\n",
    "\n",
    "Will this find the global optimum (the values of $v$ and $w$\n",
    "that minimize the mean squared error)?"
   ]
  },
  {
   "cell_type": "markdown",
   "metadata": {},
   "source": [
    "### First a Simplified View"
   ]
  },
  {
   "cell_type": "markdown",
   "metadata": {},
   "source": [
    "Remember our picture of a full two-layer network?  Let's focus\n",
    "on how to modify a single weight, $v_{1,1}$, based on a single error between $y_1$ and $t_1$."
   ]
  },
  {
   "cell_type": "markdown",
   "metadata": {},
   "source": [
    "<img src=\"http://www.cs.colostate.edu/~cs445/notebooks/two-layer-nn-with-targets.png\">"
   ]
  },
  {
   "cell_type": "markdown",
   "metadata": {},
   "source": [
    "Let's drop the subscripts for now."
   ]
  },
  {
   "cell_type": "markdown",
   "metadata": {},
   "source": [
    "<img src=\"http://www.cs.colostate.edu/~cs445/notebooks/two-layer-nn-with-targets-one-path.png\">"
   ]
  },
  {
   "cell_type": "markdown",
   "metadata": {},
   "source": [
    "Forward calculation (ignoring constant 1 input and all other terms)\n",
    "\n",
    "$$\n",
    "\\begin{align*}\n",
    "  y &= w\\; h(v\\;x) \\text{ or }\\\\\n",
    "  y &= w\\; z\\\\\n",
    "  z &= h(a)\\\\\n",
    "  a &= v\\; x\n",
    "\\end{align*}\n",
    "$$"
   ]
  },
  {
   "cell_type": "markdown",
   "metadata": {},
   "source": [
    "Since $E = (t - y)^2$\n",
    "\n",
    "$$\n",
    "\\begin{align*}\n",
    "  \\frac{\\partial E}{\\partial v} & = \\frac{\\partial (t - y)^2}{\\partial v}\n",
    "\\end{align*}\n",
    "$$\n",
    "\n",
    "The [Chain Rule](https://en.wikipedia.org/wiki/Chain_rule) to the rescue.\n",
    "\n",
    "$$\n",
    "\\begin{align*}\n",
    "  \\frac{\\partial E}{\\partial v} & = \\frac{\\partial (t-y)^2}{\\partial v}\\\\\n",
    "  & = \\frac{\\partial (t-y)^2}{\\partial y} \\frac{\\partial y}{\\partial z} \\frac{\\partial z}{\\partial a} \\frac{\\partial a}{\\partial v} \\\\\n",
    "  & = 2(t-y) \\;\\;(-1)\\;\\; w \\;\\;  \\frac{\\partial h(a)}{\\partial a} \\;\\; x \\\\\n",
    "\\end{align*}\n",
    "$$\n",
    "\n",
    "If $h(a) = \\tanh(a)$, then $\\frac{\\partial h(a)}{\\partial a} = (1-h(a)^2) = (1-z^2)$. See [this page at Mathematics Stack Exchange](http://math.stackexchange.com/questions/741050/hyperbolic-functions-derivative-of-tanh-x).\n",
    "\n",
    "$$\n",
    "\\begin{align*}\n",
    "  \\frac{\\partial E}{\\partial v} & = -2(t-y) \\;\\; w \\;\\;  \\frac{\\partial h(a)}{\\partial a} \\;\\; x \\\\\n",
    "  & = -2(t-y) \\;\\; w \\;\\;  (1-z^2) \\;\\; x\n",
    "\\end{align*}\n",
    "$$\n",
    "\n",
    "Let's add another output."
   ]
  },
  {
   "cell_type": "markdown",
   "metadata": {},
   "source": [
    "<img src=\"http://www.cs.colostate.edu/~cs445/notebooks/two-layer-nn-with-targets-one-path-two-outputs.png\">"
   ]
  },
  {
   "cell_type": "markdown",
   "metadata": {},
   "source": [
    "The Chain Rule again.\n",
    "\n",
    "$$\n",
    "       \\begin{align*}\n",
    "       \\frac{\\partial E}{\\partial v} & = \\frac{\\partial (t_1-y_1)^2 + (t_2-y_2)^2}{\\partial v}\\\\\n",
    "       & = \\frac{\\partial (t_1-y_1)^2 + (t_2-y_2)^2}{\\partial z} \\frac{\\partial z}{\\partial a} \\frac{\\partial a}{\\partial v} \\\\\n",
    "       & = \\left ( \\frac{\\partial (t_1-y_1)^2 + (t_2-y_2)^2}{\\partial y_1}\\frac{\\partial y_1}{\\partial z} + \\frac{\\partial (y_1-t_1)^2 + (y_2-t_2)^2}{\\partial y_2}\\frac{\\partial\n",
    "           y_2}{\\partial z} \\right )  \\frac{\\partial z}{\\partial a} \\frac{\\partial a}{\\partial v} \\\\\n",
    "       & = \\left ( -2(t_1-y_1) w_1 - 2(t_2 -y_2) w_2 \\right ) \\frac{\\partial z}{\\partial a} \\frac{\\partial a}{\\partial v} \\\\\n",
    "       & = -2 \\left ( (t_1-y_1) w_1 + (t_2-y_2) w_2 \\right ) \\frac{\\partial h(a)}{\\partial a} x \\\\\n",
    "       & = -2 \\left ( (t_1-y_1) w_1 + (t_2-y_2) w_2 \\right ) (1-z^2) x \n",
    "       \\end{align*}\n",
    "$$\n",
    "\n",
    "Think of the errors calculated in the output units as being sent backwards to the units in the previous layer.  If we label these errors as \"delta\" values, our derivative expressions form what are commonly referred to as \"delta rules\".  The delta values are \"backpropagated\" to the previous layer.  This process is called \"error backpropagation\", but is really just the chain rule of calculating derivatives!\n",
    "\n",
    "First, remember these derivatives.\n",
    "\n",
    "$$\n",
    "       \\begin{align*}\n",
    "       \\frac{\\partial E}{\\partial v} & = -2 ( (t_1-y_1) w_1 + (t_2-y_2) w_2  ) (1-z^2) x \\\\\n",
    "       \\frac{\\partial E}{\\partial w_1} & = -2 (t_1-y_1) z\n",
    "       \\end{align*}\n",
    "$$\n",
    "\n",
    "Now the update rules involving the deltas ($\\delta$) are \n",
    "\n",
    "$$\n",
    "       \\begin{align*}\n",
    "       w &\\leftarrow w - \\frac{\\partial E}{\\partial w_1}\\\\\n",
    "       &\\leftarrow w + \\rho_o  (t_1-y_1) z\\\\\n",
    "       &\\leftarrow w + \\rho_o  \\delta_1^{(o)}  z\\\\\n",
    "       v & \\leftarrow v - \\frac{\\partial E}{\\partial v}\\\\\n",
    "       & \\leftarrow v + \\rho_h \\left ( (t_1-y_1) w_1 + (t_2-y_2) w_2 \\right ) (1-z^2) x \\\\\n",
    "       & \\leftarrow v + \\rho_h \\left ( (t_1-y_1) w_1 + (t_2-y_2) w_2 \\right ) (1-z^2) x \\\\\n",
    "       & \\leftarrow v + \\rho_h \\left ( \\delta_1^{(o)} w_1 + \\delta_2^{(o)} w_2 \\right ) (1-z^2) x \\\\\n",
    "       & \\leftarrow v + \\rho_h \\delta^{(h)} x\\\\\n",
    "&\\;\\;\\; \\text{ where } \\delta^{(h)} =  ( \\delta_1^{(o)} w_1 + \\delta_2^{(o)} w_2  ) (1-z^2)\n",
    "       \\end{align*}\n",
    "$$"
   ]
  },
  {
   "cell_type": "markdown",
   "metadata": {},
   "source": [
    "### Now for the Full Version of Back-Propagation"
   ]
  },
  {
   "cell_type": "markdown",
   "metadata": {},
   "source": [
    "<img src=\"http://www.cs.colostate.edu/~cs445/notebooks/two-layer-nn-with-targets_full_backprop.png\">"
   ]
  },
  {
   "cell_type": "markdown",
   "metadata": {},
   "source": [
    "$$\n",
    "\\begin{align*}\n",
    "  v_{j,m} &\\leftarrow v_{j,m} - \\rho_h \\frac{\\partial E}{\\partial\n",
    "    v_{j,m}}\\\\\n",
    " w_{m,k} & \\leftarrow w_{m,k} - \\rho_o \\frac{\\partial E}{\\partial w_{m,k}}\n",
    "\\end{align*}\n",
    "$$\n",
    "\n",
    "A bit of calculus and algebra lead us to these expressions for doing gradient descent.\n",
    "\n",
    "$$\n",
    "\\begin{align*}\n",
    "  v_{j,m} &\\leftarrow v_{j,m} + \\rho_h \\frac{1}{N} \\frac{1}{K} \\sum_{n=1}^N \\sum_{k=1}^K (t_{n,k} - y_{n,k}) w_{m,k} (1-\\tilde{z}_m^2) \\tilde{x}_{n,j}\\\\\n",
    "  w_{m,k} &\\leftarrow w_{m,k} + \\rho_o \\frac{1}{N}  \\frac{1}{K} \\sum_{n=1}^N\n",
    "  (t_{n,k} - y_{n,k}) \\tilde{z}_m\n",
    "\\end{align*}\n",
    "$$\n",
    "\n",
    "Now we will derive this result.\n",
    "First work on $\\frac{\\partial E}{\\partial w_{m,k}}$.\n",
    "\n",
    "$$\n",
    "\\begin{align*}\n",
    "  E &= \\frac{1}{N} \\frac{1}{K} \\sum_{n=1}^N \\sum_{k=1}^K (t_{n,k} - y_{n,k})^2\\\\\n",
    "  \\frac{\\partial E}{\\partial w_{m,k}} & = -2 \\frac{1}{N} \\frac{1}{K} \\sum_{n=1}^N \\sum_{k'=1}^K (t_{n,k'} - y_{n,k'}) \\frac{\\partial y_{n,k'}}{\\partial w_{m,k}}\\\\\n",
    "  \\text{Since } & y_{n,k'} = \\sum_{m'=0}^M  w_{m',k'} \\tilde{z}_{n,m'}\\\\\n",
    "  \\frac{\\partial E}{\\partial w_{m,k}} & = -2 \\frac{1}{N} \\frac{1}{K} \\sum_{n=1}^N \\sum_{k'=1}^K (t_{n,k'} - y_{n,k'}) \n",
    "  \\frac{\\partial \\left ( \\sum_{m'=0}^M w_{m',k'} \\tilde{z}_{n,m'}  \\right )}{\\partial w_{m,k}}\\\\\n",
    "  & = -2 \\frac{1}{N} \\frac{1}{K} \\sum_{n=1}^N (t_{n,k} - y_{n,k}) \\tilde{z}_{n,m}\n",
    "\\end{align*}\n",
    "$$\n",
    "\n",
    "Now the hard one,  $\\frac{\\partial E}{\\partial v_{j,m}}$.\n",
    "\n",
    "$$\n",
    "\\begin{align*}\n",
    "  E &= \\frac{1}{N} \\frac{1}{K} \\sum_{n=1}^N \\sum_{k=1}^K (t_{n,k} - y_{n,k})^2\\\\\n",
    "  \\frac{\\partial E}{\\partial v_{j,m}} & = -2 \\frac{1}{N} \\frac{1}{K} \\sum_{n=1}^N \\sum_{k'=1}^K (t_{n,k'} - y_{n,k'}) \\frac{\\partial y_{n,k'}}{\\partial  v_{j,m}}\n",
    "\\end{align*}\n",
    "$$\n",
    "\n",
    "Knowing that \n",
    "\n",
    "$$\n",
    "\\begin{align*}\n",
    "  y_{n,k'} & = \\sum_{m'=0}^M  w_{m',k'} \\tilde{z}_{n,m'}\\\\\n",
    "  &  = \\sum_{m'=0}^M  w_{m',k'} \\tilde{h}\\left ( \\sum_{j'=0}^D\n",
    "    v_{j,m'} \\tilde{x}_{n,j'} \\right )\n",
    "\\end{align*}\n",
    "$$\n",
    "\n",
    "we can continue.\n",
    "\n",
    "$$\n",
    "\\begin{align*}\n",
    "  \\frac{\\partial E}{\\partial v_{j,m}} & = -2 \\frac{1}{N} \\frac{1}{K} \\sum_{n=1}^N \\sum_{k'=1}^K (t_{n,k'} - y_{n,k'}) \n",
    "  \\frac{\\partial \\left ( \\sum_{m'=0}^M  w_{m',k'} \\tilde{h} \\left ( \\sum_{j'=0}^D v_{j',m'} \\tilde{x}_{n,j'} \\right ) \\right )}{\\partial v_{j,m}}\\\\ \n",
    "  \\text{Let } a_{n,m'} & = \\tilde{h} \\left ( \\sum_{j'=0}^D v_{j',m'} \\tilde{x}_{n,j'}  \\right )\\\\\n",
    "  \\frac{\\partial E}{\\partial v_{j,m}} & = -2 \\frac{1}{N} \\frac{1}{K} \\sum_{n=1}^N \\sum_{k'=1}^K (t_{n,k'} - y_{n,k'})  \\sum_{m'=0}^M  w_{m',k'} \n",
    "  \\frac{\\partial \\tilde{h}(a_{n,m'})}{\\partial  a_{n,m'}} \\frac{\\partial a_{n,m'}}{\\partial v_{j,m}}\\\\\n",
    "  & = -2 \\frac{1}{N} \\frac{1}{K} \\sum_{n=1}^N \\sum_{k'=1}^K (t_{n,k'} - y_{n,k'})  \\sum_{m'=0}^M  w_{m',k'} \\frac{\\partial \\tilde{h}(a_{n,m'})}{\\partial a_{n,m'}} \\tilde{x}_{n,j}\n",
    "\\end{align*}\n",
    "$$\n",
    "\n",
    "To summarize:\n",
    "\n",
    "$$\n",
    "    \\begin{align*}\n",
    "      E &= \\frac{1}{N} \\frac{1}{K} \\sum_{n=1}^N \\sum_{k=1}^K (t_{n,k} - y_{n,k})^2\\\\\n",
    "      \\frac{\\partial E}{\\partial w_{m,k}} & = -2 \\frac{1}{N}  \\frac{1}{K}\n",
    "       \\sum_{n=1}^N (t_{n,k} - y_{n,k}) \\tilde{z}_{n,m}\\\\\n",
    "      \\frac{\\partial E}{\\partial v_{j,m}} & = -2 \\frac{1}{N} \\frac{1}{K} \\sum_{n=1}^N \\sum_{k=1}^K (t_{n,k} - y_{n,k})   w_{m,k} (1-z_{n,m}^2) \\tilde{x}_{n,j}\n",
    "    \\end{align*}\n",
    "$$\n",
    "\n",
    "Forward pass\n",
    "\n",
    "$$\n",
    "    \\begin{align*}\n",
    "      z_{n,m} &= h(\\sum_{j=0}^D v_{j,m} \\tilde{x}_{n,j})\\\\\n",
    "      y_{n,k} &= \\sum_{m=1}^M w_{m,k} \\tilde{z}_{n,m}\n",
    "    \\end{align*}\n",
    "$$\n",
    "\n",
    "Backward pass\n",
    "\n",
    "$$\n",
    "\\begin{align*}\n",
    "      v_{j,m} & \\leftarrow v_{j,m} + \\rho_h \\frac{1}{N} \\frac{1}{K} \\sum_{n=1}^N \\sum_{k=1}^K (t_{n,k} - y_{n,k})   w_{m,k} (1-z_{n,m}^2) \\tilde{x}_{n,j}\\\\\n",
    " w_{m,k} & \\leftarrow w_{m,k} + \\rho_o \\frac{1}{N}  \\frac{1}{K}  \\sum_{n=1}^N (t_{n,k} - y_{n,k}) \\tilde{z}_{n,m}\n",
    "    \\end{align*}\n",
    "$$"
   ]
  },
  {
   "cell_type": "markdown",
   "metadata": {},
   "source": [
    "## Preparing for Python"
   ]
  },
  {
   "cell_type": "markdown",
   "metadata": {},
   "source": [
    "Convert these scalar expressions to matrix expressions.\n",
    "\n",
    "Forward Pass\n",
    "\n",
    "$$\n",
    "    \\begin{align*}\n",
    "      z_{n,m} &= h(\\sum_{j=0}^D v_{j,m} \\tilde{x}_{n,j})\\\\\n",
    "      z_{n,m} &= h( v_{*,m} \\tilde{x}_{n,*})\\\\\n",
    "      z_{n,m} &= h(  \\tilde{x}_{n,*} v_{*,m})\\\\\n",
    "      z_{*_n,m} &= h(  \\tilde{x}_{*_n,*} v_{*,m})\\\\\n",
    "      z_{*_n,*_m} &= h(  \\tilde{x}_{*_n,*} v_{*,*_m})\\\\\n",
    "      {\\bf Z} &= h(\\tilde{\\bf X} {\\bf V})\\\\\n",
    "      y_{n,k} &= \\sum_{m=1}^M w_{m,k} \\tilde{z}_{n,m}\\\\\n",
    "      y_{n,k} &=  \\tilde{z}_{n,*} w_{*,k}\\\\\n",
    "      y_{*_n,*_k} &=  \\tilde{z}_{*_n,*} w_{*,*_k}\\\\\n",
    "      {\\bf Y} &= \\tilde{\\bf Z} {\\bf W}\n",
    "    \\end{align*}\n",
    "$$\n",
    "\n",
    "Backward Pass for ${\\bf V}$\n",
    "\n",
    "$$\n",
    "    \\begin{align*}\n",
    "      v_{j,m} & \\leftarrow v_{j,m} + \\rho_h \\frac{1}{N} \\frac{1}{K} \\sum_{n=1}^N \\sum_{k=1}^K (t_{n,k} - y_{n,k})   w_{m,k} (1-z_{n,m}^2) \\tilde{x}_{n,j}\\\\\n",
    "      v_{j,m} & \\leftarrow v_{j,m} + \\rho_h \\frac{1}{N} \\frac{1}{K} \\sum_{n=1}^N  (t_{n,*_k} - y_{n,*_k}) w_{m,*_k}^T   (1-z_{n,m}^2) \\tilde{x}_{n,j}\\\\\n",
    "      v_{j,m} & \\leftarrow v_{j,m} + \\rho_h \\frac{1}{N} \\frac{1}{K} \\left ( (t_{*_n,*_k} - y_{*_n,*_k}) w_{m,*_k}^T \\cdot  (1-z_{*_n,m}^2) \\mid_{N\\times m} \\right )^T\n",
    "      \\tilde{x}_{*_n,j} \n",
    "\\end{align*}\n",
    "$$\n",
    "\n",
    "Almost.  Result on right hand side has subscripts $m,j$, but left side is $j,m$. So\n",
    "\n",
    "$$\n",
    "    \\begin{align*}\n",
    "      v_{j,m} & \\leftarrow v_{j,m} + \\rho_h \\frac{1}{N} \\frac{1}{K} \\left ( \\left ( (t_{*_n,*_k} - y_{*_n,*_k}) w_{m,*_k}^T \\cdot  (1-z_{*_n,m}^2) \\right )^T\n",
    "      \\tilde{x}_{*_n,j} \\right )^T\\\\\n",
    "       & \\leftarrow v_{j,m} + \\rho_h \\frac{1}{N} \\frac{1}{K} \\tilde{x}_{*_n,j}^T \\left ( (t_{*_n,*_k} - y_{*_n,*_k}) w_{m,*_k}^T \\cdot  (1-z_{*_n,m}^2) \\right )\\\\\n",
    "       v_{*_j,*_m} & \\leftarrow v_{*_j,*_m} + \\rho_h \\frac{1}{N} \\frac{1}{K} \\tilde{x}_{*_n,*_j}^T \\left ( (t_{*_n,*_k} - y_{*_n,*_k}) w_{*_m,*_k}^T \\cdot  (1-z_{*_n,*_m}^2)\n",
    "       \\right )\\\\\n",
    "       {\\bf V} & \\leftarrow {\\bf V} + \\rho_h \\frac{1}{N} \\frac{1}{K} \\tilde{\\bf X}^T \\left ( ({\\bf T} - {\\bf Y}) \\hat{\\bf W}^T \\cdot  (1-{\\bf Z}^2) \\right )\\\\\n",
    "       {\\bf V} & \\leftarrow {\\bf V} + \\rho_h \\frac{1}{N} \\frac{1}{K} \\tilde{\\bf X}^T \\mid_{D\\times N} \\left ( ({\\bf T} - {\\bf Y}) \\mid_{N\\times K} \\hat{\\bf W}^T \\mid_{N\\times M} \\cdot  (1-{\\bf Z}^2)\n",
    "         \\mid_{N\\times M}\\right ) \\mid_{D\\times M}\\\\\n",
    "       \\text{where } & \\hat{\\bf W} \\text{ is } {\\bf W} \\text{ without constant input row}\n",
    "\\end{align*}\n",
    "$$\n",
    "\n",
    "\n",
    "Backward Pass for ${\\bf W}$\n",
    "\n",
    "$$\n",
    "    \\begin{align*}\n",
    "      w_{m,k} & \\leftarrow w_{m,k} + \\rho_o \\frac{1}{N}  \\frac{1}{K} \\sum_{n=1}^N (t_{n,k} - y_{n,k}) \\tilde{z}_{n,m}\\\\\n",
    "      & \\leftarrow w_{m,k} + \\rho_o \\frac{1}{N}  \\frac{1}{K} (t_{*_n,k} - y_{*_n,k})^T \\tilde{z}_{*_n,m}\n",
    "    \\end{align*}\n",
    "$$\n",
    "\n",
    "Again, almost.  Result on right hand side has subscripts $k,m$ but need $m,k$. So\n",
    "\n",
    "$$\n",
    "    \\begin{align*}\n",
    "      w_{m,k} & \\leftarrow w_{m,k} + \\rho_o \\frac{1}{N} \\frac{1}{K}   \\left ( (t_{*_n,k} - y_{*_n,k})^T \\tilde{z}_{*_n,m} \\right )^T\\\\\n",
    "       & \\leftarrow w_{m,k} + \\rho_o \\frac{1}{N} \\frac{1}{K} \\tilde{z}_{*_n,m}^T (t_{*_n,k} - y_{*_n,k}) \\\\\n",
    "      w_{*_m,*_k} & \\leftarrow w_{*_m,*_k} + \\rho_o \\frac{1}{N} \\frac{1}{K}  \\tilde{z}_{*_n,*_m}^T (t_{*_n,*_k} - y_{*_n,*_k}) \\\\\n",
    "      {\\bf W} & \\leftarrow {\\bf W} + \\rho_o \\frac{1}{N} \\frac{1}{K}  \\tilde{\\bf Z}^T ({\\bf T} - {\\bf Y})\\\\\n",
    "      {\\bf W} & \\leftarrow {\\bf W} + \\rho_o \\frac{1}{N} \\frac{1}{K}  \\tilde{\\bf Z}^T \\mid_{M\\times N} ({\\bf T} - {\\bf Y} \\mid_{N\\times K}) \\mid_{M\\times K}\n",
    "    \\end{align*}\n",
    "$$\n",
    "\n",
    "All together now, first in math.\n",
    "\n",
    "$$\n",
    "    \\begin{align*}\n",
    "      {\\bf Z} &= h(\\tilde{\\bf X} {\\bf V})\\\\\n",
    "      {\\bf Y} &= \\tilde{\\bf Z} {\\bf W}\\\\\n",
    "       {\\bf V} & \\leftarrow {\\bf V} + \\rho_h \\frac{1}{N} \\frac{1}{K} \\tilde{\\bf X}^T \\left ( ({\\bf T} - {\\bf Y}) \\hat{\\bf W}^T \\cdot  (1-{\\bf Z}^2) \\right )\\\\\n",
    "      {\\bf W} & \\leftarrow {\\bf W} + \\rho_o \\frac{1}{N}  \\frac{1}{K}\\tilde{\\bf Z}^T ({\\bf T} - {\\bf Y})\n",
    "      \\end{align*}\n",
    "$$\n",
    "\n",
    "Now in python.\n",
    "\n",
    "    # Given input X and target T, do forward pass to calculate network output, Y\n",
    "    X1 = addOnes(X)\n",
    "    Z = tanh(X1 @ V))\n",
    "    Z1 = addOnes(Z)\n",
    "    Y = Z1 @ W\n",
    "    # Do gradient descent on derivative of squared error with respect to each weight to update V and W.\n",
    "    error = T - Y\n",
    "    V = V + rh * X1.T @ ((error @ W[1:, :].T) * (1 - Z**2))\n",
    "    W = W + ro * Z1.T @ error"
   ]
  },
  {
   "cell_type": "markdown",
   "metadata": {},
   "source": [
    "## Finally, the Code"
   ]
  },
  {
   "cell_type": "markdown",
   "metadata": {},
   "source": [
    "The above equations show a single step down the gradient of our mean square error, $E$. Here we are using all of our training data, in $X$ and $T$ to calculate the gradient of $E$ with respect to the weights.  Instead of writing  a for loop to step through each sample and update the weights on each step, which we called (Stochastic Gradient Descent), we are using the full gradient.\n",
    "\n",
    "Here is an example. Let's fit a neural network to the function\n",
    "\n",
    "$$\n",
    "f(x) = 0.2 + 0.05 (x+10) + 0.4 \\sin(x+10)) + 0.2 \\epsilon\n",
    "$$\n",
    "\n",
    "where $\\epsilon$ is a random variable drawn from the standard normal\n",
    "distribution, or $\\epsilon \\sim \\mathcal{N}(0,1)$, and $x \\in [-10,10]$."
   ]
  },
  {
   "cell_type": "code",
   "execution_count": 177,
   "metadata": {},
   "outputs": [],
   "source": [
    "import numpy as np\n",
    "import matplotlib.pyplot as plt\n",
    " \n",
    "import IPython.display as ipd  # for display and clear_output\n",
    "import time  # for sleep"
   ]
  },
  {
   "cell_type": "code",
   "execution_count": 178,
   "metadata": {},
   "outputs": [],
   "source": [
    "# Make some training data\n",
    "n = 30\n",
    "Xtrain = np.linspace(0., 20.0, n).reshape((n, 1)) - 10\n",
    "Ttrain = 0.2 + 0.05 * (Xtrain + 10) + 0.4 * np.sin(Xtrain + 10) + 0.2 * np.random.normal(size=(n, 1))\n",
    "\n",
    "# Make some testing data\n",
    "Xtest = Xtrain + 0.1 * np.random.normal(size=(n, 1))\n",
    "Ttest = 0.2 + 0.05 * (Xtest + 10) + 0.4 * np.sin(Xtest + 10) + 0.2 * np.random.normal(size=(n, 1))\n",
    "\n",
    "nSamples = Xtrain.shape[0]\n",
    "nOutputs = Ttrain.shape[1]"
   ]
  },
  {
   "cell_type": "code",
   "execution_count": 179,
   "metadata": {},
   "outputs": [],
   "source": [
    "# Add constant column of 1's\n",
    "def addOnes(A):\n",
    "    return np.insert(A, 0, 1, axis=1)"
   ]
  },
  {
   "cell_type": "code",
   "execution_count": 181,
   "metadata": {},
   "outputs": [],
   "source": [
    "# standardize\n",
    "Xmeans = Xtrain.mean(axis=0)\n",
    "Xstds = Xtrain.std(axis=0)\n",
    "Tmeans = Ttrain.mean(axis=0)\n",
    "Tstds = Ttrain.std(axis=0)\n",
    "\n",
    "XtrainS = (Xtrain - Xmeans) / Xstds\n",
    "TtrainS = (Ttrain - Tmeans) / Tstds\n",
    "XtestS = (Xtest - Xmeans) / Xstds\n",
    "TtestS = (Ttest - Tmeans) / Tstds"
   ]
  },
  {
   "cell_type": "code",
   "execution_count": 182,
   "metadata": {},
   "outputs": [],
   "source": [
    "XtrainS1 = addOnes(XtrainS)\n",
    "XtestS1 = addOnes(XtestS)"
   ]
  },
  {
   "cell_type": "markdown",
   "metadata": {},
   "source": [
    "We must initialize the weights to random values. If all weights are initialized to zero, all hidden units will earn identical weights, as if we only have one hidden units."
   ]
  },
  {
   "cell_type": "code",
   "execution_count": 183,
   "metadata": {},
   "outputs": [
    {
     "data": {
      "image/png": "[encoded data removed]",
      "text/plain": [
       "<Figure size 720x1440 with 3 Axes>"
      ]
     },
     "metadata": {
      "needs_background": "light"
     },
     "output_type": "display_data"
    }
   ],
   "source": [
    "# Set parameters of neural network\n",
    "nHiddens = 20\n",
    "\n",
    "rhoh = 0.1\n",
    "rhoo = 0.01\n",
    "\n",
    "#rh = rhoh / (nSamples * nOutputs)\n",
    "#ro = rhoo / (nSamples * nOutputs)\n",
    "\n",
    "# Initialize weights to uniformly distributed values between small normally-distributed between -0.1 and 0.1\n",
    "#V = np.zeros((1 + Xtrain.shape[1], nHiddens))\n",
    "#V = np.random.uniform(-0.0001, 0.0001, size=(1 + Xtrain.shape[1], nHiddens))\n",
    "V = np.random.uniform(-0.1, 0.1, size=(1 + Xtrain.shape[1], nHiddens))\n",
    "#W = np.zeros((1 + nHiddens, nOutputs))      \n",
    "#W = np.random.uniform(-0.0001, 0.0001, size=(1 + nHiddens, nOutputs))\n",
    "W = np.random.uniform(-0.1, 0.1, size=(1 + nHiddens, nOutputs))\n",
    "\n",
    "# Take nEpochs steepest descent steps in gradient descent search in mean-squared-error function\n",
    "nEpochs = 100000\n",
    "# collect training and testing errors for plotting\n",
    "errorTrace = np.zeros((nEpochs, 2))\n",
    "\n",
    "fig = plt.figure(figsize=(10, 20))\n",
    "for epoch in range(nEpochs):\n",
    "\n",
    "    # Forward pass on training data\n",
    "    Z = np.tanh(XtrainS1 @ V)\n",
    "    Z1 = addOnes(Z)\n",
    "    Y = Z1 @ W\n",
    "\n",
    "    # Error in output\n",
    "    error = TtrainS - Y\n",
    "\n",
    "    # Backward pass - the backpropagation and weight update steps\n",
    "    V = V + rhoh * XtrainS1.T @ ( ( error @ W[1:, :].T) * (1 - Z**2))\n",
    "    W = W + rhoo * Z1.T @ error\n",
    "\n",
    "    YtestS = addOnes(np.tanh(XtestS1 @ V)) @ W  #!! Forward pass in one line\n",
    "    Ytest = YtestS * Tstds + Tmeans\n",
    "    \n",
    "    # error traces for plotting\n",
    "    error = error * Tstds  # to unstandardize otuput error\n",
    "    errorTrace[epoch, 0] = np.sqrt(np.mean((error**2)))\n",
    "    errorTrace[epoch, 1] = np.sqrt(np.mean((Ytest - Ttest)**2))\n",
    "    \n",
    "\n",
    "    if epoch % 2000 == 0 or epoch == nEpochs - 1:\n",
    "        plt.clf()\n",
    "        plt.subplot(3, 1, 1)\n",
    "        plt.plot(errorTrace[:epoch, :])\n",
    "        plt.ylim(0, 0.7)\n",
    "        plt.xlabel('Epochs')\n",
    "        plt.ylabel('RMSE')\n",
    "        plt.legend(('Train','Test'), loc='upper left')\n",
    "        \n",
    "        plt.subplot(3, 1, 2)\n",
    "        plt.plot(Xtrain, Ttrain, 'o-', Xtest, Ttest, 'o-', Xtest, Ytest, 'o-')\n",
    "        plt.xlim(-10, 10)\n",
    "        plt.legend(('Training', 'Testing', 'Model'), loc='upper left')\n",
    "        plt.xlabel('$x$')\n",
    "        plt.ylabel('Actual and Predicted $f(x)$')\n",
    "        \n",
    "        plt.subplot(3, 1, 3)\n",
    "        plt.plot(Xtrain, Z)\n",
    "        plt.ylim(-1.1, 1.1)\n",
    "        plt.xlabel('$x$')\n",
    "        plt.ylabel('Hidden Unit Outputs ($z$)');\n",
    "        \n",
    "        ipd.clear_output(wait=True)\n",
    "        ipd.display(fig)\n",
    "ipd.clear_output(wait=True)"
   ]
  },
  {
   "cell_type": "code",
   "execution_count": null,
   "metadata": {},
   "outputs": [],
   "source": []
  }
 ],
 "metadata": {
  "anaconda-cloud": {},
  "kernelspec": {
   "display_name": "Python 3",
   "language": "python",
   "name": "python3"
  },
  "language_info": {
   "codemirror_mode": {
    "name": "ipython",
    "version": 3
   },
   "file_extension": ".py",
   "mimetype": "text/x-python",
   "name": "python",
   "nbconvert_exporter": "python",
   "pygments_lexer": "ipython3",
   "version": "3.7.7"
  }
 },
 "nbformat": 4,
 "nbformat_minor": 4
}
