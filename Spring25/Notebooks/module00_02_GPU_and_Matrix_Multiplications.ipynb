{
 "cells": [
  {
   "cell_type": "markdown",
   "metadata": {},
   "source": [
    "**Why GPUs?**\n",
    "\n",
    "  * GPUs = \"graphics processing units\"\n",
    "  * Vector transformations:\n",
    "     * Given a vector **V** = <X, Y, Z>, e.g., <1.0, 0.0, 0.0>\n",
    "     * To transform the vector, all transformations multiply the vector by a matrix\n",
    "     * e.g., to rotate V *r* radians around the Y-axis, multiply V by:\n",
    "     \n",
    "|          |   |         |\n",
    "|----------|---|---------|\n",
    "| cos *r*  | 0 | sin *r* | \n",
    "| 0        | 1 | 0       |\n",
    "| -sin *r* | 0 | cos *r* |\n"
   ]
  },
  {
   "cell_type": "code",
   "execution_count": 1,
   "metadata": {},
   "outputs": [
    {
     "name": "stdout",
     "output_type": "stream",
     "text": [
      "[1 0 0] rotated around Y-axis by 3.141592653589793 radians (180.0 degrees) = [-1.0000000e+00  0.0000000e+00  1.2246468e-16]\n",
      "[1 0 0] @ [[-1.0000000e+00  0.0000000e+00  1.2246468e-16]\n",
      " [ 0.0000000e+00  1.0000000e+00  0.0000000e+00]\n",
      " [-1.2246468e-16  0.0000000e+00 -1.0000000e+00]] = [-1.0000000e+00  0.0000000e+00  1.2246468e-16]\n"
     ]
    }
   ],
   "source": [
    "import numpy as np\n",
    "\n",
    "V = np.array([1,0,0])\n",
    "r = np.pi\n",
    "transform = np.array([[np.cos(r),0,np.sin(r)],\n",
    "                     [0,1,0],\n",
    "                     [-np.sin(r),0,np.cos(r)]])\n",
    "\n",
    "print(\"%s rotated around Y-axis by %s radians (%s degrees) = %s\" % (V,r,np.rad2deg(r),V @ transform))\n",
    "print(\"%s @ %s = %s\" % (V,transform,V @ transform))"
   ]
  },
  {
   "cell_type": "markdown",
   "metadata": {},
   "source": [
    "**Historical accident**\n",
    "\n",
    "  * GPU chips are optimized for exactly this type of matrix multiplication\n",
    "  * If you can transform a 3D vector, you can transform a 300D vector"
   ]
  },
  {
   "cell_type": "code",
   "execution_count": 2,
   "metadata": {},
   "outputs": [],
   "source": [
    "import matplotlib.pyplot as plt"
   ]
  },
  {
   "cell_type": "code",
   "execution_count": 3,
   "metadata": {},
   "outputs": [],
   "source": [
    "import torch\n",
    "import time"
   ]
  },
  {
   "cell_type": "code",
   "execution_count": 4,
   "metadata": {},
   "outputs": [
    {
     "data": {
      "text/plain": [
       "True"
      ]
     },
     "execution_count": 4,
     "metadata": {},
     "output_type": "execute_result"
    }
   ],
   "source": [
    "torch.cuda.is_available()"
   ]
  },
  {
   "cell_type": "code",
   "execution_count": 5,
   "metadata": {},
   "outputs": [
    {
     "name": "stdout",
     "output_type": "stream",
     "text": [
      "\n",
      "------------ n is 2000\n",
      "np type float32\n",
      "torch type torch.float32\n",
      "cuda type torch.float32\n",
      "Numpy took 4.04767 seconds. [509.5064  496.16357 502.1007  492.86786 514.0279 ]\n",
      "Pytorch took 0.05290 seconds. tensor([509.5062, 496.1638, 502.1002, 492.8676, 514.0280])\n",
      "Pytorch cuda took 0.01582 seconds. tensor([509.5062, 496.1641, 502.1006, 492.8675, 514.0283], device='cuda:0')\n",
      "Cuda is 255.83046 times faster.\n",
      "\n",
      "------------ n is 3000\n",
      "np type float32\n",
      "torch type torch.float32\n",
      "cuda type torch.float32\n",
      "Numpy took 13.51060 seconds. [730.8431  720.9278  743.46204 728.1621  750.6165 ]\n",
      "Pytorch took 0.08615 seconds. tensor([730.8436, 720.9269, 743.4622, 728.1627, 750.6172])\n",
      "Pytorch cuda took 0.01318 seconds. tensor([730.8431, 720.9278, 743.4620, 728.1621, 750.6166], device='cuda:0')\n",
      "Cuda is 1024.95200 times faster.\n",
      "\n",
      "------------ n is 4000\n",
      "np type float32\n",
      "torch type torch.float32\n",
      "cuda type torch.float32\n",
      "Numpy took 31.92821 seconds. [1018.5174  1006.6152   999.47394 1009.8718   999.91016]\n",
      "Pytorch took 0.24902 seconds. tensor([1018.5166, 1006.6149,  999.4730, 1009.8700,  999.9114])\n",
      "Pytorch cuda took 0.05779 seconds. tensor([1018.5174, 1006.6152,  999.4739, 1009.8718,  999.9102],\n",
      "       device='cuda:0')\n",
      "Cuda is 552.48630 times faster.\n",
      "\n",
      "------------ n is 5000\n",
      "np type float32\n",
      "torch type torch.float32\n",
      "cuda type torch.float32\n",
      "Numpy took 62.46308 seconds. [1218.8406 1225.4835 1249.9083 1257.195  1260.995 ]\n",
      "Pytorch took 0.40194 seconds. tensor([1218.8397, 1225.4821, 1249.9086, 1257.1942, 1260.9954])\n",
      "Pytorch cuda took 0.07687 seconds. tensor([1218.8406, 1225.4834, 1249.9083, 1257.1948, 1260.9950],\n",
      "       device='cuda:0')\n",
      "Cuda is 812.52823 times faster.\n",
      "\n",
      "------------ n is 6000\n",
      "np type float32\n",
      "torch type torch.float32\n",
      "cuda type torch.float32\n",
      "Numpy took 108.05609 seconds. [1480.3549 1487.7766 1460.679  1462.8698 1479.2224]\n",
      "Pytorch took 0.68123 seconds. tensor([1480.3545, 1487.7756, 1460.6793, 1462.8712, 1479.2223])\n",
      "Pytorch cuda took 0.12634 seconds. tensor([1480.3549, 1487.7765, 1460.6788, 1462.8698, 1479.2224],\n",
      "       device='cuda:0')\n",
      "Cuda is 855.27106 times faster.\n",
      "\n",
      "------------ n is 7000\n",
      "np type float32\n",
      "torch type torch.float32\n",
      "cuda type torch.float32\n",
      "Numpy took 171.94338 seconds. [1748.4105 1753.4961 1737.422  1749.163  1732.9724]\n",
      "Pytorch took 1.06589 seconds. tensor([1748.4084, 1753.4950, 1737.4221, 1749.1642, 1732.9751])\n",
      "Pytorch cuda took 0.19004 seconds. tensor([1748.4105, 1753.4962, 1737.4219, 1749.1631, 1732.9724],\n",
      "       device='cuda:0')\n",
      "Cuda is 904.77642 times faster.\n",
      "\n",
      "------------ n is 8000\n",
      "np type float32\n",
      "torch type torch.float32\n",
      "cuda type torch.float32\n",
      "Numpy took 256.95543 seconds. [1952.8031 1974.9592 1972.8383 1973.4664 1973.6515]\n",
      "Pytorch took 1.60939 seconds. tensor([1952.8046, 1974.9573, 1972.8381, 1973.4697, 1973.6538])\n",
      "Pytorch cuda took 0.26486 seconds. tensor([1952.8030, 1974.9592, 1972.8384, 1973.4663, 1973.6516],\n",
      "       device='cuda:0')\n",
      "Cuda is 970.13764 times faster.\n",
      "\n",
      "------------ n is 9000\n",
      "np type float32\n",
      "torch type torch.float32\n",
      "cuda type torch.float32\n",
      "Numpy took 361.67296 seconds. [2264.6575 2288.4128 2268.3513 2261.2654 2247.8284]\n",
      "Pytorch took 2.26868 seconds. tensor([2264.6582, 2288.4138, 2268.3518, 2261.2620, 2247.8320])\n",
      "Pytorch cuda took 0.36750 seconds. tensor([2264.6577, 2288.4128, 2268.3516, 2261.2654, 2247.8281],\n",
      "       device='cuda:0')\n",
      "Cuda is 984.15352 times faster.\n"
     ]
    }
   ],
   "source": [
    "ntimes = 1\n",
    "\n",
    "results = []\n",
    "for n in range(2000, 10000, 1000):\n",
    "\n",
    "    print(f'\\n------------ n is {n}')\n",
    "    \n",
    "    # compare to operations at the end of notebook 01\n",
    "    a = np.random.uniform(size=(n, n)).astype(np.float32)\n",
    "    b = np.random.uniform(size=(n, n)).astype(np.float32)\n",
    "    print('np type', a.dtype)\n",
    "\n",
    "    at = torch.from_numpy(a)\n",
    "    bt = torch.from_numpy(b)\n",
    "    print('torch type', at.dtype)\n",
    "\n",
    "    atgpu = at.to('cuda')\n",
    "    btgpu = bt.to('cuda')\n",
    "    print('cuda type', atgpu.dtype)\n",
    "    \n",
    "    \n",
    "    # @ = matrix multiplcation \"matmul\" operator\n",
    "    # AB = C -> c_ij = sum(a_ik*b_kj) for k in [1..n], i in [1..# rows in A], j in [1..# cols in B]\n",
    "    # (n is the magnitude of the other dimension in each matric)\n",
    "    # therefore AB is defined iff number of columns in A == number of rows in B\n",
    "    \n",
    "    start_time = time.time()\n",
    "    for i in range(ntimes):\n",
    "        c = a @ b\n",
    "    nptime = time.time() - start_time\n",
    "    print(f'Numpy took {nptime:.5f} seconds. {c[0, 0:5]}')\n",
    "\n",
    "    \n",
    "    start_time = time.time()\n",
    "    for i in range(ntimes):\n",
    "        ct = at @ bt\n",
    "    torchtime = time.time() - start_time\n",
    "    print(f'Pytorch took {torchtime:.5f} seconds. {ct[0, 0:5]}')\n",
    "    \n",
    "    \n",
    "    start_time = time.time()\n",
    "    for i in range(ntimes):\n",
    "        ctgpu = atgpu @ btgpu\n",
    "    torch.cuda.synchronize()\n",
    "    cudatime = time.time() - start_time\n",
    "    print(f'Pytorch cuda took {cudatime:.5f} seconds. {ctgpu[0, 0:5]}')\n",
    "    print(f'Cuda is {nptime / cudatime :.5f} times faster.')\n",
    "\n",
    "    results.append([n, nptime, torchtime, cudatime])\n",
    "\n"
   ]
  },
  {
   "cell_type": "code",
   "execution_count": 6,
   "metadata": {},
   "outputs": [
    {
     "ename": "TypeError",
     "evalue": "list indices must be integers or slices, not tuple",
     "output_type": "error",
     "traceback": [
      "\u001b[0;31m---------------------------------------------------------------------------\u001b[0m",
      "\u001b[0;31mTypeError\u001b[0m                                 Traceback (most recent call last)",
      "\u001b[0;32m/tmp/ipykernel_4448/3736342860.py\u001b[0m in \u001b[0;36m<module>\u001b[0;34m\u001b[0m\n\u001b[0;32m----> 1\u001b[0;31m \u001b[0mresults\u001b[0m\u001b[0;34m[\u001b[0m\u001b[0;34m:\u001b[0m\u001b[0;34m,\u001b[0m \u001b[0;34m-\u001b[0m\u001b[0;36m1\u001b[0m\u001b[0;34m]\u001b[0m \u001b[0;31m# results is currently a list, can't do this operation on lists\u001b[0m\u001b[0;34m\u001b[0m\u001b[0;34m\u001b[0m\u001b[0m\n\u001b[0m",
      "\u001b[0;31mTypeError\u001b[0m: list indices must be integers or slices, not tuple"
     ]
    }
   ],
   "source": [
    "results[:, -1] # results is currently a list, can't do this operation on lists"
   ]
  },
  {
   "cell_type": "code",
   "execution_count": 7,
   "metadata": {},
   "outputs": [
    {
     "data": {
      "image/png": "[encoded data removed]",
      "text/plain": [
       "<Figure size 864x864 with 1 Axes>"
      ]
     },
     "metadata": {
      "needs_background": "light"
     },
     "output_type": "display_data"
    }
   ],
   "source": [
    "results = np.array(results)\n",
    "\n",
    "plt.figure(figsize=(12, 12))\n",
    "plt.plot(results[:, 0], results[:, 1:])\n",
    "plt.legend(('Numpy', 'Torch', 'Cuda'))\n",
    "plt.xlabel('$n$')\n",
    "plt.ylabel(r'Seconds to multiply two $n \\times n$ matrices');"
   ]
  },
  {
   "cell_type": "code",
   "execution_count": 8,
   "metadata": {},
   "outputs": [
    {
     "data": {
      "image/png": "[encoded data removed]",
      "text/plain": [
       "<Figure size 432x288 with 1 Axes>"
      ]
     },
     "metadata": {
      "needs_background": "light"
     },
     "output_type": "display_data"
    }
   ],
   "source": [
    "plt.plot(results[1:, -1])\n",
    "plt.xlabel('$n$')\n",
    "plt.ylabel('Seconds')\n",
    "plt.title('Running on GPU');"
   ]
  },
  {
   "cell_type": "code",
   "execution_count": null,
   "metadata": {},
   "outputs": [],
   "source": []
  }
 ],
 "metadata": {
  "kernelspec": {
   "display_name": "Python 3 (ipykernel)",
   "language": "python",
   "name": "python3"
  },
  "language_info": {
   "codemirror_mode": {
    "name": "ipython",
    "version": 3
   },
   "file_extension": ".py",
   "mimetype": "text/x-python",
   "name": "python",
   "nbconvert_exporter": "python",
   "pygments_lexer": "ipython3",
   "version": "3.8.10"
  }
 },
 "nbformat": 4,
 "nbformat_minor": 4
}
