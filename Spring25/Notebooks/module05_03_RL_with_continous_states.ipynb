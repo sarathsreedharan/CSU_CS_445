{
  "cells": [
    {
      "cell_type": "markdown",
      "metadata": {
        "id": "view-in-github",
        "colab_type": "text"
      },
      "source": [
        "<a href=\"https://colab.research.google.com/github/sarathsreedharan/CSU_CS_445/blob/main/Spring25/Notebooks/module05_03_RL_with_continous_states.ipynb\" target=\"_parent\"><img src=\"https://colab.research.google.com/assets/colab-badge.svg\" alt=\"Open In Colab\"/></a>"
      ]
    },
    {
      "cell_type": "markdown",
      "metadata": {
        "id": "44wjJNFw9zVC"
      },
      "source": [
        "$$\\newcommand{\\Rv}{\\mathbf{R}}\n",
        "\\newcommand{\\rv}{\\mathbf{r}}\n",
        "\\newcommand{\\Qv}{\\mathbf{Q}}\n",
        "\\newcommand{\\Qnv}{\\mathbf{Qn}}\n",
        "\\newcommand{\\Av}{\\mathbf{A}}\n",
        "\\newcommand{\\Aiv}{\\mathbf{Ai}}\n",
        "\\newcommand{\\av}{\\mathbf{a}}\n",
        "\\newcommand{\\xv}{\\mathbf{x}}\n",
        "\\newcommand{\\Xv}{\\mathbf{X}}\n",
        "\\newcommand{\\yv}{\\mathbf{y}}\n",
        "\\newcommand{\\Yv}{\\mathbf{Y}}\n",
        "\\newcommand{\\zv}{\\mathbf{z}}\n",
        "\\newcommand{\\av}{\\mathbf{a}}\n",
        "\\newcommand{\\Wv}{\\mathbf{W}}\n",
        "\\newcommand{\\wv}{\\mathbf{w}}\n",
        "\\newcommand{\\betav}{\\mathbf{\\beta}}\n",
        "\\newcommand{\\gv}{\\mathbf{g}}\n",
        "\\newcommand{\\Hv}{\\mathbf{H}}\n",
        "\\newcommand{\\dv}{\\mathbf{d}}\n",
        "\\newcommand{\\Vv}{\\mathbf{V}}\n",
        "\\newcommand{\\vv}{\\mathbf{v}}\n",
        "\\newcommand{\\Uv}{\\mathbf{U}}\n",
        "\\newcommand{\\uv}{\\mathbf{u}}\n",
        "\\newcommand{\\tv}{\\mathbf{t}}\n",
        "\\newcommand{\\Tv}{\\mathbf{T}}\n",
        "\\newcommand{\\TDv}{\\mathbf{TD}}\n",
        "\\newcommand{\\Tiv}{\\mathbf{Ti}}\n",
        "\\newcommand{\\Sv}{\\mathbf{S}}\n",
        "\\newcommand{\\Gv}{\\mathbf{G}}\n",
        "\\newcommand{\\zv}{\\mathbf{z}}\n",
        "\\newcommand{\\Zv}{\\mathbf{Z}}\n",
        "\\newcommand{\\Norm}{\\mathcal{N}}\n",
        "\\newcommand{\\muv}{\\boldsymbol{\\mu}}\n",
        "\\newcommand{\\sigmav}{\\boldsymbol{\\sigma}}\n",
        "\\newcommand{\\phiv}{\\boldsymbol{\\phi}}\n",
        "\\newcommand{\\Phiv}{\\boldsymbol{\\Phi}}\n",
        "\\newcommand{\\Sigmav}{\\boldsymbol{\\Sigma}}\n",
        "\\newcommand{\\Lambdav}{\\boldsymbol{\\Lambda}}\n",
        "\\newcommand{\\half}{\\frac{1}{2}}\n",
        "\\newcommand{\\argmax}[1]{\\underset{#1}{\\operatorname{argmax}}}\n",
        "\\newcommand{\\argmin}[1]{\\underset{#1}{\\operatorname{argmin}}}\n",
        "\\newcommand{\\dimensionbar}[1]{\\underset{#1}{\\operatorname{|}}}\n",
        "\\newcommand{\\grad}{\\mathbf{\\nabla}}\n",
        "\\newcommand{\\ebx}[1]{e^{\\betav_{#1}^T \\xv_n}}\n",
        "\\newcommand{\\eby}[1]{e^{y_{n,#1}}}\n",
        "\\newcommand{\\Tiv}{\\mathbf{Ti}}\n",
        "\\newcommand{\\Fv}{\\mathbf{F}}\n",
        "\\newcommand{\\ones}[1]{\\mathbf{1}_{#1}}\n",
        "$$"
      ]
    },
    {
      "cell_type": "markdown",
      "metadata": {
        "id": "_4pI4kMU9zVD"
      },
      "source": [
        "# Reinforcement Learning to Control a Marble"
      ]
    },
    {
      "cell_type": "markdown",
      "metadata": {
        "id": "OUUbTnB29zVD"
      },
      "source": [
        "Remember the one-dimensional maze example from last time.  \n",
        "\n",
        "We can make our one-dimensional maze problem into a realistic control\n",
        "problem by saying we have a marble on a one-dimensional track that has\n",
        "a mass and real-valued position and velocity values.  So the state is\n",
        "actually two-dimensional, position, $x$, and velocity,\n",
        "$\\dot{x}$. Actions are forces on the marble.  Actions like forces can be continuous but for now let's just sample 3 evenly distributed actions from our continuous action space: $-1$, $0$, and $1$.\n",
        "\n",
        "Our goal is to get the marble to a particular position on the track."
      ]
    },
    {
      "cell_type": "markdown",
      "metadata": {
        "id": "BAh6sTrx9zVD"
      },
      "source": [
        "Import NNs with regression."
      ]
    },
    {
      "cell_type": "code",
      "execution_count": null,
      "metadata": {
        "id": "Sw3LlyjZ9zVD"
      },
      "outputs": [],
      "source": [
        "import numpy as np\n",
        "import matplotlib.pyplot as plt\n",
        "import pandas\n",
        "import optimizers\n",
        "import neuralnetworks_A5 as nn"
      ]
    },
    {
      "cell_type": "markdown",
      "metadata": {
        "id": "sjDvlPBq9zVD"
      },
      "source": [
        "As before, we define the ```reinforcement```, ```initial_state```, and ```next_state``` functions to specify our dynamic marble problem."
      ]
    },
    {
      "cell_type": "code",
      "execution_count": null,
      "metadata": {
        "id": "aGL3rfHt9zVD"
      },
      "outputs": [],
      "source": [
        "valid_actions = (-1, 0, 1)   # Possible actions\n",
        "\n",
        "def reinforcement(s, sn):\n",
        "    goal = 5\n",
        "    return 0 if abs(sn[0] - goal) < 1 else -1\n",
        "\n",
        "def initial_state():\n",
        "    return np.array([10 * np.random.uniform(), 0.0])\n",
        "\n",
        "def next_state(s, a):\n",
        "    '''[0] is position, s[1] is velocity. a is -1, 0 or 1'''\n",
        "    s = s.copy()\n",
        "    deltaT = 0.1                           # Euler integration time step\n",
        "    s[0] += deltaT * s[1]                  # Update position\n",
        "    force = a\n",
        "    mass = 0.8\n",
        "    s[1] += deltaT * (force / mass - 0.05 * s[1])  # Update velocity. Includes friction\n",
        "\n",
        "    # Bound next position. If at limits, set velocity to 0.\n",
        "    if s[0] < 0:\n",
        "        s = [0., 0.]    # these constants as ints were causing errors ---\n",
        "    elif s[0] > 10:\n",
        "        s = [10., 0.]\n",
        "\n",
        "    return np.array(s)"
      ]
    },
    {
      "cell_type": "markdown",
      "metadata": {
        "id": "NFkzXa699zVD"
      },
      "source": [
        "`initial_state()` will sample an initial state, which is a 2-element array.  The first element is the position of the marble at the start (randomly sampled from between 0 and 10), and the second element is the starting velocity (always 0)."
      ]
    },
    {
      "cell_type": "code",
      "execution_count": null,
      "metadata": {
        "id": "2SMKvbcj9zVD",
        "outputId": "2783c8d5-53c7-4d62-cf0c-4d8668702a61"
      },
      "outputs": [
        {
          "data": {
            "text/plain": [
              "array([4.34083748, 0.        ])"
            ]
          },
          "execution_count": 3,
          "metadata": {},
          "output_type": "execute_result"
        }
      ],
      "source": [
        "initial_state()"
      ]
    },
    {
      "cell_type": "markdown",
      "metadata": {
        "id": "zAleK4fb9zVD"
      },
      "source": [
        "We can randomly choose from our three valid actions."
      ]
    },
    {
      "cell_type": "code",
      "execution_count": null,
      "metadata": {
        "id": "4RJ91OvJ9zVE",
        "outputId": "d575c988-4668-4b49-a549-483a631bdb74"
      },
      "outputs": [
        {
          "data": {
            "text/plain": [
              "0"
            ]
          },
          "execution_count": 4,
          "metadata": {},
          "output_type": "execute_result"
        }
      ],
      "source": [
        "np.random.choice(valid_actions)"
      ]
    },
    {
      "cell_type": "markdown",
      "metadata": {
        "id": "JL7Q9-jW9zVE"
      },
      "source": [
        "Take a look at the `reinforcements` function.  What does it do?"
      ]
    },
    {
      "cell_type": "code",
      "execution_count": null,
      "metadata": {
        "scrolled": true,
        "id": "goyGxcqX9zVE",
        "outputId": "60c5bf72-9b78-4a78-83ba-67af92afcc0f"
      },
      "outputs": [
        {
          "name": "stdout",
          "output_type": "stream",
          "text": [
            "Starting position: 5.6723327144905795\n",
            "Final position: 5.2410129928521165\n"
          ]
        },
        {
          "data": {
            "image/png": "[encoded data removed]",
            "text/plain": [
              "<Figure size 432x288 with 1 Axes>"
            ]
          },
          "metadata": {
            "needs_background": "light"
          },
          "output_type": "display_data"
        }
      ],
      "source": [
        "s = initial_state()\n",
        "print(\"Starting position: %s\" % s[0])\n",
        "pos = []\n",
        "for i in range(1000):\n",
        "    a = np.random.choice(valid_actions)\n",
        "    s = next_state(s, a)\n",
        "    r = reinforcement(s, s)\n",
        "    pos.append(s.tolist() + [a, r])\n",
        "\n",
        "plt.plot(np.array(pos))\n",
        "plt.legend(('pos', 'vel', 'a', 'r'))\n",
        "\n",
        "print(\"Final position: %s\" % pos[-1][0])"
      ]
    },
    {
      "cell_type": "code",
      "execution_count": null,
      "metadata": {
        "id": "40cl8fZR9zVE",
        "outputId": "3c129f18-feff-44b8-e4f9-962c93eba018"
      },
      "outputs": [
        {
          "data": {
            "text/html": [
              "<div>\n",
              "<style scoped>\n",
              "    .dataframe tbody tr th:only-of-type {\n",
              "        vertical-align: middle;\n",
              "    }\n",
              "\n",
              "    .dataframe tbody tr th {\n",
              "        vertical-align: top;\n",
              "    }\n",
              "\n",
              "    .dataframe thead th {\n",
              "        text-align: right;\n",
              "    }\n",
              "</style>\n",
              "<table border=\"1\" class=\"dataframe\">\n",
              "  <thead>\n",
              "    <tr style=\"text-align: right;\">\n",
              "      <th></th>\n",
              "      <th>Last 10 pos</th>\n",
              "      <th>Last 10 vel</th>\n",
              "      <th>Last 10 actions</th>\n",
              "    </tr>\n",
              "  </thead>\n",
              "  <tbody>\n",
              "    <tr>\n",
              "      <th>0</th>\n",
              "      <td>5.819289</td>\n",
              "      <td>-0.290964</td>\n",
              "      <td>0</td>\n",
              "    </tr>\n",
              "    <tr>\n",
              "      <th>1</th>\n",
              "      <td>5.790192</td>\n",
              "      <td>-0.289510</td>\n",
              "      <td>0</td>\n",
              "    </tr>\n",
              "    <tr>\n",
              "      <th>2</th>\n",
              "      <td>5.761241</td>\n",
              "      <td>-0.413062</td>\n",
              "      <td>-1</td>\n",
              "    </tr>\n",
              "    <tr>\n",
              "      <th>3</th>\n",
              "      <td>5.719935</td>\n",
              "      <td>-0.535997</td>\n",
              "      <td>-1</td>\n",
              "    </tr>\n",
              "    <tr>\n",
              "      <th>4</th>\n",
              "      <td>5.666335</td>\n",
              "      <td>-0.658317</td>\n",
              "      <td>-1</td>\n",
              "    </tr>\n",
              "    <tr>\n",
              "      <th>5</th>\n",
              "      <td>5.600504</td>\n",
              "      <td>-0.780025</td>\n",
              "      <td>-1</td>\n",
              "    </tr>\n",
              "    <tr>\n",
              "      <th>6</th>\n",
              "      <td>5.522501</td>\n",
              "      <td>-0.901125</td>\n",
              "      <td>-1</td>\n",
              "    </tr>\n",
              "    <tr>\n",
              "      <th>7</th>\n",
              "      <td>5.432389</td>\n",
              "      <td>-0.896619</td>\n",
              "      <td>0</td>\n",
              "    </tr>\n",
              "    <tr>\n",
              "      <th>8</th>\n",
              "      <td>5.342727</td>\n",
              "      <td>-1.017136</td>\n",
              "      <td>-1</td>\n",
              "    </tr>\n",
              "    <tr>\n",
              "      <th>9</th>\n",
              "      <td>5.241013</td>\n",
              "      <td>-1.012051</td>\n",
              "      <td>0</td>\n",
              "    </tr>\n",
              "  </tbody>\n",
              "</table>\n",
              "</div>"
            ],
            "text/plain": [
              "   Last 10 pos  Last 10 vel  Last 10 actions\n",
              "0     5.819289    -0.290964                0\n",
              "1     5.790192    -0.289510                0\n",
              "2     5.761241    -0.413062               -1\n",
              "3     5.719935    -0.535997               -1\n",
              "4     5.666335    -0.658317               -1\n",
              "5     5.600504    -0.780025               -1\n",
              "6     5.522501    -0.901125               -1\n",
              "7     5.432389    -0.896619                0\n",
              "8     5.342727    -1.017136               -1\n",
              "9     5.241013    -1.012051                0"
            ]
          },
          "execution_count": 6,
          "metadata": {},
          "output_type": "execute_result"
        }
      ],
      "source": [
        "n = 10\n",
        "df = pandas.DataFrame([p[0:3] for p in pos[-n:]],columns=['Last %s pos' % n,'Last %s vel' % n,'Last %s actions' % n])\n",
        "df"
      ]
    },
    {
      "cell_type": "markdown",
      "metadata": {
        "id": "7iMTQU7U9zVE"
      },
      "source": [
        "Did the marble get to the goal position?"
      ]
    },
    {
      "cell_type": "markdown",
      "metadata": {
        "id": "Fs1NcM609zVE"
      },
      "source": [
        "What went wrong here?"
      ]
    },
    {
      "cell_type": "markdown",
      "metadata": {
        "id": "IVMpfMit9zVE"
      },
      "source": [
        "$\\color{white}{\\text{We're just taking random actions and not optimizing them for the current state.}}$"
      ]
    },
    {
      "cell_type": "markdown",
      "metadata": {
        "id": "60q1Fok29zVE"
      },
      "source": [
        "We should use our neural network as the Q function.\n",
        "\n",
        "We also need our ```epsilon_greedy``` function."
      ]
    },
    {
      "cell_type": "code",
      "execution_count": null,
      "metadata": {
        "id": "04-f2iWm9zVE"
      },
      "outputs": [],
      "source": [
        "def epsilon_greedy(Qnet, state, valid_actions, epsilon):\n",
        "\n",
        "    if np.random.uniform() < epsilon:\n",
        "        # Random Move\n",
        "        action = np.random.choice(valid_actions)\n",
        "    else:\n",
        "        # Greedy Move\n",
        "        Qs = [Qnet.use(np.hstack((state, a)).reshape((1, -1))) for a in valid_actions]\n",
        "        ai = np.argmax(Qs)\n",
        "        action = valid_actions[ai]\n",
        "\n",
        "    Q = Qnet.use(np.hstack((state, action)).reshape((1, -1)))\n",
        "\n",
        "    return action, Q"
      ]
    },
    {
      "cell_type": "markdown",
      "metadata": {
        "id": "fDFUoxj59zVE"
      },
      "source": [
        "The ```make_samples``` function is still general:"
      ]
    },
    {
      "cell_type": "code",
      "execution_count": null,
      "metadata": {
        "id": "2JO_Z51O9zVE"
      },
      "outputs": [],
      "source": [
        "def make_samples(Qnet, initial_state_f, next_state_f, reinforcement_f, valid_actions, n_samples, epsilon):\n",
        "\n",
        "    X = np.zeros((n_samples, Qnet.n_inputs))\n",
        "    R = np.zeros((n_samples, 1))\n",
        "    Qn = np.zeros((n_samples, 1))\n",
        "\n",
        "    s = initial_state_f()\n",
        "    a, _ = epsilon_greedy(Qnet, s, valid_actions, epsilon)\n",
        "\n",
        "    # Collect data from n_samples steps\n",
        "    for step in range(n_samples):\n",
        "\n",
        "        sn = next_state_f(s, a)        # Update state, sn, from s and a\n",
        "        rn = reinforcement_f(s, sn)    # Calculate resulting reinforcement\n",
        "        an, qn = epsilon_greedy(Qnet, sn, valid_actions, epsilon)  # choose next action\n",
        "        X[step, :] = (s, a)\n",
        "        R[step, 0] = rn\n",
        "        Qn[step, 0] = qn\n",
        "        s, a = sn, an  # Advance one time step\n",
        "\n",
        "    return (X, R, Qn)"
      ]
    },
    {
      "cell_type": "code",
      "execution_count": null,
      "metadata": {
        "id": "3as7o-6V9zVE",
        "outputId": "374aa1e1-b8be-4f00-8052-bb766483937a"
      },
      "outputs": [
        {
          "data": {
            "text/plain": [
              "array([ 5.24101299, -1.01205065])"
            ]
          },
          "execution_count": 14,
          "metadata": {},
          "output_type": "execute_result"
        }
      ],
      "source": [
        "s"
      ]
    },
    {
      "cell_type": "markdown",
      "metadata": {
        "id": "dgjsamaH9zVE"
      },
      "source": [
        "Remember, `s`, the state, consists of a position and a velocity, so it is now a 2-element array, so `(s, a)` is 3 elements.\n",
        "\n",
        "We'll modify this function from the previous notes just a bit to allow our state variable to contain multiple values."
      ]
    },
    {
      "cell_type": "code",
      "execution_count": null,
      "metadata": {
        "id": "bF9zFK5Z9zVE"
      },
      "outputs": [],
      "source": [
        "def make_samples(Qnet, initial_state_f, next_state_f, reinforcement_f, valid_actions, n_samples, epsilon):\n",
        "\n",
        "    X = np.zeros((n_samples, Qnet.n_inputs))\n",
        "    R = np.zeros((n_samples, 1))\n",
        "    Qn = np.zeros((n_samples, 1))\n",
        "\n",
        "    s = initial_state_f()\n",
        "    s = next_state_f(s, 0)        # New: Update state, sn from s and a\n",
        "    a, _ = epsilon_greedy(Qnet, s, valid_actions, epsilon)\n",
        "\n",
        "    # Collect data from n_samples steps\n",
        "    for step in range(n_samples):\n",
        "\n",
        "        sn = next_state_f(s, a)\n",
        "        rn = reinforcement_f(s, sn)\n",
        "        an, qn = epsilon_greedy(Qnet, sn, valid_actions, epsilon) # Forward pass for time t+1\n",
        "        X[step, :] = np.hstack((s, a)) # accomodate multiple values in s\n",
        "        R[step, 0] = rn\n",
        "        Qn[step, 0] = qn\n",
        "        # Advance one time step\n",
        "        s, a = sn, an\n",
        "\n",
        "    return (X, R, Qn)"
      ]
    },
    {
      "cell_type": "markdown",
      "metadata": {
        "id": "cuClhoeF9zVE"
      },
      "source": [
        "Now we're teady to train!"
      ]
    },
    {
      "cell_type": "markdown",
      "metadata": {
        "id": "QiCOkk679zVE"
      },
      "source": [
        "Like before, let's make a `plot_status` function to show us how we are doing."
      ]
    },
    {
      "cell_type": "code",
      "execution_count": null,
      "metadata": {
        "id": "HyLPbjVS9zVE"
      },
      "outputs": [],
      "source": [
        "from mpl_toolkits.mplot3d import Axes3D\n",
        "from matplotlib import cm\n",
        "\n",
        "def plot_status(Qnet, trial, epsilon_trace, r_trace):\n",
        "    # I want to plot:\n",
        "\n",
        "    # 1. the probability of taking a random action (exploration) vs. # trials\n",
        "    plt.subplot(4, 3, 1)\n",
        "    plt.plot(epsilon_trace[:trial + 1])\n",
        "    plt.ylabel('Random Action Probability ($\\epsilon$)')\n",
        "    plt.ylim(0, 1)\n",
        "\n",
        "    # 2. the starting position of each sample\n",
        "    plt.subplot(4, 3, 2)\n",
        "    plt.plot(X[:, 0])\n",
        "    plt.plot([0, X.shape[0]], [5, 5], '--', alpha=0.5, lw=5) # mark the goal position at 5\n",
        "    plt.ylabel('$x$')\n",
        "    plt.ylim(-1, 11)\n",
        "\n",
        "    # 3. the latest policy shown as action for each state\n",
        "    qs = Qnet.use(np.array([[s, 0, a] for a in valid_actions for s in range(11)]))\n",
        "    plt.subplot(4, 3, 3)\n",
        "    acts = ['L', '0', 'R']\n",
        "    actsiByState = np.argmax(qs.reshape((len(valid_actions), -1)), axis=0)\n",
        "    for i in range(11):\n",
        "        plt.text(i, 0, acts[actsiByState[i]])\n",
        "        plt.xlim(-1, 11)\n",
        "        plt.ylim(-1, 1)\n",
        "    plt.text(2, 0.2,'Policy for Zero Velocity')\n",
        "    plt.axis('off')\n",
        "\n",
        "    # 4. the mean reinforcement vs. trial\n",
        "    # we'll also smooth it, showing the mean reinforcement every 20 trials\n",
        "    plt.subplot(4, 3, 4)\n",
        "    plt.plot(r_trace[:trial + 1], alpha=0.5)\n",
        "    binSize = 20\n",
        "    if trial+1 > binSize:\n",
        "        # Calculate mean of every bin of binSize reinforcement values\n",
        "        smoothed = np.mean(r_trace[:int(trial / binSize) * binSize].reshape((int(trial / binSize), binSize)), axis=1)\n",
        "        plt.plot(np.arange(1, 1 + int(trial / binSize)) * binSize, smoothed)\n",
        "    plt.ylabel('Mean reinforcement')\n",
        "\n",
        "    # 5. velocity vs. position\n",
        "    # red bar shows target position of 5\n",
        "    plt.subplot(4, 3, 5)\n",
        "    plt.plot(X[:, 0], X[: ,1])\n",
        "    plt.plot(X[0, 0], X[0, 1], 'o')\n",
        "    plt.xlabel('$x$')\n",
        "    plt.ylabel('$\\dot{x}$')\n",
        "    plt.fill_between([4, 6], [-5, -5], [5, 5], color='red', alpha=0.3)  # CHECK OUT THIS FUNCTION!\n",
        "    plt.xlim(-1, 11)\n",
        "    plt.ylim(-5, 5)\n",
        "\n",
        "    #plt.subplot(4, 3, 6)\n",
        "    #Qnet.draw(['$x$', '$\\dot{x}$', '$a$'], ['Q'])\n",
        "\n",
        "    # 7-11. Max Q value vs. state (position, velocity) and actions vs. (position, velocity)\n",
        "    # show top-down and 3D plots\n",
        "    plt.subplot(4, 3, 7)\n",
        "    n = 20\n",
        "    positions = np.linspace(0, 10, n)\n",
        "    velocities =  np.linspace(-5, 5, n)\n",
        "    xs, ys = np.meshgrid(positions, velocities)\n",
        "    xsflat = xs.flat\n",
        "    ysflat = ys.flat\n",
        "    qs = Qnet.use(np.array([[xsflat[i], ysflat[i], a] for a in valid_actions for i in range(len(xsflat))]))\n",
        "    qs = qs.reshape((len(valid_actions), -1)).T\n",
        "    qsmax = np.max(qs, axis=1).reshape(xs.shape)\n",
        "    cs = plt.contourf(xs, ys, qsmax)\n",
        "    plt.colorbar(cs)\n",
        "    plt.xlabel('$x$')\n",
        "    plt.ylabel('$\\dot{x}$')\n",
        "    plt.title('Max Q')\n",
        "\n",
        "    plt.subplot(4, 3, 8)\n",
        "    acts = np.array(valid_actions)[np.argmax(qs, axis=1)].reshape(xs.shape)\n",
        "    cs = plt.contourf(xs, ys, acts, [-2, -0.5, 0.5, 2])\n",
        "    plt.colorbar(cs)\n",
        "    plt.xlabel('$x$')\n",
        "    plt.ylabel('$\\dot{x}$')\n",
        "    plt.title('Actions')\n",
        "\n",
        "    s = plt.subplot(4, 3, 10)\n",
        "    rect = s.get_position()\n",
        "    ax = Axes3D(plt.gcf(), rect=rect)\n",
        "    ax.plot_surface(xs, ys, qsmax, cmap=cm.jet, linewidth=0)\n",
        "    ax.set_xlabel('$x$')\n",
        "    ax.set_ylabel('$\\dot{x}$')\n",
        "    plt.title('Max Q')\n",
        "\n",
        "    s = plt.subplot(4, 3, 11)\n",
        "    rect = s.get_position()\n",
        "    ax = Axes3D(plt.gcf(), rect=rect)\n",
        "    ax.plot_surface(xs, ys, acts, cmap=cm.jet, linewidth=0)\n",
        "    ax.set_xlabel('$x$')\n",
        "    ax.set_ylabel('$\\dot{x}$')\n",
        "    plt.title('Action')\n",
        "\n",
        "    plt.tight_layout()"
      ]
    },
    {
      "cell_type": "markdown",
      "metadata": {
        "id": "hl-52eHf9zVF"
      },
      "source": [
        "And, let's write a function to plop the marble down at a number of positions and try to control it, plotting the results."
      ]
    },
    {
      "cell_type": "code",
      "execution_count": null,
      "metadata": {
        "id": "ETDgkRnO9zVF"
      },
      "outputs": [],
      "source": [
        "def test_it(Qnet, n_trials, n_steps_per_trial):\n",
        "    xs = np.linspace(0, 10, n_trials)\n",
        "    plt.subplot(4, 3, 12)\n",
        "\n",
        "    # For a number (n_trials) of starting positions, run marble sim for n_steps_per_trial\n",
        "    for x in xs:\n",
        "\n",
        "        s = [x, 0]  # 0 velocity\n",
        "        x_trace = np.zeros((n_steps_per_trial, 2))\n",
        "        for step in range(n_steps_per_trial):\n",
        "            a, _ = epsilon_greedy(Qnet, s, valid_actions, 0.0) # epsilon = 0\n",
        "            s = next_state(s, a)\n",
        "            x_trace[step, :] = s\n",
        "\n",
        "        # add one more thing to the plot:\n",
        "        # velocities vs. position over steps per trial\n",
        "        plt.plot(x_trace[:, 0], x_trace[:, 1])\n",
        "        plt.xlim(-1, 11)\n",
        "        plt.ylim(-5, 5)\n",
        "        plt.plot([5, 5], [-5, 5], '--', alpha=0.5, lw=5)\n",
        "        plt.ylabel('$\\dot{x}$')\n",
        "        plt.xlabel('$x$')\n",
        "        plt.title('State Trajectories for $\\epsilon=0$')"
      ]
    },
    {
      "cell_type": "code",
      "execution_count": null,
      "metadata": {
        "id": "hKAedkkW9zVF"
      },
      "outputs": [],
      "source": [
        "def setup_standardization(Qnet, Xmeans, Xstds, Tmeans, Tstds):\n",
        "    Qnet.Xmeans = np.array(Xmeans)\n",
        "    Qnet.Xstds = np.array(Xstds)\n",
        "    Qnet.Tmeans = np.array(Tmeans)\n",
        "    Qnet.Tstds = np.array(Tstds)"
      ]
    },
    {
      "cell_type": "code",
      "execution_count": null,
      "metadata": {
        "id": "pRT4OSTf9zVF",
        "outputId": "cf8434c3-aecf-4bd6-ac8a-77374daededc"
      },
      "outputs": [
        {
          "data": {
            "text/plain": [
              "(1.0, 2.8722813232690143)"
            ]
          },
          "execution_count": 47,
          "metadata": {},
          "output_type": "execute_result"
        }
      ],
      "source": [
        "np.std([-1, 1]), np.std(np.arange(10))"
      ]
    },
    {
      "cell_type": "code",
      "execution_count": null,
      "metadata": {
        "id": "97zOX2KP9zVF",
        "outputId": "52e5aa81-b599-4cab-8520-31f33449f424"
      },
      "outputs": [
        {
          "name": "stdout",
          "output_type": "stream",
          "text": [
            "Training took 30.4116 seconds\n"
          ]
        },
        {
          "data": {
            "image/png": "[encoded data removed]",
            "text/plain": [
              "<Figure size 720x720 with 14 Axes>"
            ]
          },
          "metadata": {
            "needs_background": "light"
          },
          "output_type": "display_data"
        }
      ],
      "source": [
        "import time\n",
        "from IPython.display import display, clear_output\n",
        "fig = plt.figure(figsize=(10, 10))\n",
        "\n",
        "start_time = time.time()\n",
        "\n",
        "gamma = 0.8        # discount factor\n",
        "n_trials = 750         # number of repetitions of makeSamples-updateQ loop\n",
        "n_steps_per_trial = 250 # number of steps between new random initial states\n",
        "n_epochs = 10\n",
        "learning_rate = 0.05\n",
        "final_epsilon = 0.01 # value of epsilon at end of simulation. Decay rate is calculated\n",
        "epsilon_decay =  np.exp(np.log(final_epsilon) / (n_trials)) # to produce this final value\n",
        "print('epsilon_decay is', epsilon_decay)\n",
        "epsilon_trace = np.zeros(n_trials)\n",
        "r_trace = np.zeros(n_trials)\n",
        "\n",
        "# Create the Qnet\n",
        "nh = [10]  # hidden layers structure\n",
        "Qnet = nn.NeuralNetwork(3, nh, 1)\n",
        "# Inputs are position (1 to 10) velocity (-3 to 3) and action (-1, 0, or 1)\n",
        "setup_standardization(Qnet, [np.mean(np.arange(1,11)),np.mean(np.arange(-3,4)),np.mean([-1,0,1])],\n",
        "                      [np.std(np.arange(1,11)),np.std(np.arange(-3,4)),np.std([-1,0,1])],\n",
        "                      [np.mean(np.arange(-5,4))], [np.std(np.arange(-5,4))])\n",
        "\n",
        "epsilon = 1         # initial epsilon value\n",
        "\n",
        "# Train for n_trials\n",
        "for trial in range(n_trials):\n",
        "\n",
        "    # Collect n_steps_per_trial samples of X, R, Qn, and Q, and update epsilon\n",
        "    X, R, Qn = make_samples(Qnet, initial_state, next_state, reinforcement, valid_actions,\n",
        "                            n_steps_per_trial, epsilon)\n",
        "\n",
        "    Qnet.train(X, R + gamma * Qn, n_epochs, learning_rate, method='sgd')\n",
        "\n",
        "    # Rest is for plotting\n",
        "    epsilon_trace[trial] = epsilon\n",
        "    epsilon *= epsilon_decay\n",
        "    r_trace[trial] = np.mean(R)\n",
        "    #Adjust how often to draw here\n",
        "    if True and (trial + 1 == n_trials or trial % (n_trials / 5) == 0):\n",
        "        fig.clf()\n",
        "        plot_status(Qnet, trial, epsilon_trace, r_trace)\n",
        "        test_it(Qnet, 10, 500)\n",
        "        clear_output(wait=True)\n",
        "        display(fig)\n",
        "\n",
        "clear_output(wait=True)\n",
        "\n",
        "print(\"Training took %.4f seconds\" % float(time.time()-start_time))"
      ]
    },
    {
      "cell_type": "code",
      "execution_count": null,
      "metadata": {
        "id": "dUDVc1Bh9zVF",
        "outputId": "1d3b2622-271d-4fe3-9dcf-e83248eff0b5"
      },
      "outputs": [
        {
          "data": {
            "text/html": [
              "<div>\n",
              "<style scoped>\n",
              "    .dataframe tbody tr th:only-of-type {\n",
              "        vertical-align: middle;\n",
              "    }\n",
              "\n",
              "    .dataframe tbody tr th {\n",
              "        vertical-align: top;\n",
              "    }\n",
              "\n",
              "    .dataframe thead th {\n",
              "        text-align: right;\n",
              "    }\n",
              "</style>\n",
              "<table border=\"1\" class=\"dataframe\">\n",
              "  <thead>\n",
              "    <tr style=\"text-align: right;\">\n",
              "      <th></th>\n",
              "      <th>Last 10 r</th>\n",
              "    </tr>\n",
              "  </thead>\n",
              "  <tbody>\n",
              "    <tr>\n",
              "      <th>0</th>\n",
              "      <td>-1.000</td>\n",
              "    </tr>\n",
              "    <tr>\n",
              "      <th>1</th>\n",
              "      <td>-0.384</td>\n",
              "    </tr>\n",
              "    <tr>\n",
              "      <th>2</th>\n",
              "      <td>-0.956</td>\n",
              "    </tr>\n",
              "    <tr>\n",
              "      <th>3</th>\n",
              "      <td>-0.060</td>\n",
              "    </tr>\n",
              "    <tr>\n",
              "      <th>4</th>\n",
              "      <td>-0.960</td>\n",
              "    </tr>\n",
              "    <tr>\n",
              "      <th>5</th>\n",
              "      <td>-0.268</td>\n",
              "    </tr>\n",
              "    <tr>\n",
              "      <th>6</th>\n",
              "      <td>-1.000</td>\n",
              "    </tr>\n",
              "    <tr>\n",
              "      <th>7</th>\n",
              "      <td>-0.552</td>\n",
              "    </tr>\n",
              "    <tr>\n",
              "      <th>8</th>\n",
              "      <td>-0.064</td>\n",
              "    </tr>\n",
              "    <tr>\n",
              "      <th>9</th>\n",
              "      <td>-1.000</td>\n",
              "    </tr>\n",
              "  </tbody>\n",
              "</table>\n",
              "</div>"
            ],
            "text/plain": [
              "   Last 10 r\n",
              "0     -1.000\n",
              "1     -0.384\n",
              "2     -0.956\n",
              "3     -0.060\n",
              "4     -0.960\n",
              "5     -0.268\n",
              "6     -1.000\n",
              "7     -0.552\n",
              "8     -0.064\n",
              "9     -1.000"
            ]
          },
          "execution_count": 72,
          "metadata": {},
          "output_type": "execute_result"
        }
      ],
      "source": [
        "n = 10\n",
        "df = pandas.DataFrame([r for r in r_trace[-n:]],columns=['Last %s r' % n])\n",
        "df"
      ]
    },
    {
      "cell_type": "code",
      "execution_count": null,
      "metadata": {
        "id": "P-4RajWf9zVF"
      },
      "outputs": [],
      "source": []
    }
  ],
  "metadata": {
    "kernelspec": {
      "display_name": "Python 3 (ipykernel)",
      "language": "python",
      "name": "python3"
    },
    "language_info": {
      "codemirror_mode": {
        "name": "ipython",
        "version": 3
      },
      "file_extension": ".py",
      "mimetype": "text/x-python",
      "name": "python",
      "nbconvert_exporter": "python",
      "pygments_lexer": "ipython3",
      "version": "3.10.9"
    },
    "toc": {
      "base_numbering": 1,
      "nav_menu": {},
      "number_sections": true,
      "sideBar": true,
      "skip_h1_title": false,
      "title_cell": "Table of Contents",
      "title_sidebar": "Contents",
      "toc_cell": false,
      "toc_position": {},
      "toc_section_display": true,
      "toc_window_display": false
    },
    "colab": {
      "provenance": [],
      "include_colab_link": true
    }
  },
  "nbformat": 4,
  "nbformat_minor": 0
}