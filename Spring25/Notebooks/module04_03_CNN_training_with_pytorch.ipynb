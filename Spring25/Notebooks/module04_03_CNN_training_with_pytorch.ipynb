{
 "cells": [
  {
   "cell_type": "markdown",
   "metadata": {},
   "source": [
    "# 15 Convolutional Neural Networks in Pytorch"
   ]
  },
  {
   "cell_type": "markdown",
   "metadata": {},
   "source": [
    "If you are planning to use `pytorch` on the workstations installed in the Department of Computer Science, you must execute this command\n",
    "\n",
    "`export PYTHONPATH=$PYTHONPATH:/usr/local/anaconda/lib/python3.7/site-packages/`\n",
    "\n",
    "A better solution is to add it to your startup script, such as `.bashrc`."
   ]
  },
  {
   "cell_type": "markdown",
   "metadata": {},
   "source": [
    "A more complete example of implementing a convolutional network in Pytorch is [here](https://pytorch.org/tutorials/beginner/blitz/cifar10_tutorial.html)."
   ]
  },
  {
   "cell_type": "code",
   "execution_count": 1,
   "metadata": {},
   "outputs": [],
   "source": [
    "# Modified from https://github.com/vinhkhuc/PyTorch-Mini-Tutorials\n",
    "\n",
    "import numpy as np\n",
    "\n",
    "import torch\n",
    "from torch.autograd import Variable\n",
    "\n",
    "import time\n",
    "\n",
    "import gzip\n",
    "import pickle\n",
    "\n",
    "import matplotlib.pyplot as plt\n",
    "%matplotlib inline"
   ]
  },
  {
   "cell_type": "markdown",
   "metadata": {},
   "source": [
    "In our `numpy` version of a CNN, the constructor was called like\n",
    "```python\n",
    "    patch_size = 5\n",
    "    nnet = NeuralNetworkClassifierCNN(28*28,\n",
    "                                      [2, 2],\n",
    "                                      len(np.unique(T)),\n",
    "                                      patch_size=patch_size,\n",
    "                                      stride=2)\n",
    "```\n",
    "\n",
    "Let's define our `pytorch` version with a contructor that is called like\n",
    "```python\n",
    "    nnet = ConvNet(28*28,\n",
    "                   n_hiddens_per_conv_layer=[4, 2],\n",
    "                   n_hiddens_per_fc_layer=[10],\n",
    "                   len(np.unique(T)),\n",
    "                   patch_size_per_conv_layer=[5, 4],\n",
    "                   stride_per_conv_layer=[2, 2])                   \n",
    "```\n",
    "\n",
    "Compare these two definitions. What is different about them?"
   ]
  },
  {
   "cell_type": "markdown",
   "metadata": {},
   "source": [
    "Let's first review the general principles of backpropagation from \"vanilla\" neural nets:\n",
    "<img src=\"http://www.cs.colostate.edu/~cs445/notebooks/two-layer-nn-with-targets_full_backprop.png\">"
   ]
  },
  {
   "cell_type": "markdown",
   "metadata": {},
   "source": [
    "In plain English, there are $K$ output nodes.  In a plain non-linear regression neural network, that means that the network should output $K$ values for any input sample (e.g., input a bunch of a values about a car, and predict MPG, horsepower, and displacement).  In a neural network classifier, this would mean that there are $K$ classes and the network outputs probabilities that the input sample falls into each class.\n",
    "\n",
    "Weight update follows the red lines in the figure above.  The value of a particular weight will be updated based on a value that is partially derived from the weights in later layers in the network. (\"Partially derived\" is here used in the colloquial sense with no pun intended---even though the partial derivative is crucial to this operation!)\n",
    "\n",
    "Weight updates in $V$ depend to some extent on weight updates in $W$.\n",
    "\n",
    "(Let us assume 2 units $W$ in the output layer and a single hidden unit $v$ for now.) If these are the derivatives we use:\n",
    "\n",
    "$$\n",
    "       \\begin{align*}\n",
    "       \\frac{\\partial E}{\\partial w_1} & = -2 (t_1-y_1) z \\\\\n",
    "       \\frac{\\partial E}{\\partial v} & = -2 ( (t_1-y_1) w_1 + (t_2-y_2) w_2  ) (1-z^2) x\n",
    "       \\end{align*}\n",
    "$$\n",
    "\n",
    "... you can see that the update to $w_1$ $\\propto$ the product of the error and $z$, the input to the layer.  The update to $v$, the hidden layer node, then depends on sum of the error times the weights in $W$, times the derivative of the activation function w.r.t. $z$ times the input to the hidden layer ($x$)."
   ]
  },
  {
   "cell_type": "markdown",
   "metadata": {},
   "source": [
    "OK, I get how weight update works.  What was the point of that?"
   ]
  },
  {
   "cell_type": "code",
   "execution_count": 2,
   "metadata": {},
   "outputs": [],
   "source": [
    "def draw_neg_image(image, label=''):\n",
    "    plt.imshow(-image, cmap='gray', vmin=-1, vmax=0)\n",
    "    plt.xticks([])\n",
    "    plt.yticks([])\n",
    "    plt.title(label)"
   ]
  },
  {
   "cell_type": "code",
   "execution_count": 3,
   "metadata": {},
   "outputs": [
    {
     "data": {
      "image/png": "[encoded data removed]",
      "text/plain": [
       "<Figure size 432x288 with 1 Axes>"
      ]
     },
     "metadata": {},
     "output_type": "display_data"
    }
   ],
   "source": [
    "diamond = np.array([[0] * 20,\n",
    "                        [0] * 20,\n",
    "                        [0] * 20,\n",
    "                        [0] * 20,\n",
    "                        [0] * 9 + [1] + [0] * 10,\n",
    "                        [0] * 8 + [1, 0, 1] + [0] * 9,\n",
    "                        [0] * 7 + [1, 0, 0, 0, 1] + [0] * 8,\n",
    "                        [0] * 6 + [1, 0, 0, 0, 0, 0, 1] + [0] * 7,\n",
    "                        [0] * 5 + [1, 0, 0, 0, 0, 0, 0, 0, 1] + [0] * 6,\n",
    "                        [0] * 4 + [1, 0, 0, 0, 0, 0, 0, 0, 0, 0, 1] + [0] * 5,\n",
    "                        [0] * 3 + [1, 0, 0, 0, 0, 0, 0, 0, 0, 0, 0, 0, 1] + [0] * 4,\n",
    "                        [0] * 4 + [1, 0, 0, 0, 0, 0, 0, 0, 0, 0, 1] + [0] * 5,\n",
    "                        [0] * 5 + [1, 0, 0, 0, 0, 0, 0, 0, 1] + [0] * 6,\n",
    "                        [0] * 6 + [1, 0, 0, 0, 0, 0, 1] + [0] * 7,\n",
    "                        [0] * 7 + [1, 0, 0, 0, 1] + [0] * 8,\n",
    "                        [0] * 8 + [1, 0, 1] + [0] * 9,\n",
    "                        [0] * 9 + [1] + [0] * 10,\n",
    "                        [0] * 20,\n",
    "                        [0] * 20,\n",
    "                        [0] * 20])\n",
    "draw_neg_image(diamond)"
   ]
  },
  {
   "cell_type": "code",
   "execution_count": 4,
   "metadata": {},
   "outputs": [
    {
     "name": "stdout",
     "output_type": "stream",
     "text": [
      "There are 64 patches\n"
     ]
    },
    {
     "data": {
      "image/png": "[encoded data removed]",
      "text/plain": [
       "<Figure size 576x576 with 64 Axes>"
      ]
     },
     "metadata": {},
     "output_type": "display_data"
    }
   ],
   "source": [
    "patch_size = 5\n",
    "stride = 2\n",
    "\n",
    "patches = []\n",
    "for row in range(0, 20, stride):\n",
    "    for col in range(0, 20, stride):\n",
    "        if row + patch_size < 20 and col + patch_size < 20:\n",
    "            patches.append(diamond[row:row + patch_size, col:col + patch_size])\n",
    "            \n",
    "n_plot_rows = int(np.sqrt(len(patches)))\n",
    "plt.figure(figsize=(8, 8))\n",
    "ploti = 0\n",
    "for patch in patches:\n",
    "    ploti += 1\n",
    "    plt.subplot(n_plot_rows, n_plot_rows, ploti)\n",
    "    draw_neg_image(patch, '')\n",
    "    \n",
    "print(\"There are %s patches\" % len(patches))"
   ]
  },
  {
   "cell_type": "markdown",
   "metadata": {},
   "source": [
    "A single convolutional unit, or \"filter\" will be applied to each of these patches (e.g., we're going to do `prod = C @ patch` where `C` is the weights of the convolutional unit).  Then the sum of all values in `prod` becomes the scalar value representing how reponsive the values in the patch are to the values in the filter.  This value is propagated through the network."
   ]
  },
  {
   "cell_type": "markdown",
   "metadata": {},
   "source": [
    "$$\n",
    "      \\begin{align*}\n",
    "        {\\bf Z} &= h(\\tilde{\\bf X} {\\bf V}) \\leftarrow {\\bf V} \\text{ are now our convolutional units}\\\\\n",
    "        {\\bf Y} &= \\tilde{\\bf Z} {\\bf W}\\\\\n",
    "        {\\bf F} &= e^{\\bf Y}\\\\\n",
    "        {\\bf S} &= \\tilde{\\bf F}_{K}\\;\\;\\;\\;\\;\\;\\;\\;\\;\\;\\;\\;\\; \\text{ sum across columns}\\\\\n",
    "        {\\bf G} &= {\\bf Fv} / \\left [ {\\bf S}, {\\bf S},\\ldots,{\\bf S} \\right ] \\;\\;\\; {\\bf S} \\text{ are column vectors }\\\\\n",
    "        LL &=  \\sum {\\bf Ti} \\log {\\bf G}\\\\\n",
    "      \\end{align*}\n",
    "$$\n",
    "\n",
    "Therefore to get these:\n",
    "\n",
    "$$\n",
    "      \\begin{align*}\n",
    "        \\nabla_{\\bf V} LL &=    \\tilde{\\bf X}^T \\left ( ({\\bf Ti} - {\\bf G}) \\hat{\\bf W}^T \\cdot  (1-{\\bf Z}^2) \\right )\\\\\n",
    "        \\nabla_{\\bf W} LL &=   \\tilde{\\bf Z}^T ({\\bf Ti} - {\\bf G})\n",
    "      \\end{align*}\n",
    "$$\n",
    "\n",
    "You have to sum all $\\frac{\\partial E}{\\partial\\cdot}$ for each delta value in $\\nabla_{\\bf \\cdot}$.  So for each convolutional unit `C` you have to find the delta for each scalar value `sum(prod)` that comes out of `C @ patch`, for every patch. "
   ]
  },
  {
   "cell_type": "markdown",
   "metadata": {},
   "source": [
    "Let's review the backpropagation of weights in a CNN. We will assume this network has only a single convolutional layer, which is the first layer:\n",
    "```python\n",
    "        for layeri in range(n_layers - 1, -1, -1):\n",
    "            if layeri == 0:\n",
    "                # Convolutional layer\n",
    "                # delta, backpropagated from a fully-connected layer, has multiple values for each\n",
    "                # convolutional unit, for each application of it to each patch.  We must sum the dE_dWs\n",
    "                # for all of those delta values by multiplying each delta value for each convolutional\n",
    "                # unit by the patch values used to produce the output by the input values for the \n",
    "                # corresponding patch. \n",
    "                # Do this by first reshaping the backed-up delta matrix to the right form.\n",
    "                patch_n_values = X_patches.shape[-1]\n",
    "                n_conv_units = self.n_hiddens_per_layer[0]\n",
    "                delta_reshaped = delta.reshape(-1, n_conv_units)\n",
    "                # And we must reshape the convolutional layer input matrix to a compatible shape.\n",
    "                conv_layer_inputs_reshaped = self.Ys[0].reshape(-1, patch_n_values)\n",
    "                # Now we can calculate the dE_dWs for the convolutional layer with a simple matrix\n",
    "                # multiplication.\n",
    "                self.dE_dWs[layeri][1:, :] = conv_layer_inputs_reshaped.T @ delta_reshaped\n",
    "                self.dE_dWs[layeri][0:1, :] = np.sum(delta_reshaped, axis=0)\n",
    "            else:\n",
    "                # Fully-connected layers\n",
    "                # gradient of all but bias weights\n",
    "                self.dE_dWs[layeri][1:, :] = self.Ys[layeri].T @ delta\n",
    "                # gradient of just the bias weights\n",
    "                self.dE_dWs[layeri][0:1, :] = np.sum(delta, 0)\n",
    "```"
   ]
  },
  {
   "cell_type": "markdown",
   "metadata": {},
   "source": [
    "For a single convolutional layer, this sounds hairy enough!  But check the `pytorch` CNN definition again.\n",
    "\n",
    "```python\n",
    "    nnet = ConvNet(28*28,\n",
    "                   n_hiddens_per_conv_layer=[4, 2],  # you can have multiple convolutional layers!\n",
    "                   n_hiddens_per_fc_layer=[10],\n",
    "                   len(np.unique(T)),\n",
    "                   patch_size_per_conv_layer=[5, 4], # each with different patch sizes!!\n",
    "                   stride_per_conv_layer=[2, 2])     # and different stride lengths!!!                \n",
    "```"
   ]
  },
  {
   "cell_type": "markdown",
   "metadata": {},
   "source": [
    "If only there were some tool we could use to automatically calculate gradients..."
   ]
  },
  {
   "cell_type": "code",
   "execution_count": 5,
   "metadata": {},
   "outputs": [],
   "source": [
    "import numpy as np\n",
    "import torch\n",
    "        \n",
    "class ConvNet(torch.nn.Module):\n",
    "    \n",
    "    def __init__(self, n_inputs, n_hiddens_per_conv_layer, n_hiddens_per_fc_layer, n_outputs, \n",
    "                 patch_size_per_conv_layer, stride_per_conv_layer, activation_function='tanh', device='cpu'):\n",
    "        \n",
    "        super().__init__()\n",
    "        \n",
    "        self.device = device\n",
    "\n",
    "        n_conv_layers = len(n_hiddens_per_conv_layer)\n",
    "        if (len(patch_size_per_conv_layer) != n_conv_layers or\n",
    "            len(stride_per_conv_layer) != n_conv_layers):\n",
    "            raise Exception('The lengths of n_hiddens_per_conv_layer, patch_size_per_conv_layer, and stride_per_conv_layer must be equal.')\n",
    "        \n",
    "        self.activation_function = torch.tanh if activation_function == 'tanh' else torch.relu\n",
    "        \n",
    "        # Create all convolutional layers\n",
    "        # First argument to first Conv2d is number of channels for each pixel.\n",
    "        # Just 1 for our grayscale images.\n",
    "        n_in = 1\n",
    "        input_hw = int(np.sqrt(n_inputs))  # original input image height (=width because image assumed square)\n",
    "        self.conv_layers = torch.nn.ModuleList()\n",
    "        for nh, patch_size, stride in zip(n_hiddens_per_conv_layer,\n",
    "                                          patch_size_per_conv_layer,\n",
    "                                          stride_per_conv_layer):\n",
    "            self.conv_layers.append( torch.nn.Conv2d(n_in, nh, kernel_size=patch_size, stride=stride) )\n",
    "            conv_layer_output_hw = (input_hw - patch_size) // stride + 1\n",
    "            input_hw = conv_layer_output_hw  # for next trip through this loop\n",
    "            n_in = nh\n",
    "\n",
    "        # Create all fully connected layers.  First must determine number of inputs to first\n",
    "        # fully-connected layer that results from flattening the images coming out of the last\n",
    "        # convolutional layer.\n",
    "        n_in = input_hw ** 2 * n_in  # n_hiddens_per_fc_layer[0]\n",
    "        self.fc_layers = torch.nn.ModuleList()\n",
    "        for nh in n_hiddens_per_fc_layer:\n",
    "            self.fc_layers.append( torch.nn.Linear(n_in, nh) )\n",
    "            n_in = nh\n",
    "        self.fc_layers.append( torch.nn.Linear(n_in, n_outputs) )\n",
    "        \n",
    "        self.to(self.device)\n",
    "\n",
    "\n",
    "    def forward_all_outputs(self, X):\n",
    "        n_samples = X.shape[0]\n",
    "        Ys = [X]\n",
    "        for conv_layer in self.conv_layers:\n",
    "            Ys.append( self.activation_function(conv_layer(Ys[-1])) )\n",
    "\n",
    "        for layeri, fc_layer in enumerate(self.fc_layers[:-1]):\n",
    "            if layeri == 0:\n",
    "                Ys.append( self.activation_function(fc_layer(Ys[-1].reshape(n_samples, -1))) )\n",
    "            else:\n",
    "                Ys.append( self.activation_function(fc_layer(Ys[-1])) )\n",
    "\n",
    "        Ys.append(self.fc_layers[-1](Ys[-1]))\n",
    "        return Ys\n",
    "\n",
    "\n",
    "    def forward(self, X):\n",
    "        Ys = self.forward_all_outputs(X)\n",
    "        return Ys[-1]\n",
    "    \n",
    "\n",
    "    def train(self, X, T, batch_size, n_epochs, learning_rate, method='sgd', verbose=True):\n",
    "        \n",
    "        # Set data matrices to torch.tensors if not already.\n",
    "        if not isinstance(X, torch.Tensor):\n",
    "            X = torch.from_numpy(X).float().to(self.device)\n",
    "        if not isinstance(T, torch.Tensor):\n",
    "            T = torch.from_numpy(T).long().to(self.device)  # required for classification in pytorch\n",
    "            \n",
    "        X.requires_grad_(True)\n",
    "\n",
    "        self.classes = torch.unique(T)\n",
    "        \n",
    "        if method == 'sgd':\n",
    "            optimizer = torch.optim.SGD(self.parameters(), lr=learning_rate, momentum=0.9)\n",
    "        else:\n",
    "            optimizer = torch.optim.Adam(self.parameters(), lr=learning_rate)\n",
    "\n",
    "        CELoss = torch.nn.CrossEntropyLoss(reduction='mean')\n",
    "        self.error_trace = []\n",
    "        \n",
    "        for epoch in range(n_epochs):\n",
    "\n",
    "            num_batches = X.shape[0] // batch_size\n",
    "            loss_sum = 0\n",
    "            \n",
    "            for k in range(num_batches):\n",
    "                start = k * batch_size\n",
    "                end = (k + 1) * batch_size\n",
    "                X_batch = X[start:end, ...]\n",
    "                T_batch = T[start:end, ...]\n",
    "                \n",
    "                Y = self.forward(X_batch)\n",
    "\n",
    "                loss = CELoss(Y, T_batch)\n",
    "                loss.backward()\n",
    "\n",
    "                # Update parameters\n",
    "                optimizer.step()\n",
    "                optimizer.zero_grad()\n",
    "\n",
    "                loss_sum += loss\n",
    "\n",
    "            self.error_trace.append(loss_sum / num_batches)\n",
    "\n",
    "            if verbose and (epoch + 1) % (n_epochs // 10) == 0:\n",
    "                print(f'{method}: Epoch {epoch + 1} Loss {self.error_trace[-1]:.3f}')\n",
    "\n",
    "        return self\n",
    "\n",
    "\n",
    "    def softmax(self, Y):\n",
    "        '''Apply to final layer weighted sum outputs'''\n",
    "        # Trick to avoid overflow\n",
    "        maxY = torch.max(Y, axis=1)[0].reshape((-1,1))\n",
    "        expY = torch.exp(Y - maxY)\n",
    "        denom = torch.sum(expY, axis=1).reshape((-1, 1))\n",
    "        Y = expY / denom\n",
    "        return Y\n",
    "\n",
    "\n",
    "    def use(self, X):\n",
    "        # Set input matrix to torch.tensors if not already.\n",
    "        if not isinstance(X, torch.Tensor):\n",
    "            X = torch.from_numpy(X).float().to(self.device)\n",
    "        Y = self.forward(X)\n",
    "        probs = self.softmax(Y)\n",
    "        classes = self.classes[torch.argmax(probs, axis=1).cpu().numpy()]\n",
    "        return classes.cpu().numpy(), probs.detach().cpu().numpy()"
   ]
  },
  {
   "cell_type": "code",
   "execution_count": 6,
   "metadata": {},
   "outputs": [
    {
     "name": "stdout",
     "output_type": "stream",
     "text": [
      "Would you like to run on the GPU? (y or n): y\n",
      "Running on cuda:0\n"
     ]
    }
   ],
   "source": [
    "device = 'cpu'\n",
    "if torch.cuda.is_available():\n",
    "    y_or_n = input('Would you like to run on the GPU? (y or n): ')\n",
    "    if y_or_n == 'y' or y_or_n == 'yes':\n",
    "        device = torch.device('cuda:0' if torch.cuda.is_available() else 'cpu')\n",
    "print('Running on', device)"
   ]
  },
  {
   "cell_type": "code",
   "execution_count": 7,
   "metadata": {},
   "outputs": [
    {
     "name": "stdout",
     "output_type": "stream",
     "text": [
      "Mon Mar 29 13:36:33 2021       \n",
      "+-----------------------------------------------------------------------------+\n",
      "| NVIDIA-SMI 452.69       Driver Version: 452.69       CUDA Version: 11.0     |\n",
      "|-------------------------------+----------------------+----------------------+\n",
      "| GPU  Name            TCC/WDDM | Bus-Id        Disp.A | Volatile Uncorr. ECC |\n",
      "| Fan  Temp  Perf  Pwr:Usage/Cap|         Memory-Usage | GPU-Util  Compute M. |\n",
      "|                               |                      |               MIG M. |\n",
      "|===============================+======================+======================|\n",
      "|   0  Quadro RTX 3000    WDDM  | 00000000:01:00.0  On |                  N/A |\n",
      "| N/A   63C    P0    39W /  N/A |    831MiB /  6144MiB |     38%      Default |\n",
      "|                               |                      |                  N/A |\n",
      "+-------------------------------+----------------------+----------------------+\n",
      "                                                                               \n",
      "+-----------------------------------------------------------------------------+\n",
      "| Processes:                                                                  |\n",
      "|  GPU   GI   CI        PID   Type   Process name                  GPU Memory |\n",
      "|        ID   ID                                                   Usage      |\n",
      "|=============================================================================|\n",
      "|    0   N/A  N/A      3640    C+G   ...cw5n1h2txyewy\\LockApp.exe    N/A      |\n",
      "|    0   N/A  N/A      6192    C+G   ...\\Kinect\\KinectService.exe    N/A      |\n",
      "|    0   N/A  N/A      6372    C+G   ...veConsole\\ViveConsole.exe    N/A      |\n",
      "|    0   N/A  N/A     12488    C+G   ...itor\\ViveVRCompositor.exe    N/A      |\n",
      "|    0   N/A  N/A     17460    C+G   ...d\\win32\\ViveDashboard.exe    N/A      |\n",
      "|    0   N/A  N/A     17700    C+G   ...per\\win64\\vrwebhelper.exe    N/A      |\n",
      "|    0   N/A  N/A     19164    C+G   ...R\\bin\\win64\\vrmonitor.exe    N/A      |\n",
      "|    0   N/A  N/A     19864    C+G   ...VR\\bin\\win64\\vrserver.exe    N/A      |\n",
      "|    0   N/A  N/A     20388    C+G   ...in\\win64\\vrcompositor.exe    N/A      |\n",
      "|    0   N/A  N/A     21236    C+G   ...per\\win64\\vrwebhelper.exe    N/A      |\n",
      "|    0   N/A  N/A     21320    C+G   ...bin\\win64\\vrdashboard.exe    N/A      |\n",
      "+-----------------------------------------------------------------------------+\n"
     ]
    }
   ],
   "source": [
    "!nvidia-smi"
   ]
  },
  {
   "cell_type": "code",
   "execution_count": 9,
   "metadata": {},
   "outputs": [
    {
     "name": "stdout",
     "output_type": "stream",
     "text": [
      "Xtrain before reshaping (50000, 784): [[0. 0. 0. ... 0. 0. 0.]\n",
      " [0. 0. 0. ... 0. 0. 0.]\n",
      " [0. 0. 0. ... 0. 0. 0.]\n",
      " ...\n",
      " [0. 0. 0. ... 0. 0. 0.]\n",
      " [0. 0. 0. ... 0. 0. 0.]\n",
      " [0. 0. 0. ... 0. 0. 0.]]\n",
      "Xtest before reshaping (10000, 784): [[0. 0. 0. ... 0. 0. 0.]\n",
      " [0. 0. 0. ... 0. 0. 0.]\n",
      " [0. 0. 0. ... 0. 0. 0.]\n",
      " ...\n",
      " [0. 0. 0. ... 0. 0. 0.]\n",
      " [0. 0. 0. ... 0. 0. 0.]\n",
      " [0. 0. 0. ... 0. 0. 0.]]\n",
      "Xtrain after reshaping (50000, 1, 28, 28): [[[[0. 0. 0. ... 0. 0. 0.]\n",
      "   [0. 0. 0. ... 0. 0. 0.]\n",
      "   [0. 0. 0. ... 0. 0. 0.]\n",
      "   ...\n",
      "   [0. 0. 0. ... 0. 0. 0.]\n",
      "   [0. 0. 0. ... 0. 0. 0.]\n",
      "   [0. 0. 0. ... 0. 0. 0.]]]\n",
      "\n",
      "\n",
      " [[[0. 0. 0. ... 0. 0. 0.]\n",
      "   [0. 0. 0. ... 0. 0. 0.]\n",
      "   [0. 0. 0. ... 0. 0. 0.]\n",
      "   ...\n",
      "   [0. 0. 0. ... 0. 0. 0.]\n",
      "   [0. 0. 0. ... 0. 0. 0.]\n",
      "   [0. 0. 0. ... 0. 0. 0.]]]\n",
      "\n",
      "\n",
      " [[[0. 0. 0. ... 0. 0. 0.]\n",
      "   [0. 0. 0. ... 0. 0. 0.]\n",
      "   [0. 0. 0. ... 0. 0. 0.]\n",
      "   ...\n",
      "   [0. 0. 0. ... 0. 0. 0.]\n",
      "   [0. 0. 0. ... 0. 0. 0.]\n",
      "   [0. 0. 0. ... 0. 0. 0.]]]\n",
      "\n",
      "\n",
      " ...\n",
      "\n",
      "\n",
      " [[[0. 0. 0. ... 0. 0. 0.]\n",
      "   [0. 0. 0. ... 0. 0. 0.]\n",
      "   [0. 0. 0. ... 0. 0. 0.]\n",
      "   ...\n",
      "   [0. 0. 0. ... 0. 0. 0.]\n",
      "   [0. 0. 0. ... 0. 0. 0.]\n",
      "   [0. 0. 0. ... 0. 0. 0.]]]\n",
      "\n",
      "\n",
      " [[[0. 0. 0. ... 0. 0. 0.]\n",
      "   [0. 0. 0. ... 0. 0. 0.]\n",
      "   [0. 0. 0. ... 0. 0. 0.]\n",
      "   ...\n",
      "   [0. 0. 0. ... 0. 0. 0.]\n",
      "   [0. 0. 0. ... 0. 0. 0.]\n",
      "   [0. 0. 0. ... 0. 0. 0.]]]\n",
      "\n",
      "\n",
      " [[[0. 0. 0. ... 0. 0. 0.]\n",
      "   [0. 0. 0. ... 0. 0. 0.]\n",
      "   [0. 0. 0. ... 0. 0. 0.]\n",
      "   ...\n",
      "   [0. 0. 0. ... 0. 0. 0.]\n",
      "   [0. 0. 0. ... 0. 0. 0.]\n",
      "   [0. 0. 0. ... 0. 0. 0.]]]]\n",
      "Xtest after reshaping (10000, 1, 28, 28): [[[[0. 0. 0. ... 0. 0. 0.]\n",
      "   [0. 0. 0. ... 0. 0. 0.]\n",
      "   [0. 0. 0. ... 0. 0. 0.]\n",
      "   ...\n",
      "   [0. 0. 0. ... 0. 0. 0.]\n",
      "   [0. 0. 0. ... 0. 0. 0.]\n",
      "   [0. 0. 0. ... 0. 0. 0.]]]\n",
      "\n",
      "\n",
      " [[[0. 0. 0. ... 0. 0. 0.]\n",
      "   [0. 0. 0. ... 0. 0. 0.]\n",
      "   [0. 0. 0. ... 0. 0. 0.]\n",
      "   ...\n",
      "   [0. 0. 0. ... 0. 0. 0.]\n",
      "   [0. 0. 0. ... 0. 0. 0.]\n",
      "   [0. 0. 0. ... 0. 0. 0.]]]\n",
      "\n",
      "\n",
      " [[[0. 0. 0. ... 0. 0. 0.]\n",
      "   [0. 0. 0. ... 0. 0. 0.]\n",
      "   [0. 0. 0. ... 0. 0. 0.]\n",
      "   ...\n",
      "   [0. 0. 0. ... 0. 0. 0.]\n",
      "   [0. 0. 0. ... 0. 0. 0.]\n",
      "   [0. 0. 0. ... 0. 0. 0.]]]\n",
      "\n",
      "\n",
      " ...\n",
      "\n",
      "\n",
      " [[[0. 0. 0. ... 0. 0. 0.]\n",
      "   [0. 0. 0. ... 0. 0. 0.]\n",
      "   [0. 0. 0. ... 0. 0. 0.]\n",
      "   ...\n",
      "   [0. 0. 0. ... 0. 0. 0.]\n",
      "   [0. 0. 0. ... 0. 0. 0.]\n",
      "   [0. 0. 0. ... 0. 0. 0.]]]\n",
      "\n",
      "\n",
      " [[[0. 0. 0. ... 0. 0. 0.]\n",
      "   [0. 0. 0. ... 0. 0. 0.]\n",
      "   [0. 0. 0. ... 0. 0. 0.]\n",
      "   ...\n",
      "   [0. 0. 0. ... 0. 0. 0.]\n",
      "   [0. 0. 0. ... 0. 0. 0.]\n",
      "   [0. 0. 0. ... 0. 0. 0.]]]\n",
      "\n",
      "\n",
      " [[[0. 0. 0. ... 0. 0. 0.]\n",
      "   [0. 0. 0. ... 0. 0. 0.]\n",
      "   [0. 0. 0. ... 0. 0. 0.]\n",
      "   ...\n",
      "   [0. 0. 0. ... 0. 0. 0.]\n",
      "   [0. 0. 0. ... 0. 0. 0.]\n",
      "   [0. 0. 0. ... 0. 0. 0.]]]]\n"
     ]
    }
   ],
   "source": [
    "with gzip.open('mnist.pkl.gz', 'rb') as f:\n",
    "    train_set, valid_set, test_set = pickle.load(f, encoding='latin1')\n",
    "\n",
    "Xtrain = train_set[0]\n",
    "Ttrain = train_set[1] \n",
    "Xtest = test_set[0]\n",
    "Ttest = test_set[1]\n",
    "\n",
    "print(\"Xtrain before reshaping %s: %s\" % (Xtrain.shape,Xtrain))\n",
    "print(\"Xtest before reshaping %s: %s\" % (Xtest.shape,Xtest))\n",
    "\n",
    "# Convolutional nets in pytorch require reshaping the input matrices\n",
    "Xtrain_cnn = Xtrain.reshape(-1, 1, 28, 28)\n",
    "Xtest_cnn = Xtest.reshape(-1, 1, 28, 28)\n",
    "\n",
    "print(\"Xtrain after reshaping %s: %s\" % (Xtrain_cnn.shape,Xtrain_cnn))\n",
    "print(\"Xtest after reshaping %s: %s\" % (Xtest_cnn.shape,Xtest_cnn))"
   ]
  },
  {
   "cell_type": "code",
   "execution_count": 40,
   "metadata": {},
   "outputs": [
    {
     "name": "stdout",
     "output_type": "stream",
     "text": [
      "adam: Epoch 1 Loss 1.969\n",
      "adam: Epoch 2 Loss 1.613\n",
      "adam: Epoch 3 Loss 1.408\n",
      "adam: Epoch 4 Loss 1.239\n",
      "adam: Epoch 5 Loss 1.103\n",
      "adam: Epoch 6 Loss 0.990\n",
      "adam: Epoch 7 Loss 0.894\n",
      "adam: Epoch 8 Loss 0.809\n",
      "adam: Epoch 9 Loss 0.736\n",
      "adam: Epoch 10 Loss 0.672\n"
     ]
    },
    {
     "data": {
      "text/plain": [
       "ConvNet(\n",
       "  (conv_layers): ModuleList(\n",
       "    (0): Conv2d(1, 10, kernel_size=(5, 5), stride=(2, 2))\n",
       "    (1): Conv2d(10, 20, kernel_size=(7, 7), stride=(2, 2))\n",
       "    (2): Conv2d(20, 20, kernel_size=(2, 2), stride=(1, 1))\n",
       "  )\n",
       "  (fc_layers): ModuleList(\n",
       "    (0): Linear(in_features=80, out_features=5, bias=True)\n",
       "    (1): Linear(in_features=5, out_features=10, bias=True)\n",
       "  )\n",
       ")"
      ]
     },
     "execution_count": 40,
     "metadata": {},
     "output_type": "execute_result"
    }
   ],
   "source": [
    "cnnet = ConvNet(28 * 28,\n",
    "                [10, 20], # n_hiddens_per_conv_layer\n",
    "                [5], # n_hiddens_per_fc_layer\n",
    "                10,\n",
    "                patch_size_per_conv_layer=[5, 7], stride_per_conv_layer=[2, 2], device=device)\n",
    "cnnet.to(device)\n",
    "\n",
    "\n",
    "n_epochs = 10\n",
    "batch_size = 1000\n",
    "learning_rate = 0.001\n",
    "cnnet.train(Xtrain_cnn, Ttrain, batch_size, n_epochs, learning_rate, method='adam')"
   ]
  },
  {
   "cell_type": "code",
   "execution_count": 41,
   "metadata": {},
   "outputs": [
    {
     "data": {
      "text/plain": [
       "93.13"
      ]
     },
     "execution_count": 41,
     "metadata": {},
     "output_type": "execute_result"
    }
   ],
   "source": [
    "Classes_pytorch, _ = cnnet.use(Xtest_cnn)\n",
    "perc_pytorch = 100 * np.mean(Classes_pytorch == Ttest)\n",
    "perc_pytorch"
   ]
  },
  {
   "cell_type": "markdown",
   "metadata": {},
   "source": [
    "Let's now examine the effects of one layer's weights on an input.  First let's get the hyperparameters of the first layer."
   ]
  },
  {
   "cell_type": "code",
   "execution_count": 25,
   "metadata": {},
   "outputs": [
    {
     "data": {
      "text/plain": [
       "Conv2d(1, 10, kernel_size=(5, 5), stride=(2, 2))"
      ]
     },
     "execution_count": 25,
     "metadata": {},
     "output_type": "execute_result"
    }
   ],
   "source": [
    "list(cnnet.children())[0][0]"
   ]
  },
  {
   "cell_type": "markdown",
   "metadata": {},
   "source": [
    "What do these 4 values mean?"
   ]
  },
  {
   "cell_type": "markdown",
   "metadata": {},
   "source": [
    "Now let's view the outputs of each convolutional layer."
   ]
  },
  {
   "cell_type": "code",
   "execution_count": 26,
   "metadata": {},
   "outputs": [
    {
     "data": {
      "image/png": "[encoded data removed]",
      "text/plain": [
       "<Figure size 720x720 with 21 Axes>"
      ]
     },
     "metadata": {
      "needs_background": "light"
     },
     "output_type": "display_data"
    }
   ],
   "source": [
    "x = Xtest_cnn[20:21] # grab a sample\n",
    "x = torch.from_numpy(x).float().to(device)\n",
    "Ys = cnnet.forward_all_outputs(x)\n",
    "layer1weights = list(cnnet.children())[0][0].weight.data\n",
    "\n",
    "plt.figure(figsize=(10, 10))\n",
    "plt.subplot(11, 2, 1)\n",
    "plt.imshow(-x.squeeze().cpu(), cmap='gray')\n",
    "plt.axis('off')\n",
    "\n",
    "ploti = 2\n",
    "for i in range(10):\n",
    "    ploti += 1\n",
    "    plt.subplot(11, 2, ploti)\n",
    "    plt.imshow(layer1weights[i].squeeze().cpu(), cmap='gray')\n",
    "    plt.axis('off')\n",
    "    ploti += 1\n",
    "    plt.subplot(11, 2, ploti)\n",
    "    plt.imshow(Ys[1][0, i, :, :].detach().squeeze().cpu(), cmap='gray')\n",
    "    plt.axis('off')"
   ]
  },
  {
   "cell_type": "markdown",
   "metadata": {},
   "source": [
    "What do you observe here?"
   ]
  },
  {
   "cell_type": "code",
   "execution_count": 28,
   "metadata": {},
   "outputs": [
    {
     "data": {
      "text/plain": [
       "Conv2d(10, 20, kernel_size=(7, 7), stride=(2, 2))"
      ]
     },
     "execution_count": 28,
     "metadata": {},
     "output_type": "execute_result"
    }
   ],
   "source": [
    "list(cnnet.children())[0][1]"
   ]
  },
  {
   "cell_type": "code",
   "execution_count": 29,
   "metadata": {},
   "outputs": [
    {
     "name": "stdout",
     "output_type": "stream",
     "text": [
      "These are the outputs of Layer 2\n"
     ]
    },
    {
     "data": {
      "image/png": "[encoded data removed]",
      "text/plain": [
       "<Figure size 360x360 with 21 Axes>"
      ]
     },
     "metadata": {
      "needs_background": "light"
     },
     "output_type": "display_data"
    }
   ],
   "source": [
    "layer2weights = list(cnnet.children())[1][0].weight.data\n",
    "\n",
    "print(\"These are the outputs of Layer 2\")\n",
    "\n",
    "plt.figure(figsize=(5, 5))\n",
    "plt.subplot(5, 5, 1)\n",
    "plt.imshow(-x.squeeze().cpu(), cmap='gray')\n",
    "plt.axis('off')\n",
    "\n",
    "ploti = 5\n",
    "for i in range(20):\n",
    "    ploti += 1\n",
    "    plt.subplot(5, 5, ploti)\n",
    "    plt.imshow(Ys[2][0, i, :, :].detach().squeeze().cpu(), cmap='gray')\n",
    "    plt.axis('off')"
   ]
  },
  {
   "cell_type": "markdown",
   "metadata": {},
   "source": [
    "What do these outputs look like numerically?"
   ]
  },
  {
   "cell_type": "code",
   "execution_count": 30,
   "metadata": {},
   "outputs": [
    {
     "data": {
      "text/plain": [
       "(tensor([[ 0.1804,  0.1804,  0.1804,  0.1804,  0.1804,  0.1804,  0.1804,  0.1804,\n",
       "           0.1804,  0.1804,  0.1804,  0.1804],\n",
       "         [ 0.1804,  0.1804,  0.1804,  0.1804,  0.1804,  0.1804,  0.2331,  0.5157,\n",
       "           0.5291,  0.2187,  0.1804,  0.1804],\n",
       "         [ 0.1804,  0.1804,  0.1804,  0.1804,  0.1909,  0.5652,  0.9439,  0.9898,\n",
       "           0.9880,  0.9439,  0.6532,  0.1821],\n",
       "         [ 0.1804,  0.1804,  0.1804,  0.2289,  0.7679,  0.9754,  0.9736,  0.9573,\n",
       "           0.9841,  0.9865,  0.8662,  0.1885],\n",
       "         [ 0.1804,  0.1804,  0.2053,  0.7387,  0.9561,  0.9172,  0.7101,  0.6433,\n",
       "           0.8103,  0.4371, -0.0027,  0.1747],\n",
       "         [ 0.1804,  0.1804,  0.3874,  0.8579,  0.9598,  0.9256,  0.7033,  0.8321,\n",
       "           0.5749,  0.0895, -0.2721,  0.1804],\n",
       "         [ 0.1804,  0.1804, -0.0671, -0.4190, -0.5002, -0.6854, -0.3263,  0.0784,\n",
       "           0.1722, -0.3222,  0.1431,  0.1804],\n",
       "         [ 0.1804,  0.1804, -0.0733, -0.5834, -0.8159, -0.3921,  0.7294,  0.7263,\n",
       "          -0.0306, -0.1068,  0.1804,  0.1804],\n",
       "         [ 0.1804,  0.1804,  0.1804,  0.1804,  0.2732,  0.8363,  0.8035,  0.2941,\n",
       "          -0.3336,  0.1804,  0.1804,  0.1804],\n",
       "         [ 0.1804,  0.1804,  0.1804,  0.1917,  0.6483,  0.8500,  0.6724, -0.2276,\n",
       "           0.0575,  0.1804,  0.1804,  0.1804],\n",
       "         [ 0.1804,  0.1804,  0.1804,  0.4491,  0.8788,  0.8969,  0.3563, -0.1092,\n",
       "           0.1804,  0.1804,  0.1804,  0.1804],\n",
       "         [ 0.1804,  0.1804,  0.1804,  0.3945,  0.0879, -0.1661, -0.3814,  0.0815,\n",
       "           0.1804,  0.1804,  0.1804,  0.1804]], device='cuda:0',\n",
       "        grad_fn=<SliceBackward>),\n",
       " torch.Size([12, 12]))"
      ]
     },
     "execution_count": 30,
     "metadata": {},
     "output_type": "execute_result"
    }
   ],
   "source": [
    "Ys[1][0, 9, :, :], Ys[1][0, 9, :, :].shape"
   ]
  },
  {
   "cell_type": "code",
   "execution_count": 31,
   "metadata": {},
   "outputs": [
    {
     "data": {
      "text/plain": [
       "(tensor([[ 0.9999,  1.0000,  1.0000],\n",
       "         [ 0.6460,  0.6492,  0.6978],\n",
       "         [-0.9997, -1.0000, -1.0000]], device='cuda:0', grad_fn=<SliceBackward>),\n",
       " torch.Size([3, 3]))"
      ]
     },
     "execution_count": 31,
     "metadata": {},
     "output_type": "execute_result"
    }
   ],
   "source": [
    "Ys[2][0, 19, :, :], Ys[2][0, 19, :, :].shape"
   ]
  },
  {
   "cell_type": "markdown",
   "metadata": {},
   "source": [
    "OK, so each $7 \\times 7$ filter applied to a $12 \\times 12$ input to the second convolutional layer results in a $3 \\times 3$ output.  Does that make sense?"
   ]
  },
  {
   "cell_type": "code",
   "execution_count": 33,
   "metadata": {},
   "outputs": [
    {
     "name": "stdout",
     "output_type": "stream",
     "text": [
      "[0, 1, 2, 3, 4, 5, 6] 7\n",
      "[2, 3, 4, 5, 6, 7, 8] 7\n",
      "[4, 5, 6, 7, 8, 9, 10] 7\n",
      "1 pixels cropped\n"
     ]
    }
   ],
   "source": [
    "px = list(range(0,12)) # indices of the 12 x 12 image\n",
    "\n",
    "i = 0\n",
    "while i < px[-1]:\n",
    "    print(px[i:i+7],len(px[i:i+7])) # how many intervals of size 7 can fit in an interval of 12 with stride 2?\n",
    "    if len(px[i+2:i+2+7]) < 7: # patch size of 7\n",
    "        break\n",
    "    i += 2    \n",
    "        \n",
    "print(i+7-(px[-1]-1), \"pixels cropped\")"
   ]
  },
  {
   "cell_type": "code",
   "execution_count": 34,
   "metadata": {},
   "outputs": [
    {
     "data": {
      "image/png": "[encoded data removed]",
      "text/plain": [
       "<Figure size 1080x1080 with 20 Axes>"
      ]
     },
     "metadata": {
      "needs_background": "light"
     },
     "output_type": "display_data"
    }
   ],
   "source": [
    "first = np.random.randint(5000)\n",
    "\n",
    "# grab 10 samples from a random place in the test set\n",
    "x = Xtest_cnn[first:first + 10]\n",
    "Classes, Probs = cnnet.use(x)\n",
    "\n",
    "plt.figure(figsize=(15, 15))\n",
    "ploti = 0\n",
    "for i in range(10):\n",
    "    ploti += 1\n",
    "    plt.subplot(10, 2, ploti)\n",
    "    plt.imshow(-x[i, 0, :, :], cmap='gray')\n",
    "    plt.axis('off')\n",
    "    ploti += 1\n",
    "    plt.subplot(10, 2, ploti)\n",
    "    # Try calculating this my self\n",
    "    Yprobs = Probs[i, :]\n",
    "    plt.plot(Yprobs)\n",
    "plt.tight_layout()"
   ]
  },
  {
   "cell_type": "code",
   "execution_count": null,
   "metadata": {},
   "outputs": [],
   "source": []
  }
 ],
 "metadata": {
  "kernelspec": {
   "display_name": "Python 3",
   "language": "python",
   "name": "python3"
  },
  "language_info": {
   "codemirror_mode": {
    "name": "ipython",
    "version": 3
   },
   "file_extension": ".py",
   "mimetype": "text/x-python",
   "name": "python",
   "nbconvert_exporter": "python",
   "pygments_lexer": "ipython3",
   "version": "3.7.7"
  },
  "toc": {
   "base_numbering": 1,
   "nav_menu": {},
   "number_sections": true,
   "sideBar": true,
   "skip_h1_title": false,
   "title_cell": "Table of Contents",
   "title_sidebar": "Contents",
   "toc_cell": false,
   "toc_position": {},
   "toc_section_display": true,
   "toc_window_display": false
  }
 },
 "nbformat": 4,
 "nbformat_minor": 4
}
